{
 "cells": [
  {
   "cell_type": "code",
   "execution_count": 3,
   "id": "regulated-control",
   "metadata": {},
   "outputs": [],
   "source": [
    "from pytezos import pytezos\n",
    "from keys_manager import KeysManager\n",
    "from contract_manager import ContractManager\n",
    "from settings import settings\n",
    "\n",
    "settings.update(dict(\n",
    "    CONTRACT_ADDRESS = 'KT1PQqAF449P4PV7QFDnjwbd1D44JtP8J22H',\n",
    "))"
   ]
  },
  {
   "cell_type": "markdown",
   "id": "corporate-mexican",
   "metadata": {},
   "source": [
    "### Загрузка ключей\n",
    "Ключи были заранее подготовлены с помощью https://faucet.tzalpha.net/\n",
    "\n",
    "Если ключи не были активированы, можно выполнить команду\n",
    "```python keys.activate_keys() ```"
   ]
  },
  {
   "cell_type": "code",
   "execution_count": 4,
   "id": "similar-netscape",
   "metadata": {},
   "outputs": [
    {
     "name": "stdout",
     "output_type": "stream",
     "text": [
      "Successfully loaded 5 pytezos keys:\n",
      "- tz1RS9GoEXakf9iyBmSaheLMcakFRtzBXpWE\n",
      "- tz1TdKuFwYgbPHHb7y1VvLH4xiwtAzcjwDjM\n",
      "- tz1MdaJfWzP5pPx3gwPxfdLZTHW6js9havos\n",
      "- tz1iQE8ijR5xVPffBUPFubwB9XQJuyD9qsoJ\n",
      "- tz1ZAzDvkZCT2LAyPN8Kdxw3kes7xfWerZhZ\n"
     ]
    }
   ],
   "source": [
    "keys = KeysManager(settings)"
   ]
  },
  {
   "cell_type": "markdown",
   "id": "documentary-announcement",
   "metadata": {},
   "source": [
    "### Загружается имеющийся в сети контракт, который я задеплоил сегодня утром:"
   ]
  },
  {
   "cell_type": "code",
   "execution_count": 5,
   "id": "dated-battery",
   "metadata": {},
   "outputs": [],
   "source": [
    "pt = keys.pytezos_instances['tz1TdKuFwYgbPHHb7y1VvLH4xiwtAzcjwDjM']\n",
    "cm = ContractManager(keys.pytezos_instances['tz1TdKuFwYgbPHHb7y1VvLH4xiwtAzcjwDjM'], settings)"
   ]
  },
  {
   "cell_type": "code",
   "execution_count": 6,
   "id": "hungry-magnitude",
   "metadata": {},
   "outputs": [
    {
     "data": {
      "text/plain": [
       "{'betsAgainstLedger': 22805,\n",
       " 'betsAgainstSum': 0,\n",
       " 'betsForLedger': 22806,\n",
       " 'betsForSum': 0,\n",
       " 'closedRate': 0,\n",
       " 'closedTime': 0,\n",
       " 'currencyPair': 'XTZ-USD',\n",
       " 'isBetsForWin': False,\n",
       " 'isClosed': False,\n",
       " 'oracleAddress': 'KT1RCNpUEDjZAYhabjzgz1ZfxQijCDVMEaTZ',\n",
       " 'targetRate': 0,\n",
       " 'targetTime': 0}"
      ]
     },
     "execution_count": 6,
     "metadata": {},
     "output_type": "execute_result"
    }
   ],
   "source": [
    "cm.contract.storage()"
   ]
  },
  {
   "cell_type": "markdown",
   "id": "adjusted-albert",
   "metadata": {},
   "source": [
    "### Это уже закрытый контракт на который я отправил несколько ставок и скоторого уже были выведены средства"
   ]
  },
  {
   "cell_type": "markdown",
   "id": "northern-friendship",
   "metadata": {},
   "source": [
    "## Создание нового контракта:\n",
    "#### Ставка на то что сегодня после 10 часов по Киеву, в момент закрытия контракта (который может вызвать любой участник сети) курс Tezos на бирже Coinbase превысит 3.5 доллара USD:\n",
    "\n",
    "- currencyPair: это ценовая пара, запрашиваемая в оракле, в нашем случае XTZ-USD\n",
    "- oracleAddress: это адрес Harbinger Price Oracle в сети edonet (не оффициальный, оффициальный есть только в delphinet и mainnet) с нормализованными ценами биржи Coinbase\n",
    "- targetRate: это цена Tezos в долларах, при достижении которой в targetTime\n",
    "- targetTime: это unix time, значению 1614542400 соответствует 28 февраля, 22 часа по Киеву"
   ]
  },
  {
   "cell_type": "code",
   "execution_count": 7,
   "id": "social-messaging",
   "metadata": {
    "tags": []
   },
   "outputs": [
    {
     "name": "stdout",
     "output_type": "stream",
     "text": [
      "Deploying new contract with storage:\n",
      "{'betsAgainstLedger': 0,\n",
      " 'betsAgainstSum': 0,\n",
      " 'betsForLedger': 0,\n",
      " 'betsForSum': 0,\n",
      " 'closedRate': 0,\n",
      " 'closedTime': 0,\n",
      " 'currencyPair': 'XTZ-USD',\n",
      " 'isBetsForWin': False,\n",
      " 'isClosed': False,\n",
      " 'oracleAddress': 'KT1RCNpUEDjZAYhabjzgz1ZfxQijCDVMEaTZ',\n",
      " 'targetRate': 4000000,\n",
      " 'targetTime': 1614542400}\n",
      "Wait 7 seconds until block BKoDeT3w3TmSUhqB2G8fbPyhHLWR9WC8fVm7e4oLetE8pBvZ4kE is finalized\n"
     ]
    },
    {
     "name": "stderr",
     "output_type": "stream",
     "text": [
      "2021-03-06 16:36:23.141 | DEBUG    | pytezos.rpc.search:find_operation:206 - checking level 63413...\n"
     ]
    },
    {
     "name": "stdout",
     "output_type": "stream",
     "text": [
      "hash: ooK1hpqqXLSKWXhqsFxAcMc7vdBz9q1pGwp3zExV6KLswYcykXa, branch: BMUTgpmFHdEAgmHxRB2ayFR9P2raM99BsRUwPg5QZBaFMq29sca\n"
     ]
    },
    {
     "name": "stderr",
     "output_type": "stream",
     "text": [
      "2021-03-06 16:36:24.264 | DEBUG    | pytezos.rpc.search:find_operation:206 - checking level 63413...\n"
     ]
    },
    {
     "name": "stdout",
     "output_type": "stream",
     "text": [
      "Contract successfully originated at address: KT1DoVK2deBTerkNiUCWD5V2yrg3aVR9jYuU\n"
     ]
    }
   ],
   "source": [
    "ncm = cm.deploy_new_contract(\n",
    "    currencyPair='XTZ-USD',\n",
    "    oracleAddress='KT1RCNpUEDjZAYhabjzgz1ZfxQijCDVMEaTZ',\n",
    "    targetRate=4_000_000,\n",
    "    targetTime=1614542400\n",
    ")"
   ]
  },
  {
   "cell_type": "markdown",
   "id": "leading-consumption",
   "metadata": {},
   "source": [
    "### Ставки на контракты:\n",
    "- Ставка на то, что курс не достигнет 3.5 USD составляет 0.414 тезоса:"
   ]
  },
  {
   "cell_type": "code",
   "execution_count": 8,
   "id": "ambient-citizenship",
   "metadata": {
    "collapsed": true,
    "jupyter": {
     "outputs_hidden": true
    },
    "tags": []
   },
   "outputs": [
    {
     "name": "stdout",
     "output_type": "stream",
     "text": [
      "Wait 4 seconds until block BLG2AVkP15WSGY3fUU2k6hUFmEixNw3YGDDDkCTM8iRaLPdeDFR is finalized\n"
     ]
    },
    {
     "name": "stderr",
     "output_type": "stream",
     "text": [
      "2021-03-06 16:37:22.500 | DEBUG    | pytezos.rpc.search:find_operation:206 - checking level 63415...\n"
     ]
    },
    {
     "data": {
      "text/plain": [
       "{'protocol': 'PtEdo2ZkT9oKpimTah6x2embF25oss54njMuPzkJTEi5RqfdZFA',\n",
       " 'chain_id': 'NetXSgo1ZT2DRUG',\n",
       " 'hash': 'ooFdiv4DnALX9cknMhat5DggYNy2bmsf5ESEZ75Gm2CXsLZenA1',\n",
       " 'branch': 'BM4Ujk6ayMSoYeRvjtLC2JKih3tqfJkTUy5BZcvMMz7xZFDjiLn',\n",
       " 'contents': [{'kind': 'transaction',\n",
       "   'source': 'tz1TdKuFwYgbPHHb7y1VvLH4xiwtAzcjwDjM',\n",
       "   'fee': '1767',\n",
       "   'counter': '93030',\n",
       "   'gas_limit': '14927',\n",
       "   'storage_limit': '71',\n",
       "   'amount': '414000',\n",
       "   'destination': 'KT1DoVK2deBTerkNiUCWD5V2yrg3aVR9jYuU',\n",
       "   'parameters': {'entrypoint': 'betAgainst', 'value': {'prim': 'Unit'}},\n",
       "   'metadata': {'balance_updates': [{'kind': 'contract',\n",
       "      'contract': 'tz1TdKuFwYgbPHHb7y1VvLH4xiwtAzcjwDjM',\n",
       "      'change': '-1767'},\n",
       "     {'kind': 'freezer',\n",
       "      'category': 'fees',\n",
       "      'delegate': 'tz1YSzTPwEUpMrRxeTTHNo6RVxfo2TMN633b',\n",
       "      'cycle': 30,\n",
       "      'change': '1767'}],\n",
       "    'operation_result': {'status': 'applied',\n",
       "     'storage': [[{'prim': 'Pair',\n",
       "        'args': [{'prim': 'Pair',\n",
       "          'args': [{'int': '22807'}, {'int': '414000'}]},\n",
       "         {'prim': 'Pair', 'args': [{'int': '22808'}, {'int': '0'}]}]},\n",
       "       {'prim': 'Pair', 'args': [{'int': '0'}, {'int': '0'}]},\n",
       "       {'string': 'XTZ-USD'},\n",
       "       {'prim': 'False'}],\n",
       "      {'prim': 'Pair',\n",
       "       'args': [{'prim': 'False'},\n",
       "        {'bytes': '01b63dffd6afe4fed6327f73a95f81579acd4045bc00'}]},\n",
       "      {'int': '4000000'},\n",
       "      {'int': '1614542400'}],\n",
       "     'big_map_diff': [{'action': 'update',\n",
       "       'big_map': '22807',\n",
       "       'key_hash': 'exprtrSdc1GGvWynNKEfLtrei9sT43j5iFJ4zkUFPGpKnbwuLhH9ed',\n",
       "       'key': {'bytes': '0000579ef4b641789cc26294b706af7ffd19a2a5fd45'},\n",
       "       'value': {'int': '414000'}}],\n",
       "     'balance_updates': [{'kind': 'contract',\n",
       "       'contract': 'tz1TdKuFwYgbPHHb7y1VvLH4xiwtAzcjwDjM',\n",
       "       'change': '-17750'},\n",
       "      {'kind': 'contract',\n",
       "       'contract': 'tz1TdKuFwYgbPHHb7y1VvLH4xiwtAzcjwDjM',\n",
       "       'change': '-414000'},\n",
       "      {'kind': 'contract',\n",
       "       'contract': 'KT1DoVK2deBTerkNiUCWD5V2yrg3aVR9jYuU',\n",
       "       'change': '414000'}],\n",
       "     'consumed_gas': '14727',\n",
       "     'consumed_milligas': '14726427',\n",
       "     'storage_size': '2599',\n",
       "     'paid_storage_size_diff': '71',\n",
       "     'lazy_storage_diff': [{'kind': 'big_map',\n",
       "       'id': '22808',\n",
       "       'diff': {'action': 'update', 'updates': []}},\n",
       "      {'kind': 'big_map',\n",
       "       'id': '22807',\n",
       "       'diff': {'action': 'update',\n",
       "        'updates': [{'key_hash': 'exprtrSdc1GGvWynNKEfLtrei9sT43j5iFJ4zkUFPGpKnbwuLhH9ed',\n",
       "          'key': {'bytes': '0000579ef4b641789cc26294b706af7ffd19a2a5fd45'},\n",
       "          'value': {'int': '414000'}}]}}]}}}],\n",
       " 'signature': 'sigedLyUSBro4JqcncSf5F4jpuZ4C5m4K89DrmTw8Jmeb63Q6QNQbvv1XvXoy2i6Rbe1XD2MyFJdfEf6aDeuaCxc4EgjjWTQ'}"
      ]
     },
     "execution_count": 8,
     "metadata": {},
     "output_type": "execute_result"
    }
   ],
   "source": [
    "ncm.contract.betAgainst().with_amount(414_000).as_transaction().autofill().sign().inject(_async=False)"
   ]
  },
  {
   "cell_type": "markdown",
   "id": "loose-turkish",
   "metadata": {},
   "source": [
    "- Ставка на то, что курс превысит 3.5 USD составляет 1 тезос:"
   ]
  },
  {
   "cell_type": "code",
   "execution_count": 9,
   "id": "ruled-reward",
   "metadata": {
    "collapsed": true,
    "jupyter": {
     "outputs_hidden": true
    },
    "tags": []
   },
   "outputs": [
    {
     "name": "stdout",
     "output_type": "stream",
     "text": [
      "Wait 16 seconds until block BLXMkrz3dQBgiJkfowmCEdy9XhukcNbp3xz6afybYH3q8oDi6Sv is finalized\n"
     ]
    },
    {
     "name": "stderr",
     "output_type": "stream",
     "text": [
      "2021-03-06 16:37:51.305 | DEBUG    | pytezos.rpc.search:find_operation:206 - checking level 63416...\n"
     ]
    },
    {
     "data": {
      "text/plain": [
       "{'protocol': 'PtEdo2ZkT9oKpimTah6x2embF25oss54njMuPzkJTEi5RqfdZFA',\n",
       " 'chain_id': 'NetXSgo1ZT2DRUG',\n",
       " 'hash': 'op9tiyGZVndboNRacPG3h4R7tNTwcFrbvTUqyCdZapNF63nHuoZ',\n",
       " 'branch': 'BLsXLWaL8rwDSNEAuva9vZ7xmkyWw1kQwcb9Apt8QGCXi3ZV6Na',\n",
       " 'contents': [{'kind': 'transaction',\n",
       "   'source': 'tz1TdKuFwYgbPHHb7y1VvLH4xiwtAzcjwDjM',\n",
       "   'fee': '1763',\n",
       "   'counter': '93031',\n",
       "   'gas_limit': '14929',\n",
       "   'storage_limit': '71',\n",
       "   'amount': '1000000',\n",
       "   'destination': 'KT1DoVK2deBTerkNiUCWD5V2yrg3aVR9jYuU',\n",
       "   'parameters': {'entrypoint': 'betFor', 'value': {'prim': 'Unit'}},\n",
       "   'metadata': {'balance_updates': [{'kind': 'contract',\n",
       "      'contract': 'tz1TdKuFwYgbPHHb7y1VvLH4xiwtAzcjwDjM',\n",
       "      'change': '-1763'},\n",
       "     {'kind': 'freezer',\n",
       "      'category': 'fees',\n",
       "      'delegate': 'tz1cXeGHP8Urj2pQRwpAkCdPGbCdqFUPsQwU',\n",
       "      'cycle': 30,\n",
       "      'change': '1763'}],\n",
       "    'operation_result': {'status': 'applied',\n",
       "     'storage': [[{'prim': 'Pair',\n",
       "        'args': [{'prim': 'Pair',\n",
       "          'args': [{'int': '22807'}, {'int': '414000'}]},\n",
       "         {'prim': 'Pair', 'args': [{'int': '22808'}, {'int': '1000000'}]}]},\n",
       "       {'prim': 'Pair', 'args': [{'int': '0'}, {'int': '0'}]},\n",
       "       {'string': 'XTZ-USD'},\n",
       "       {'prim': 'False'}],\n",
       "      {'prim': 'Pair',\n",
       "       'args': [{'prim': 'False'},\n",
       "        {'bytes': '01b63dffd6afe4fed6327f73a95f81579acd4045bc00'}]},\n",
       "      {'int': '4000000'},\n",
       "      {'int': '1614542400'}],\n",
       "     'big_map_diff': [{'action': 'update',\n",
       "       'big_map': '22808',\n",
       "       'key_hash': 'exprtrSdc1GGvWynNKEfLtrei9sT43j5iFJ4zkUFPGpKnbwuLhH9ed',\n",
       "       'key': {'bytes': '0000579ef4b641789cc26294b706af7ffd19a2a5fd45'},\n",
       "       'value': {'int': '1000000'}}],\n",
       "     'balance_updates': [{'kind': 'contract',\n",
       "       'contract': 'tz1TdKuFwYgbPHHb7y1VvLH4xiwtAzcjwDjM',\n",
       "       'change': '-17750'},\n",
       "      {'kind': 'contract',\n",
       "       'contract': 'tz1TdKuFwYgbPHHb7y1VvLH4xiwtAzcjwDjM',\n",
       "       'change': '-1000000'},\n",
       "      {'kind': 'contract',\n",
       "       'contract': 'KT1DoVK2deBTerkNiUCWD5V2yrg3aVR9jYuU',\n",
       "       'change': '1000000'}],\n",
       "     'consumed_gas': '14729',\n",
       "     'consumed_milligas': '14728431',\n",
       "     'storage_size': '2670',\n",
       "     'paid_storage_size_diff': '71',\n",
       "     'lazy_storage_diff': [{'kind': 'big_map',\n",
       "       'id': '22808',\n",
       "       'diff': {'action': 'update',\n",
       "        'updates': [{'key_hash': 'exprtrSdc1GGvWynNKEfLtrei9sT43j5iFJ4zkUFPGpKnbwuLhH9ed',\n",
       "          'key': {'bytes': '0000579ef4b641789cc26294b706af7ffd19a2a5fd45'},\n",
       "          'value': {'int': '1000000'}}]}},\n",
       "      {'kind': 'big_map',\n",
       "       'id': '22807',\n",
       "       'diff': {'action': 'update', 'updates': []}}]}}}],\n",
       " 'signature': 'sigXskfUu5wY8NLfDtk1B9y6a7jT1vuWVUqstDdDB12X5ZdrntZpdyvykvNzFkZEiD3D3yCGvvM1X5eche1W8Fp6mR5kkzut'}"
      ]
     },
     "execution_count": 9,
     "metadata": {},
     "output_type": "execute_result"
    }
   ],
   "source": [
    "# TODO: здесь надо поменять кошелёк, но я не успеваю:\n",
    "ncm.contract.betFor().with_amount(1_000_000).as_transaction().autofill().sign().inject(_async=False)"
   ]
  },
  {
   "cell_type": "markdown",
   "id": "curious-prayer",
   "metadata": {},
   "source": [
    "### Текущее состояние контракта:"
   ]
  },
  {
   "cell_type": "code",
   "execution_count": 10,
   "id": "presidential-migration",
   "metadata": {
    "collapsed": true,
    "jupyter": {
     "outputs_hidden": true
    },
    "tags": []
   },
   "outputs": [
    {
     "data": {
      "text/plain": [
       "{'betsAgainstLedger': 22807,\n",
       " 'betsAgainstSum': 414000,\n",
       " 'betsForLedger': 22808,\n",
       " 'betsForSum': 1000000,\n",
       " 'closedRate': 0,\n",
       " 'closedTime': 0,\n",
       " 'currencyPair': 'XTZ-USD',\n",
       " 'isBetsForWin': False,\n",
       " 'isClosed': False,\n",
       " 'oracleAddress': 'KT1RCNpUEDjZAYhabjzgz1ZfxQijCDVMEaTZ',\n",
       " 'targetRate': 4000000,\n",
       " 'targetTime': 1614542400}"
      ]
     },
     "execution_count": 10,
     "metadata": {},
     "output_type": "execute_result"
    }
   ],
   "source": [
    "ncm.contract.storage()"
   ]
  },
  {
   "cell_type": "markdown",
   "id": "rolled-chick",
   "metadata": {},
   "source": [
    "### Попытка закрыть контракт:"
   ]
  },
  {
   "cell_type": "code",
   "execution_count": 11,
   "id": "pediatric-translation",
   "metadata": {
    "collapsed": true,
    "jupyter": {
     "outputs_hidden": true
    },
    "tags": []
   },
   "outputs": [
    {
     "name": "stdout",
     "output_type": "stream",
     "text": [
      "Wait 0 seconds until block BLSeH1h5pz1CXKfBbZ16gNN5hCSHqbDpfqyT2MVsmh2euUBYpo2 is finalized\n"
     ]
    },
    {
     "name": "stderr",
     "output_type": "stream",
     "text": [
      "2021-03-06 16:40:12.498 | DEBUG    | pytezos.rpc.search:find_operation:206 - checking level 63420...\n"
     ]
    },
    {
     "data": {
      "text/plain": [
       "{'protocol': 'PtEdo2ZkT9oKpimTah6x2embF25oss54njMuPzkJTEi5RqfdZFA',\n",
       " 'chain_id': 'NetXSgo1ZT2DRUG',\n",
       " 'hash': 'onwL7W2ZWQw7idnUVaU16H9CovXEnxa71UB3TvkK1CpVyRW4bgo',\n",
       " 'branch': 'BL6rmhZamFq4owRmzquYZkd7J4Jdqp813s2i6hcJfJ6LsixFD43',\n",
       " 'contents': [{'kind': 'transaction',\n",
       "   'source': 'tz1TdKuFwYgbPHHb7y1VvLH4xiwtAzcjwDjM',\n",
       "   'fee': '9697',\n",
       "   'counter': '93032',\n",
       "   'gas_limit': '94294',\n",
       "   'storage_limit': '7',\n",
       "   'amount': '0',\n",
       "   'destination': 'KT1DoVK2deBTerkNiUCWD5V2yrg3aVR9jYuU',\n",
       "   'parameters': {'entrypoint': 'close', 'value': {'prim': 'Unit'}},\n",
       "   'metadata': {'balance_updates': [{'kind': 'contract',\n",
       "      'contract': 'tz1TdKuFwYgbPHHb7y1VvLH4xiwtAzcjwDjM',\n",
       "      'change': '-9697'},\n",
       "     {'kind': 'freezer',\n",
       "      'category': 'fees',\n",
       "      'delegate': 'tz1YSzTPwEUpMrRxeTTHNo6RVxfo2TMN633b',\n",
       "      'cycle': 30,\n",
       "      'change': '9697'}],\n",
       "    'operation_result': {'status': 'applied',\n",
       "     'storage': [[{'prim': 'Pair',\n",
       "        'args': [{'prim': 'Pair',\n",
       "          'args': [{'int': '22807'}, {'int': '414000'}]},\n",
       "         {'prim': 'Pair', 'args': [{'int': '22808'}, {'int': '1000000'}]}]},\n",
       "       {'prim': 'Pair', 'args': [{'int': '0'}, {'int': '0'}]},\n",
       "       {'string': 'XTZ-USD'},\n",
       "       {'prim': 'False'}],\n",
       "      {'prim': 'Pair',\n",
       "       'args': [{'prim': 'False'},\n",
       "        {'bytes': '01b63dffd6afe4fed6327f73a95f81579acd4045bc00'}]},\n",
       "      {'int': '4000000'},\n",
       "      {'int': '1614542400'}],\n",
       "     'big_map_diff': [],\n",
       "     'consumed_gas': '38263',\n",
       "     'consumed_milligas': '38262398',\n",
       "     'storage_size': '2670',\n",
       "     'lazy_storage_diff': [{'kind': 'big_map',\n",
       "       'id': '22808',\n",
       "       'diff': {'action': 'update', 'updates': []}},\n",
       "      {'kind': 'big_map',\n",
       "       'id': '22807',\n",
       "       'diff': {'action': 'update', 'updates': []}}]},\n",
       "    'internal_operation_results': [{'kind': 'transaction',\n",
       "      'source': 'KT1DoVK2deBTerkNiUCWD5V2yrg3aVR9jYuU',\n",
       "      'nonce': 1,\n",
       "      'amount': '0',\n",
       "      'destination': 'KT1RCNpUEDjZAYhabjzgz1ZfxQijCDVMEaTZ',\n",
       "      'parameters': {'entrypoint': 'get',\n",
       "       'value': {'prim': 'Pair',\n",
       "        'args': [{'string': 'XTZ-USD'},\n",
       "         {'bytes': '01394077dc17ed116340f360c350637c36f74dd15a00636c6f736543616c6c6261636b'}]}},\n",
       "      'result': {'status': 'applied',\n",
       "       'storage': {'prim': 'Pair',\n",
       "        'args': [{'prim': 'Pair',\n",
       "          'args': [[{'string': 'BAT-USDC'},\n",
       "            {'string': 'BTC-USD'},\n",
       "            {'string': 'COMP-USD'},\n",
       "            {'string': 'DAI-USDC'},\n",
       "            {'string': 'ETH-USD'},\n",
       "            {'string': 'KNC-USD'},\n",
       "            {'string': 'LINK-USD'},\n",
       "            {'string': 'REP-USD'},\n",
       "            {'string': 'XTZ-USD'},\n",
       "            {'string': 'ZRX-USD'}],\n",
       "           {'int': '1542'}]},\n",
       "         {'prim': 'Pair',\n",
       "          'args': [{'int': '3'},\n",
       "           {'bytes': '0130b1cde323e1fd20039cc30da51e1f41f7f6abd300'}]}]},\n",
       "       'big_map_diff': [],\n",
       "       'consumed_gas': '41358',\n",
       "       'consumed_milligas': '41357904',\n",
       "       'storage_size': '6435',\n",
       "       'lazy_storage_diff': [{'kind': 'big_map',\n",
       "         'id': '1542',\n",
       "         'diff': {'action': 'update', 'updates': []}}]}},\n",
       "     {'kind': 'transaction',\n",
       "      'source': 'KT1RCNpUEDjZAYhabjzgz1ZfxQijCDVMEaTZ',\n",
       "      'nonce': 2,\n",
       "      'amount': '0',\n",
       "      'destination': 'KT1DoVK2deBTerkNiUCWD5V2yrg3aVR9jYuU',\n",
       "      'parameters': {'entrypoint': 'closeCallback',\n",
       "       'value': {'prim': 'Pair',\n",
       "        'args': [{'string': 'XTZ-USD'},\n",
       "         {'prim': 'Pair',\n",
       "          'args': [{'int': '1615037760'}, {'int': '3766091'}]}]}},\n",
       "      'result': {'status': 'applied',\n",
       "       'storage': [[{'prim': 'Pair',\n",
       "          'args': [{'prim': 'Pair',\n",
       "            'args': [{'int': '22807'}, {'int': '414000'}]},\n",
       "           {'prim': 'Pair', 'args': [{'int': '22808'}, {'int': '1000000'}]}]},\n",
       "         {'prim': 'Pair', 'args': [{'int': '3766091'}, {'int': '1615037760'}]},\n",
       "         {'string': 'XTZ-USD'},\n",
       "         {'prim': 'False'}],\n",
       "        {'prim': 'Pair',\n",
       "         'args': [{'prim': 'True'},\n",
       "          {'bytes': '01b63dffd6afe4fed6327f73a95f81579acd4045bc00'}]},\n",
       "        {'int': '4000000'},\n",
       "        {'int': '1614542400'}],\n",
       "       'big_map_diff': [],\n",
       "       'balance_updates': [{'kind': 'contract',\n",
       "         'contract': 'tz1TdKuFwYgbPHHb7y1VvLH4xiwtAzcjwDjM',\n",
       "         'change': '-1750'}],\n",
       "       'consumed_gas': '14473',\n",
       "       'consumed_milligas': '14472292',\n",
       "       'storage_size': '2677',\n",
       "       'paid_storage_size_diff': '7',\n",
       "       'lazy_storage_diff': [{'kind': 'big_map',\n",
       "         'id': '22808',\n",
       "         'diff': {'action': 'update', 'updates': []}},\n",
       "        {'kind': 'big_map',\n",
       "         'id': '22807',\n",
       "         'diff': {'action': 'update', 'updates': []}}]}}]}}],\n",
       " 'signature': 'sigScYScSkFX37v1qT1Hc1apUpkLms5yub1Asp2r3nxRFh7giBKAQZYZX76woX9hwrCyVRdTXoxU9EggcePthkRMLPHdFSt8'}"
      ]
     },
     "execution_count": 11,
     "metadata": {},
     "output_type": "execute_result"
    }
   ],
   "source": [
    "ncm.contract.close().as_transaction().autofill().sign().inject(_async=False)"
   ]
  },
  {
   "cell_type": "markdown",
   "id": "focused-awareness",
   "metadata": {},
   "source": [
    "### Ошибка - потому что ещё не достигнуто время. В тот момент когда у оракула будет ценовая пара с timestamp > чем заявленный в смарт контракте - можно будет закрыть контракт и затем запустить вывод средств:"
   ]
  },
  {
   "cell_type": "code",
   "execution_count": 14,
   "id": "looking-forty",
   "metadata": {
    "collapsed": true,
    "jupyter": {
     "outputs_hidden": true
    },
    "tags": []
   },
   "outputs": [
    {
     "name": "stdout",
     "output_type": "stream",
     "text": [
      "Wait 17 seconds until block BLR91w1a6jBheocxdWz6NQidfERkj1QirndZVr5jrjCmwRF8nEU is finalized\n"
     ]
    },
    {
     "name": "stderr",
     "output_type": "stream",
     "text": [
      "2021-03-06 16:42:01.483 | DEBUG    | pytezos.rpc.search:find_operation:206 - checking level 63423...\n"
     ]
    },
    {
     "data": {
      "text/plain": [
       "{'protocol': 'PtEdo2ZkT9oKpimTah6x2embF25oss54njMuPzkJTEi5RqfdZFA',\n",
       " 'chain_id': 'NetXSgo1ZT2DRUG',\n",
       " 'hash': 'opQtPYMf4A3FjKQtXiDffAZ1p44srQrgqjcDuMe3vA4iXLUdPRP',\n",
       " 'branch': 'BLgjMn6X7io2KfBnoxBrJ2xzP3YKJMPfp9tGWDaooJ1FurtbqdE',\n",
       " 'contents': [{'kind': 'transaction',\n",
       "   'source': 'tz1TdKuFwYgbPHHb7y1VvLH4xiwtAzcjwDjM',\n",
       "   'fee': '1974',\n",
       "   'counter': '93033',\n",
       "   'gas_limit': '17036',\n",
       "   'storage_limit': '0',\n",
       "   'amount': '0',\n",
       "   'destination': 'KT1DoVK2deBTerkNiUCWD5V2yrg3aVR9jYuU',\n",
       "   'parameters': {'entrypoint': 'withdraw', 'value': {'prim': 'Unit'}},\n",
       "   'metadata': {'balance_updates': [{'kind': 'contract',\n",
       "      'contract': 'tz1TdKuFwYgbPHHb7y1VvLH4xiwtAzcjwDjM',\n",
       "      'change': '-1974'},\n",
       "     {'kind': 'freezer',\n",
       "      'category': 'fees',\n",
       "      'delegate': 'tz1aWXP237BLwNHJcCD4b3DutCevhqq2T1Z9',\n",
       "      'cycle': 30,\n",
       "      'change': '1974'}],\n",
       "    'operation_result': {'status': 'applied',\n",
       "     'storage': [[{'prim': 'Pair',\n",
       "        'args': [{'prim': 'Pair',\n",
       "          'args': [{'int': '22807'}, {'int': '414000'}]},\n",
       "         {'prim': 'Pair', 'args': [{'int': '22808'}, {'int': '1000000'}]}]},\n",
       "       {'prim': 'Pair', 'args': [{'int': '3766091'}, {'int': '1615037760'}]},\n",
       "       {'string': 'XTZ-USD'},\n",
       "       {'prim': 'False'}],\n",
       "      {'prim': 'Pair',\n",
       "       'args': [{'prim': 'True'},\n",
       "        {'bytes': '01b63dffd6afe4fed6327f73a95f81579acd4045bc00'}]},\n",
       "      {'int': '4000000'},\n",
       "      {'int': '1614542400'}],\n",
       "     'big_map_diff': [{'action': 'update',\n",
       "       'big_map': '22807',\n",
       "       'key_hash': 'exprtrSdc1GGvWynNKEfLtrei9sT43j5iFJ4zkUFPGpKnbwuLhH9ed',\n",
       "       'key': {'bytes': '0000579ef4b641789cc26294b706af7ffd19a2a5fd45'}}],\n",
       "     'consumed_gas': '15409',\n",
       "     'consumed_milligas': '15408134',\n",
       "     'storage_size': '2608',\n",
       "     'lazy_storage_diff': [{'kind': 'big_map',\n",
       "       'id': '22808',\n",
       "       'diff': {'action': 'update', 'updates': []}},\n",
       "      {'kind': 'big_map',\n",
       "       'id': '22807',\n",
       "       'diff': {'action': 'update',\n",
       "        'updates': [{'key_hash': 'exprtrSdc1GGvWynNKEfLtrei9sT43j5iFJ4zkUFPGpKnbwuLhH9ed',\n",
       "          'key': {'bytes': '0000579ef4b641789cc26294b706af7ffd19a2a5fd45'}}]}}]},\n",
       "    'internal_operation_results': [{'kind': 'transaction',\n",
       "      'source': 'KT1DoVK2deBTerkNiUCWD5V2yrg3aVR9jYuU',\n",
       "      'nonce': 0,\n",
       "      'amount': '1414000',\n",
       "      'destination': 'tz1TdKuFwYgbPHHb7y1VvLH4xiwtAzcjwDjM',\n",
       "      'result': {'status': 'applied',\n",
       "       'balance_updates': [{'kind': 'contract',\n",
       "         'contract': 'KT1DoVK2deBTerkNiUCWD5V2yrg3aVR9jYuU',\n",
       "         'change': '-1414000'},\n",
       "        {'kind': 'contract',\n",
       "         'contract': 'tz1TdKuFwYgbPHHb7y1VvLH4xiwtAzcjwDjM',\n",
       "         'change': '1414000'}],\n",
       "       'consumed_gas': '1427',\n",
       "       'consumed_milligas': '1427000'}}]}}],\n",
       " 'signature': 'sigQ65SCgoGTzURuGzrJpA2AwRWQDozNBM9NUyZaTy3Smp7Fy72owhVDA1T1y6zWyJy18VjZi6RJSvndpLbL5eeGgjoTSEZp'}"
      ]
     },
     "execution_count": 14,
     "metadata": {},
     "output_type": "execute_result"
    }
   ],
   "source": [
    "ncm.contract.withdraw().as_transaction().autofill().sign().inject(_async=False)"
   ]
  },
  {
   "cell_type": "markdown",
   "id": "compatible-graduate",
   "metadata": {},
   "source": [
    "Я проверял - механизм работает. Однозначно нужно написать тесты и закрыть некоторые пробелы. Также нужно сделать удобный интерфейс для работы с контрактами, площадку на которой можно создавать такие контракты и делать ставки на них."
   ]
  }
 ],
 "metadata": {
  "kernelspec": {
   "display_name": "Python 3",
   "language": "python",
   "name": "python3"
  },
  "language_info": {
   "codemirror_mode": {
    "name": "ipython",
    "version": 3
   },
   "file_extension": ".py",
   "mimetype": "text/x-python",
   "name": "python",
   "nbconvert_exporter": "python",
   "pygments_lexer": "ipython3",
   "version": "3.9.2"
  }
 },
 "nbformat": 4,
 "nbformat_minor": 5
}
