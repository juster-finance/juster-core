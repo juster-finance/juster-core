{
 "cells": [
  {
   "cell_type": "code",
   "execution_count": 1,
   "id": "significant-telescope",
   "metadata": {},
   "outputs": [],
   "source": [
    "from pytezos import pytezos\n",
    "from keys_manager import KeysManager\n",
    "from contract_manager import ContractManager\n",
    "from settings import settings"
   ]
  },
  {
   "cell_type": "markdown",
   "id": "second-indianapolis",
   "metadata": {},
   "source": [
    "### Загрузка ключей\n",
    "Ключи были заранее подготовлены с помощью https://faucet.tzalpha.net/\n",
    "\n",
    "Если ключи не были активированы, можно выполнить команду\n",
    "```python keys.activate_keys() ```"
   ]
  },
  {
   "cell_type": "code",
   "execution_count": 2,
   "id": "indonesian-eagle",
   "metadata": {},
   "outputs": [
    {
     "name": "stdout",
     "output_type": "stream",
     "text": [
      "Successfully loaded 5 pytezos keys:\n",
      "- tz1RS9GoEXakf9iyBmSaheLMcakFRtzBXpWE\n",
      "- tz1TdKuFwYgbPHHb7y1VvLH4xiwtAzcjwDjM\n",
      "- tz1MdaJfWzP5pPx3gwPxfdLZTHW6js9havos\n",
      "- tz1iQE8ijR5xVPffBUPFubwB9XQJuyD9qsoJ\n",
      "- tz1ZAzDvkZCT2LAyPN8Kdxw3kes7xfWerZhZ\n"
     ]
    }
   ],
   "source": [
    "keys = KeysManager(settings)"
   ]
  },
  {
   "cell_type": "markdown",
   "id": "arbitrary-future",
   "metadata": {},
   "source": [
    "### Загружается имеющийся в сети контракт, который я задеплоил сегодня утром:"
   ]
  },
  {
   "cell_type": "code",
   "execution_count": 3,
   "id": "connected-tuning",
   "metadata": {},
   "outputs": [],
   "source": [
    "pt = keys.pytezos_instances['tz1TdKuFwYgbPHHb7y1VvLH4xiwtAzcjwDjM']\n",
    "cm = ContractManager(keys.pytezos_instances['tz1TdKuFwYgbPHHb7y1VvLH4xiwtAzcjwDjM'], settings)"
   ]
  },
  {
   "cell_type": "code",
   "execution_count": 4,
   "id": "blind-motivation",
   "metadata": {},
   "outputs": [
    {
     "data": {
      "text/plain": [
       "{'betsAgainstLedger': 14375,\n",
       " 'betsAgainstSum': 414000,\n",
       " 'betsForLedger': 14376,\n",
       " 'betsForSum': 400000,\n",
       " 'closedRate': 3621051,\n",
       " 'closedTime': 1614474180,\n",
       " 'currencyPair': 'XTZ-USD',\n",
       " 'isBetsForWin': True,\n",
       " 'isClosed': True,\n",
       " 'oracleAddress': 'KT1RCNpUEDjZAYhabjzgz1ZfxQijCDVMEaTZ',\n",
       " 'targetRate': 0,\n",
       " 'targetTime': 0}"
      ]
     },
     "execution_count": 4,
     "metadata": {},
     "output_type": "execute_result"
    }
   ],
   "source": [
    "cm.contract.storage()"
   ]
  },
  {
   "cell_type": "markdown",
   "id": "sapphire-society",
   "metadata": {},
   "source": [
    "### Это уже закрытый контракт на который я отправил несколько ставок и скоторого уже были выведены средства"
   ]
  },
  {
   "cell_type": "markdown",
   "id": "approved-intro",
   "metadata": {},
   "source": [
    "## Создание нового контракта:\n",
    "#### Ставка на то что сегодня после 10 часов по Киеву, в момент закрытия контракта (который может вызвать любой участник сети) курс Tezos на бирже Coinbase превысит 3.5 доллара USD:\n",
    "\n",
    "- currencyPair: это ценовая пара, запрашиваемая в оракле, в нашем случае XTZ-USD\n",
    "- oracleAddress: это адрес Harbinger Price Oracle в сети edonet (не оффициальный, оффициальный есть только в delphinet и mainnet) с нормализованными ценами биржи Coinbase\n",
    "- targetRate: это цена Tezos в долларах, при достижении которой в targetTime\n",
    "- targetTime: это unix time, значению 1614542400 соответствует 28 февраля, 22 часа по Киеву"
   ]
  },
  {
   "cell_type": "code",
   "execution_count": 5,
   "id": "pleased-improvement",
   "metadata": {
    "tags": []
   },
   "outputs": [
    {
     "name": "stdout",
     "output_type": "stream",
     "text": [
      "Deploying new contract with storage:\n",
      "{'betsAgainstLedger': 0,\n",
      " 'betsAgainstSum': 0,\n",
      " 'betsForLedger': 0,\n",
      " 'betsForSum': 0,\n",
      " 'closedRate': 0,\n",
      " 'closedTime': 0,\n",
      " 'currencyPair': 'XTZ-USD',\n",
      " 'isBetsForWin': False,\n",
      " 'isClosed': False,\n",
      " 'oracleAddress': 'KT1RCNpUEDjZAYhabjzgz1ZfxQijCDVMEaTZ',\n",
      " 'targetRate': 3500000,\n",
      " 'targetTime': 1614542400}\n",
      "Wait 25 seconds until block BL9wou6fLFb2UFpWJ3R9dgroEzWUn2bvpoL7qY5nXYtAsyuaDj2 is finalized\n"
     ]
    },
    {
     "name": "stderr",
     "output_type": "stream",
     "text": [
      "2021-02-28 14:30:01.852 | DEBUG    | pytezos.rpc.search:find_operation:206 - checking level 46415...\n"
     ]
    },
    {
     "name": "stdout",
     "output_type": "stream",
     "text": [
      "hash: opWm8GMZsGsPSktoRn9KAL7rGNNJK6PsEyUfDfSQPsigtvGa4nv, branch: BL75NpodYC5g2Y14KonUMZFAqBzTZ8Ps26MHsxRzSmwRkP4ycyo\n"
     ]
    },
    {
     "name": "stderr",
     "output_type": "stream",
     "text": [
      "2021-02-28 14:30:02.748 | DEBUG    | pytezos.rpc.search:find_operation:206 - checking level 46415...\n"
     ]
    },
    {
     "name": "stdout",
     "output_type": "stream",
     "text": [
      "Contract successfully originated at address: KT1MTVWKz2ekf4K55deZ8wQpbcxET6yCn8Ks\n"
     ]
    }
   ],
   "source": [
    "ncm = cm.deploy_new_contract(\n",
    "    currencyPair='XTZ-USD',\n",
    "    oracleAddress='KT1RCNpUEDjZAYhabjzgz1ZfxQijCDVMEaTZ',\n",
    "    targetRate=3_500_000,\n",
    "    targetTime=1614542400\n",
    ")"
   ]
  },
  {
   "cell_type": "markdown",
   "id": "ultimate-overview",
   "metadata": {},
   "source": [
    "### Ставки на контракты:\n",
    "- Ставка на то, что курс не достигнет 3.5 USD составляет 0.414 тезоса:"
   ]
  },
  {
   "cell_type": "code",
   "execution_count": 6,
   "id": "correct-joining",
   "metadata": {
    "collapsed": true,
    "jupyter": {
     "outputs_hidden": true
    },
    "tags": []
   },
   "outputs": [
    {
     "name": "stdout",
     "output_type": "stream",
     "text": [
      "Wait 13 seconds until block BKvysbBLHxxjbFDyXZAuBPoJiakiR7LDK1W1kWsUZxiiLikC7cH is finalized\n"
     ]
    },
    {
     "name": "stderr",
     "output_type": "stream",
     "text": [
      "2021-02-28 14:32:02.286 | DEBUG    | pytezos.rpc.search:find_operation:206 - checking level 46419...\n"
     ]
    },
    {
     "data": {
      "text/plain": [
       "{'protocol': 'PtEdo2ZkT9oKpimTah6x2embF25oss54njMuPzkJTEi5RqfdZFA',\n",
       " 'chain_id': 'NetXSgo1ZT2DRUG',\n",
       " 'hash': 'ooomCXr6sPJRkYBHZN8Ehf8KGwFBq6cznrCAJZF6jzHBXiuewmV',\n",
       " 'branch': 'BLCRWDSJcmaubRwjwuDyEbG2KckMAiePDd3qzkQcxDzEQXV7USf',\n",
       " 'contents': [{'kind': 'transaction',\n",
       "   'source': 'tz1TdKuFwYgbPHHb7y1VvLH4xiwtAzcjwDjM',\n",
       "   'fee': '1767',\n",
       "   'counter': '93027',\n",
       "   'gas_limit': '14927',\n",
       "   'storage_limit': '71',\n",
       "   'amount': '414000',\n",
       "   'destination': 'KT1MTVWKz2ekf4K55deZ8wQpbcxET6yCn8Ks',\n",
       "   'parameters': {'entrypoint': 'betAgainst', 'value': {'prim': 'Unit'}},\n",
       "   'metadata': {'balance_updates': [{'kind': 'contract',\n",
       "      'contract': 'tz1TdKuFwYgbPHHb7y1VvLH4xiwtAzcjwDjM',\n",
       "      'change': '-1767'},\n",
       "     {'kind': 'freezer',\n",
       "      'category': 'fees',\n",
       "      'delegate': 'tz1R55a2HQbXUAzWKJYE5bJp3UvvawwCm9Pr',\n",
       "      'cycle': 22,\n",
       "      'change': '1767'}],\n",
       "    'operation_result': {'status': 'applied',\n",
       "     'storage': [[{'prim': 'Pair',\n",
       "        'args': [{'prim': 'Pair',\n",
       "          'args': [{'int': '14535'}, {'int': '414000'}]},\n",
       "         {'prim': 'Pair', 'args': [{'int': '14536'}, {'int': '0'}]}]},\n",
       "       {'prim': 'Pair', 'args': [{'int': '0'}, {'int': '0'}]},\n",
       "       {'string': 'XTZ-USD'},\n",
       "       {'prim': 'False'}],\n",
       "      {'prim': 'Pair',\n",
       "       'args': [{'prim': 'False'},\n",
       "        {'bytes': '01b63dffd6afe4fed6327f73a95f81579acd4045bc00'}]},\n",
       "      {'int': '3500000'},\n",
       "      {'int': '1614542400'}],\n",
       "     'big_map_diff': [{'action': 'update',\n",
       "       'big_map': '14535',\n",
       "       'key_hash': 'exprtrSdc1GGvWynNKEfLtrei9sT43j5iFJ4zkUFPGpKnbwuLhH9ed',\n",
       "       'key': {'bytes': '0000579ef4b641789cc26294b706af7ffd19a2a5fd45'},\n",
       "       'value': {'int': '414000'}}],\n",
       "     'balance_updates': [{'kind': 'contract',\n",
       "       'contract': 'tz1TdKuFwYgbPHHb7y1VvLH4xiwtAzcjwDjM',\n",
       "       'change': '-17750'},\n",
       "      {'kind': 'contract',\n",
       "       'contract': 'tz1TdKuFwYgbPHHb7y1VvLH4xiwtAzcjwDjM',\n",
       "       'change': '-414000'},\n",
       "      {'kind': 'contract',\n",
       "       'contract': 'KT1MTVWKz2ekf4K55deZ8wQpbcxET6yCn8Ks',\n",
       "       'change': '414000'}],\n",
       "     'consumed_gas': '14727',\n",
       "     'consumed_milligas': '14726427',\n",
       "     'storage_size': '2599',\n",
       "     'paid_storage_size_diff': '71',\n",
       "     'lazy_storage_diff': [{'kind': 'big_map',\n",
       "       'id': '14536',\n",
       "       'diff': {'action': 'update', 'updates': []}},\n",
       "      {'kind': 'big_map',\n",
       "       'id': '14535',\n",
       "       'diff': {'action': 'update',\n",
       "        'updates': [{'key_hash': 'exprtrSdc1GGvWynNKEfLtrei9sT43j5iFJ4zkUFPGpKnbwuLhH9ed',\n",
       "          'key': {'bytes': '0000579ef4b641789cc26294b706af7ffd19a2a5fd45'},\n",
       "          'value': {'int': '414000'}}]}}]}}}],\n",
       " 'signature': 'sigdXS64QjrLWU8WvbHZQv2jqaZvP6YC4X2nDXFxSC36M9WcF8VEkTi9Vg8w25CkA65D5f1CKkT51zqbfFw4p8haT9d4cEni'}"
      ]
     },
     "execution_count": 6,
     "metadata": {},
     "output_type": "execute_result"
    }
   ],
   "source": [
    "ncm.contract.betAgainst().with_amount(414_000).as_transaction().autofill().sign().inject(_async=False)"
   ]
  },
  {
   "cell_type": "markdown",
   "id": "searching-carol",
   "metadata": {},
   "source": [
    "- Ставка на то, что курс превысит 3.5 USD составляет 1 тезос:"
   ]
  },
  {
   "cell_type": "code",
   "execution_count": 7,
   "id": "coral-management",
   "metadata": {
    "collapsed": true,
    "jupyter": {
     "outputs_hidden": true
    },
    "tags": []
   },
   "outputs": [
    {
     "name": "stdout",
     "output_type": "stream",
     "text": [
      "Wait 6 seconds until block BLKKo65qqtw1N3jiECzDe5b7ivNoiTcdJ6EfwqiKmpDsXPxivzM is finalized\n"
     ]
    },
    {
     "name": "stderr",
     "output_type": "stream",
     "text": [
      "2021-02-28 14:36:31.987 | DEBUG    | pytezos.rpc.search:find_operation:206 - checking level 46428...\n"
     ]
    },
    {
     "data": {
      "text/plain": [
       "{'protocol': 'PtEdo2ZkT9oKpimTah6x2embF25oss54njMuPzkJTEi5RqfdZFA',\n",
       " 'chain_id': 'NetXSgo1ZT2DRUG',\n",
       " 'hash': 'ooW1FW3G1ra6GdUzfYpuRMKcxk3HYhhqbbL1wBMP9YZcuGvgCJ9',\n",
       " 'branch': 'BMYgBT2kBDBQW6fDSHSigywU2a4d1cZxigYnZKSBjesHMXAs652',\n",
       " 'contents': [{'kind': 'transaction',\n",
       "   'source': 'tz1TdKuFwYgbPHHb7y1VvLH4xiwtAzcjwDjM',\n",
       "   'fee': '1763',\n",
       "   'counter': '93028',\n",
       "   'gas_limit': '14929',\n",
       "   'storage_limit': '71',\n",
       "   'amount': '1000000',\n",
       "   'destination': 'KT1MTVWKz2ekf4K55deZ8wQpbcxET6yCn8Ks',\n",
       "   'parameters': {'entrypoint': 'betFor', 'value': {'prim': 'Unit'}},\n",
       "   'metadata': {'balance_updates': [{'kind': 'contract',\n",
       "      'contract': 'tz1TdKuFwYgbPHHb7y1VvLH4xiwtAzcjwDjM',\n",
       "      'change': '-1763'},\n",
       "     {'kind': 'freezer',\n",
       "      'category': 'fees',\n",
       "      'delegate': 'tz1YSzTPwEUpMrRxeTTHNo6RVxfo2TMN633b',\n",
       "      'cycle': 22,\n",
       "      'change': '1763'}],\n",
       "    'operation_result': {'status': 'applied',\n",
       "     'storage': [[{'prim': 'Pair',\n",
       "        'args': [{'prim': 'Pair',\n",
       "          'args': [{'int': '14535'}, {'int': '414000'}]},\n",
       "         {'prim': 'Pair', 'args': [{'int': '14536'}, {'int': '1000000'}]}]},\n",
       "       {'prim': 'Pair', 'args': [{'int': '0'}, {'int': '0'}]},\n",
       "       {'string': 'XTZ-USD'},\n",
       "       {'prim': 'False'}],\n",
       "      {'prim': 'Pair',\n",
       "       'args': [{'prim': 'False'},\n",
       "        {'bytes': '01b63dffd6afe4fed6327f73a95f81579acd4045bc00'}]},\n",
       "      {'int': '3500000'},\n",
       "      {'int': '1614542400'}],\n",
       "     'big_map_diff': [{'action': 'update',\n",
       "       'big_map': '14536',\n",
       "       'key_hash': 'exprtrSdc1GGvWynNKEfLtrei9sT43j5iFJ4zkUFPGpKnbwuLhH9ed',\n",
       "       'key': {'bytes': '0000579ef4b641789cc26294b706af7ffd19a2a5fd45'},\n",
       "       'value': {'int': '1000000'}}],\n",
       "     'balance_updates': [{'kind': 'contract',\n",
       "       'contract': 'tz1TdKuFwYgbPHHb7y1VvLH4xiwtAzcjwDjM',\n",
       "       'change': '-17750'},\n",
       "      {'kind': 'contract',\n",
       "       'contract': 'tz1TdKuFwYgbPHHb7y1VvLH4xiwtAzcjwDjM',\n",
       "       'change': '-1000000'},\n",
       "      {'kind': 'contract',\n",
       "       'contract': 'KT1MTVWKz2ekf4K55deZ8wQpbcxET6yCn8Ks',\n",
       "       'change': '1000000'}],\n",
       "     'consumed_gas': '14729',\n",
       "     'consumed_milligas': '14728431',\n",
       "     'storage_size': '2670',\n",
       "     'paid_storage_size_diff': '71',\n",
       "     'lazy_storage_diff': [{'kind': 'big_map',\n",
       "       'id': '14536',\n",
       "       'diff': {'action': 'update',\n",
       "        'updates': [{'key_hash': 'exprtrSdc1GGvWynNKEfLtrei9sT43j5iFJ4zkUFPGpKnbwuLhH9ed',\n",
       "          'key': {'bytes': '0000579ef4b641789cc26294b706af7ffd19a2a5fd45'},\n",
       "          'value': {'int': '1000000'}}]}},\n",
       "      {'kind': 'big_map',\n",
       "       'id': '14535',\n",
       "       'diff': {'action': 'update', 'updates': []}}]}}}],\n",
       " 'signature': 'sigfr8t8aXBj4zyjR9ZuJ1JiY8y3yDeSPKBtHJjqJc6SrjV44mGLsN3np9CgWbm9rYc8uRdCtEUYs5xapCfrqDtqRRs4EjWm'}"
      ]
     },
     "execution_count": 7,
     "metadata": {},
     "output_type": "execute_result"
    }
   ],
   "source": [
    "# TODO: здесь надо поменять кошелёк, но я не успеваю:\n",
    "ncm.contract.betFor().with_amount(1_000_000).as_transaction().autofill().sign().inject(_async=False)"
   ]
  },
  {
   "cell_type": "markdown",
   "id": "australian-wallpaper",
   "metadata": {},
   "source": [
    "### Текущее состояние контракта:"
   ]
  },
  {
   "cell_type": "code",
   "execution_count": 8,
   "id": "shaped-excess",
   "metadata": {},
   "outputs": [
    {
     "data": {
      "text/plain": [
       "{'betsAgainstLedger': 14535,\n",
       " 'betsAgainstSum': 414000,\n",
       " 'betsForLedger': 14536,\n",
       " 'betsForSum': 1000000,\n",
       " 'closedRate': 0,\n",
       " 'closedTime': 0,\n",
       " 'currencyPair': 'XTZ-USD',\n",
       " 'isBetsForWin': False,\n",
       " 'isClosed': False,\n",
       " 'oracleAddress': 'KT1RCNpUEDjZAYhabjzgz1ZfxQijCDVMEaTZ',\n",
       " 'targetRate': 3500000,\n",
       " 'targetTime': 1614542400}"
      ]
     },
     "execution_count": 8,
     "metadata": {},
     "output_type": "execute_result"
    }
   ],
   "source": [
    "ncm.contract.storage()"
   ]
  },
  {
   "cell_type": "markdown",
   "id": "corrected-customs",
   "metadata": {},
   "source": [
    "### Попытка закрыть контракт:"
   ]
  },
  {
   "cell_type": "code",
   "execution_count": 9,
   "id": "bridal-condition",
   "metadata": {},
   "outputs": [
    {
     "ename": "MichelsonError",
     "evalue": "({'id': 'proto.008-PtEdo2Zk.michelson_v1.script_rejected',\n  'kind': 'temporary',\n  'location': 388,\n  'with': {'string': \"Can't close until reached targetTime\"}},)",
     "output_type": "error",
     "traceback": [
      "\u001b[0;31m---------------------------------------------------------------------------\u001b[0m",
      "\u001b[0;31mMichelsonError\u001b[0m                            Traceback (most recent call last)",
      "\u001b[0;32m<ipython-input-9-64747d923555>\u001b[0m in \u001b[0;36m<module>\u001b[0;34m\u001b[0m\n\u001b[0;32m----> 1\u001b[0;31m \u001b[0mncm\u001b[0m\u001b[0;34m.\u001b[0m\u001b[0mcontract\u001b[0m\u001b[0;34m.\u001b[0m\u001b[0mclose\u001b[0m\u001b[0;34m(\u001b[0m\u001b[0;34m)\u001b[0m\u001b[0;34m.\u001b[0m\u001b[0mas_transaction\u001b[0m\u001b[0;34m(\u001b[0m\u001b[0;34m)\u001b[0m\u001b[0;34m.\u001b[0m\u001b[0mautofill\u001b[0m\u001b[0;34m(\u001b[0m\u001b[0;34m)\u001b[0m\u001b[0;34m.\u001b[0m\u001b[0msign\u001b[0m\u001b[0;34m(\u001b[0m\u001b[0;34m)\u001b[0m\u001b[0;34m.\u001b[0m\u001b[0minject\u001b[0m\u001b[0;34m(\u001b[0m\u001b[0m_async\u001b[0m\u001b[0;34m=\u001b[0m\u001b[0;32mFalse\u001b[0m\u001b[0;34m)\u001b[0m\u001b[0;34m\u001b[0m\u001b[0;34m\u001b[0m\u001b[0m\n\u001b[0m",
      "\u001b[0;32m~/Documents/DeFiProjects/FortuneCrystalBall/pytezos-env/lib/python3.9/site-packages/pytezos/jupyter.py\u001b[0m in \u001b[0;36m__call__\u001b[0;34m(self, *args, **kwargs)\u001b[0m\n\u001b[1;32m     62\u001b[0m \u001b[0;34m\u001b[0m\u001b[0m\n\u001b[1;32m     63\u001b[0m                 \u001b[0;32mdef\u001b[0m \u001b[0m__call__\u001b[0m\u001b[0;34m(\u001b[0m\u001b[0mself\u001b[0m\u001b[0;34m,\u001b[0m \u001b[0;34m*\u001b[0m\u001b[0margs\u001b[0m\u001b[0;34m,\u001b[0m \u001b[0;34m**\u001b[0m\u001b[0mkwargs\u001b[0m\u001b[0;34m)\u001b[0m\u001b[0;34m:\u001b[0m\u001b[0;34m\u001b[0m\u001b[0;34m\u001b[0m\u001b[0m\n\u001b[0;32m---> 64\u001b[0;31m                     \u001b[0;32mreturn\u001b[0m \u001b[0mmethod\u001b[0m\u001b[0;34m(\u001b[0m\u001b[0mself\u001b[0m\u001b[0;34m.\u001b[0m\u001b[0mclass_instance\u001b[0m\u001b[0;34m,\u001b[0m \u001b[0;34m*\u001b[0m\u001b[0margs\u001b[0m\u001b[0;34m,\u001b[0m \u001b[0;34m**\u001b[0m\u001b[0mkwargs\u001b[0m\u001b[0;34m)\u001b[0m\u001b[0;34m\u001b[0m\u001b[0;34m\u001b[0m\u001b[0m\n\u001b[0m\u001b[1;32m     65\u001b[0m \u001b[0;34m\u001b[0m\u001b[0m\n\u001b[1;32m     66\u001b[0m                 \u001b[0;32mdef\u001b[0m \u001b[0m__repr__\u001b[0m\u001b[0;34m(\u001b[0m\u001b[0mself\u001b[0m\u001b[0;34m)\u001b[0m\u001b[0;34m:\u001b[0m\u001b[0;34m\u001b[0m\u001b[0;34m\u001b[0m\u001b[0m\n",
      "\u001b[0;32m~/Documents/DeFiProjects/FortuneCrystalBall/pytezos-env/lib/python3.9/site-packages/pytezos/operation/group.py\u001b[0m in \u001b[0;36mautofill\u001b[0;34m(self, gas_reserve, counter, branch_offset)\u001b[0m\n\u001b[1;32m    178\u001b[0m         \u001b[0mopg_with_metadata\u001b[0m \u001b[0;34m=\u001b[0m \u001b[0mopg\u001b[0m\u001b[0;34m.\u001b[0m\u001b[0mrun\u001b[0m\u001b[0;34m(\u001b[0m\u001b[0;34m)\u001b[0m\u001b[0;34m\u001b[0m\u001b[0;34m\u001b[0m\u001b[0m\n\u001b[1;32m    179\u001b[0m         \u001b[0;32mif\u001b[0m \u001b[0;32mnot\u001b[0m \u001b[0mOperationResult\u001b[0m\u001b[0;34m.\u001b[0m\u001b[0mis_applied\u001b[0m\u001b[0;34m(\u001b[0m\u001b[0mopg_with_metadata\u001b[0m\u001b[0;34m)\u001b[0m\u001b[0;34m:\u001b[0m\u001b[0;34m\u001b[0m\u001b[0;34m\u001b[0m\u001b[0m\n\u001b[0;32m--> 180\u001b[0;31m             \u001b[0;32mraise\u001b[0m \u001b[0mRpcError\u001b[0m\u001b[0;34m.\u001b[0m\u001b[0mfrom_errors\u001b[0m\u001b[0;34m(\u001b[0m\u001b[0mOperationResult\u001b[0m\u001b[0;34m.\u001b[0m\u001b[0merrors\u001b[0m\u001b[0;34m(\u001b[0m\u001b[0mopg_with_metadata\u001b[0m\u001b[0;34m)\u001b[0m\u001b[0;34m)\u001b[0m\u001b[0;34m\u001b[0m\u001b[0;34m\u001b[0m\u001b[0m\n\u001b[0m\u001b[1;32m    181\u001b[0m \u001b[0;34m\u001b[0m\u001b[0m\n\u001b[1;32m    182\u001b[0m         \u001b[0mextra_size\u001b[0m \u001b[0;34m=\u001b[0m \u001b[0;34m(\u001b[0m\u001b[0;36m32\u001b[0m \u001b[0;34m+\u001b[0m \u001b[0;36m64\u001b[0m\u001b[0;34m)\u001b[0m \u001b[0;34m//\u001b[0m \u001b[0mlen\u001b[0m\u001b[0;34m(\u001b[0m\u001b[0mopg\u001b[0m\u001b[0;34m.\u001b[0m\u001b[0mcontents\u001b[0m\u001b[0;34m)\u001b[0m \u001b[0;34m+\u001b[0m \u001b[0;36m1\u001b[0m  \u001b[0;31m# size of serialized branch and signature)\u001b[0m\u001b[0;34m\u001b[0m\u001b[0;34m\u001b[0m\u001b[0m\n",
      "\u001b[0;31mMichelsonError\u001b[0m: ({'id': 'proto.008-PtEdo2Zk.michelson_v1.script_rejected',\n  'kind': 'temporary',\n  'location': 388,\n  'with': {'string': \"Can't close until reached targetTime\"}},)"
     ]
    }
   ],
   "source": [
    "ncm.contract.close().as_transaction().autofill().sign().inject(_async=False)"
   ]
  },
  {
   "cell_type": "markdown",
   "id": "lined-symposium",
   "metadata": {},
   "source": [
    "### Ошибка - потому что ещё не достигнуто время. В тот момент когда у оракула будет ценовая пара с timestamp > чем заявленный в смарт контракте - можно будет закрыть контракт и затем запустить вывод средств:"
   ]
  },
  {
   "cell_type": "code",
   "execution_count": null,
   "id": "resident-homeless",
   "metadata": {},
   "outputs": [],
   "source": [
    "ncm.withdraw().as_transaction().autofill().sign().inject(_async=False)"
   ]
  }
 ],
 "metadata": {
  "kernelspec": {
   "display_name": "Python 3",
   "language": "python",
   "name": "python3"
  },
  "language_info": {
   "codemirror_mode": {
    "name": "ipython",
    "version": 3
   },
   "file_extension": ".py",
   "mimetype": "text/x-python",
   "name": "python",
   "nbconvert_exporter": "python",
   "pygments_lexer": "ipython3",
   "version": "3.9.1"
  }
 },
 "nbformat": 4,
 "nbformat_minor": 5
}
