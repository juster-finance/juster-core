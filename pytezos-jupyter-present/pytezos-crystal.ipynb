{
 "cells": [
  {
   "cell_type": "code",
   "execution_count": 1,
   "id": "regulated-apple",
   "metadata": {},
   "outputs": [],
   "source": [
    "from pytezos import pytezos"
   ]
  },
  {
   "cell_type": "code",
   "execution_count": 2,
   "id": "applicable-criticism",
   "metadata": {},
   "outputs": [],
   "source": [
    "# TODO: move this to settings.py\n",
    "settings = dict(\n",
    "    SHELL_URL = 'https://edonet-tezos.giganode.io/',\n",
    "    # SHELL_URL = 'https://edonet.smartpy.io',\n",
    "    # SHELL_URL = 'https://delphinet.smartpy.io',\n",
    "    # SHELL_URL = 'https://delphinet-tezos.giganode.io/',\n",
    "\n",
    "    # edonet\n",
    "    CONTRACT_ADDRESS = 'KT1HbiznMedpC5BcQnUCUd5zCaXcemsU25Sk',\n",
    "\n",
    "    # delphinet\n",
    "    # CONTRACT_ADDRESS = 'KT18zjuSxBLdQqopnjoSeZWqqXkbEk9SnyDb',\n",
    "\n",
    "    KEYS_DIRECTORY = 'test-keys',\n",
    "\n",
    "    # default storage used to deploy new contract:\n",
    "    DEFAULT_INITIAL_CONTRACT_STORAGE = {\n",
    "        'betsAgainstLedger': 0,\n",
    "        'betsAgainstSum': 0,\n",
    "        'betsForLedger': 0,\n",
    "        'betsForSum': 0,\n",
    "        'closedRate': 0,\n",
    "        'closedTime': 0,\n",
    "        'currencyPair': 'XTZ-USD',\n",
    "        'isBetsForWin': False,\n",
    "        'isClosed': False,\n",
    "\n",
    "        # edonet:\n",
    "        'oracleAddress': 'KT1RCNpUEDjZAYhabjzgz1ZfxQijCDVMEaTZ',\n",
    "\n",
    "        # delphinet:\n",
    "        # 'oracleAddress': 'KT1Age13nBE2VXxTPjwVJiE8Jbt73kumwxYx',\n",
    "        'targetRate': 0,\n",
    "        'targetTime': 0\n",
    "    },\n",
    "\n",
    "    IS_ASYNC_ENABLED = False,\n",
    ")"
   ]
  },
  {
   "cell_type": "code",
   "execution_count": 3,
   "id": "regulation-organ",
   "metadata": {},
   "outputs": [],
   "source": [
    "from os.path import join\n",
    "from os import listdir\n",
    "from pytezos import pytezos\n",
    "from pprint import pprint\n",
    "\n",
    "\n",
    "def load_key_filenames(directory):\n",
    "\n",
    "    def make_key_name(fn):\n",
    "        return fn.split('.')[0]\n",
    "\n",
    "    filenames =  {\n",
    "        make_key_name(fn): join(directory, fn)\n",
    "        for fn in listdir(directory) if fn.lower().endswith('.json')\n",
    "    }\n",
    "\n",
    "    if not filenames:\n",
    "        raise Exception(\n",
    "            'Please add test keys into pytezos-jupyter-present/test-keys directory '\n",
    "            + '(you can use https://faucet.tzalpha.net/')\n",
    "\n",
    "    return filenames\n"
   ]
  },
  {
   "cell_type": "code",
   "execution_count": 4,
   "id": "shared-neighborhood",
   "metadata": {},
   "outputs": [
    {
     "name": "stdout",
     "output_type": "stream",
     "text": [
      "Successfully loaded 5 pytezos keys:\n",
      "- tz1RS9GoEXakf9iyBmSaheLMcakFRtzBXpWE\n",
      "- tz1TdKuFwYgbPHHb7y1VvLH4xiwtAzcjwDjM\n",
      "- tz1MdaJfWzP5pPx3gwPxfdLZTHW6js9havos\n",
      "- tz1iQE8ijR5xVPffBUPFubwB9XQJuyD9qsoJ\n",
      "- tz1ZAzDvkZCT2LAyPN8Kdxw3kes7xfWerZhZ\n"
     ]
    }
   ],
   "source": [
    "from pytezos.operation.result import OperationResult\n",
    "\n",
    "\n",
    "class KeysManager:\n",
    "    def __init__(self, settings):\n",
    "\n",
    "        self.settings = settings\n",
    "        self.key_filenames = load_key_filenames(settings['KEYS_DIRECTORY'])\n",
    "        self.shell_url = settings['SHELL_URL']\n",
    "        self.is_async_enabled = settings['IS_ASYNC_ENABLED']\n",
    "\n",
    "        self.pytezos_instances = {\n",
    "            key_name: pytezos.using(key=key_filename, shell=self.shell_url)\n",
    "            for key_name, key_filename in self.key_filenames.items()\n",
    "        }\n",
    "\n",
    "        assert len(self.pytezos_instances)\n",
    "        print(f'Successfully loaded {len(self.pytezos_instances)} pytezos keys:')\n",
    "        [print(f'- {key_name}') for key_name in self.pytezos_instances]\n",
    "\n",
    "\n",
    "    def activate_keys(self):\n",
    "        \"\"\" Runs activate_account for each loaded key \"\"\"\n",
    "\n",
    "        for key_name, pt in self.pytezos_instances.items():\n",
    "            try:\n",
    "                pt.activate_account().autofill().sign().inject(_async=self.is_async_enabled)\n",
    "                pt.reveal().autofill().sign().inject(_async=self.is_async_enabled)\n",
    "            except Exception as e:\n",
    "                print(f'Error: {type(e)}, \"{e}\"')\n",
    "\n",
    "\n",
    "class ContractManager:\n",
    "\n",
    "    def __init__(self, pytezos, settings):\n",
    "        self.settings = settings\n",
    "        self.contract_address = settings['CONTRACT_ADDRESS']\n",
    "        self.is_async_enabled = settings['IS_ASYNC_ENABLED']\n",
    "        self.pytezos = pytezos\n",
    "        self.contract = self.pytezos.contract(self.contract_address)\n",
    "\n",
    "\n",
    "    def create_new_storage(self, **kwargs):\n",
    "        \"\"\" Creates new storage for Fortune Crystal Ball smart contract with\n",
    "            custom storage params in kwargs\n",
    "        \"\"\"\n",
    "\n",
    "        storage = self.settings['DEFAULT_INITIAL_CONTRACT_STORAGE'].copy()\n",
    "        storage.update(kwargs)\n",
    "        return storage\n",
    "\n",
    "\n",
    "    def find_originated_contract_address(self, new_contract_result):\n",
    "        \"\"\" Searches for new originated contract address in blockchain \"\"\"\n",
    "\n",
    "        op_hash, branch = new_contract_result['hash'], new_contract_result['branch']\n",
    "        print(f'hash: {op_hash}, branch: {branch}')\n",
    "\n",
    "        blocks = cm.pytezos.shell.blocks[branch:]\n",
    "        opg = blocks.find_operation(op_hash)\n",
    "        res = OperationResult.from_operation_group(opg)\n",
    "        originated_contract_address = res[0].originated_contracts[0]\n",
    "        return originated_contract_address\n",
    "\n",
    "\n",
    "    def deploy_new_contract(self, **kwargs):\n",
    "        \"\"\" Deploys new contract with params transfered in kwargs \"\"\"\n",
    "\n",
    "        new_storage = self.create_new_storage(**kwargs)\n",
    "        print(f'Deploying new contract with storage:')\n",
    "        pprint(new_storage)\n",
    "\n",
    "        new_contract = self.pytezos.origination(\n",
    "            script=self.contract.script(initial_storage=new_storage))\n",
    "        new_contract = new_contract.autofill().sign().inject(_async=self.is_async_enabled)\n",
    "\n",
    "        originated_contract_address = self.find_originated_contract_address(new_contract)\n",
    "        print(f'Contract successfully originated at address: {originated_contract_address}')\n",
    "\n",
    "        # return new contract manager with replaced contract address:\n",
    "        new_settings = self.settings.copy()\n",
    "        new_settings.update(CONTRACT_ADDRESS=originated_contract_address)\n",
    "\n",
    "        return ContractManager(self.pytezos, new_settings)\n",
    "\n",
    "keys = KeysManager(settings)\n",
    "\n",
    "# If your keys is not activated, you can activate it by running:\n",
    "# keys.activate_keys()"
   ]
  },
  {
   "cell_type": "code",
   "execution_count": 5,
   "id": "eleven-decade",
   "metadata": {},
   "outputs": [],
   "source": [
    "pt = keys.pytezos_instances['tz1TdKuFwYgbPHHb7y1VvLH4xiwtAzcjwDjM']"
   ]
  },
  {
   "cell_type": "code",
   "execution_count": 6,
   "id": "alpine-witch",
   "metadata": {},
   "outputs": [],
   "source": [
    "cm = ContractManager(keys.pytezos_instances['tz1TdKuFwYgbPHHb7y1VvLH4xiwtAzcjwDjM'], settings)"
   ]
  },
  {
   "cell_type": "code",
   "execution_count": 7,
   "id": "divided-girlfriend",
   "metadata": {},
   "outputs": [
    {
     "data": {
      "text/plain": [
       "{'betsAgainstLedger': 14375,\n",
       " 'betsAgainstSum': 414000,\n",
       " 'betsForLedger': 14376,\n",
       " 'betsForSum': 400000,\n",
       " 'closedRate': 3621051,\n",
       " 'closedTime': 1614474180,\n",
       " 'currencyPair': 'XTZ-USD',\n",
       " 'isBetsForWin': True,\n",
       " 'isClosed': True,\n",
       " 'oracleAddress': 'KT1RCNpUEDjZAYhabjzgz1ZfxQijCDVMEaTZ',\n",
       " 'targetRate': 0,\n",
       " 'targetTime': 0}"
      ]
     },
     "execution_count": 7,
     "metadata": {},
     "output_type": "execute_result"
    }
   ],
   "source": [
    "cm.contract.storage()"
   ]
  },
  {
   "cell_type": "code",
   "execution_count": 35,
   "id": "animal-zimbabwe",
   "metadata": {
    "collapsed": true,
    "jupyter": {
     "outputs_hidden": true
    },
    "tags": []
   },
   "outputs": [
    {
     "name": "stdout",
     "output_type": "stream",
     "text": [
      "Deploying new contract with storage:\n",
      "{'betsAgainstLedger': 0,\n",
      " 'betsAgainstSum': 0,\n",
      " 'betsForLedger': 0,\n",
      " 'betsForSum': 0,\n",
      " 'closedRate': 0,\n",
      " 'closedTime': 0,\n",
      " 'currencyPair': 'XTZ-USD',\n",
      " 'isBetsForWin': False,\n",
      " 'isClosed': False,\n",
      " 'oracleAddress': 'KT1RCNpUEDjZAYhabjzgz1ZfxQijCDVMEaTZ',\n",
      " 'targetRate': 4,\n",
      " 'targetTime': 1}\n",
      "Wait 9 seconds until block BLF5Sf2Zy5umvFa2octo5bEpnRp1kH4gZ4gKWDVLoSgvDo2pJXo is finalized\n"
     ]
    },
    {
     "name": "stderr",
     "output_type": "stream",
     "text": [
      "2021-02-28 14:00:46.514 | DEBUG    | pytezos.rpc.search:find_operation:206 - checking level 46357...\n"
     ]
    },
    {
     "name": "stdout",
     "output_type": "stream",
     "text": [
      "hash: ontHwGmgzCEpJvnimJJQqVw1xGzZctjtDbu862n3vQoY7w9PeUS, branch: BKk7XoQpwp6S7JUwSfP8yFPP9SWRB5MFKcwfLz5ouvZPk4zmi4M\n"
     ]
    },
    {
     "name": "stderr",
     "output_type": "stream",
     "text": [
      "2021-02-28 14:00:47.483 | DEBUG    | pytezos.rpc.search:find_operation:206 - checking level 46306...\n",
      "2021-02-28 14:00:47.647 | DEBUG    | pytezos.rpc.search:find_operation:206 - checking level 46307...\n",
      "2021-02-28 14:00:47.846 | DEBUG    | pytezos.rpc.search:find_operation:206 - checking level 46308...\n",
      "2021-02-28 14:00:48.009 | DEBUG    | pytezos.rpc.search:find_operation:206 - checking level 46309...\n",
      "2021-02-28 14:00:48.243 | DEBUG    | pytezos.rpc.search:find_operation:206 - checking level 46310...\n",
      "2021-02-28 14:00:48.494 | DEBUG    | pytezos.rpc.search:find_operation:206 - checking level 46311...\n",
      "2021-02-28 14:00:48.639 | DEBUG    | pytezos.rpc.search:find_operation:206 - checking level 46312...\n",
      "2021-02-28 14:00:48.869 | DEBUG    | pytezos.rpc.search:find_operation:206 - checking level 46313...\n",
      "2021-02-28 14:00:49.056 | DEBUG    | pytezos.rpc.search:find_operation:206 - checking level 46314...\n",
      "2021-02-28 14:00:49.252 | DEBUG    | pytezos.rpc.search:find_operation:206 - checking level 46315...\n",
      "2021-02-28 14:00:49.500 | DEBUG    | pytezos.rpc.search:find_operation:206 - checking level 46316...\n",
      "2021-02-28 14:00:49.647 | DEBUG    | pytezos.rpc.search:find_operation:206 - checking level 46317...\n",
      "2021-02-28 14:00:49.828 | DEBUG    | pytezos.rpc.search:find_operation:206 - checking level 46318...\n",
      "2021-02-28 14:00:49.977 | DEBUG    | pytezos.rpc.search:find_operation:206 - checking level 46319...\n",
      "2021-02-28 14:00:50.191 | DEBUG    | pytezos.rpc.search:find_operation:206 - checking level 46320...\n",
      "2021-02-28 14:00:50.367 | DEBUG    | pytezos.rpc.search:find_operation:206 - checking level 46321...\n",
      "2021-02-28 14:00:50.596 | DEBUG    | pytezos.rpc.search:find_operation:206 - checking level 46322...\n",
      "2021-02-28 14:00:50.764 | DEBUG    | pytezos.rpc.search:find_operation:206 - checking level 46323...\n",
      "2021-02-28 14:00:50.987 | DEBUG    | pytezos.rpc.search:find_operation:206 - checking level 46324...\n",
      "2021-02-28 14:00:51.229 | DEBUG    | pytezos.rpc.search:find_operation:206 - checking level 46325...\n",
      "2021-02-28 14:00:51.454 | DEBUG    | pytezos.rpc.search:find_operation:206 - checking level 46326...\n",
      "2021-02-28 14:00:51.781 | DEBUG    | pytezos.rpc.search:find_operation:206 - checking level 46327...\n",
      "2021-02-28 14:00:51.982 | DEBUG    | pytezos.rpc.search:find_operation:206 - checking level 46328...\n",
      "2021-02-28 14:00:52.500 | DEBUG    | pytezos.rpc.search:find_operation:206 - checking level 46329...\n",
      "2021-02-28 14:00:52.693 | DEBUG    | pytezos.rpc.search:find_operation:206 - checking level 46330...\n",
      "2021-02-28 14:00:52.926 | DEBUG    | pytezos.rpc.search:find_operation:206 - checking level 46331...\n",
      "2021-02-28 14:00:53.100 | DEBUG    | pytezos.rpc.search:find_operation:206 - checking level 46332...\n",
      "2021-02-28 14:00:53.245 | DEBUG    | pytezos.rpc.search:find_operation:206 - checking level 46333...\n",
      "2021-02-28 14:00:53.435 | DEBUG    | pytezos.rpc.search:find_operation:206 - checking level 46334...\n",
      "2021-02-28 14:00:53.636 | DEBUG    | pytezos.rpc.search:find_operation:206 - checking level 46335...\n",
      "2021-02-28 14:00:53.820 | DEBUG    | pytezos.rpc.search:find_operation:206 - checking level 46336...\n",
      "2021-02-28 14:00:54.698 | DEBUG    | pytezos.rpc.search:find_operation:206 - checking level 46337...\n",
      "2021-02-28 14:00:54.913 | DEBUG    | pytezos.rpc.search:find_operation:206 - checking level 46338...\n",
      "2021-02-28 14:00:55.090 | DEBUG    | pytezos.rpc.search:find_operation:206 - checking level 46339...\n",
      "2021-02-28 14:00:55.290 | DEBUG    | pytezos.rpc.search:find_operation:206 - checking level 46340...\n",
      "2021-02-28 14:00:55.511 | DEBUG    | pytezos.rpc.search:find_operation:206 - checking level 46341...\n",
      "2021-02-28 14:00:55.700 | DEBUG    | pytezos.rpc.search:find_operation:206 - checking level 46342...\n",
      "2021-02-28 14:00:55.886 | DEBUG    | pytezos.rpc.search:find_operation:206 - checking level 46343...\n",
      "2021-02-28 14:00:56.089 | DEBUG    | pytezos.rpc.search:find_operation:206 - checking level 46344...\n",
      "2021-02-28 14:00:56.284 | DEBUG    | pytezos.rpc.search:find_operation:206 - checking level 46345...\n",
      "2021-02-28 14:00:56.503 | DEBUG    | pytezos.rpc.search:find_operation:206 - checking level 46346...\n",
      "2021-02-28 14:00:56.733 | DEBUG    | pytezos.rpc.search:find_operation:206 - checking level 46347...\n",
      "2021-02-28 14:00:56.869 | DEBUG    | pytezos.rpc.search:find_operation:206 - checking level 46348...\n",
      "2021-02-28 14:00:57.047 | DEBUG    | pytezos.rpc.search:find_operation:206 - checking level 46349...\n",
      "2021-02-28 14:00:57.221 | DEBUG    | pytezos.rpc.search:find_operation:206 - checking level 46350...\n",
      "2021-02-28 14:00:57.431 | DEBUG    | pytezos.rpc.search:find_operation:206 - checking level 46351...\n",
      "2021-02-28 14:00:57.669 | DEBUG    | pytezos.rpc.search:find_operation:206 - checking level 46352...\n",
      "2021-02-28 14:00:57.860 | DEBUG    | pytezos.rpc.search:find_operation:206 - checking level 46353...\n",
      "2021-02-28 14:00:58.036 | DEBUG    | pytezos.rpc.search:find_operation:206 - checking level 46354...\n",
      "2021-02-28 14:00:58.221 | DEBUG    | pytezos.rpc.search:find_operation:206 - checking level 46355...\n",
      "2021-02-28 14:00:58.405 | DEBUG    | pytezos.rpc.search:find_operation:206 - checking level 46356...\n"
     ]
    },
    {
     "ename": "StopIteration",
     "evalue": "ontHwGmgzCEpJvnimJJQqVw1xGzZctjtDbu862n3vQoY7w9PeUS",
     "output_type": "error",
     "traceback": [
      "\u001b[0;31m---------------------------------------------------------------------------\u001b[0m",
      "\u001b[0;31mStopIteration\u001b[0m                             Traceback (most recent call last)",
      "\u001b[0;32m<ipython-input-35-13cc2af95c14>\u001b[0m in \u001b[0;36m<module>\u001b[0;34m\u001b[0m\n\u001b[0;32m----> 1\u001b[0;31m \u001b[0mncm\u001b[0m \u001b[0;34m=\u001b[0m \u001b[0mcm\u001b[0m\u001b[0;34m.\u001b[0m\u001b[0mdeploy_new_contract\u001b[0m\u001b[0;34m(\u001b[0m\u001b[0mtargetRate\u001b[0m\u001b[0;34m=\u001b[0m\u001b[0;36m4\u001b[0m\u001b[0;34m,\u001b[0m \u001b[0mtargetTime\u001b[0m\u001b[0;34m=\u001b[0m\u001b[0;36m1\u001b[0m\u001b[0;34m)\u001b[0m\u001b[0;34m\u001b[0m\u001b[0;34m\u001b[0m\u001b[0m\n\u001b[0m",
      "\u001b[0;32m<ipython-input-31-06db5a5c9e1d>\u001b[0m in \u001b[0;36mdeploy_new_contract\u001b[0;34m(self, **kwargs)\u001b[0m\n\u001b[1;32m     75\u001b[0m         \u001b[0mnew_contract\u001b[0m \u001b[0;34m=\u001b[0m \u001b[0mnew_contract\u001b[0m\u001b[0;34m.\u001b[0m\u001b[0mautofill\u001b[0m\u001b[0;34m(\u001b[0m\u001b[0;34m)\u001b[0m\u001b[0;34m.\u001b[0m\u001b[0msign\u001b[0m\u001b[0;34m(\u001b[0m\u001b[0;34m)\u001b[0m\u001b[0;34m.\u001b[0m\u001b[0minject\u001b[0m\u001b[0;34m(\u001b[0m\u001b[0m_async\u001b[0m\u001b[0;34m=\u001b[0m\u001b[0mself\u001b[0m\u001b[0;34m.\u001b[0m\u001b[0mis_async_enabled\u001b[0m\u001b[0;34m)\u001b[0m\u001b[0;34m\u001b[0m\u001b[0;34m\u001b[0m\u001b[0m\n\u001b[1;32m     76\u001b[0m \u001b[0;34m\u001b[0m\u001b[0m\n\u001b[0;32m---> 77\u001b[0;31m         \u001b[0moriginated_contract_address\u001b[0m \u001b[0;34m=\u001b[0m \u001b[0mself\u001b[0m\u001b[0;34m.\u001b[0m\u001b[0mfind_originated_contract_address\u001b[0m\u001b[0;34m(\u001b[0m\u001b[0mnew_contract\u001b[0m\u001b[0;34m)\u001b[0m\u001b[0;34m\u001b[0m\u001b[0;34m\u001b[0m\u001b[0m\n\u001b[0m\u001b[1;32m     78\u001b[0m         \u001b[0mprint\u001b[0m\u001b[0;34m(\u001b[0m\u001b[0;34mf'Contract successfully originated at address: {originated_contract_address}'\u001b[0m\u001b[0;34m)\u001b[0m\u001b[0;34m\u001b[0m\u001b[0;34m\u001b[0m\u001b[0m\n\u001b[1;32m     79\u001b[0m \u001b[0;34m\u001b[0m\u001b[0m\n",
      "\u001b[0;32m<ipython-input-31-06db5a5c9e1d>\u001b[0m in \u001b[0;36mfind_originated_contract_address\u001b[0;34m(self, new_contract_result)\u001b[0m\n\u001b[1;32m     58\u001b[0m \u001b[0;34m\u001b[0m\u001b[0m\n\u001b[1;32m     59\u001b[0m         \u001b[0mblocks\u001b[0m \u001b[0;34m=\u001b[0m \u001b[0mcm\u001b[0m\u001b[0;34m.\u001b[0m\u001b[0mpytezos\u001b[0m\u001b[0;34m.\u001b[0m\u001b[0mshell\u001b[0m\u001b[0;34m.\u001b[0m\u001b[0mblocks\u001b[0m\u001b[0;34m[\u001b[0m\u001b[0mbranch\u001b[0m\u001b[0;34m:\u001b[0m\u001b[0;34m]\u001b[0m\u001b[0;34m\u001b[0m\u001b[0;34m\u001b[0m\u001b[0m\n\u001b[0;32m---> 60\u001b[0;31m         \u001b[0mopg\u001b[0m \u001b[0;34m=\u001b[0m \u001b[0mblocks\u001b[0m\u001b[0;34m.\u001b[0m\u001b[0mfind_operation\u001b[0m\u001b[0;34m(\u001b[0m\u001b[0mop_hash\u001b[0m\u001b[0;34m)\u001b[0m\u001b[0;34m\u001b[0m\u001b[0;34m\u001b[0m\u001b[0m\n\u001b[0m\u001b[1;32m     61\u001b[0m         \u001b[0mres\u001b[0m \u001b[0;34m=\u001b[0m \u001b[0mOperationResult\u001b[0m\u001b[0;34m.\u001b[0m\u001b[0mfrom_operation_group\u001b[0m\u001b[0;34m(\u001b[0m\u001b[0mopg\u001b[0m\u001b[0;34m)\u001b[0m\u001b[0;34m\u001b[0m\u001b[0;34m\u001b[0m\u001b[0m\n\u001b[1;32m     62\u001b[0m         \u001b[0moriginated_contract_address\u001b[0m \u001b[0;34m=\u001b[0m \u001b[0mres\u001b[0m\u001b[0;34m[\u001b[0m\u001b[0;36m0\u001b[0m\u001b[0;34m]\u001b[0m\u001b[0;34m.\u001b[0m\u001b[0moriginated_contracts\u001b[0m\u001b[0;34m[\u001b[0m\u001b[0;36m0\u001b[0m\u001b[0;34m]\u001b[0m\u001b[0;34m\u001b[0m\u001b[0;34m\u001b[0m\u001b[0m\n",
      "\u001b[0;32m~/Documents/DeFiProjects/FortuneCrystalBall/pytezos-env/lib/python3.9/site-packages/pytezos/jupyter.py\u001b[0m in \u001b[0;36m__call__\u001b[0;34m(self, *args, **kwargs)\u001b[0m\n\u001b[1;32m     62\u001b[0m \u001b[0;34m\u001b[0m\u001b[0m\n\u001b[1;32m     63\u001b[0m                 \u001b[0;32mdef\u001b[0m \u001b[0m__call__\u001b[0m\u001b[0;34m(\u001b[0m\u001b[0mself\u001b[0m\u001b[0;34m,\u001b[0m \u001b[0;34m*\u001b[0m\u001b[0margs\u001b[0m\u001b[0;34m,\u001b[0m \u001b[0;34m**\u001b[0m\u001b[0mkwargs\u001b[0m\u001b[0;34m)\u001b[0m\u001b[0;34m:\u001b[0m\u001b[0;34m\u001b[0m\u001b[0;34m\u001b[0m\u001b[0m\n\u001b[0;32m---> 64\u001b[0;31m                     \u001b[0;32mreturn\u001b[0m \u001b[0mmethod\u001b[0m\u001b[0;34m(\u001b[0m\u001b[0mself\u001b[0m\u001b[0;34m.\u001b[0m\u001b[0mclass_instance\u001b[0m\u001b[0;34m,\u001b[0m \u001b[0;34m*\u001b[0m\u001b[0margs\u001b[0m\u001b[0;34m,\u001b[0m \u001b[0;34m**\u001b[0m\u001b[0mkwargs\u001b[0m\u001b[0;34m)\u001b[0m\u001b[0;34m\u001b[0m\u001b[0;34m\u001b[0m\u001b[0m\n\u001b[0m\u001b[1;32m     65\u001b[0m \u001b[0;34m\u001b[0m\u001b[0m\n\u001b[1;32m     66\u001b[0m                 \u001b[0;32mdef\u001b[0m \u001b[0m__repr__\u001b[0m\u001b[0;34m(\u001b[0m\u001b[0mself\u001b[0m\u001b[0;34m)\u001b[0m\u001b[0;34m:\u001b[0m\u001b[0;34m\u001b[0m\u001b[0;34m\u001b[0m\u001b[0m\n",
      "\u001b[0;32m~/Documents/DeFiProjects/FortuneCrystalBall/pytezos-env/lib/python3.9/site-packages/pytezos/rpc/search.py\u001b[0m in \u001b[0;36mfind_operation\u001b[0;34m(self, operation_group_hash)\u001b[0m\n\u001b[1;32m    209\u001b[0m                 \u001b[0;32mcontinue\u001b[0m\u001b[0;34m\u001b[0m\u001b[0;34m\u001b[0m\u001b[0m\n\u001b[1;32m    210\u001b[0m \u001b[0;34m\u001b[0m\u001b[0m\n\u001b[0;32m--> 211\u001b[0;31m         \u001b[0;32mraise\u001b[0m \u001b[0mStopIteration\u001b[0m\u001b[0;34m(\u001b[0m\u001b[0moperation_group_hash\u001b[0m\u001b[0;34m)\u001b[0m\u001b[0;34m\u001b[0m\u001b[0;34m\u001b[0m\u001b[0m\n\u001b[0m\u001b[1;32m    212\u001b[0m \u001b[0;34m\u001b[0m\u001b[0m\n\u001b[1;32m    213\u001b[0m \u001b[0;34m\u001b[0m\u001b[0m\n",
      "\u001b[0;31mStopIteration\u001b[0m: ontHwGmgzCEpJvnimJJQqVw1xGzZctjtDbu862n3vQoY7w9PeUS"
     ]
    }
   ],
   "source": [
    "ncm = cm.deploy_new_contract(targetRate=4, targetTime=1)"
   ]
  },
  {
   "cell_type": "code",
   "execution_count": 9,
   "id": "accepting-enough",
   "metadata": {},
   "outputs": [],
   "source": [
    "new_settings = settings.copy()\n",
    "new_settings['CONTRACT_ADDRESS'] = 'KT1AStyuCd5SCns6BtASqBcbs3LAudDJHfmF'"
   ]
  },
  {
   "cell_type": "code",
   "execution_count": 10,
   "id": "expected-workplace",
   "metadata": {},
   "outputs": [],
   "source": [
    "ncm = ContractManager(keys.pytezos_instances['tz1TdKuFwYgbPHHb7y1VvLH4xiwtAzcjwDjM'], new_settings)"
   ]
  },
  {
   "cell_type": "code",
   "execution_count": 38,
   "id": "adolescent-sharp",
   "metadata": {},
   "outputs": [],
   "source": [
    "# contract = cm.pytezos.contract('KT1V1x3nwbFU2WatcV6hBmCmCMdDB6E7BwLE')"
   ]
  },
  {
   "cell_type": "code",
   "execution_count": null,
   "id": "surprising-announcement",
   "metadata": {},
   "outputs": [],
   "source": [
    "class CrystalContractManager(ContractManager):\n",
    "    \"\"\" Python interface to work with Crystal Contract \"\"\"\n",
    "\n",
    "    def betAgainst(self, amount):\n",
    "        self.contract.betAgainst().with_amount(414_000).as_transaction().autofill().sign().inject(_async=False)\n"
   ]
  },
  {
   "cell_type": "markdown",
   "id": "choice-murder",
   "metadata": {},
   "source": [
    "### TODO:\n",
    "+ сделать 5 ключей с помощью кранов\n",
    "- сделать небольшой интерфейс для взаимодействия со смарт контрактом\n",
    "    + выпуск нового смарт контракта на основе имеющегося\n",
    "    - различные взамодействия с контрактом\n",
    "    - написать пару тестов\n",
    "- сделать красивую презентацию, с маркдауном, с графикой (распределение ставок например сделать в графиках)"
   ]
  },
  {
   "cell_type": "code",
   "execution_count": 9,
   "id": "neural-formula",
   "metadata": {
    "tags": []
   },
   "outputs": [],
   "source": [
    "# cm.contract.betAgainst().with_amount(414_000).as_transaction().autofill().sign().inject(_async=False)"
   ]
  },
  {
   "cell_type": "code",
   "execution_count": 14,
   "id": "fitted-password",
   "metadata": {
    "collapsed": true,
    "jupyter": {
     "outputs_hidden": true
    },
    "tags": []
   },
   "outputs": [
    {
     "name": "stdout",
     "output_type": "stream",
     "text": [
      "Wait 21 seconds until block BLofnqfrxHDrvmr49N8d5e3Q9GbkEL5ZJzMFMhjGXd8QGvGZyA6 is finalized\n"
     ]
    },
    {
     "name": "stderr",
     "output_type": "stream",
     "text": [
      "2021-02-28 13:49:02.075 | DEBUG    | pytezos.rpc.search:find_operation:206 - checking level 485178...\n"
     ]
    },
    {
     "data": {
      "text/plain": [
       "{'protocol': 'PsDELPH1Kxsxt8f9eWbxQeRxkjfbxoqM52jvs5Y5fBxWWh4ifpo',\n",
       " 'chain_id': 'NetXm8tYqnMWky1',\n",
       " 'hash': 'ooBfEE5M2r7wgeMGz8gXzwfCRXTZA8dr3ZTiav4HeJA7SAiDjLX',\n",
       " 'branch': 'BM8w5z4XwNNezXcwzwo1hssRh4RdFcMidphZuD2yQh3tf8LHcjm',\n",
       " 'contents': [{'kind': 'transaction',\n",
       "   'source': 'tz1TdKuFwYgbPHHb7y1VvLH4xiwtAzcjwDjM',\n",
       "   'fee': '1748',\n",
       "   'counter': '1360210',\n",
       "   'gas_limit': '14778',\n",
       "   'storage_limit': '71',\n",
       "   'amount': '414000',\n",
       "   'destination': 'KT18zjuSxBLdQqopnjoSeZWqqXkbEk9SnyDb',\n",
       "   'parameters': {'entrypoint': 'betFor', 'value': {'prim': 'Unit'}},\n",
       "   'metadata': {'balance_updates': [{'kind': 'contract',\n",
       "      'contract': 'tz1TdKuFwYgbPHHb7y1VvLH4xiwtAzcjwDjM',\n",
       "      'change': '-1748'},\n",
       "     {'kind': 'freezer',\n",
       "      'category': 'fees',\n",
       "      'delegate': 'tz1aWXP237BLwNHJcCD4b3DutCevhqq2T1Z9',\n",
       "      'cycle': 236,\n",
       "      'change': '1748'}],\n",
       "    'operation_result': {'status': 'applied',\n",
       "     'storage': {'prim': 'Pair',\n",
       "      'args': [{'prim': 'Pair',\n",
       "        'args': [{'prim': 'Pair',\n",
       "          'args': [{'prim': 'Pair',\n",
       "            'args': [{'int': '79426'}, {'int': '828000'}]},\n",
       "           {'prim': 'Pair', 'args': [{'int': '79427'}, {'int': '414000'}]}]},\n",
       "         {'prim': 'Pair',\n",
       "          'args': [{'prim': 'Pair', 'args': [{'int': '0'}, {'int': '0'}]},\n",
       "           {'prim': 'Pair',\n",
       "            'args': [{'string': 'XTZ-USD'}, {'prim': 'False'}]}]}]},\n",
       "       {'prim': 'Pair',\n",
       "        'args': [{'prim': 'Pair',\n",
       "          'args': [{'prim': 'False'},\n",
       "           {'bytes': '01170c6ee3b0510c0d00fb20d3cf511ca48aa8689400'}]},\n",
       "         {'prim': 'Pair', 'args': [{'int': '0'}, {'int': '0'}]}]}]},\n",
       "     'big_map_diff': [{'action': 'update',\n",
       "       'big_map': '79427',\n",
       "       'key_hash': 'exprtrSdc1GGvWynNKEfLtrei9sT43j5iFJ4zkUFPGpKnbwuLhH9ed',\n",
       "       'key': {'bytes': '0000579ef4b641789cc26294b706af7ffd19a2a5fd45'},\n",
       "       'value': {'int': '414000'}}],\n",
       "     'balance_updates': [{'kind': 'contract',\n",
       "       'contract': 'tz1TdKuFwYgbPHHb7y1VvLH4xiwtAzcjwDjM',\n",
       "       'change': '-17750'},\n",
       "      {'kind': 'contract',\n",
       "       'contract': 'tz1TdKuFwYgbPHHb7y1VvLH4xiwtAzcjwDjM',\n",
       "       'change': '-414000'},\n",
       "      {'kind': 'contract',\n",
       "       'contract': 'KT18zjuSxBLdQqopnjoSeZWqqXkbEk9SnyDb',\n",
       "       'change': '414000'}],\n",
       "     'consumed_gas': '14578',\n",
       "     'consumed_milligas': '14577281',\n",
       "     'storage_size': '2734',\n",
       "     'paid_storage_size_diff': '71'}}}],\n",
       " 'signature': 'sigoYb1aeCpXyhHzoAuZYSb6ZYtsFvfJxXQBxRAefRyr2PvDSbmttb69ywDe3ktyY9xQC5oAApnP857fYFvDK1y3hRECKyWv'}"
      ]
     },
     "execution_count": 14,
     "metadata": {},
     "output_type": "execute_result"
    }
   ],
   "source": [
    "cm.contract.betFor().with_amount(414_000).as_transaction().autofill().sign().inject(_async=False)"
   ]
  },
  {
   "cell_type": "code",
   "execution_count": 42,
   "id": "classified-pillow",
   "metadata": {},
   "outputs": [
    {
     "data": {
      "text/plain": [
       "{'betsAgainstLedger': 14517,\n",
       " 'betsAgainstSum': 0,\n",
       " 'betsForLedger': 14518,\n",
       " 'betsForSum': 0,\n",
       " 'closedRate': 0,\n",
       " 'closedTime': 0,\n",
       " 'currencyPair': 'XTZ-USD',\n",
       " 'isBetsForWin': False,\n",
       " 'isClosed': False,\n",
       " 'oracleAddress': 'KT1RCNpUEDjZAYhabjzgz1ZfxQijCDVMEaTZ',\n",
       " 'targetRate': 4,\n",
       " 'targetTime': 1}"
      ]
     },
     "execution_count": 42,
     "metadata": {},
     "output_type": "execute_result"
    }
   ],
   "source": [
    "ncm.contract.storage()"
   ]
  },
  {
   "cell_type": "code",
   "execution_count": 43,
   "id": "modern-absence",
   "metadata": {},
   "outputs": [
    {
     "name": "stdout",
     "output_type": "stream",
     "text": [
      "Wait 26 seconds until block BMA82kb8mbn4c9FVa8X868FPkT4kmhPafuFmtcoTUCLNvQymuVS is finalized\n"
     ]
    },
    {
     "name": "stderr",
     "output_type": "stream",
     "text": [
      "2021-02-28 14:04:11.569 | DEBUG    | pytezos.rpc.search:find_operation:206 - checking level 46364...\n"
     ]
    },
    {
     "data": {
      "text/plain": [
       "{'protocol': 'PtEdo2ZkT9oKpimTah6x2embF25oss54njMuPzkJTEi5RqfdZFA',\n",
       " 'chain_id': 'NetXSgo1ZT2DRUG',\n",
       " 'hash': 'onkCrjtJNJEQchQgiQgN1d7d4Mgpxgo7m9kahKNAq5isiEWLkvd',\n",
       " 'branch': 'BLaLPBYCai9bgvho8wJ3MAkh4JW89VEDYQwdd1UzcBUiSMFguG9',\n",
       " 'contents': [{'kind': 'transaction',\n",
       "   'source': 'tz1TdKuFwYgbPHHb7y1VvLH4xiwtAzcjwDjM',\n",
       "   'fee': '9696',\n",
       "   'counter': '93023',\n",
       "   'gas_limit': '94282',\n",
       "   'storage_limit': '7',\n",
       "   'amount': '0',\n",
       "   'destination': 'KT1AStyuCd5SCns6BtASqBcbs3LAudDJHfmF',\n",
       "   'parameters': {'entrypoint': 'close', 'value': {'prim': 'Unit'}},\n",
       "   'metadata': {'balance_updates': [{'kind': 'contract',\n",
       "      'contract': 'tz1TdKuFwYgbPHHb7y1VvLH4xiwtAzcjwDjM',\n",
       "      'change': '-9696'},\n",
       "     {'kind': 'freezer',\n",
       "      'category': 'fees',\n",
       "      'delegate': 'tz1aWXP237BLwNHJcCD4b3DutCevhqq2T1Z9',\n",
       "      'cycle': 22,\n",
       "      'change': '9696'}],\n",
       "    'operation_result': {'status': 'applied',\n",
       "     'storage': [[{'prim': 'Pair',\n",
       "        'args': [{'prim': 'Pair', 'args': [{'int': '14517'}, {'int': '0'}]},\n",
       "         {'prim': 'Pair', 'args': [{'int': '14518'}, {'int': '0'}]}]},\n",
       "       {'prim': 'Pair', 'args': [{'int': '0'}, {'int': '0'}]},\n",
       "       {'string': 'XTZ-USD'},\n",
       "       {'prim': 'False'}],\n",
       "      {'prim': 'Pair',\n",
       "       'args': [{'prim': 'False'},\n",
       "        {'bytes': '01b63dffd6afe4fed6327f73a95f81579acd4045bc00'}]},\n",
       "      {'int': '4'},\n",
       "      {'int': '1'}],\n",
       "     'big_map_diff': [],\n",
       "     'consumed_gas': '38257',\n",
       "     'consumed_milligas': '38256332',\n",
       "     'storage_size': '2521',\n",
       "     'lazy_storage_diff': [{'kind': 'big_map',\n",
       "       'id': '14518',\n",
       "       'diff': {'action': 'update', 'updates': []}},\n",
       "      {'kind': 'big_map',\n",
       "       'id': '14517',\n",
       "       'diff': {'action': 'update', 'updates': []}}]},\n",
       "    'internal_operation_results': [{'kind': 'transaction',\n",
       "      'source': 'KT1AStyuCd5SCns6BtASqBcbs3LAudDJHfmF',\n",
       "      'nonce': 0,\n",
       "      'amount': '0',\n",
       "      'destination': 'KT1RCNpUEDjZAYhabjzgz1ZfxQijCDVMEaTZ',\n",
       "      'parameters': {'entrypoint': 'get',\n",
       "       'value': {'prim': 'Pair',\n",
       "        'args': [{'string': 'XTZ-USD'},\n",
       "         {'bytes': '0114731d52d2e7471cdd3d29a0013db7def812d57a00636c6f736543616c6c6261636b'}]}},\n",
       "      'result': {'status': 'applied',\n",
       "       'storage': {'prim': 'Pair',\n",
       "        'args': [{'prim': 'Pair',\n",
       "          'args': [[{'string': 'BAT-USDC'},\n",
       "            {'string': 'BTC-USD'},\n",
       "            {'string': 'COMP-USD'},\n",
       "            {'string': 'DAI-USDC'},\n",
       "            {'string': 'ETH-USD'},\n",
       "            {'string': 'KNC-USD'},\n",
       "            {'string': 'LINK-USD'},\n",
       "            {'string': 'REP-USD'},\n",
       "            {'string': 'XTZ-USD'},\n",
       "            {'string': 'ZRX-USD'}],\n",
       "           {'int': '1542'}]},\n",
       "         {'prim': 'Pair',\n",
       "          'args': [{'int': '3'},\n",
       "           {'bytes': '0130b1cde323e1fd20039cc30da51e1f41f7f6abd300'}]}]},\n",
       "       'big_map_diff': [],\n",
       "       'consumed_gas': '41358',\n",
       "       'consumed_milligas': '41357860',\n",
       "       'storage_size': '6347',\n",
       "       'lazy_storage_diff': [{'kind': 'big_map',\n",
       "         'id': '1542',\n",
       "         'diff': {'action': 'update', 'updates': []}}]}},\n",
       "     {'kind': 'transaction',\n",
       "      'source': 'KT1RCNpUEDjZAYhabjzgz1ZfxQijCDVMEaTZ',\n",
       "      'nonce': 1,\n",
       "      'amount': '0',\n",
       "      'destination': 'KT1AStyuCd5SCns6BtASqBcbs3LAudDJHfmF',\n",
       "      'parameters': {'entrypoint': 'closeCallback',\n",
       "       'value': {'prim': 'Pair',\n",
       "        'args': [{'string': 'XTZ-USD'},\n",
       "         {'prim': 'Pair',\n",
       "          'args': [{'int': '1614480900'}, {'int': '3482695'}]}]}},\n",
       "      'result': {'status': 'applied',\n",
       "       'storage': [[{'prim': 'Pair',\n",
       "          'args': [{'prim': 'Pair', 'args': [{'int': '14517'}, {'int': '0'}]},\n",
       "           {'prim': 'Pair', 'args': [{'int': '14518'}, {'int': '0'}]}]},\n",
       "         {'prim': 'Pair', 'args': [{'int': '3482695'}, {'int': '1614480900'}]},\n",
       "         {'string': 'XTZ-USD'},\n",
       "         {'prim': 'True'}],\n",
       "        {'prim': 'Pair',\n",
       "         'args': [{'prim': 'True'},\n",
       "          {'bytes': '01b63dffd6afe4fed6327f73a95f81579acd4045bc00'}]},\n",
       "        {'int': '4'},\n",
       "        {'int': '1'}],\n",
       "       'big_map_diff': [],\n",
       "       'balance_updates': [{'kind': 'contract',\n",
       "         'contract': 'tz1TdKuFwYgbPHHb7y1VvLH4xiwtAzcjwDjM',\n",
       "         'change': '-1750'}],\n",
       "       'consumed_gas': '14467',\n",
       "       'consumed_milligas': '14466226',\n",
       "       'storage_size': '2528',\n",
       "       'paid_storage_size_diff': '7',\n",
       "       'lazy_storage_diff': [{'kind': 'big_map',\n",
       "         'id': '14518',\n",
       "         'diff': {'action': 'update', 'updates': []}},\n",
       "        {'kind': 'big_map',\n",
       "         'id': '14517',\n",
       "         'diff': {'action': 'update', 'updates': []}}]}}]}}],\n",
       " 'signature': 'sigapx9DSoMEyh11cBW26LWRaJ1PNKqJ1R6a999fncPAa5q1UnSna8Lr8P9wvhgqMZ9V6NnspKMirz8CF9ZimM3ZJiyrebnC'}"
      ]
     },
     "execution_count": 43,
     "metadata": {},
     "output_type": "execute_result"
    }
   ],
   "source": [
    "ncm.contract.close().as_transaction().autofill().sign().inject(_async=False)"
   ]
  },
  {
   "cell_type": "code",
   "execution_count": null,
   "id": "twelve-channels",
   "metadata": {},
   "outputs": [],
   "source": [
    "crystal_ball.withdraw().as_transaction().autofill().sign().inject(_async=False)"
   ]
  }
 ],
 "metadata": {
  "kernelspec": {
   "display_name": "Python 3",
   "language": "python",
   "name": "python3"
  },
  "language_info": {
   "codemirror_mode": {
    "name": "ipython",
    "version": 3
   },
   "file_extension": ".py",
   "mimetype": "text/x-python",
   "name": "python",
   "nbconvert_exporter": "python",
   "pygments_lexer": "ipython3",
   "version": "3.9.1"
  }
 },
 "nbformat": 4,
 "nbformat_minor": 5
}
