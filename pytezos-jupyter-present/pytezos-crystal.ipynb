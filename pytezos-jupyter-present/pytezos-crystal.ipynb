{
 "cells": [
  {
   "cell_type": "code",
   "execution_count": 1,
   "id": "baking-castle",
   "metadata": {},
   "outputs": [],
   "source": [
    "from pytezos import pytezos"
   ]
  },
  {
   "cell_type": "code",
   "execution_count": 2,
   "id": "driving-parking",
   "metadata": {},
   "outputs": [],
   "source": [
    "# TODO: move this to settings.py\n",
    "settings = dict(\n",
    "    SHELL_URL = 'https://edonet-tezos.giganode.io/',\n",
    "    # SHELL_URL = 'https://edonet.smartpy.io',\n",
    "    CONTRACT_ADDRESS = 'KT1HbiznMedpC5BcQnUCUd5zCaXcemsU25Sk',\n",
    "    KEYS_DIRECTORY = 'test-keys',\n",
    "\n",
    "    # default storage used to deploy new contract:\n",
    "    DEFAULT_INITIAL_CONTRACT_STORAGE = {\n",
    "        'betsAgainstLedger': 0,\n",
    "        'betsAgainstSum': 0,\n",
    "        'betsForLedger': 0,\n",
    "        'betsForSum': 0,\n",
    "        'closedRate': 0,\n",
    "        'closedTime': 0,\n",
    "        'currencyPair': 'XTZ-USD',\n",
    "        'isBetsForWin': False,\n",
    "        'isClosed': False,\n",
    "        'oracleAddress': 'KT1RCNpUEDjZAYhabjzgz1ZfxQijCDVMEaTZ',\n",
    "        'targetRate': 0,\n",
    "        'targetTime': 0\n",
    "    },\n",
    "\n",
    "    IS_ASYNC_ENABLED = False,\n",
    ")"
   ]
  },
  {
   "cell_type": "code",
   "execution_count": 11,
   "id": "creative-knife",
   "metadata": {},
   "outputs": [],
   "source": [
    "from os.path import join\n",
    "from os import listdir\n",
    "from pytezos import pytezos\n",
    "from pprint import pprint\n",
    "\n",
    "\n",
    "def load_key_filenames(directory):\n",
    "\n",
    "    def make_key_name(fn):\n",
    "        return fn.split('.')[0]\n",
    "\n",
    "    filenames =  {\n",
    "        make_key_name(fn): join(directory, fn)\n",
    "        for fn in listdir(directory) if fn.lower().endswith('.json')\n",
    "    }\n",
    "\n",
    "    if not filenames:\n",
    "        raise Exception(\n",
    "            'Please add test keys into pytezos-jupyter-present/test-keys directory '\n",
    "            + '(you can use https://faucet.tzalpha.net/')\n",
    "\n",
    "    return filenames\n",
    "\n",
    "\n",
    "class CrystalOperator:\n",
    "    \"\"\" Operates with deployed on tezos blockchain smart contract\n",
    "        using multiple pytezos instances with different keys\n",
    "    \"\"\"\n",
    "\n",
    "    pass\n",
    "\n",
    "# crystal = CrystalOperator(settings)"
   ]
  },
  {
   "cell_type": "code",
   "execution_count": 18,
   "id": "understood-gather",
   "metadata": {},
   "outputs": [
    {
     "name": "stdout",
     "output_type": "stream",
     "text": [
      "Successfully loaded 5 pytezos keys:\n",
      "- tz1RS9GoEXakf9iyBmSaheLMcakFRtzBXpWE\n",
      "- tz1TdKuFwYgbPHHb7y1VvLH4xiwtAzcjwDjM\n",
      "- tz1MdaJfWzP5pPx3gwPxfdLZTHW6js9havos\n",
      "- tz1iQE8ijR5xVPffBUPFubwB9XQJuyD9qsoJ\n",
      "- tz1ZAzDvkZCT2LAyPN8Kdxw3kes7xfWerZhZ\n"
     ]
    }
   ],
   "source": [
    "from pytezos.operation.result import OperationResult\n",
    "\n",
    "\n",
    "class KeysManager:\n",
    "    def __init__(self, settings):\n",
    "\n",
    "        self.settings = settings\n",
    "        self.key_filenames = load_key_filenames(settings['KEYS_DIRECTORY'])\n",
    "        self.shell_url = settings['SHELL_URL']\n",
    "        self.is_async_enabled = settings['IS_ASYNC_ENABLED']\n",
    "\n",
    "        self.pytezos_instances = {\n",
    "            key_name: pytezos.using(key=key_filename, shell=self.shell_url)\n",
    "            for key_name, key_filename in self.key_filenames.items()\n",
    "        }\n",
    "\n",
    "        assert len(self.pytezos_instances)\n",
    "        print(f'Successfully loaded {len(self.pytezos_instances)} pytezos keys:')\n",
    "        [print(f'- {key_name}') for key_name in self.pytezos_instances]\n",
    "\n",
    "\n",
    "    def activate_keys(self):\n",
    "        \"\"\" Runs activate_account for each loaded key \"\"\"\n",
    "\n",
    "        for pt in self.pytezos_instances:\n",
    "            try:\n",
    "                pt.activate_account().autofill().sign().inject(_async=self.is_async_enabled)\n",
    "                pt.reveal().autofill().sign().inject(_async=self.is_async_enabled)\n",
    "            except Exception as e:\n",
    "                print(f'Error: {type(e)}, \"{e}\"')\n",
    "\n",
    "\n",
    "class ContractManager:\n",
    "\n",
    "    def __init__(self, pytezos, settings):\n",
    "        self.settings = settings\n",
    "        self.contract_address = settings['CONTRACT_ADDRESS']\n",
    "        self.is_async_enabled = settings['IS_ASYNC_ENABLED']\n",
    "        self.pytezos = pytezos\n",
    "        self.origin_contract = self.pytezos.contract(self.contract_address)\n",
    "\n",
    "\n",
    "    def create_new_storage(self, **kwargs):\n",
    "        \"\"\" Creates new storage for Fortune Crystal Ball smart contract with\n",
    "            custom storage params in kwargs\n",
    "        \"\"\"\n",
    "\n",
    "        storage = self.settings['DEFAULT_INITIAL_CONTRACT_STORAGE'].copy()\n",
    "        storage.update(kwargs)\n",
    "        return storage\n",
    "\n",
    "\n",
    "    def find_originated_contract_address(self, new_contract_result):\n",
    "        \"\"\" Searches for new originated contract address in blockchain \"\"\"\n",
    "\n",
    "        op_hash, branch = new_contract['hash'], new_contract['branch']\n",
    "        blocks = cm.pytezos.shell.blocks[branch:]\n",
    "        opg = blocks.find_operation(op_hash)\n",
    "        res = OperationResult.from_operation_group(opg)\n",
    "        originated_contract_address = res[0].originated_contracts[0]\n",
    "        return originated_contract_address\n",
    "\n",
    "\n",
    "    def deploy_new_contract(self, **kwargs):\n",
    "        \"\"\" Deploys new contract with params transfered in kwargs \"\"\"\n",
    "\n",
    "        new_storage = self.create_new_storage(**kwargs)\n",
    "        print(f'Deploying new contract with storage:')\n",
    "        pprint(new_storage)\n",
    "\n",
    "        new_contract = self.pytezos.origination(\n",
    "            script=self.origin_contract.script(initial_storage=new_storage))\n",
    "        new_contract = new_contract.autofill().sign().inject(_async=self.is_async_enabled)\n",
    "\n",
    "        originated_contract_address = self.find_originated_contract_address(new_contract)\n",
    "        print(f'Contract successfully originated at address: {originated_contract_address}')\n",
    "\n",
    "        # return new contract manager with replaced contract address:\n",
    "        new_settings = self.settings.copy()\n",
    "        new_settings.update(CONTRACT_ADDRESS=originated_contract_address)\n",
    "\n",
    "        return ContractManager(self.pytezos, new_settings)\n",
    "\n",
    "\n",
    "class CrystalContractManager(ContractManager):\n",
    "    def bet(self):\n",
    "        pass\n",
    "\n",
    "keys = KeysManager(settings)\n",
    "\n",
    "# If your keys is not activated, you can activate it by running:\n",
    "# keys.activate_keys()\n",
    "\n",
    "cm = ContractManager(keys.pytezos_instances['tz1RS9GoEXakf9iyBmSaheLMcakFRtzBXpWE'], settings)"
   ]
  },
  {
   "cell_type": "code",
   "execution_count": null,
   "id": "excess-scenario",
   "metadata": {},
   "outputs": [],
   "source": [
    "cm"
   ]
  },
  {
   "cell_type": "code",
   "execution_count": 20,
   "id": "closed-consultation",
   "metadata": {
    "collapsed": true,
    "jupyter": {
     "outputs_hidden": true
    },
    "tags": []
   },
   "outputs": [
    {
     "name": "stdout",
     "output_type": "stream",
     "text": [
      "Deploying new contract with storage:\n",
      "{'betsAgainstLedger': 0,\n",
      " 'betsAgainstSum': 0,\n",
      " 'betsForLedger': 0,\n",
      " 'betsForSum': 0,\n",
      " 'closedRate': 0,\n",
      " 'closedTime': 0,\n",
      " 'currencyPair': 'XTZ-USD',\n",
      " 'isBetsForWin': False,\n",
      " 'isClosed': False,\n",
      " 'oracleAddress': 'KT1RCNpUEDjZAYhabjzgz1ZfxQijCDVMEaTZ',\n",
      " 'targetRate': 4,\n",
      " 'targetTime': 1}\n",
      "Wait 10 seconds until block BMKJbPeTATMmTPCsvfjLeNXHS426Wb8wawsjNTCvzpR65A1K5NS is finalized\n"
     ]
    },
    {
     "name": "stderr",
     "output_type": "stream",
     "text": [
      "2021-02-28 13:06:11.603 | DEBUG    | pytezos.rpc.search:find_operation:206 - checking level 46250...\n"
     ]
    }
   ],
   "source": [
    "new_contract = cm.deploy_new_contract(targetRate=4, targetTime=1)"
   ]
  },
  {
   "cell_type": "code",
   "execution_count": 38,
   "id": "short-judgment",
   "metadata": {},
   "outputs": [],
   "source": [
    "contract = cm.pytezos.contract('KT1V1x3nwbFU2WatcV6hBmCmCMdDB6E7BwLE')"
   ]
  },
  {
   "cell_type": "code",
   "execution_count": null,
   "id": "behind-participant",
   "metadata": {},
   "outputs": [],
   "source": [
    "contract.close()"
   ]
  },
  {
   "cell_type": "code",
   "execution_count": 39,
   "id": "surface-computer",
   "metadata": {
    "collapsed": true,
    "jupyter": {
     "outputs_hidden": true
    },
    "tags": []
   },
   "outputs": [
    {
     "name": "stdout",
     "output_type": "stream",
     "text": [
      "Wait 30 seconds until block BMMB9AmSaw52voNLp4sog5GySmpqH688Cw79pKgFLuJVRaCrgXZ is finalized\n"
     ]
    },
    {
     "name": "stderr",
     "output_type": "stream",
     "text": [
      "2021-02-28 13:20:56.694 | DEBUG    | pytezos.rpc.search:find_operation:206 - checking level 46278...\n"
     ]
    },
    {
     "data": {
      "text/plain": [
       "{'protocol': 'PtEdo2ZkT9oKpimTah6x2embF25oss54njMuPzkJTEi5RqfdZFA',\n",
       " 'chain_id': 'NetXSgo1ZT2DRUG',\n",
       " 'hash': 'opUAyvDPuzf7RYg8CXeqhtTZnnCNoJqfxhoMZgFSFHno1RRRDiU',\n",
       " 'branch': 'BLGq1Fff4bDVHyCs6XuZe8e9s74y2sogP1WkJfrzgHw2KeqEHqW',\n",
       " 'contents': [{'kind': 'transaction',\n",
       "   'source': 'tz1RS9GoEXakf9iyBmSaheLMcakFRtzBXpWE',\n",
       "   'fee': '1767',\n",
       "   'counter': '93018',\n",
       "   'gas_limit': '14925',\n",
       "   'storage_limit': '71',\n",
       "   'amount': '414000',\n",
       "   'destination': 'KT1V1x3nwbFU2WatcV6hBmCmCMdDB6E7BwLE',\n",
       "   'parameters': {'entrypoint': 'betAgainst', 'value': {'prim': 'Unit'}},\n",
       "   'metadata': {'balance_updates': [{'kind': 'contract',\n",
       "      'contract': 'tz1RS9GoEXakf9iyBmSaheLMcakFRtzBXpWE',\n",
       "      'change': '-1767'},\n",
       "     {'kind': 'freezer',\n",
       "      'category': 'fees',\n",
       "      'delegate': 'tz1R55a2HQbXUAzWKJYE5bJp3UvvawwCm9Pr',\n",
       "      'cycle': 22,\n",
       "      'change': '1767'}],\n",
       "    'operation_result': {'status': 'applied',\n",
       "     'storage': [[{'prim': 'Pair',\n",
       "        'args': [{'prim': 'Pair',\n",
       "          'args': [{'int': '14503'}, {'int': '414000'}]},\n",
       "         {'prim': 'Pair', 'args': [{'int': '14504'}, {'int': '0'}]}]},\n",
       "       {'prim': 'Pair', 'args': [{'int': '0'}, {'int': '0'}]},\n",
       "       {'string': 'XTZ-USD'},\n",
       "       {'prim': 'False'}],\n",
       "      {'prim': 'Pair',\n",
       "       'args': [{'prim': 'False'},\n",
       "        {'bytes': '01b63dffd6afe4fed6327f73a95f81579acd4045bc00'}]},\n",
       "      {'int': '4'},\n",
       "      {'int': '1'}],\n",
       "     'big_map_diff': [{'action': 'update',\n",
       "       'big_map': '14503',\n",
       "       'key_hash': 'expru9bS8GLgR9eUakS643kwLHvWmRQGaRux83fY4f6pA3niNJXL2C',\n",
       "       'key': {'bytes': '00003f9141a526d54f3aa9573a3c8642b94198078c87'},\n",
       "       'value': {'int': '414000'}}],\n",
       "     'balance_updates': [{'kind': 'contract',\n",
       "       'contract': 'tz1RS9GoEXakf9iyBmSaheLMcakFRtzBXpWE',\n",
       "       'change': '-17750'},\n",
       "      {'kind': 'contract',\n",
       "       'contract': 'tz1RS9GoEXakf9iyBmSaheLMcakFRtzBXpWE',\n",
       "       'change': '-414000'},\n",
       "      {'kind': 'contract',\n",
       "       'contract': 'KT1V1x3nwbFU2WatcV6hBmCmCMdDB6E7BwLE',\n",
       "       'change': '414000'}],\n",
       "     'consumed_gas': '14725',\n",
       "     'consumed_milligas': '14724385',\n",
       "     'storage_size': '2592',\n",
       "     'paid_storage_size_diff': '71',\n",
       "     'lazy_storage_diff': [{'kind': 'big_map',\n",
       "       'id': '14504',\n",
       "       'diff': {'action': 'update', 'updates': []}},\n",
       "      {'kind': 'big_map',\n",
       "       'id': '14503',\n",
       "       'diff': {'action': 'update',\n",
       "        'updates': [{'key_hash': 'expru9bS8GLgR9eUakS643kwLHvWmRQGaRux83fY4f6pA3niNJXL2C',\n",
       "          'key': {'bytes': '00003f9141a526d54f3aa9573a3c8642b94198078c87'},\n",
       "          'value': {'int': '414000'}}]}}]}}}],\n",
       " 'signature': 'sigTQVNiezFxa5WPkp6ctRKSfYJQXAmbh8FoYA9tcc1SXjmWCn57AtVHeskzFRGcHnR97qJcHiYy9N2eZkmUCnAKx3p1dRQB'}"
      ]
     },
     "execution_count": 39,
     "metadata": {},
     "output_type": "execute_result"
    }
   ],
   "source": [
    "contract.betAgainst().with_amount(414_000).as_transaction().autofill().sign().inject(_async=False)"
   ]
  },
  {
   "cell_type": "markdown",
   "id": "finished-sydney",
   "metadata": {},
   "source": [
    "### TODO:\n",
    "+ сделать 5 ключей с помощью кранов\n",
    "- сделать небольшой интерфейс для взаимодействия со смарт контрактом\n",
    "    + выпуск нового смарт контракта на основе имеющегося\n",
    "    - различные взамодействия с контрактом\n",
    "    - написать пару тестов\n",
    "- сделать красивую презентацию, с маркдауном, с графикой (распределение ставок например сделать в графиках)"
   ]
  },
  {
   "cell_type": "code",
   "execution_count": 40,
   "id": "angry-buying",
   "metadata": {
    "tags": []
   },
   "outputs": [
    {
     "ename": "MichelsonError",
     "evalue": "({'id': 'proto.008-PtEdo2Zk.michelson_v1.script_rejected',\n  'kind': 'temporary',\n  'location': 123,\n  'with': {'string': 'Account already made betAgainst'}},)",
     "output_type": "error",
     "traceback": [
      "\u001b[0;31m---------------------------------------------------------------------------\u001b[0m",
      "\u001b[0;31mMichelsonError\u001b[0m                            Traceback (most recent call last)",
      "\u001b[0;32m<ipython-input-40-5ebbbc3ac2a5>\u001b[0m in \u001b[0;36m<module>\u001b[0;34m\u001b[0m\n\u001b[0;32m----> 1\u001b[0;31m \u001b[0mcontract\u001b[0m\u001b[0;34m.\u001b[0m\u001b[0mbetAgainst\u001b[0m\u001b[0;34m(\u001b[0m\u001b[0;34m)\u001b[0m\u001b[0;34m.\u001b[0m\u001b[0mwith_amount\u001b[0m\u001b[0;34m(\u001b[0m\u001b[0;36m414_000\u001b[0m\u001b[0;34m)\u001b[0m\u001b[0;34m.\u001b[0m\u001b[0mas_transaction\u001b[0m\u001b[0;34m(\u001b[0m\u001b[0;34m)\u001b[0m\u001b[0;34m.\u001b[0m\u001b[0mautofill\u001b[0m\u001b[0;34m(\u001b[0m\u001b[0;34m)\u001b[0m\u001b[0;34m.\u001b[0m\u001b[0msign\u001b[0m\u001b[0;34m(\u001b[0m\u001b[0;34m)\u001b[0m\u001b[0;34m.\u001b[0m\u001b[0minject\u001b[0m\u001b[0;34m(\u001b[0m\u001b[0m_async\u001b[0m\u001b[0;34m=\u001b[0m\u001b[0;32mFalse\u001b[0m\u001b[0;34m)\u001b[0m\u001b[0;34m\u001b[0m\u001b[0;34m\u001b[0m\u001b[0m\n\u001b[0m",
      "\u001b[0;32m~/Documents/DeFiProjects/FortuneCrystalBall/pytezos-env/lib/python3.9/site-packages/pytezos/jupyter.py\u001b[0m in \u001b[0;36m__call__\u001b[0;34m(self, *args, **kwargs)\u001b[0m\n\u001b[1;32m     62\u001b[0m \u001b[0;34m\u001b[0m\u001b[0m\n\u001b[1;32m     63\u001b[0m                 \u001b[0;32mdef\u001b[0m \u001b[0m__call__\u001b[0m\u001b[0;34m(\u001b[0m\u001b[0mself\u001b[0m\u001b[0;34m,\u001b[0m \u001b[0;34m*\u001b[0m\u001b[0margs\u001b[0m\u001b[0;34m,\u001b[0m \u001b[0;34m**\u001b[0m\u001b[0mkwargs\u001b[0m\u001b[0;34m)\u001b[0m\u001b[0;34m:\u001b[0m\u001b[0;34m\u001b[0m\u001b[0;34m\u001b[0m\u001b[0m\n\u001b[0;32m---> 64\u001b[0;31m                     \u001b[0;32mreturn\u001b[0m \u001b[0mmethod\u001b[0m\u001b[0;34m(\u001b[0m\u001b[0mself\u001b[0m\u001b[0;34m.\u001b[0m\u001b[0mclass_instance\u001b[0m\u001b[0;34m,\u001b[0m \u001b[0;34m*\u001b[0m\u001b[0margs\u001b[0m\u001b[0;34m,\u001b[0m \u001b[0;34m**\u001b[0m\u001b[0mkwargs\u001b[0m\u001b[0;34m)\u001b[0m\u001b[0;34m\u001b[0m\u001b[0;34m\u001b[0m\u001b[0m\n\u001b[0m\u001b[1;32m     65\u001b[0m \u001b[0;34m\u001b[0m\u001b[0m\n\u001b[1;32m     66\u001b[0m                 \u001b[0;32mdef\u001b[0m \u001b[0m__repr__\u001b[0m\u001b[0;34m(\u001b[0m\u001b[0mself\u001b[0m\u001b[0;34m)\u001b[0m\u001b[0;34m:\u001b[0m\u001b[0;34m\u001b[0m\u001b[0;34m\u001b[0m\u001b[0m\n",
      "\u001b[0;32m~/Documents/DeFiProjects/FortuneCrystalBall/pytezos-env/lib/python3.9/site-packages/pytezos/operation/group.py\u001b[0m in \u001b[0;36mautofill\u001b[0;34m(self, gas_reserve, counter, branch_offset)\u001b[0m\n\u001b[1;32m    178\u001b[0m         \u001b[0mopg_with_metadata\u001b[0m \u001b[0;34m=\u001b[0m \u001b[0mopg\u001b[0m\u001b[0;34m.\u001b[0m\u001b[0mrun\u001b[0m\u001b[0;34m(\u001b[0m\u001b[0;34m)\u001b[0m\u001b[0;34m\u001b[0m\u001b[0;34m\u001b[0m\u001b[0m\n\u001b[1;32m    179\u001b[0m         \u001b[0;32mif\u001b[0m \u001b[0;32mnot\u001b[0m \u001b[0mOperationResult\u001b[0m\u001b[0;34m.\u001b[0m\u001b[0mis_applied\u001b[0m\u001b[0;34m(\u001b[0m\u001b[0mopg_with_metadata\u001b[0m\u001b[0;34m)\u001b[0m\u001b[0;34m:\u001b[0m\u001b[0;34m\u001b[0m\u001b[0;34m\u001b[0m\u001b[0m\n\u001b[0;32m--> 180\u001b[0;31m             \u001b[0;32mraise\u001b[0m \u001b[0mRpcError\u001b[0m\u001b[0;34m.\u001b[0m\u001b[0mfrom_errors\u001b[0m\u001b[0;34m(\u001b[0m\u001b[0mOperationResult\u001b[0m\u001b[0;34m.\u001b[0m\u001b[0merrors\u001b[0m\u001b[0;34m(\u001b[0m\u001b[0mopg_with_metadata\u001b[0m\u001b[0;34m)\u001b[0m\u001b[0;34m)\u001b[0m\u001b[0;34m\u001b[0m\u001b[0;34m\u001b[0m\u001b[0m\n\u001b[0m\u001b[1;32m    181\u001b[0m \u001b[0;34m\u001b[0m\u001b[0m\n\u001b[1;32m    182\u001b[0m         \u001b[0mextra_size\u001b[0m \u001b[0;34m=\u001b[0m \u001b[0;34m(\u001b[0m\u001b[0;36m32\u001b[0m \u001b[0;34m+\u001b[0m \u001b[0;36m64\u001b[0m\u001b[0;34m)\u001b[0m \u001b[0;34m//\u001b[0m \u001b[0mlen\u001b[0m\u001b[0;34m(\u001b[0m\u001b[0mopg\u001b[0m\u001b[0;34m.\u001b[0m\u001b[0mcontents\u001b[0m\u001b[0;34m)\u001b[0m \u001b[0;34m+\u001b[0m \u001b[0;36m1\u001b[0m  \u001b[0;31m# size of serialized branch and signature)\u001b[0m\u001b[0;34m\u001b[0m\u001b[0;34m\u001b[0m\u001b[0m\n",
      "\u001b[0;31mMichelsonError\u001b[0m: ({'id': 'proto.008-PtEdo2Zk.michelson_v1.script_rejected',\n  'kind': 'temporary',\n  'location': 123,\n  'with': {'string': 'Account already made betAgainst'}},)"
     ]
    }
   ],
   "source": [
    "contract.betAgainst().with_amount(414_000).as_transaction().autofill().sign().inject(_async=False)"
   ]
  },
  {
   "cell_type": "code",
   "execution_count": 41,
   "id": "danish-round",
   "metadata": {},
   "outputs": [
    {
     "name": "stdout",
     "output_type": "stream",
     "text": [
      "Wait 13 seconds until block BLrZusve2w715mzKzShFCpta2GT7JKfRMQ1eii7eicPa8uhX5Bv is finalized\n"
     ]
    },
    {
     "name": "stderr",
     "output_type": "stream",
     "text": [
      "2021-02-28 13:21:51.744 | DEBUG    | pytezos.rpc.search:find_operation:206 - checking level 46280...\n"
     ]
    },
    {
     "data": {
      "text/plain": [
       "{'protocol': 'PtEdo2ZkT9oKpimTah6x2embF25oss54njMuPzkJTEi5RqfdZFA',\n",
       " 'chain_id': 'NetXSgo1ZT2DRUG',\n",
       " 'hash': 'onznQyu8Z97xfzsD3TzGg8vKhnxZVVsSsvmRSLFZZ4WNjExmCaL',\n",
       " 'branch': 'BKumNwnPnAxErgwwamK4Moq6CfGVt4hqBGfpx3ePNx3pMqihQp6',\n",
       " 'contents': [{'kind': 'transaction',\n",
       "   'source': 'tz1RS9GoEXakf9iyBmSaheLMcakFRtzBXpWE',\n",
       "   'fee': '9696',\n",
       "   'counter': '93019',\n",
       "   'gas_limit': '94286',\n",
       "   'storage_limit': '7',\n",
       "   'amount': '0',\n",
       "   'destination': 'KT1V1x3nwbFU2WatcV6hBmCmCMdDB6E7BwLE',\n",
       "   'parameters': {'entrypoint': 'close', 'value': {'prim': 'Unit'}},\n",
       "   'metadata': {'balance_updates': [{'kind': 'contract',\n",
       "      'contract': 'tz1RS9GoEXakf9iyBmSaheLMcakFRtzBXpWE',\n",
       "      'change': '-9696'},\n",
       "     {'kind': 'freezer',\n",
       "      'category': 'fees',\n",
       "      'delegate': 'tz1VpvtSaSxKvykrqajFJTZqCXgoVJ5cKaM1',\n",
       "      'cycle': 22,\n",
       "      'change': '9696'}],\n",
       "    'operation_result': {'status': 'applied',\n",
       "     'storage': [[{'prim': 'Pair',\n",
       "        'args': [{'prim': 'Pair',\n",
       "          'args': [{'int': '14503'}, {'int': '414000'}]},\n",
       "         {'prim': 'Pair', 'args': [{'int': '14504'}, {'int': '0'}]}]},\n",
       "       {'prim': 'Pair', 'args': [{'int': '0'}, {'int': '0'}]},\n",
       "       {'string': 'XTZ-USD'},\n",
       "       {'prim': 'False'}],\n",
       "      {'prim': 'Pair',\n",
       "       'args': [{'prim': 'False'},\n",
       "        {'bytes': '01b63dffd6afe4fed6327f73a95f81579acd4045bc00'}]},\n",
       "      {'int': '4'},\n",
       "      {'int': '1'}],\n",
       "     'big_map_diff': [],\n",
       "     'consumed_gas': '38259',\n",
       "     'consumed_milligas': '38258344',\n",
       "     'storage_size': '2592',\n",
       "     'lazy_storage_diff': [{'kind': 'big_map',\n",
       "       'id': '14504',\n",
       "       'diff': {'action': 'update', 'updates': []}},\n",
       "      {'kind': 'big_map',\n",
       "       'id': '14503',\n",
       "       'diff': {'action': 'update', 'updates': []}}]},\n",
       "    'internal_operation_results': [{'kind': 'transaction',\n",
       "      'source': 'KT1V1x3nwbFU2WatcV6hBmCmCMdDB6E7BwLE',\n",
       "      'nonce': 0,\n",
       "      'amount': '0',\n",
       "      'destination': 'KT1RCNpUEDjZAYhabjzgz1ZfxQijCDVMEaTZ',\n",
       "      'parameters': {'entrypoint': 'get',\n",
       "       'value': {'prim': 'Pair',\n",
       "        'args': [{'string': 'XTZ-USD'},\n",
       "         {'bytes': '01e025aa6a27de61fa968fbc08d1450381bf846bc000636c6f736543616c6c6261636b'}]}},\n",
       "      'result': {'status': 'applied',\n",
       "       'storage': {'prim': 'Pair',\n",
       "        'args': [{'prim': 'Pair',\n",
       "          'args': [[{'string': 'BAT-USDC'},\n",
       "            {'string': 'BTC-USD'},\n",
       "            {'string': 'COMP-USD'},\n",
       "            {'string': 'DAI-USDC'},\n",
       "            {'string': 'ETH-USD'},\n",
       "            {'string': 'KNC-USD'},\n",
       "            {'string': 'LINK-USD'},\n",
       "            {'string': 'REP-USD'},\n",
       "            {'string': 'XTZ-USD'},\n",
       "            {'string': 'ZRX-USD'}],\n",
       "           {'int': '1542'}]},\n",
       "         {'prim': 'Pair',\n",
       "          'args': [{'int': '3'},\n",
       "           {'bytes': '0130b1cde323e1fd20039cc30da51e1f41f7f6abd300'}]}]},\n",
       "       'big_map_diff': [],\n",
       "       'consumed_gas': '41358',\n",
       "       'consumed_milligas': '41357860',\n",
       "       'storage_size': '6347',\n",
       "       'lazy_storage_diff': [{'kind': 'big_map',\n",
       "         'id': '1542',\n",
       "         'diff': {'action': 'update', 'updates': []}}]}},\n",
       "     {'kind': 'transaction',\n",
       "      'source': 'KT1RCNpUEDjZAYhabjzgz1ZfxQijCDVMEaTZ',\n",
       "      'nonce': 1,\n",
       "      'amount': '0',\n",
       "      'destination': 'KT1V1x3nwbFU2WatcV6hBmCmCMdDB6E7BwLE',\n",
       "      'parameters': {'entrypoint': 'closeCallback',\n",
       "       'value': {'prim': 'Pair',\n",
       "        'args': [{'string': 'XTZ-USD'},\n",
       "         {'prim': 'Pair',\n",
       "          'args': [{'int': '1614480900'}, {'int': '3482695'}]}]}},\n",
       "      'result': {'status': 'applied',\n",
       "       'storage': [[{'prim': 'Pair',\n",
       "          'args': [{'prim': 'Pair',\n",
       "            'args': [{'int': '14503'}, {'int': '414000'}]},\n",
       "           {'prim': 'Pair', 'args': [{'int': '14504'}, {'int': '0'}]}]},\n",
       "         {'prim': 'Pair', 'args': [{'int': '3482695'}, {'int': '1614480900'}]},\n",
       "         {'string': 'XTZ-USD'},\n",
       "         {'prim': 'True'}],\n",
       "        {'prim': 'Pair',\n",
       "         'args': [{'prim': 'True'},\n",
       "          {'bytes': '01b63dffd6afe4fed6327f73a95f81579acd4045bc00'}]},\n",
       "        {'int': '4'},\n",
       "        {'int': '1'}],\n",
       "       'big_map_diff': [],\n",
       "       'balance_updates': [{'kind': 'contract',\n",
       "         'contract': 'tz1RS9GoEXakf9iyBmSaheLMcakFRtzBXpWE',\n",
       "         'change': '-1750'}],\n",
       "       'consumed_gas': '14469',\n",
       "       'consumed_milligas': '14468238',\n",
       "       'storage_size': '2599',\n",
       "       'paid_storage_size_diff': '7',\n",
       "       'lazy_storage_diff': [{'kind': 'big_map',\n",
       "         'id': '14504',\n",
       "         'diff': {'action': 'update', 'updates': []}},\n",
       "        {'kind': 'big_map',\n",
       "         'id': '14503',\n",
       "         'diff': {'action': 'update', 'updates': []}}]}}]}}],\n",
       " 'signature': 'sigd1eTsE6MEkjeZxZN1svhBUZvSesnKn7QyZ4nBLpuY2AnqZPot6CS5HX4YHBs47Z848ZEsUhqBUWXomdRu6sbSfnNt4ieK'}"
      ]
     },
     "execution_count": 41,
     "metadata": {},
     "output_type": "execute_result"
    }
   ],
   "source": [
    "contract.close().as_transaction().autofill().sign().inject(_async=False)"
   ]
  },
  {
   "cell_type": "code",
   "execution_count": null,
   "id": "weighted-kennedy",
   "metadata": {},
   "outputs": [],
   "source": [
    "crystal_ball.withdraw().as_transaction().autofill().sign().inject(_async=False)"
   ]
  }
 ],
 "metadata": {
  "kernelspec": {
   "display_name": "Python 3",
   "language": "python",
   "name": "python3"
  },
  "language_info": {
   "codemirror_mode": {
    "name": "ipython",
    "version": 3
   },
   "file_extension": ".py",
   "mimetype": "text/x-python",
   "name": "python",
   "nbconvert_exporter": "python",
   "pygments_lexer": "ipython3",
   "version": "3.9.1"
  }
 },
 "nbformat": 4,
 "nbformat_minor": 5
}
