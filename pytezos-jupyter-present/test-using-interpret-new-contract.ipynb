{
 "cells": [
  {
   "cell_type": "code",
   "execution_count": 1,
   "id": "curious-former",
   "metadata": {},
   "outputs": [],
   "source": [
    "from pytezos import ContractInterface, pytezos, MichelsonRuntimeError\n",
    "from decimal import Decimal\n",
    "import time\n",
    "from settings import settings\n",
    "\n",
    "run_time = int(time.time())\n",
    "one_hour = 60*60"
   ]
  },
  {
   "cell_type": "code",
   "execution_count": 2,
   "id": "planned-tongue",
   "metadata": {},
   "outputs": [],
   "source": [
    "contract_fn = 'crystal_ball_turbo.tz'\n",
    "participants = dict(\n",
    "    a='tz1iQE8ijR5xVPffBUPFubwB9XQJuyD9qsoJ',\n",
    "    b='tz1MdaJfWzP5pPx3gwPxfdLZTHW6js9havos',\n",
    "    c='tz1RS9GoEXakf9iyBmSaheLMcakFRtzBXpWE'\n",
    ")\n",
    "contract = ContractInterface.from_file(contract_fn)"
   ]
  },
  {
   "cell_type": "code",
   "execution_count": 3,
   "id": "damaged-vegetable",
   "metadata": {},
   "outputs": [],
   "source": [
    "storage = {\n",
    "    'currencyPair': 'XTZ-USD',\n",
    "    'createdTime': run_time,\n",
    "    'targetDynamics': 1_000_000,\n",
    "    'betsCloseTime': run_time + 24*one_hour,\n",
    "    'measureStartTime': 0,\n",
    "    'measureOracleStartTime': 0,\n",
    "    'isMeasurementStarted': False,\n",
    "    'startRate': 0,\n",
    "    'measurePeriod': 12*one_hour,\n",
    "    'isClosed': False,\n",
    "    'closedTime': 0,\n",
    "    'closedOracleTime': 0,\n",
    "    'closedRate': 0,\n",
    "    'closedDynamics': 0,\n",
    "    'isBetsForWin': False,\n",
    "\n",
    "    'betsForLedger': {},\n",
    "    'betsAgainstLedger': {},\n",
    "    'liquidityLedger': {},\n",
    "\n",
    "    'oracleAddress': 'KT1SUP27JhX24Kvr11oUdWswk7FnCW78ZyUn',\n",
    "\n",
    "    'betsForSum': 0,\n",
    "    'betsAgainstSum': 0,\n",
    "    'liquiditySum': 0,\n",
    "\n",
    "    'liquidityPercent': 0,\n",
    "    'measureStartFee': 200_000,\n",
    "    'expirationFee': 100_000\n",
    "}"
   ]
  },
  {
   "cell_type": "code",
   "execution_count": 4,
   "id": "north-atlas",
   "metadata": {},
   "outputs": [],
   "source": [
    "# participant A: adding liquidity 50/50 just at start:\n",
    "res = contract.bet(betAgainst=50_000, betFor=50_000).with_amount(100_000).interpret(\n",
    "    storage=storage, sender=participants['a'], now=run_time)"
   ]
  },
  {
   "cell_type": "code",
   "execution_count": 5,
   "id": "norman-cream",
   "metadata": {},
   "outputs": [],
   "source": [
    "assert res.storage['betsForSum'] == 50_000\n",
    "assert res.storage['betsAgainstSum'] == 50_000\n",
    "assert len(res.storage['betsForLedger']) == 1\n",
    "assert len(res.storage['betsAgainstLedger']) == 1\n",
    "assert len(res.storage['liquidityLedger']) == 1\n",
    "assert res.storage['liquidityLedger'][participants['a']] == 50_000"
   ]
  },
  {
   "cell_type": "code",
   "execution_count": 6,
   "id": "numeric-conservation",
   "metadata": {},
   "outputs": [],
   "source": [
    "# TODO: check assertRaises contract.bet(betAgainst=0, betFor=50_000).with_amount(100_000)"
   ]
  },
  {
   "cell_type": "code",
   "execution_count": 7,
   "id": "bored-nudist",
   "metadata": {},
   "outputs": [],
   "source": [
    "# participant B: bets for 10_000 after 1 hour\n",
    "res = contract.bet(betAgainst=0, betFor=50_000).with_amount(50_000).interpret(\n",
    "    storage=res.storage, sender=participants['b'], now=run_time + one_hour)\n",
    "\n",
    "assert res.storage['betsForSum'] == 100_000\n",
    "assert res.storage['betsAgainstSum'] == 50_000\n",
    "assert len(res.storage['betsForLedger']) == 2\n",
    "assert len(res.storage['betsAgainstLedger']) == 1\n",
    "assert len(res.storage['liquidityLedger']) == 1"
   ]
  },
  {
   "cell_type": "code",
   "execution_count": 8,
   "id": "native-kruger",
   "metadata": {},
   "outputs": [
    {
     "data": {
      "text/plain": [
       "{'tz1iQE8ijR5xVPffBUPFubwB9XQJuyD9qsoJ': 50000}"
      ]
     },
     "execution_count": 8,
     "metadata": {},
     "output_type": "execute_result"
    }
   ],
   "source": [
    "res.storage['liquidityLedger']"
   ]
  },
  {
   "cell_type": "code",
   "execution_count": 9,
   "id": "cutting-sponsorship",
   "metadata": {},
   "outputs": [],
   "source": [
    "# participant A: adding more liquidity after 12 hours (exactly half of the betting period):\n",
    "res = contract.bet(betAgainst=100_000, betFor=50_000).with_amount(150_000).interpret(\n",
    "    storage=res.storage, sender=participants['a'], now=run_time + 12*one_hour)\n",
    "\n",
    "assert res.storage['betsForSum'] == 150_000\n",
    "assert res.storage['betsAgainstSum'] == 150_000\n",
    "assert len(res.storage['betsForLedger']) == 2\n",
    "assert len(res.storage['betsAgainstLedger']) == 1\n",
    "assert len(res.storage['liquidityLedger']) == 1\n",
    "assert res.storage['liquiditySum'] == 50_000 + 25_000"
   ]
  },
  {
   "cell_type": "code",
   "execution_count": 10,
   "id": "mounted-poker",
   "metadata": {},
   "outputs": [
    {
     "data": {
      "text/plain": [
       "75000"
      ]
     },
     "execution_count": 10,
     "metadata": {},
     "output_type": "execute_result"
    }
   ],
   "source": [
    "res.storage['liquiditySum']"
   ]
  },
  {
   "cell_type": "code",
   "execution_count": 11,
   "id": "crazy-zealand",
   "metadata": {},
   "outputs": [],
   "source": [
    "# participant C: adding more liquidity at the very end:\n",
    "res = contract.bet(betAgainst=500_000, betFor=500_000).with_amount(1_000_000).interpret(\n",
    "    storage=res.storage, sender=participants['c'], now=run_time + 24*one_hour)\n",
    "\n",
    "assert res.storage['betsForSum'] == 650_000\n",
    "assert res.storage['betsAgainstSum'] == 650_000\n",
    "assert len(res.storage['betsForLedger']) == 3\n",
    "assert len(res.storage['betsAgainstLedger']) == 2\n",
    "assert len(res.storage['liquidityLedger']) == 2\n",
    "assert res.storage['liquiditySum'] == 50_000 + 25_000 + 0"
   ]
  },
  {
   "cell_type": "code",
   "execution_count": 12,
   "id": "hollow-engagement",
   "metadata": {},
   "outputs": [],
   "source": [
    "assert res.storage['betsForSum'] == sum(res.storage['betsForLedger'].values())\n",
    "assert res.storage['betsAgainstSum'] == sum(res.storage['betsAgainstLedger'].values())\n",
    "assert res.storage['liquiditySum'] == sum(res.storage['liquidityLedger'].values())"
   ]
  },
  {
   "cell_type": "code",
   "execution_count": 13,
   "id": "emerging-damage",
   "metadata": {
    "tags": []
   },
   "outputs": [],
   "source": [
    "# TODO: test trying to close before any measurement starts:\n",
    "# TODO: assert raises MichelsonRuntimeError\n",
    "_ = \"\"\"\n",
    "callback_values = {\n",
    "    'currencyPair': storage['currencyPair'],\n",
    "    'lastUpdate': run_time + 24*one_hour,\n",
    "    'rate': 6_000_000\n",
    "}\n",
    "\n",
    "res = contract.closeCallback(callback_values).interpret(\n",
    "    storage=res.storage, sender=storage['oracleAddress'], now=run_time + 24*one_hour)\n",
    "\"\"\""
   ]
  },
  {
   "cell_type": "code",
   "execution_count": 14,
   "id": "color-humanitarian",
   "metadata": {},
   "outputs": [],
   "source": [
    "# TODO trying to call startMeasurement before time comes (before 24*one_hour), assertRaises"
   ]
  },
  {
   "cell_type": "code",
   "execution_count": 15,
   "id": "equipped-universal",
   "metadata": {},
   "outputs": [],
   "source": [
    "# running start measurement after 26 hours:\n",
    "res = contract.startMeasurement().interpret(\n",
    "    storage=res.storage, sender=participants['a'], now=run_time + 26*one_hour)\n",
    "\n",
    "assert len(res.operations) == 1\n",
    "operation = res.operations[0]\n",
    "assert operation['destination'] == storage['oracleAddress']\n",
    "assert operation['parameters']['entrypoint'] == 'get'\n",
    "assert operation['parameters']['value']['args'][0]['string'] == storage['currencyPair']"
   ]
  },
  {
   "cell_type": "code",
   "execution_count": 16,
   "id": "extensive-republic",
   "metadata": {},
   "outputs": [],
   "source": [
    "assert not res.storage['isMeasurementStarted']\n",
    "\n",
    "# emulating callback from oracle 26 hours late (but call last value\n",
    "# in oracle is still from prev hour):\n",
    "start_running_time = run_time + 26*one_hour\n",
    "start_oracle_time = start_running_time - 1*one_hour\n",
    "\n",
    "callback_values = {\n",
    "    'currencyPair': storage['currencyPair'],\n",
    "    'lastUpdate': start_oracle_time,\n",
    "    'rate': 6_000_000\n",
    "}\n",
    "\n",
    "# TODO trying to call startMeasurementCallback from address different than oracle, assertRaises\n",
    "res = contract.startMeasurementCallback(callback_values).interpret(\n",
    "    storage=res.storage, sender=storage['oracleAddress'],\n",
    "    now=start_running_time, source=participants['a'])\n",
    "assert len(res.operations) == 1\n",
    "assert res.storage['startRate'] == callback_values['rate']\n",
    "assert res.storage['isMeasurementStarted']\n",
    "assert res.storage['measureStartTime'] == start_running_time\n",
    "assert res.storage['measureOracleStartTime'] == start_oracle_time\n",
    "\n",
    "operation = res.operations[0]\n",
    "assert operation['destination'] == participants['a']\n",
    "assert int(operation['amount']) == storage['measureStartFee']"
   ]
  },
  {
   "cell_type": "code",
   "execution_count": 17,
   "id": "greek-porter",
   "metadata": {},
   "outputs": [],
   "source": [
    "# calling close, should create opearaton with call to oracle get\n",
    "res = contract.close().interpret(storage=res.storage, sender=participants['b'])\n",
    "assert len(res.operations) == 1\n",
    "operation = res.operations[0]\n",
    "assert operation['destination'] == storage['oracleAddress']\n",
    "assert operation['parameters']['entrypoint'] == 'get'\n",
    "assert operation['parameters']['value']['args'][0]['string'] == storage['currencyPair']"
   ]
  },
  {
   "cell_type": "code",
   "execution_count": 18,
   "id": "accompanied-frederick",
   "metadata": {},
   "outputs": [],
   "source": [
    "# emulating callback from oracle 38 (24+12+2) hours late (but call last value\n",
    "# in oracle is still from prev hour):\n",
    "\n",
    "close_running_time = run_time + 38*one_hour\n",
    "close_oracle_time = close_running_time - 1*one_hour\n",
    "\n",
    "# price is increased 25%:\n",
    "callback_values = {\n",
    "    'currencyPair': storage['currencyPair'],\n",
    "    'lastUpdate': close_oracle_time,\n",
    "    'rate': 7_500_000\n",
    "}\n",
    "\n",
    "res = contract.closeCallback(callback_values).interpret(\n",
    "    storage=res.storage, sender=storage['oracleAddress'],\n",
    "    now=close_running_time, source=participants['b'])\n",
    "assert len(res.operations) == 1\n",
    "assert res.storage['closedRate'] == callback_values['rate']\n",
    "assert res.storage['isClosed']\n",
    "assert res.storage['isBetsForWin']\n",
    "assert res.storage['closedTime'] == close_running_time\n",
    "assert res.storage['closedOracleTime'] == close_oracle_time\n",
    "assert res.storage['closedDynamics'] == 1_250_000  # +25%\n",
    "\n",
    "operation = res.operations[0]\n",
    "assert operation['destination'] == participants['b']\n",
    "assert int(operation['amount']) == storage['expirationFee']"
   ]
  },
  {
   "cell_type": "markdown",
   "id": "spread-native",
   "metadata": {},
   "source": [
    "### Оформить этот тест в unittest\n",
    "- разбить все функциональные блоки / коллы на отдельные функции (без test_, может даже с адерскором в префиксе)\n",
    "- вызывать их все в тест методе\n",
    "- возможно это отдельный тест и отдельно случайный тест"
   ]
  },
  {
   "cell_type": "markdown",
   "id": "canadian-scholar",
   "metadata": {},
   "source": [
    "### assert что сделку нельзя сделать после закрытия времени\n",
    "\n",
    "### TODO: случайный тест\n",
    "- генерировать много разных участников\n",
    "- генерировать случайные действия, накапливать сумму, потом сравнивать что суммы правильные (по реестрам)\n",
    "- в идеале даже полностью прогонять какой-то ивент:\n",
    "    - прибавлять время по k минут\n",
    "    - генерировать случайные события\n",
    "    - потом кто-то закрывает контракт\n",
    "    - потом выводят средства, суммируются выходы с транзакций, проверяется что всё сходится\n",
    "- генерировать разное время и проверять что ошибка если время не в интервале\n",
    "- запускать этот случайный тест несколько раз\n",
    "- лучше несколько простых случайных тестов, каждый из которых тестит какую-то часть\n",
    "- хотя можно один полный с различными вариантами ставок\n"
   ]
  },
  {
   "cell_type": "markdown",
   "id": "answering-riding",
   "metadata": {},
   "source": [
    "### TODO: make script to compile and run tests from tests folder!"
   ]
  },
  {
   "cell_type": "markdown",
   "id": "terminal-cream",
   "metadata": {},
   "source": [
    "желательно бы как-то вообще все безумные тесты провести:\n",
    "- попытка перезапустить Measure после закрытия, попытка запустить этот процесс до завершения ставок\n",
    "- любые вызовы контрактов нужно попробовать в разные периоды времени и убедиться что оно не сработает"
   ]
  },
  {
   "cell_type": "code",
   "execution_count": null,
   "id": "mighty-brazil",
   "metadata": {},
   "outputs": [],
   "source": []
  }
 ],
 "metadata": {
  "kernelspec": {
   "display_name": "Python 3",
   "language": "python",
   "name": "python3"
  },
  "language_info": {
   "codemirror_mode": {
    "name": "ipython",
    "version": 3
   },
   "file_extension": ".py",
   "mimetype": "text/x-python",
   "name": "python",
   "nbconvert_exporter": "python",
   "pygments_lexer": "ipython3",
   "version": "3.9.2"
  }
 },
 "nbformat": 4,
 "nbformat_minor": 5
}
