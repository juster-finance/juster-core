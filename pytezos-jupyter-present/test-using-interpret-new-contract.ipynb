{
 "cells": [
  {
   "cell_type": "code",
   "execution_count": 1,
   "id": "european-calgary",
   "metadata": {},
   "outputs": [],
   "source": [
    "from pytezos import ContractInterface, pytezos, MichelsonRuntimeError\n",
    "from decimal import Decimal\n",
    "import time\n",
    "from settings import settings\n",
    "\n",
    "run_time = int(time.time())\n",
    "one_hour = 60*60"
   ]
  },
  {
   "cell_type": "code",
   "execution_count": 2,
   "id": "happy-respondent",
   "metadata": {},
   "outputs": [],
   "source": [
    "contract_fn = 'crystal_ball_turbo.tz'\n",
    "participants = dict(\n",
    "    a='tz1iQE8ijR5xVPffBUPFubwB9XQJuyD9qsoJ',\n",
    "    b='tz1MdaJfWzP5pPx3gwPxfdLZTHW6js9havos',\n",
    "    c='tz1RS9GoEXakf9iyBmSaheLMcakFRtzBXpWE'\n",
    ")\n",
    "contract = ContractInterface.from_file(contract_fn)"
   ]
  },
  {
   "cell_type": "code",
   "execution_count": 3,
   "id": "found-affiliate",
   "metadata": {},
   "outputs": [],
   "source": [
    "storage = {\n",
    "    'currencyPair': 'XTZ-USD',\n",
    "    'createdTime': run_time,\n",
    "    'targetDynamics': 1_000_000,\n",
    "    'betsCloseTime': run_time + 24*one_hour,\n",
    "    'measuseStartTime': 0,\n",
    "    'measureOracleStartTime': 0,\n",
    "    'isMeasurementStarted': False,\n",
    "    'startRate': 0,\n",
    "    'measurePeriod': 12*one_hour,\n",
    "    'isClosed': False,\n",
    "    'closedTime': 0,\n",
    "    'closedOracleTime': 0,\n",
    "    'closedRate': 0,\n",
    "    'closedDynamics': 0,\n",
    "    'isBetsForWin': False,\n",
    "\n",
    "    'betsForLedger': {},\n",
    "    'betsAgainstLedger': {},\n",
    "    'liquidityLedger': {},\n",
    "\n",
    "    'oracleAddress': 'KT1SUP27JhX24Kvr11oUdWswk7FnCW78ZyUn',\n",
    "\n",
    "    'betsForSum': 0,\n",
    "    'betsAgainstSum': 0,\n",
    "    'liquiditySum': 0,\n",
    "\n",
    "    'liquidityPercent': 0,\n",
    "    'expirationFee': 0\n",
    "}"
   ]
  },
  {
   "cell_type": "code",
   "execution_count": 4,
   "id": "military-grave",
   "metadata": {},
   "outputs": [],
   "source": [
    "# participant A: adding liquidity 50/50:\n",
    "res = contract.bet(betAgainst=50_000, betFor=50_000).with_amount(100_000).interpret(\n",
    "    storage=storage, sender=participants['a'], now=run_time)"
   ]
  },
  {
   "cell_type": "code",
   "execution_count": 5,
   "id": "romantic-adelaide",
   "metadata": {},
   "outputs": [],
   "source": [
    "assert res.storage['betsForSum'] == 50_000\n",
    "assert res.storage['betsAgainstSum'] == 50_000\n",
    "assert len(res.storage['betsForLedger']) == 1\n",
    "assert len(res.storage['betsAgainstLedger']) == 1\n",
    "assert len(res.storage['liquidityLedger']) == 1\n",
    "assert res.storage['liquidityLedger'][participants['a']] == 50_000"
   ]
  },
  {
   "cell_type": "code",
   "execution_count": 6,
   "id": "monthly-germany",
   "metadata": {},
   "outputs": [],
   "source": [
    "# TODO: check assertRaises contract.bet(betAgainst=0, betFor=50_000).with_amount(100_000)"
   ]
  },
  {
   "cell_type": "code",
   "execution_count": 7,
   "id": "intended-gospel",
   "metadata": {},
   "outputs": [],
   "source": [
    "# participant B: bets for 10_000 after 1 hour\n",
    "res = contract.bet(betAgainst=0, betFor=50_000).with_amount(50_000).interpret(\n",
    "    storage=res.storage, sender=participants['b'], now=run_time + one_hour)\n",
    "\n",
    "assert res.storage['betsForSum'] == 100_000\n",
    "assert res.storage['betsAgainstSum'] == 50_000\n",
    "assert len(res.storage['betsForLedger']) == 2\n",
    "assert len(res.storage['betsAgainstLedger']) == 1\n",
    "assert len(res.storage['liquidityLedger']) == 1"
   ]
  },
  {
   "cell_type": "code",
   "execution_count": 8,
   "id": "textile-directory",
   "metadata": {},
   "outputs": [
    {
     "data": {
      "text/plain": [
       "{'tz1iQE8ijR5xVPffBUPFubwB9XQJuyD9qsoJ': 50000}"
      ]
     },
     "execution_count": 8,
     "metadata": {},
     "output_type": "execute_result"
    }
   ],
   "source": [
    "res.storage['liquidityLedger']"
   ]
  },
  {
   "cell_type": "code",
   "execution_count": 9,
   "id": "antique-kuwait",
   "metadata": {},
   "outputs": [],
   "source": [
    "# participant A: adding more liquidity after 12 hours (exactly half of the betting period):\n",
    "res = contract.bet(betAgainst=100_000, betFor=50_000).with_amount(150_000).interpret(\n",
    "    storage=res.storage, sender=participants['a'], now=run_time + 12*one_hour)\n",
    "\n",
    "assert res.storage['betsForSum'] == 150_000\n",
    "assert res.storage['betsAgainstSum'] == 150_000\n",
    "assert len(res.storage['betsForLedger']) == 2\n",
    "assert len(res.storage['betsAgainstLedger']) == 1\n",
    "assert len(res.storage['liquidityLedger']) == 1\n",
    "assert res.storage['liquiditySum'] == 50_000 + 25_000"
   ]
  },
  {
   "cell_type": "code",
   "execution_count": 10,
   "id": "sonic-respondent",
   "metadata": {},
   "outputs": [
    {
     "data": {
      "text/plain": [
       "75000"
      ]
     },
     "execution_count": 10,
     "metadata": {},
     "output_type": "execute_result"
    }
   ],
   "source": [
    "res.storage['liquiditySum']"
   ]
  },
  {
   "cell_type": "code",
   "execution_count": 11,
   "id": "compressed-blank",
   "metadata": {},
   "outputs": [],
   "source": [
    "# participant C: adding more liquidity at the very end:\n",
    "res = contract.bet(betAgainst=500_000, betFor=500_000).with_amount(1_000_000).interpret(\n",
    "    storage=res.storage, sender=participants['c'], now=run_time + 24*one_hour)\n",
    "\n",
    "assert res.storage['betsForSum'] == 650_000\n",
    "assert res.storage['betsAgainstSum'] == 650_000\n",
    "assert len(res.storage['betsForLedger']) == 3\n",
    "assert len(res.storage['betsAgainstLedger']) == 2\n",
    "assert len(res.storage['liquidityLedger']) == 2\n",
    "assert res.storage['liquiditySum'] == 50_000 + 25_000 + 0"
   ]
  },
  {
   "cell_type": "code",
   "execution_count": 12,
   "id": "gorgeous-bahrain",
   "metadata": {},
   "outputs": [],
   "source": [
    "assert res.storage['betsForSum'] == sum(res.storage['betsForLedger'].values())\n",
    "assert res.storage['betsAgainstSum'] == sum(res.storage['betsAgainstLedger'].values())\n",
    "assert res.storage['liquiditySum'] == sum(res.storage['liquidityLedger'].values())"
   ]
  },
  {
   "cell_type": "code",
   "execution_count": 13,
   "id": "distributed-tracker",
   "metadata": {},
   "outputs": [],
   "source": [
    "# test running measurePeriod after 24h + 2h delay\n",
    "# test closing "
   ]
  },
  {
   "cell_type": "code",
   "execution_count": 14,
   "id": "sealed-apparatus",
   "metadata": {},
   "outputs": [
    {
     "data": {
      "text/plain": [
       "{'betsAgainstLedger': {'tz1RS9GoEXakf9iyBmSaheLMcakFRtzBXpWE': 500000,\n",
       "  'tz1iQE8ijR5xVPffBUPFubwB9XQJuyD9qsoJ': 150000},\n",
       " 'betsAgainstSum': 650000,\n",
       " 'betsCloseTime': 1618070125,\n",
       " 'betsForLedger': {'tz1MdaJfWzP5pPx3gwPxfdLZTHW6js9havos': 50000,\n",
       "  'tz1RS9GoEXakf9iyBmSaheLMcakFRtzBXpWE': 500000,\n",
       "  'tz1iQE8ijR5xVPffBUPFubwB9XQJuyD9qsoJ': 100000},\n",
       " 'betsForSum': 650000,\n",
       " 'closedDynamics': 0,\n",
       " 'closedOracleTime': 0,\n",
       " 'closedRate': 0,\n",
       " 'closedTime': 0,\n",
       " 'createdTime': 1617983725,\n",
       " 'currencyPair': 'XTZ-USD',\n",
       " 'expirationFee': 0,\n",
       " 'isBetsForWin': False,\n",
       " 'isClosed': False,\n",
       " 'isMeasurementStarted': False,\n",
       " 'liquidityLedger': {'tz1RS9GoEXakf9iyBmSaheLMcakFRtzBXpWE': 0,\n",
       "  'tz1iQE8ijR5xVPffBUPFubwB9XQJuyD9qsoJ': 75000},\n",
       " 'liquidityPercent': 0,\n",
       " 'liquiditySum': 75000,\n",
       " 'measureOracleStartTime': 0,\n",
       " 'measurePeriod': 43200,\n",
       " 'measuseStartTime': 0,\n",
       " 'oracleAddress': 'KT1SUP27JhX24Kvr11oUdWswk7FnCW78ZyUn',\n",
       " 'startRate': 0,\n",
       " 'targetDynamics': 1000000}"
      ]
     },
     "execution_count": 14,
     "metadata": {},
     "output_type": "execute_result"
    }
   ],
   "source": [
    "res.storage"
   ]
  },
  {
   "cell_type": "markdown",
   "id": "measured-tiger",
   "metadata": {},
   "source": [
    "### assert что сделку нельзя сделать после закрытия времени\n",
    "\n",
    "### TODO: случайный тест\n",
    "- генерировать много разных участников\n",
    "- генерировать случайные действия, накапливать сумму, потом сравнивать что суммы правильные (по реестрам)\n",
    "- в идеале даже полностью прогонять какой-то ивент:\n",
    "    - прибавлять время по k минут\n",
    "    - генерировать случайные события\n",
    "    - потом кто-то закрывает контракт\n",
    "    - потом выводят средства, суммируются выходы с транзакций, проверяется что всё сходится\n",
    "- генерировать разное время и проверять что ошибка если время не в интервале\n",
    "- запускать этот случайный тест несколько раз\n",
    "- лучше несколько простых случайных тестов, каждый из которых тестит какую-то часть\n",
    "- хотя можно один полный с различными вариантами ставок\n"
   ]
  },
  {
   "cell_type": "markdown",
   "id": "pleased-folks",
   "metadata": {},
   "source": [
    "### TODO: move test to unittest!"
   ]
  },
  {
   "cell_type": "markdown",
   "id": "pregnant-caribbean",
   "metadata": {},
   "source": [
    "### TODO: make script to compile and run tests from tests folder!"
   ]
  },
  {
   "cell_type": "code",
   "execution_count": null,
   "id": "abroad-astrology",
   "metadata": {},
   "outputs": [],
   "source": []
  }
 ],
 "metadata": {
  "kernelspec": {
   "display_name": "Python 3",
   "language": "python",
   "name": "python3"
  },
  "language_info": {
   "codemirror_mode": {
    "name": "ipython",
    "version": 3
   },
   "file_extension": ".py",
   "mimetype": "text/x-python",
   "name": "python",
   "nbconvert_exporter": "python",
   "pygments_lexer": "ipython3",
   "version": "3.9.2"
  }
 },
 "nbformat": 4,
 "nbformat_minor": 5
}
