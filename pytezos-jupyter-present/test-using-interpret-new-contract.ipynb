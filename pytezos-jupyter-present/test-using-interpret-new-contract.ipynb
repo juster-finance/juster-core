{
 "cells": [
  {
   "cell_type": "code",
   "execution_count": 1,
   "id": "anonymous-damages",
   "metadata": {},
   "outputs": [],
   "source": [
    "from pytezos import ContractInterface, pytezos, MichelsonRuntimeError\n",
    "from decimal import Decimal\n",
    "import time\n",
    "from settings import settings\n",
    "\n",
    "run_time = int(time.time())\n",
    "one_hour = 60*60"
   ]
  },
  {
   "cell_type": "code",
   "execution_count": 2,
   "id": "exposed-welding",
   "metadata": {},
   "outputs": [],
   "source": [
    "contract_fn = 'crystal_ball_turbo.tz'\n",
    "participants = dict(\n",
    "    a='tz1iQE8ijR5xVPffBUPFubwB9XQJuyD9qsoJ',\n",
    "    b='tz1MdaJfWzP5pPx3gwPxfdLZTHW6js9havos',\n",
    "    c='tz1RS9GoEXakf9iyBmSaheLMcakFRtzBXpWE'\n",
    ")\n",
    "contract = ContractInterface.from_file(contract_fn)"
   ]
  },
  {
   "cell_type": "code",
   "execution_count": 3,
   "id": "adjacent-maintenance",
   "metadata": {},
   "outputs": [],
   "source": [
    "storage = {\n",
    "    'currencyPair': 'XTZ-USD',\n",
    "    'createdTime': run_time,\n",
    "    'targetDynamics': 1_000_000,\n",
    "    'betsCloseTime': run_time + 24*one_hour,\n",
    "    'measuseStartTime': 0,\n",
    "    'measureOracleStartTime': 0,\n",
    "    'isMeasurementStarted': False,\n",
    "    'startRate': 0,\n",
    "    'measurePeriod': 12*one_hour,\n",
    "    'isClosed': False,\n",
    "    'closedTime': 0,\n",
    "    'closedOracleTime': 0,\n",
    "    'closedRate': 0,\n",
    "    'closedDynamics': 0,\n",
    "    'isBetsForWin': False,\n",
    "\n",
    "    'betsForLedger': {},\n",
    "    'betsAgainstLedger': {},\n",
    "    'liquidityLedger': {},\n",
    "\n",
    "    'oracleAddress': 'KT1SUP27JhX24Kvr11oUdWswk7FnCW78ZyUn',\n",
    "\n",
    "    'betsForSum': 0,\n",
    "    'betsAgainstSum': 0,\n",
    "    'liquiditySum': 0,\n",
    "\n",
    "    'liquidityPercent': 0,\n",
    "    'expirationFee': 0\n",
    "}"
   ]
  },
  {
   "cell_type": "code",
   "execution_count": 4,
   "id": "angry-workplace",
   "metadata": {},
   "outputs": [],
   "source": [
    "# participant A: adding liquidity 50/50:\n",
    "res = contract.bet(betAgainst=50_000, betFor=50_000).with_amount(100_000).interpret(\n",
    "    storage=storage, sender=participants['a'], now=run_time)"
   ]
  },
  {
   "cell_type": "code",
   "execution_count": 5,
   "id": "basic-nelson",
   "metadata": {},
   "outputs": [],
   "source": [
    "assert res.storage['betsForSum'] == 50_000\n",
    "assert res.storage['betsAgainstSum'] == 50_000\n",
    "assert len(res.storage['betsForLedger']) == 1\n",
    "assert len(res.storage['betsAgainstLedger']) == 1\n",
    "assert len(res.storage['liquidityLedger']) == 1"
   ]
  },
  {
   "cell_type": "code",
   "execution_count": 6,
   "id": "running-witness",
   "metadata": {},
   "outputs": [],
   "source": [
    "# TODO: check assertRaises contract.bet(betAgainst=0, betFor=50_000).with_amount(100_000)"
   ]
  },
  {
   "cell_type": "code",
   "execution_count": 7,
   "id": "labeled-classroom",
   "metadata": {},
   "outputs": [],
   "source": [
    "# participant B: bets for 10_000 after 1 hour\n",
    "res = contract.bet(betAgainst=0, betFor=50_000).with_amount(50_000).interpret(\n",
    "    storage=res.storage, sender=participants['b'], now=run_time + one_hour)\n",
    "\n",
    "assert res.storage['betsForSum'] == 100_000\n",
    "assert res.storage['betsAgainstSum'] == 50_000\n",
    "assert len(res.storage['betsForLedger']) == 2\n",
    "assert len(res.storage['betsAgainstLedger']) == 1\n",
    "assert len(res.storage['liquidityLedger']) == 1"
   ]
  },
  {
   "cell_type": "code",
   "execution_count": 8,
   "id": "creative-northwest",
   "metadata": {},
   "outputs": [
    {
     "data": {
      "text/plain": [
       "{'tz1iQE8ijR5xVPffBUPFubwB9XQJuyD9qsoJ': 1617980108}"
      ]
     },
     "execution_count": 8,
     "metadata": {},
     "output_type": "execute_result"
    }
   ],
   "source": [
    "res.storage['liquidityLedger']"
   ]
  },
  {
   "cell_type": "code",
   "execution_count": 9,
   "id": "genuine-charity",
   "metadata": {},
   "outputs": [],
   "source": [
    "# participant A: adding more liquidity after 2 hours:\n",
    "res = contract.bet(betAgainst=100_000, betFor=50_000).with_amount(150_000).interpret(\n",
    "    storage=res.storage, sender=participants['a'], now=run_time + 2*one_hour)\n",
    "\n",
    "assert res.storage['betsForSum'] == 150_000\n",
    "assert res.storage['betsAgainstSum'] == 150_000\n",
    "assert len(res.storage['betsForLedger']) == 2\n",
    "assert len(res.storage['betsAgainstLedger']) == 1\n",
    "assert len(res.storage['liquidityLedger']) == 1"
   ]
  },
  {
   "cell_type": "code",
   "execution_count": 10,
   "id": "spoken-canvas",
   "metadata": {},
   "outputs": [
    {
     "data": {
      "text/plain": [
       "{'tz1iQE8ijR5xVPffBUPFubwB9XQJuyD9qsoJ': 1617980108}"
      ]
     },
     "execution_count": 10,
     "metadata": {},
     "output_type": "execute_result"
    }
   ],
   "source": [
    "res.storage['liquidityLedger']"
   ]
  },
  {
   "cell_type": "code",
   "execution_count": 14,
   "id": "veterinary-brick",
   "metadata": {},
   "outputs": [],
   "source": [
    "assert res.storage['betsForSum'] == sum(res.storage['betsForLedger'].values())\n",
    "assert res.storage['betsAgainstSum'] == sum(res.storage['betsAgainstLedger'].values())"
   ]
  },
  {
   "cell_type": "markdown",
   "id": "dominican-shirt",
   "metadata": {},
   "source": [
    "### assert что сделку нельзя сделать после закрытия времени\n",
    "\n",
    "### TODO: случайный тест\n",
    "- генерировать много разных участников\n",
    "- генерировать случайные действия, накапливать сумму, потом сравнивать что суммы правильные (по реестрам)\n",
    "- в идеале даже полностью прогонять какой-то ивент:\n",
    "    - прибавлять время по k минут\n",
    "    - генерировать случайные события\n",
    "    - потом кто-то закрывает контракт\n",
    "    - потом выводят средства, суммируются выходы с транзакций, проверяется что всё сходится\n",
    "- генерировать разное время и проверять что ошибка если время не в интервале\n",
    "- запускать этот случайный тест несколько раз\n",
    "- лучше несколько простых случайных тестов, каждый из которых тестит какую-то часть\n",
    "- хотя можно один полный с различными вариантами ставок\n"
   ]
  },
  {
   "cell_type": "code",
   "execution_count": null,
   "id": "combined-probability",
   "metadata": {},
   "outputs": [],
   "source": []
  }
 ],
 "metadata": {
  "kernelspec": {
   "display_name": "Python 3",
   "language": "python",
   "name": "python3"
  },
  "language_info": {
   "codemirror_mode": {
    "name": "ipython",
    "version": 3
   },
   "file_extension": ".py",
   "mimetype": "text/x-python",
   "name": "python",
   "nbconvert_exporter": "python",
   "pygments_lexer": "ipython3",
   "version": "3.9.2"
  }
 },
 "nbformat": 4,
 "nbformat_minor": 5
}
