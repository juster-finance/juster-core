{
 "cells": [
  {
   "cell_type": "code",
   "execution_count": 1,
   "id": "grave-rugby",
   "metadata": {},
   "outputs": [],
   "source": [
    "from pytezos import ContractInterface, pytezos, MichelsonRuntimeError\n",
    "from decimal import Decimal\n",
    "import time\n",
    "from settings import settings\n",
    "\n",
    "run_time = int(time.time())\n",
    "one_hour = 60*60"
   ]
  },
  {
   "cell_type": "code",
   "execution_count": 2,
   "id": "organic-range",
   "metadata": {},
   "outputs": [],
   "source": [
    "contract_fn = 'crystal_ball_turbo.tz'\n",
    "participants = dict(\n",
    "    a='tz1iQE8ijR5xVPffBUPFubwB9XQJuyD9qsoJ',\n",
    "    b='tz1MdaJfWzP5pPx3gwPxfdLZTHW6js9havos',\n",
    "    c='tz1RS9GoEXakf9iyBmSaheLMcakFRtzBXpWE'\n",
    ")\n",
    "contract = ContractInterface.from_file(contract_fn)"
   ]
  },
  {
   "cell_type": "code",
   "execution_count": 3,
   "id": "muslim-consolidation",
   "metadata": {},
   "outputs": [
    {
     "data": {
      "text/plain": [
       "1617978458"
      ]
     },
     "execution_count": 3,
     "metadata": {},
     "output_type": "execute_result"
    }
   ],
   "source": [
    "run_time"
   ]
  },
  {
   "cell_type": "code",
   "execution_count": 4,
   "id": "pressed-mattress",
   "metadata": {},
   "outputs": [
    {
     "data": {
      "text/plain": [
       "1618064858"
      ]
     },
     "execution_count": 4,
     "metadata": {},
     "output_type": "execute_result"
    }
   ],
   "source": [
    "run_time + 24*one_hour"
   ]
  },
  {
   "cell_type": "code",
   "execution_count": 9,
   "id": "hungarian-mistake",
   "metadata": {},
   "outputs": [],
   "source": [
    "storage = {\n",
    "    'currencyPair': 'XTZ-USD',\n",
    "    'createdTime': run_time,\n",
    "    'targetDynamics': 1_000_000,\n",
    "    'betsCloseTime': run_time + 24*one_hour,\n",
    "    'measuseStartTime': 0,\n",
    "    'measureOracleStartTime': 0,\n",
    "    'isMeasurementStarted': False,\n",
    "    'startRate': 0,\n",
    "    'measurePeriod': 12*one_hour,\n",
    "    'isClosed': False,\n",
    "    'closedTime': 0,\n",
    "    'closedOracleTime': 0,\n",
    "    'closedRate': 0,\n",
    "    'closedDynamics': 0,\n",
    "    'isBetsForWin': False,\n",
    "\n",
    "    'betsForLedger': {},\n",
    "    'betsAgainstLedger': {},\n",
    "    'liquidityLedger': {},\n",
    "\n",
    "    'oracleAddress': 'KT1SUP27JhX24Kvr11oUdWswk7FnCW78ZyUn',\n",
    "\n",
    "    'betsForSum': 0,\n",
    "    'betsAgainstSum': 0,\n",
    "    'liquiditySum': 0,\n",
    "\n",
    "    'liquidityPercent': 0,\n",
    "    'expirationFee': 0\n",
    "}"
   ]
  },
  {
   "cell_type": "code",
   "execution_count": 10,
   "id": "industrial-latest",
   "metadata": {},
   "outputs": [
    {
     "data": {
      "text/plain": [
       "<pytezos.contract.result.ContractCallResult object at 0x7f38146485b0>\n",
       "\n",
       "Properties\n",
       ".parameters\n",
       ".storage\n",
       ".lazy_diff\n",
       ".operations"
      ]
     },
     "execution_count": 10,
     "metadata": {},
     "output_type": "execute_result"
    }
   ],
   "source": [
    "contract.close().interpret(storage=storage, sender=participants['b'])"
   ]
  },
  {
   "cell_type": "code",
   "execution_count": 15,
   "id": "grand-yemen",
   "metadata": {},
   "outputs": [],
   "source": [
    "res = contract.bet(betAgainst=50_000, betFor=50_000).with_amount(100_000).interpret(\n",
    "    storage=storage, sender=participants['a'])"
   ]
  },
  {
   "cell_type": "code",
   "execution_count": 16,
   "id": "headed-greene",
   "metadata": {},
   "outputs": [
    {
     "data": {
      "text/plain": [
       "{'betsAgainstLedger': {'tz1iQE8ijR5xVPffBUPFubwB9XQJuyD9qsoJ': 100000},\n",
       " 'betsAgainstSum': 100000,\n",
       " 'betsCloseTime': 1618064858,\n",
       " 'betsForLedger': {'tz1iQE8ijR5xVPffBUPFubwB9XQJuyD9qsoJ': 100000},\n",
       " 'betsForSum': 100000,\n",
       " 'closedDynamics': 0,\n",
       " 'closedOracleTime': 0,\n",
       " 'closedRate': 0,\n",
       " 'closedTime': 0,\n",
       " 'createdTime': 1617978458,\n",
       " 'currencyPair': 'XTZ-USD',\n",
       " 'expirationFee': 0,\n",
       " 'isBetsForWin': False,\n",
       " 'isClosed': False,\n",
       " 'isMeasurementStarted': False,\n",
       " 'liquidityLedger': {'tz1iQE8ijR5xVPffBUPFubwB9XQJuyD9qsoJ': 1617978458},\n",
       " 'liquidityPercent': 0,\n",
       " 'liquiditySum': 0,\n",
       " 'measureOracleStartTime': 0,\n",
       " 'measurePeriod': 43200,\n",
       " 'measuseStartTime': 0,\n",
       " 'oracleAddress': 'KT1SUP27JhX24Kvr11oUdWswk7FnCW78ZyUn',\n",
       " 'startRate': 0,\n",
       " 'targetDynamics': 1000000}"
      ]
     },
     "execution_count": 16,
     "metadata": {},
     "output_type": "execute_result"
    }
   ],
   "source": [
    "res.storage"
   ]
  }
 ],
 "metadata": {
  "kernelspec": {
   "display_name": "Python 3",
   "language": "python",
   "name": "python3"
  },
  "language_info": {
   "codemirror_mode": {
    "name": "ipython",
    "version": 3
   },
   "file_extension": ".py",
   "mimetype": "text/x-python",
   "name": "python",
   "nbconvert_exporter": "python",
   "pygments_lexer": "ipython3",
   "version": "3.9.2"
  }
 },
 "nbformat": 4,
 "nbformat_minor": 5
}
