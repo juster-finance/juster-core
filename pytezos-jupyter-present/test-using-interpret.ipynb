{
 "cells": [
  {
   "cell_type": "code",
   "execution_count": 1,
   "id": "apparent-disease",
   "metadata": {},
   "outputs": [],
   "source": [
    "from pytezos import ContractInterface, pytezos, MichelsonRuntimeError\n",
    "from decimal import Decimal\n",
    "\n",
    "# alternative load from edo-net:\n",
    "# contract = pytezos.contract('KT1HbiznMedpC5BcQnUCUd5zCaXcemsU25Sk')"
   ]
  },
  {
   "cell_type": "code",
   "execution_count": 2,
   "id": "precious-weapon",
   "metadata": {},
   "outputs": [],
   "source": [
    "contract_fn = 'crystal_ball_sasha.tz'\n",
    "participants = dict(\n",
    "    a='tz1iQE8ijR5xVPffBUPFubwB9XQJuyD9qsoJ',\n",
    "    b='tz1MdaJfWzP5pPx3gwPxfdLZTHW6js9havos',\n",
    "    c='tz1RS9GoEXakf9iyBmSaheLMcakFRtzBXpWE'\n",
    ")\n",
    "contract = ContractInterface.from_file(contract_fn)"
   ]
  },
  {
   "cell_type": "code",
   "execution_count": 3,
   "id": "dated-parade",
   "metadata": {},
   "outputs": [],
   "source": [
    "import time\n",
    "from settings import settings\n",
    "\n",
    "# it is not important to use pytezos.now():\n",
    "run_time = int(time.time())\n",
    "one_hour = 60*60\n",
    "\n",
    "storage = settings['DEFAULT_INITIAL_CONTRACT_STORAGE']\n",
    "storage.update({\n",
    "    'targetRate': 6_000_000,\n",
    "    'targetTime': run_time + one_hour,\n",
    "})"
   ]
  },
  {
   "cell_type": "markdown",
   "id": "connected-borough",
   "metadata": {},
   "source": [
    "### Полный тест (пока без unittest, чисто на ассёртах):"
   ]
  },
  {
   "cell_type": "code",
   "execution_count": 19,
   "id": "economic-standing",
   "metadata": {
    "tags": []
   },
   "outputs": [],
   "source": [
    "\"\"\"\n",
    "test 1:\n",
    "targetRate is 6.0 tez and real rate is 6.20 tez, so betFor pool wins.\n",
    "three participants:\n",
    "- participant A locks 100_000 utz betAgainst \n",
    "- participant B locks 200_000 utz betFor\n",
    "- participant C locks 200_000 utz betFor\n",
    "B and C win against A\n",
    "participant B can withdraw 250_000\n",
    "participant C can withdraw 250_000\n",
    "\"\"\"\n",
    "\n",
    "# participant A betAgainst with 100_000 utz:\n",
    "res = contract.betAgainst().with_amount(100_000).interpret(\n",
    "    storage=storage, sender=participants['a'])\n",
    "\n",
    "assert res.operations == []\n",
    "\n",
    "# participant B betFor with 200_000 utz:\n",
    "res = contract.betFor().with_amount(200_000).interpret(\n",
    "    storage=res.storage, sender=participants['b'])\n",
    "\n",
    "# participant C betFor with 200_000 utz:\n",
    "res = contract.betFor().with_amount(200_000).interpret(\n",
    "    storage=res.storage, sender=participants['c'])\n",
    "\n",
    "assert res.storage['betsForSum'] == 400_000\n",
    "assert res.storage['betsAgainstSum'] == 100_000\n",
    "assert len(res.storage['betsAgainstLedger']) == 1\n",
    "assert len(res.storage['betsForLedger']) == 2\n",
    "\n",
    "# calling close, should create opearaton with call to oracle get\n",
    "res = contract.close().interpret(storage=res.storage, sender=participants['b'])\n",
    "assert len(res.operations) == 1\n",
    "operation = res.operations[0]\n",
    "assert operation['destination'] == storage['oracleAddress']\n",
    "assert operation['parameters']['entrypoint'] == 'get'\n",
    "assert operation['parameters']['value']['args'][0]['string'] == storage['currencyPair']\n",
    "\n",
    "# emulating close callback from oracle:\n",
    "# 2 hours late:\n",
    "callback_values = {\n",
    "    'currencyPair': storage['currencyPair'],\n",
    "    'lastUpdate': pytezos.now() + 2*one_hour,\n",
    "    'rate': 6_200_000\n",
    "}\n",
    "\n",
    "res = contract.closeCallback(callback_values).interpret(\n",
    "    storage=res.storage, sender=storage['oracleAddress'])\n",
    "assert res.operations == []\n",
    "assert res.storage['closedRate'] == callback_values['rate']\n",
    "assert res.storage['isClosed']\n",
    "assert res.storage['isBetsForWin']\n",
    "\n",
    "# withrawing:\n",
    "'''\n",
    "# TODO: failwith: Participant is not win:\n",
    "contract.withdraw().interpret(\n",
    "    storage=res.storage, sender=participants['a'])\n",
    "'''\n",
    "\n",
    "res = contract.withdraw().interpret(\n",
    "    storage=res.storage, sender=participants['b'])\n",
    "\n",
    "assert len(res.operations) == 1\n",
    "operation = res.operations[0]\n",
    "assert operation['destination'] == participants['b']\n",
    "assert int(operation['amount']) == 250_000\n",
    "# assert that participant is removed:\n",
    "assert res.storage['betsForLedger'][participants['b']] is None\n",
    "\n",
    "def remove_none_records(dct):\n",
    "    return {key: value for key, value in dct.items() if value is not None}\n",
    "\n",
    "# need to remove None records before using this storage in next transaction:\n",
    "res.storage.update({\n",
    "    'betsForLedger': remove_none_records(res.storage['betsForLedger'])\n",
    "})\n",
    "\n",
    "res = contract.withdraw().interpret(\n",
    "    storage=res.storage, sender=participants['c'])\n",
    "operation = res.operations[0]\n",
    "\n",
    "assert int(operation['amount']) == 250_000\n",
    "assert res.storage['betsForLedger'][participants['c']] is None"
   ]
  },
  {
   "cell_type": "code",
   "execution_count": 235,
   "id": "electric-albany",
   "metadata": {},
   "outputs": [],
   "source": [
    "# test 2: participant A makes two bets in a row:\n",
    "# storage should contain sum of the bets\n",
    "\n",
    "\n",
    "# test 3: participant tries to run callback: error should be raised\n",
    "\n",
    "# test 4: participant tries to withdraw twice -> fail\n",
    "\n",
    "# test 5: participant lose and tries to withdraw -> fail"
   ]
  }
 ],
 "metadata": {
  "kernelspec": {
   "display_name": "Python 3",
   "language": "python",
   "name": "python3"
  },
  "language_info": {
   "codemirror_mode": {
    "name": "ipython",
    "version": 3
   },
   "file_extension": ".py",
   "mimetype": "text/x-python",
   "name": "python",
   "nbconvert_exporter": "python",
   "pygments_lexer": "ipython3",
   "version": "3.9.2"
  }
 },
 "nbformat": 4,
 "nbformat_minor": 5
}
