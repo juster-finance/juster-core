{
 "cells": [
  {
   "cell_type": "markdown",
   "id": "6c1b1033-72f8-4457-b180-7c137fb3f5b9",
   "metadata": {},
   "source": [
    "### Light python event model used to simulate Juster events\n",
    "- liquidity providing risk estimation\n",
    "- different market maker behaviur testing"
   ]
  },
  {
   "cell_type": "code",
   "execution_count": 5,
   "id": "abdc17fa-b949-4835-ac17-992052067a1a",
   "metadata": {},
   "outputs": [],
   "source": [
    "import pandas as pd\n",
    "import seaborn as sns\n",
    "import numpy as np\n",
    "\n",
    "from dynamics import calc_dynamics_by_freq\n",
    "from coinbase_api import CoinbaseAPI\n",
    "from plot import plot_dynamics_hists\n",
    "\n",
    "\n",
    "sns.set_style(\"whitegrid\")"
   ]
  },
  {
   "cell_type": "code",
   "execution_count": 2,
   "id": "660d05dc-77f2-4fa8-a59a-95e8d34f807b",
   "metadata": {},
   "outputs": [],
   "source": [
    "import sys\n",
    "sys.path.insert(0, '../../tests')\n",
    "from event_model import EventModel"
   ]
  },
  {
   "cell_type": "markdown",
   "id": "f0b053eb-c613-4901-871c-5c804759df1b",
   "metadata": {},
   "source": [
    "### Getting data to use as source of the price dynamics:"
   ]
  },
  {
   "cell_type": "code",
   "execution_count": 3,
   "id": "285f8789-256f-455e-9aeb-d525cfd8389a",
   "metadata": {},
   "outputs": [],
   "source": [
    "api = CoinbaseAPI()\n",
    "\n",
    "pair = 'XTZ-USD'\n",
    "event_durations = [3600, 21600, 86400]\n",
    "\n",
    "dfs = {\n",
    "    duration: api.get_history_prices(pair=pair, granularity=duration)\n",
    "    for duration in event_durations\n",
    "}\n",
    "\n",
    "dynamics = {\n",
    "    duration: calc_dynamics_by_freq(dfs[duration], f'{duration}S')\n",
    "    for duration in event_durations\n",
    "}"
   ]
  },
  {
   "cell_type": "markdown",
   "id": "69add92c-b78e-45f0-a7c5-cc3263bdb0b6",
   "metadata": {},
   "source": [
    "### Current data distribution:"
   ]
  },
  {
   "cell_type": "code",
   "execution_count": 6,
   "id": "52575ea3-704a-43d7-ab04-5016c6095491",
   "metadata": {},
   "outputs": [
    {
     "data": {
      "image/png": "[encoded data removed]",
      "text/plain": [
       "<Figure size 1080x216 with 3 Axes>"
      ]
     },
     "metadata": {},
     "output_type": "display_data"
    }
   ],
   "source": [
    "axes = plot_dynamics_hists(dynamics)"
   ]
  },
  {
   "cell_type": "code",
   "execution_count": 9,
   "id": "2216002e-2e42-4af9-aabc-6eaf502abf18",
   "metadata": {},
   "outputs": [],
   "source": [
    "from random import random, randint, choice\n",
    "from types import SimpleNamespace\n",
    "from tqdm import tqdm"
   ]
  },
  {
   "cell_type": "markdown",
   "id": "fd85a68b-d038-47eb-8a17-aa5c1b968cb3",
   "metadata": {},
   "source": [
    "## WIP\n",
    "### TODO: params generator\n",
    "### TODO: run emulation\n",
    "### TODO: save data\n",
    "### TODO: analyze data\n",
    "- maybe using dash or another BI? find a way to make it interactive, so it would be easy to calculate mean event results"
   ]
  },
  {
   "cell_type": "code",
   "execution_count": 10,
   "id": "8da6530d-886d-438b-9332-211d94e31bd8",
   "metadata": {},
   "outputs": [],
   "source": [
    "# this all params should be generated using different distributions\n",
    "generation_params = dict(\n",
    "    # total betting length:\n",
    "    ticks = 1000,\n",
    "\n",
    "    # users count does not affect chances\n",
    "    users_count = 10,\n",
    "\n",
    "    # event duration in seconds, data available for 3600, 21600 and 86400 secs:\n",
    "    # duration=3600,\n",
    "    # instead of event duration just func that makes actual_dynamics:\n",
    "    # lambda: choice(dynamics[3600])\n",
    "    actual_dynamics = 1.03,\n",
    "    target_dynamics=1,\n",
    "\n",
    "    fee=0.03,\n",
    "\n",
    "    primary_provider_amount=100,\n",
    "\n",
    "    # make ratio estimation based on market data ratio with some error added:\n",
    "    primary_provider_ratio_a=1,\n",
    "    primary_provider_ratio_b=1,\n",
    "    # ^^ or use one value for all ratios?\n",
    "\n",
    "    following_provider_amount=100,\n",
    "\n",
    "    # TODO: make bettor_ratio_tends_to that calculated on market data with some error\n",
    "    # bettor_ratio_tends_to\n",
    "\n",
    "    # TODO: bet value should be distributed exponentialy and coef should be addred in params\n",
    "    bet_mean_value=1,\n",
    "    bet_lambda=1,\n",
    "\n",
    "    # chance that one of the users will bet during the tick:\n",
    "    bet_chance=0.1,\n",
    "\n",
    "    # TODO: include DAO profit fee somewhere\n",
    ")\n",
    "\n",
    "\n",
    "\n",
    "# class EventRunner?\n",
    "def run_random_event(**args):\n",
    "    # TODO: decide is this good way to work with params?\n",
    "    p = SimpleNamespace(**args)\n",
    "\n",
    "    # creating users:\n",
    "    users = [f'user_{num}' for num in range(p.users_count)]\n",
    "    primary_provider = 'primary_provider'\n",
    "    following_provider = 'following_provider'\n",
    "\n",
    "    winning_pool = 'aboveEq' if p.actual_dynamics >= p.target_dynamics else 'below'\n",
    "    event = EventModel(\n",
    "        fee=p.fee,\n",
    "        winning_pool=winning_pool\n",
    "    )\n",
    "\n",
    "    # TODO: move provided ratio to generation_params + emulate some error to this ratio\n",
    "    event.provide_liquidity(\n",
    "        user=primary_provider,\n",
    "        amount=p.primary_provider_amount,\n",
    "        pool_a=p.primary_provider_ratio_a,\n",
    "        pool_b=p.primary_provider_ratio_b\n",
    "    )\n",
    "\n",
    "    following_provider_entry_tick = randint(0, p.ticks)\n",
    "\n",
    "    for tick in range(p.ticks):\n",
    "        if p.bet_chance > random():\n",
    "            # TODO: amount to generation_params\n",
    "            # make normal distributed bet: (mean_bet, sigma)\n",
    "            bet_amount = p.bet_mean_value\n",
    "            bet_pool = choice(['aboveEq', 'below'])\n",
    "            event.bet(\n",
    "                user=choice(users),\n",
    "                amount=bet_amount,\n",
    "                pool=bet_pool,\n",
    "                time=tick/p.ticks\n",
    "            )\n",
    "\n",
    "            # TODO: make that betters tend to market data ratio with some error or without?\n",
    "            # TODO: how to both have exponential distribution and tending to some value?\n",
    "\n",
    "        if tick == following_provider_entry_tick:\n",
    "            event.provide_liquidity(\n",
    "                user=following_provider,\n",
    "                amount=p.following_provider_amount\n",
    "            )\n",
    "\n",
    "    return event"
   ]
  },
  {
   "cell_type": "markdown",
   "id": "8d195a2c-f9ce-45a5-a0e3-c775fcb5fac3",
   "metadata": {},
   "source": [
    "### Running generation:"
   ]
  },
  {
   "cell_type": "code",
   "execution_count": 11,
   "id": "34fd1a3b-450f-4c33-89ba-74f8d5691cb1",
   "metadata": {},
   "outputs": [
    {
     "name": "stderr",
     "output_type": "stream",
     "text": [
      "100%|██████████| 1000/1000 [00:00<00:00, 2400.69it/s]"
     ]
    },
    {
     "name": "stdout",
     "output_type": "stream",
     "text": [
      "CPU times: user 490 ms, sys: 10.4 ms, total: 500 ms\n",
      "Wall time: 530 ms\n"
     ]
    },
    {
     "name": "stderr",
     "output_type": "stream",
     "text": [
      "\n"
     ]
    }
   ],
   "source": [
    "%%time\n",
    "iterations = 1000\n",
    "\n",
    "results = [\n",
    "    {\n",
    "        # TODO: here should be new params generated each call:\n",
    "        **generation_params,\n",
    "        **run_random_event(**generation_params).to_dict()\n",
    "    } for _ in tqdm(range(iterations))\n",
    "]\n",
    "\n",
    "df = pd.json_normalize(results)"
   ]
  }
 ],
 "metadata": {
  "kernelspec": {
   "display_name": "Python 3",
   "language": "python",
   "name": "python3"
  },
  "language_info": {
   "codemirror_mode": {
    "name": "ipython",
    "version": 3
   },
   "file_extension": ".py",
   "mimetype": "text/x-python",
   "name": "python",
   "nbconvert_exporter": "python",
   "pygments_lexer": "ipython3",
   "version": "3.9.5"
  }
 },
 "nbformat": 4,
 "nbformat_minor": 5
}
