{
 "cells": [
  {
   "cell_type": "markdown",
   "id": "damaged-breast",
   "metadata": {},
   "source": [
    "### Модель анализа точки безубыточности для ставок на падение курса USD/XTZ, измеряемых в USD:\n",
    "- Пример расчёта результата в USD для ставки 1 xtz против роста курса в событие с пулом 1xtz:1xtz и итоговой динамикой 0.9 xtz"
   ]
  },
  {
   "cell_type": "code",
   "execution_count": 72,
   "id": "advisory-pickup",
   "metadata": {},
   "outputs": [
    {
     "data": {
      "text/plain": [
       "1.35"
      ]
     },
     "execution_count": 72,
     "metadata": {},
     "output_type": "execute_result"
    }
   ],
   "source": [
    "usd_to_xtz_start = 4.20\n",
    "target_usd_to_tez_dynamics = 0.95\n",
    "real_usd_to_tez_dynamics = 0.9\n",
    "\n",
    "bet_against_xtz = 1\n",
    "bet_against_usd = bet_against_xtz * usd_to_xtz_start\n",
    "\n",
    "pool_for_xtz = 1\n",
    "pool_against_xtz = 1\n",
    "ratio = pool_for_xtz / (pool_against_xtz + bet_against_xtz)\n",
    "\n",
    "return_xtz = ratio * bet_against_xtz + bet_against_xtz\n",
    "return_usd = return_xtz * real_usd_to_tez_dynamics * usd_to_xtz_start\n",
    "\n",
    "result_usd = return_usd / bet_against_usd\n",
    "result_usd"
   ]
  },
  {
   "cell_type": "markdown",
   "id": "talented-operator",
   "metadata": {},
   "source": [
    "### Упрощённа эта модель может быть сведена к двум параметрам: ratio, real_usd_to_tez_dynamics\n",
    "* targetDynamics не играет никакой роли: он меняет состав события, что сказывается на смещении ratio, но непосредственно для расчётов безубыточности ставки в USD влияние не оказывает."
   ]
  },
  {
   "cell_type": "code",
   "execution_count": 73,
   "id": "aggregate-partner",
   "metadata": {},
   "outputs": [
    {
     "data": {
      "text/plain": [
       "1.35"
      ]
     },
     "execution_count": 73,
     "metadata": {},
     "output_type": "execute_result"
    }
   ],
   "source": [
    "def result_in_usd(ratio, real_usd_to_tez_dynamics):\n",
    "    return (1 + ratio) * real_usd_to_tez_dynamics\n",
    "\n",
    "result_in_usd(0.5, 0.9)"
   ]
  },
  {
   "cell_type": "markdown",
   "id": "legendary-joseph",
   "metadata": {},
   "source": [
    "### Таблица результатов ставки при различных параметрах ratio и real_usd_to_tez_dynamics:"
   ]
  },
  {
   "cell_type": "code",
   "execution_count": 71,
   "id": "acquired-manner",
   "metadata": {},
   "outputs": [
    {
     "data": {
      "text/html": [
       "<div>\n",
       "<style scoped>\n",
       "    .dataframe tbody tr th:only-of-type {\n",
       "        vertical-align: middle;\n",
       "    }\n",
       "\n",
       "    .dataframe tbody tr th {\n",
       "        vertical-align: top;\n",
       "    }\n",
       "\n",
       "    .dataframe thead th {\n",
       "        text-align: right;\n",
       "    }\n",
       "</style>\n",
       "<table border=\"1\" class=\"dataframe\">\n",
       "  <thead>\n",
       "    <tr style=\"text-align: right;\">\n",
       "      <th></th>\n",
       "      <th>0.50</th>\n",
       "      <th>0.65</th>\n",
       "      <th>0.80</th>\n",
       "      <th>0.95</th>\n",
       "      <th>1.10</th>\n",
       "      <th>1.25</th>\n",
       "      <th>1.40</th>\n",
       "      <th>1.55</th>\n",
       "      <th>1.70</th>\n",
       "      <th>1.85</th>\n",
       "      <th>2.00</th>\n",
       "    </tr>\n",
       "  </thead>\n",
       "  <tbody>\n",
       "    <tr>\n",
       "      <th>0.0</th>\n",
       "      <td>0.50</td>\n",
       "      <td>0.650</td>\n",
       "      <td>0.80</td>\n",
       "      <td>0.950</td>\n",
       "      <td>1.10</td>\n",
       "      <td>1.250</td>\n",
       "      <td>1.40</td>\n",
       "      <td>1.550</td>\n",
       "      <td>1.70</td>\n",
       "      <td>1.850</td>\n",
       "      <td>2.0</td>\n",
       "    </tr>\n",
       "    <tr>\n",
       "      <th>0.1</th>\n",
       "      <td>0.55</td>\n",
       "      <td>0.715</td>\n",
       "      <td>0.88</td>\n",
       "      <td>1.045</td>\n",
       "      <td>1.21</td>\n",
       "      <td>1.375</td>\n",
       "      <td>1.54</td>\n",
       "      <td>1.705</td>\n",
       "      <td>1.87</td>\n",
       "      <td>2.035</td>\n",
       "      <td>2.2</td>\n",
       "    </tr>\n",
       "    <tr>\n",
       "      <th>0.2</th>\n",
       "      <td>0.60</td>\n",
       "      <td>0.780</td>\n",
       "      <td>0.96</td>\n",
       "      <td>1.140</td>\n",
       "      <td>1.32</td>\n",
       "      <td>1.500</td>\n",
       "      <td>1.68</td>\n",
       "      <td>1.860</td>\n",
       "      <td>2.04</td>\n",
       "      <td>2.220</td>\n",
       "      <td>2.4</td>\n",
       "    </tr>\n",
       "    <tr>\n",
       "      <th>0.3</th>\n",
       "      <td>0.65</td>\n",
       "      <td>0.845</td>\n",
       "      <td>1.04</td>\n",
       "      <td>1.235</td>\n",
       "      <td>1.43</td>\n",
       "      <td>1.625</td>\n",
       "      <td>1.82</td>\n",
       "      <td>2.015</td>\n",
       "      <td>2.21</td>\n",
       "      <td>2.405</td>\n",
       "      <td>2.6</td>\n",
       "    </tr>\n",
       "    <tr>\n",
       "      <th>0.4</th>\n",
       "      <td>0.70</td>\n",
       "      <td>0.910</td>\n",
       "      <td>1.12</td>\n",
       "      <td>1.330</td>\n",
       "      <td>1.54</td>\n",
       "      <td>1.750</td>\n",
       "      <td>1.96</td>\n",
       "      <td>2.170</td>\n",
       "      <td>2.38</td>\n",
       "      <td>2.590</td>\n",
       "      <td>2.8</td>\n",
       "    </tr>\n",
       "    <tr>\n",
       "      <th>0.5</th>\n",
       "      <td>0.75</td>\n",
       "      <td>0.975</td>\n",
       "      <td>1.20</td>\n",
       "      <td>1.425</td>\n",
       "      <td>1.65</td>\n",
       "      <td>1.875</td>\n",
       "      <td>2.10</td>\n",
       "      <td>2.325</td>\n",
       "      <td>2.55</td>\n",
       "      <td>2.775</td>\n",
       "      <td>3.0</td>\n",
       "    </tr>\n",
       "    <tr>\n",
       "      <th>0.6</th>\n",
       "      <td>0.80</td>\n",
       "      <td>1.040</td>\n",
       "      <td>1.28</td>\n",
       "      <td>1.520</td>\n",
       "      <td>1.76</td>\n",
       "      <td>2.000</td>\n",
       "      <td>2.24</td>\n",
       "      <td>2.480</td>\n",
       "      <td>2.72</td>\n",
       "      <td>2.960</td>\n",
       "      <td>3.2</td>\n",
       "    </tr>\n",
       "    <tr>\n",
       "      <th>0.7</th>\n",
       "      <td>0.85</td>\n",
       "      <td>1.105</td>\n",
       "      <td>1.36</td>\n",
       "      <td>1.615</td>\n",
       "      <td>1.87</td>\n",
       "      <td>2.125</td>\n",
       "      <td>2.38</td>\n",
       "      <td>2.635</td>\n",
       "      <td>2.89</td>\n",
       "      <td>3.145</td>\n",
       "      <td>3.4</td>\n",
       "    </tr>\n",
       "    <tr>\n",
       "      <th>0.8</th>\n",
       "      <td>0.90</td>\n",
       "      <td>1.170</td>\n",
       "      <td>1.44</td>\n",
       "      <td>1.710</td>\n",
       "      <td>1.98</td>\n",
       "      <td>2.250</td>\n",
       "      <td>2.52</td>\n",
       "      <td>2.790</td>\n",
       "      <td>3.06</td>\n",
       "      <td>3.330</td>\n",
       "      <td>3.6</td>\n",
       "    </tr>\n",
       "    <tr>\n",
       "      <th>0.9</th>\n",
       "      <td>0.95</td>\n",
       "      <td>1.235</td>\n",
       "      <td>1.52</td>\n",
       "      <td>1.805</td>\n",
       "      <td>2.09</td>\n",
       "      <td>2.375</td>\n",
       "      <td>2.66</td>\n",
       "      <td>2.945</td>\n",
       "      <td>3.23</td>\n",
       "      <td>3.515</td>\n",
       "      <td>3.8</td>\n",
       "    </tr>\n",
       "    <tr>\n",
       "      <th>1.0</th>\n",
       "      <td>1.00</td>\n",
       "      <td>1.300</td>\n",
       "      <td>1.60</td>\n",
       "      <td>1.900</td>\n",
       "      <td>2.20</td>\n",
       "      <td>2.500</td>\n",
       "      <td>2.80</td>\n",
       "      <td>3.100</td>\n",
       "      <td>3.40</td>\n",
       "      <td>3.700</td>\n",
       "      <td>4.0</td>\n",
       "    </tr>\n",
       "  </tbody>\n",
       "</table>\n",
       "</div>"
      ],
      "text/plain": [
       "     0.50   0.65  0.80   0.95  1.10   1.25  1.40   1.55  1.70   1.85  2.00\n",
       "0.0  0.50  0.650  0.80  0.950  1.10  1.250  1.40  1.550  1.70  1.850   2.0\n",
       "0.1  0.55  0.715  0.88  1.045  1.21  1.375  1.54  1.705  1.87  2.035   2.2\n",
       "0.2  0.60  0.780  0.96  1.140  1.32  1.500  1.68  1.860  2.04  2.220   2.4\n",
       "0.3  0.65  0.845  1.04  1.235  1.43  1.625  1.82  2.015  2.21  2.405   2.6\n",
       "0.4  0.70  0.910  1.12  1.330  1.54  1.750  1.96  2.170  2.38  2.590   2.8\n",
       "0.5  0.75  0.975  1.20  1.425  1.65  1.875  2.10  2.325  2.55  2.775   3.0\n",
       "0.6  0.80  1.040  1.28  1.520  1.76  2.000  2.24  2.480  2.72  2.960   3.2\n",
       "0.7  0.85  1.105  1.36  1.615  1.87  2.125  2.38  2.635  2.89  3.145   3.4\n",
       "0.8  0.90  1.170  1.44  1.710  1.98  2.250  2.52  2.790  3.06  3.330   3.6\n",
       "0.9  0.95  1.235  1.52  1.805  2.09  2.375  2.66  2.945  3.23  3.515   3.8\n",
       "1.0  1.00  1.300  1.60  1.900  2.20  2.500  2.80  3.100  3.40  3.700   4.0"
      ]
     },
     "execution_count": 71,
     "metadata": {},
     "output_type": "execute_result"
    }
   ],
   "source": [
    "import pandas as pd\n",
    "import numpy as np\n",
    "\n",
    "usd_returns = pd.DataFrame({\n",
    "    dynamics: {rate: result_in_usd(rate, dynamics) for rate in np.linspace(0, 1, 11)}\n",
    "    for dynamics in np.linspace(0.5, 2, 11)\n",
    "})\n",
    "\n",
    "usd_returns#.style.background_gradient(cmap='viridis', axis=None)"
   ]
  },
  {
   "cell_type": "markdown",
   "id": "forty-anthropology",
   "metadata": {},
   "source": [
    "### Анализ точки безубыточности для ставок в USD:\n",
    "* Точка может быть описана следующей линией:\n",
    "```(1 + ratio) * real_usd_to_tez_dynamics == 1```\n",
    "* breakeven: функция которая рассчитывает real_usd_to_tez_dynamics от ratio при условии что итоговый результат в USD == 1"
   ]
  },
  {
   "cell_type": "code",
   "execution_count": 74,
   "id": "elementary-attempt",
   "metadata": {},
   "outputs": [],
   "source": [
    "import seaborn as sns\n",
    "from matplotlib import pyplot as plt\n",
    "sns.set_style('whitegrid')"
   ]
  },
  {
   "cell_type": "code",
   "execution_count": 75,
   "id": "clear-luther",
   "metadata": {},
   "outputs": [
    {
     "data": {
      "text/plain": [
       "Text(1.4, 0.45, 'breakeven xtz_to_usd = 1 / (1 + ratio)')"
      ]
     },
     "execution_count": 75,
     "metadata": {},
     "output_type": "execute_result"
    },
    {
     "data": {
      "image/png": "[encoded data removed]",
      "text/plain": [
       "<Figure size 432x360 with 1 Axes>"
      ]
     },
     "metadata": {},
     "output_type": "display_data"
    }
   ],
   "source": [
    "def breakeven(ratio):\n",
    "    return 1/(1 + ratio)\n",
    "\n",
    "ratios = np.linspace(0, 5, 100)\n",
    "breakeven_dynamics = [breakeven(x) for x in ratios]\n",
    "ax = pd.Series(breakeven_dynamics, index=ratios).plot(figsize=(6, 5))\n",
    "ax.set_xlabel('result ratio after bet against (poolFor / poolAgainst)')\n",
    "ax.set_ylabel('min usd_dynamics that will be profitable in USD')\n",
    "\n",
    "plt.vlines(x=1, ymax=breakeven(1), ymin=0, color='k', linestyle='--', linewidth=1)\n",
    "plt.hlines(xmin=0, xmax=1, y=breakeven(1), color='k', linestyle='--', linewidth=1)\n",
    "plt.annotate('breakeven xtz_to_usd = 1 / (1 + ratio)', (1.4, 0.45))"
   ]
  },
  {
   "cell_type": "markdown",
   "id": "spanish-beauty",
   "metadata": {},
   "source": [
    "Доходность ставки в USD зависит от итоговой динамики курса и соотношения ratio после ставки. Точка безубыточности для ставок на падение курса XTZ, измеряемая в USD (пограничные условия, для получения положительного результата в USD, в случае победы при ставке на падение XTZ) отражены на графике выше.\n",
    "\n",
    "1. При ratio -> 0 (когда никто не ожидает что событие завершится положительно и курс будет падать) результат ставки полностью соответствует движению курса (потенциальный выйгрыш стремится к нулю).\n",
    "2. При ratio == 1 (когда оба пула сбалансированы), результат ставки будет убыточным в USD только если курс упадёт больше чем в два раза.\n",
    "3. При ratio -> ∞ (когда все считают что событие завершится положительно и курс вырастет), выйгрыш ставки против будет давать несоизмеримо большее преимущество чем падение курса"
   ]
  },
  {
   "cell_type": "markdown",
   "id": "hispanic-course",
   "metadata": {},
   "source": [
    "### Также нужно обратить внимание на то, что:\n",
    "* bet в USD будет зависить от времени ставки, курс во время ставки может меняться"
   ]
  }
 ],
 "metadata": {
  "kernelspec": {
   "display_name": "Python 3",
   "language": "python",
   "name": "python3"
  },
  "language_info": {
   "codemirror_mode": {
    "name": "ipython",
    "version": 3
   },
   "file_extension": ".py",
   "mimetype": "text/x-python",
   "name": "python",
   "nbconvert_exporter": "python",
   "pygments_lexer": "ipython3",
   "version": "3.9.2"
  }
 },
 "nbformat": 4,
 "nbformat_minor": 5
}
