{
 "cells": [
  {
   "cell_type": "code",
   "execution_count": 30,
   "id": "1fee898d-ab05-422f-9e11-d0dabadb9d52",
   "metadata": {
    "tags": []
   },
   "outputs": [
    {
     "data": {
      "text/plain": [
       "<Pools>\n",
       "{\n",
       "    \"for\": 75.0,\n",
       "    \"against\": 25.0\n",
       "}"
      ]
     },
     "execution_count": 30,
     "metadata": {},
     "output_type": "execute_result"
    }
   ],
   "source": [
    "jb = JusterB.new_with_deposit('A', 100, 300)\n",
    "insurance = jb.insure('B', 200, 'for')\n",
    "\n",
    "removed_value = 400\n",
    "jb.pools * (jb.balances['contract'] - removed_value) / removed_value"
   ]
  },
  {
   "cell_type": "markdown",
   "id": "da66a7cd-e644-4144-8217-44578a75ab17",
   "metadata": {},
   "source": [
    "### А что если пулы всегда держать нормализованными и держать просто на контракте текущую ликвидность? вообще отойти от имеющихся идей"
   ]
  },
  {
   "cell_type": "code",
   "execution_count": 33,
   "id": "661939f7-e1ba-4224-8877-3accbb8409f9",
   "metadata": {},
   "outputs": [
    {
     "data": {
      "text/plain": [
       "<Pools>\n",
       "{\n",
       "    \"for\": 3.0,\n",
       "    \"against\": 1.0\n",
       "}"
      ]
     },
     "execution_count": 33,
     "metadata": {},
     "output_type": "execute_result"
    }
   ],
   "source": [
    "jb.pools / jb.pools.min()"
   ]
  },
  {
   "cell_type": "markdown",
   "id": "91bc98c1-141d-4ec5-ae22-f2e21b976cad",
   "metadata": {
    "tags": []
   },
   "source": [
    "### new test:"
   ]
  },
  {
   "cell_type": "code",
   "execution_count": 1,
   "id": "c656932c-64bd-4ef4-a864-7e764a8d12d7",
   "metadata": {},
   "outputs": [],
   "source": [
    "from importlib import reload\n",
    "import deposit, agreement, juster_b, lock\n",
    "reload(lock); reload(deposit); reload(agreement); reload(juster_b)\n",
    "from juster_b import JusterB\n",
    "from pools import Pools\n",
    "\n",
    "# the case when one wins with one pool and other with another:\n",
    "\n",
    "jb = JusterB.new_with_deposit('A', 100, 100)\n",
    "insurance_one = jb.insure('B', 9900, 'against')\n",
    "\n",
    "assert jb.pools == Pools(1, 10000)"
   ]
  },
  {
   "cell_type": "code",
   "execution_count": 2,
   "id": "1af3eb1b-7810-4824-a12f-639d11908ad9",
   "metadata": {},
   "outputs": [
    {
     "data": {
      "text/plain": [
       "<Line>\n",
       "{\n",
       "    \"pools\": {\n",
       "        \"for\": 1.0,\n",
       "        \"against\": 10000\n",
       "    },\n",
       "    \"total_shares\": 100,\n",
       "    \"is_claimed\": false,\n",
       "    \"agreements\": {\n",
       "        \"0\": {\n",
       "            \"user\": \"B\",\n",
       "            \"pool\": \"against\",\n",
       "            \"amount\": 9900,\n",
       "            \"delta\": 99.0\n",
       "        }\n",
       "    },\n",
       "    \"deposits\": {\n",
       "        \"A\": {\n",
       "            \"amount\": 100,\n",
       "            \"shares\": 100,\n",
       "            \"pools\": {\n",
       "                \"for\": 100,\n",
       "                \"against\": 100\n",
       "            }\n",
       "        }\n",
       "    },\n",
       "    \"locks\": {},\n",
       "    \"balances\": {\n",
       "        \"A\": -100,\n",
       "        \"contract\": 10000,\n",
       "        \"B\": -9900\n",
       "    }\n",
       "}"
      ]
     },
     "execution_count": 2,
     "metadata": {},
     "output_type": "execute_result"
    }
   ],
   "source": [
    "jb"
   ]
  },
  {
   "cell_type": "code",
   "execution_count": 3,
   "id": "ee74abd4-54d2-4ba2-8166-269c58584a26",
   "metadata": {},
   "outputs": [],
   "source": [
    "jb.give_reward(insurance_one)"
   ]
  },
  {
   "cell_type": "code",
   "execution_count": 4,
   "id": "6e7ef93e-0820-41e6-a8df-62a320ae05c6",
   "metadata": {},
   "outputs": [
    {
     "data": {
      "text/plain": [
       "<Line>\n",
       "{\n",
       "    \"pools\": {\n",
       "        \"for\": 9.999999999998899e-05,\n",
       "        \"against\": 0.9999999999998899\n",
       "    },\n",
       "    \"total_shares\": 100,\n",
       "    \"is_claimed\": false,\n",
       "    \"agreements\": {},\n",
       "    \"deposits\": {\n",
       "        \"A\": {\n",
       "            \"amount\": 100,\n",
       "            \"shares\": 100,\n",
       "            \"pools\": {\n",
       "                \"for\": 100,\n",
       "                \"against\": 100\n",
       "            }\n",
       "        }\n",
       "    },\n",
       "    \"locks\": {},\n",
       "    \"balances\": {\n",
       "        \"A\": -100,\n",
       "        \"contract\": 1.0,\n",
       "        \"B\": 99.0\n",
       "    }\n",
       "}"
      ]
     },
     "execution_count": 4,
     "metadata": {},
     "output_type": "execute_result"
    }
   ],
   "source": [
    "jb"
   ]
  },
  {
   "cell_type": "code",
   "execution_count": 5,
   "id": "d2ae2004-01e0-4048-ad53-225ee3d71d82",
   "metadata": {},
   "outputs": [
    {
     "data": {
      "text/plain": [
       "10000.0000000011"
      ]
     },
     "execution_count": 5,
     "metadata": {},
     "output_type": "execute_result"
    }
   ],
   "source": [
    "jb.inflation"
   ]
  },
  {
   "cell_type": "code",
   "execution_count": 6,
   "id": "dfdc0c08-dd8f-4de5-b987-5b053fb5da6c",
   "metadata": {},
   "outputs": [
    {
     "data": {
      "text/plain": [
       "100.0"
      ]
     },
     "execution_count": 6,
     "metadata": {},
     "output_type": "execute_result"
    }
   ],
   "source": [
    "delta = 99\n",
    "amount = 9900\n",
    "max_pools = 10000\n",
    "\n",
    "left_liquidity = max_pools - amount - delta\n",
    "\n",
    "# (1 + (max_pools - amount))*delta\n",
    "amount / max_pools\n",
    "max_pools / (max_pools - amount)"
   ]
  },
  {
   "cell_type": "code",
   "execution_count": 7,
   "id": "d990d826-6f3a-4421-be64-68f1a299282b",
   "metadata": {},
   "outputs": [
    {
     "data": {
      "text/plain": [
       "9.999999999998899e-05"
      ]
     },
     "execution_count": 7,
     "metadata": {},
     "output_type": "execute_result"
    }
   ],
   "source": [
    "1 - (amount + delta) / max_pools"
   ]
  },
  {
   "cell_type": "code",
   "execution_count": 8,
   "id": "9dcbd1fc-056c-4ed9-af57-60fcd1012140",
   "metadata": {},
   "outputs": [
    {
     "data": {
      "text/plain": [
       "10000.0000000011"
      ]
     },
     "execution_count": 8,
     "metadata": {},
     "output_type": "execute_result"
    }
   ],
   "source": [
    "1 / (1 - (amount + delta) / max_pools)"
   ]
  },
  {
   "cell_type": "code",
   "execution_count": 9,
   "id": "e6588a56-8f72-43d3-9437-e921b149393e",
   "metadata": {},
   "outputs": [
    {
     "data": {
      "text/plain": [
       "99.99999999999991"
      ]
     },
     "execution_count": 9,
     "metadata": {},
     "output_type": "execute_result"
    }
   ],
   "source": [
    "1 / (1 - (amount) / max_pools)"
   ]
  },
  {
   "cell_type": "code",
   "execution_count": 10,
   "id": "8a9aa12a-5895-4143-8550-166e36efb69f",
   "metadata": {},
   "outputs": [
    {
     "data": {
      "text/plain": [
       "<Line>\n",
       "{\n",
       "    \"pools\": {\n",
       "        \"for\": 9.999999999998899e-05,\n",
       "        \"against\": 0.9999999999998899\n",
       "    },\n",
       "    \"total_shares\": 100,\n",
       "    \"is_claimed\": false,\n",
       "    \"agreements\": {},\n",
       "    \"deposits\": {\n",
       "        \"A\": {\n",
       "            \"amount\": 100,\n",
       "            \"shares\": 100,\n",
       "            \"pools\": {\n",
       "                \"for\": 100,\n",
       "                \"against\": 100\n",
       "            }\n",
       "        }\n",
       "    },\n",
       "    \"locks\": {},\n",
       "    \"balances\": {\n",
       "        \"A\": -100,\n",
       "        \"contract\": 1.0,\n",
       "        \"B\": 99.0\n",
       "    }\n",
       "}"
      ]
     },
     "execution_count": 10,
     "metadata": {},
     "output_type": "execute_result"
    }
   ],
   "source": [
    "jb"
   ]
  },
  {
   "cell_type": "code",
   "execution_count": 11,
   "id": "5d12e4b3-730f-4f80-8a42-dfeb68f5c962",
   "metadata": {},
   "outputs": [],
   "source": [
    "# Pools should be reduced here, but there are no such kind of logic in model yet:\n",
    "# assert jb.pools == Pools(0.0001, 1)\n",
    "\n",
    "insurance_two = jb.insure('C', 1, 'for')\n",
    "# assert jb.pools == Pools(1, 0.0001)"
   ]
  },
  {
   "cell_type": "code",
   "execution_count": 12,
   "id": "0f33cc32-6167-4238-8c0c-99dd269fa61c",
   "metadata": {},
   "outputs": [],
   "source": [
    "\n",
    "jb.claim_insurance_case()\n",
    "\n",
    "jb.give_reward(insurance_two)"
   ]
  },
  {
   "cell_type": "code",
   "execution_count": 13,
   "id": "659933a0-93db-47ef-bf96-9731c26e9546",
   "metadata": {},
   "outputs": [
    {
     "ename": "InvalidState",
     "evalue": "Negative amount on contract",
     "output_type": "error",
     "traceback": [
      "\u001b[0;31m---------------------------------------------------------------------------\u001b[0m",
      "\u001b[0;31mInvalidState\u001b[0m                              Traceback (most recent call last)",
      "\u001b[0;32m<ipython-input-13-7dec9677fe61>\u001b[0m in \u001b[0;36m<module>\u001b[0;34m\u001b[0m\n\u001b[1;32m      1\u001b[0m \u001b[0mlock\u001b[0m \u001b[0;34m=\u001b[0m \u001b[0mjb\u001b[0m\u001b[0;34m.\u001b[0m\u001b[0mlock_liquidity\u001b[0m\u001b[0;34m(\u001b[0m\u001b[0;34m'A'\u001b[0m\u001b[0;34m,\u001b[0m \u001b[0;36m100\u001b[0m\u001b[0;34m)\u001b[0m\u001b[0;34m\u001b[0m\u001b[0;34m\u001b[0m\u001b[0m\n\u001b[0;32m----> 2\u001b[0;31m \u001b[0mjb\u001b[0m\u001b[0;34m.\u001b[0m\u001b[0mwithdraw_lock\u001b[0m\u001b[0;34m(\u001b[0m\u001b[0mlock\u001b[0m\u001b[0;34m)\u001b[0m\u001b[0;34m\u001b[0m\u001b[0;34m\u001b[0m\u001b[0m\n\u001b[0m\u001b[1;32m      3\u001b[0m \u001b[0;31m# jb.assert_empty()\u001b[0m\u001b[0;34m\u001b[0m\u001b[0;34m\u001b[0m\u001b[0m\n\u001b[1;32m      4\u001b[0m \u001b[0;34m\u001b[0m\u001b[0m\n\u001b[1;32m      5\u001b[0m \u001b[0mjb\u001b[0m\u001b[0;34m\u001b[0m\u001b[0;34m\u001b[0m\u001b[0m\n",
      "\u001b[0;32m~/Projects/tezos-defi/juster/juster-core/projects/2021-10-22-juster-b/juster_b.py\u001b[0m in \u001b[0;36mwithdraw_lock\u001b[0;34m(self, lock_id)\u001b[0m\n\u001b[1;32m    134\u001b[0m         \u001b[0mwithdrawn_fraction\u001b[0m \u001b[0;34m=\u001b[0m \u001b[0mlock\u001b[0m\u001b[0;34m.\u001b[0m\u001b[0mshares\u001b[0m \u001b[0;34m/\u001b[0m \u001b[0mdeposit\u001b[0m\u001b[0;34m.\u001b[0m\u001b[0mshares\u001b[0m\u001b[0;34m\u001b[0m\u001b[0;34m\u001b[0m\u001b[0m\n\u001b[1;32m    135\u001b[0m         \u001b[0mwithdrawn_liquidity\u001b[0m \u001b[0;34m=\u001b[0m \u001b[0;34m(\u001b[0m\u001b[0mdeposit\u001b[0m\u001b[0;34m.\u001b[0m\u001b[0mamount\u001b[0m \u001b[0;34m+\u001b[0m \u001b[0mprofit\u001b[0m\u001b[0;34m)\u001b[0m \u001b[0;34m*\u001b[0m \u001b[0mwithdrawn_fraction\u001b[0m\u001b[0;34m\u001b[0m\u001b[0;34m\u001b[0m\u001b[0m\n\u001b[0;32m--> 136\u001b[0;31m         \u001b[0mself\u001b[0m\u001b[0;34m.\u001b[0m\u001b[0mbalance_update\u001b[0m\u001b[0;34m(\u001b[0m\u001b[0mlock\u001b[0m\u001b[0;34m.\u001b[0m\u001b[0muser\u001b[0m\u001b[0;34m,\u001b[0m \u001b[0mwithdrawn_liquidity\u001b[0m\u001b[0;34m)\u001b[0m\u001b[0;34m\u001b[0m\u001b[0;34m\u001b[0m\u001b[0m\n\u001b[0m\u001b[1;32m    137\u001b[0m         \u001b[0mself\u001b[0m\u001b[0;34m.\u001b[0m\u001b[0mdeposits\u001b[0m\u001b[0;34m[\u001b[0m\u001b[0mlock\u001b[0m\u001b[0;34m.\u001b[0m\u001b[0muser\u001b[0m\u001b[0;34m]\u001b[0m \u001b[0;34m*=\u001b[0m \u001b[0;36m1\u001b[0m \u001b[0;34m-\u001b[0m \u001b[0mwithdrawn_fraction\u001b[0m\u001b[0;34m\u001b[0m\u001b[0;34m\u001b[0m\u001b[0m\n\u001b[1;32m    138\u001b[0m         \u001b[0mself\u001b[0m\u001b[0;34m.\u001b[0m\u001b[0mtotal_shares\u001b[0m \u001b[0;34m-=\u001b[0m \u001b[0mlock\u001b[0m\u001b[0;34m.\u001b[0m\u001b[0mshares\u001b[0m\u001b[0;34m\u001b[0m\u001b[0;34m\u001b[0m\u001b[0m\n",
      "\u001b[0;32m~/Projects/tezos-defi/juster/juster-core/projects/2021-10-22-juster-b/juster_b.py\u001b[0m in \u001b[0;36mbalance_update\u001b[0;34m(self, user, change)\u001b[0m\n\u001b[1;32m     68\u001b[0m         \u001b[0mself\u001b[0m\u001b[0;34m.\u001b[0m\u001b[0mbalances\u001b[0m\u001b[0;34m[\u001b[0m\u001b[0;34m'contract'\u001b[0m\u001b[0;34m]\u001b[0m \u001b[0;34m=\u001b[0m \u001b[0mself\u001b[0m\u001b[0;34m.\u001b[0m\u001b[0mbalances\u001b[0m\u001b[0;34m.\u001b[0m\u001b[0mget\u001b[0m\u001b[0;34m(\u001b[0m\u001b[0;34m'contract'\u001b[0m\u001b[0;34m,\u001b[0m \u001b[0;36m0\u001b[0m\u001b[0;34m)\u001b[0m \u001b[0;34m-\u001b[0m \u001b[0mchange\u001b[0m\u001b[0;34m\u001b[0m\u001b[0;34m\u001b[0m\u001b[0m\n\u001b[1;32m     69\u001b[0m         \u001b[0;32mif\u001b[0m \u001b[0mself\u001b[0m\u001b[0;34m.\u001b[0m\u001b[0mbalances\u001b[0m\u001b[0;34m[\u001b[0m\u001b[0;34m'contract'\u001b[0m\u001b[0;34m]\u001b[0m \u001b[0;34m<\u001b[0m \u001b[0;34m-\u001b[0m\u001b[0mself\u001b[0m\u001b[0;34m.\u001b[0m\u001b[0mtolerance\u001b[0m\u001b[0;34m:\u001b[0m\u001b[0;34m\u001b[0m\u001b[0;34m\u001b[0m\u001b[0m\n\u001b[0;32m---> 70\u001b[0;31m             \u001b[0;32mraise\u001b[0m \u001b[0mInvalidState\u001b[0m\u001b[0;34m(\u001b[0m\u001b[0;34m'Negative amount on contract'\u001b[0m\u001b[0;34m)\u001b[0m\u001b[0;34m\u001b[0m\u001b[0;34m\u001b[0m\u001b[0m\n\u001b[0m\u001b[1;32m     71\u001b[0m \u001b[0;34m\u001b[0m\u001b[0m\n\u001b[1;32m     72\u001b[0m     \u001b[0;32mdef\u001b[0m \u001b[0mprovide_liquidity\u001b[0m\u001b[0;34m(\u001b[0m\u001b[0mself\u001b[0m\u001b[0;34m,\u001b[0m \u001b[0muser\u001b[0m\u001b[0;34m,\u001b[0m \u001b[0mamount\u001b[0m\u001b[0;34m)\u001b[0m\u001b[0;34m:\u001b[0m\u001b[0;34m\u001b[0m\u001b[0;34m\u001b[0m\u001b[0m\n",
      "\u001b[0;31mInvalidState\u001b[0m: Negative amount on contract"
     ]
    }
   ],
   "source": [
    "lock = jb.lock_liquidity('A', 100)\n",
    "jb.withdraw_lock(lock)\n",
    "# jb.assert_empty()\n",
    "\n",
    "jb"
   ]
  },
  {
   "cell_type": "code",
   "execution_count": 16,
   "id": "3f7e00bf-0bf3-4ac9-9a5c-8df1d8147a16",
   "metadata": {
    "tags": []
   },
   "outputs": [
    {
     "data": {
      "text/plain": [
       "<Line>\n",
       "{\n",
       "    \"actual_pools\": {\n",
       "        \"for\": 0.0,\n",
       "        \"against\": 0.0\n",
       "    },\n",
       "    \"total_shares\": 0,\n",
       "    \"is_claimed\": true,\n",
       "    \"agreements\": {},\n",
       "    \"deposits\": {\n",
       "        \"A\": {\n",
       "            \"amount\": 0.0,\n",
       "            \"shares\": 0.0,\n",
       "            \"pools\": {\n",
       "                \"for\": 0.0,\n",
       "                \"against\": 0.0\n",
       "            }\n",
       "        }\n",
       "    },\n",
       "    \"locks\": {},\n",
       "    \"balances\": {\n",
       "        \"A\": 500.0,\n",
       "        \"B\": 500.0,\n",
       "        \"C\": -1000\n",
       "    }\n",
       "}"
      ]
     },
     "execution_count": 16,
     "metadata": {},
     "output_type": "execute_result"
    }
   ],
   "source": [
    "from importlib import reload\n",
    "import deposit, agreement, juster_b, lock\n",
    "reload(lock); reload(deposit); reload(agreement); reload(juster_b)\n",
    "from juster_b import JusterB\n",
    "\n",
    "jb = JusterB.new_with_deposit('A', 1000, 1000)\n",
    "insurance_one = jb.insure('B', 1000, 'for')\n",
    "lock = jb.lock_liquidity('A', 500)\n",
    "insurance_two = jb.insure('C', 1000, 'against')\n",
    "jb.claim_insurance_case()\n",
    "jb.give_reward(insurance_one)\n",
    "jb.withdraw_lock(lock)\n",
    "jb.give_reward(insurance_two)\n",
    "lock = jb.lock_liquidity('A', 500)\n",
    "jb.withdraw_lock(lock)\n",
    "\n",
    "# jb.assert_empty()\n",
    "\n",
    "# - test case with 50% liquidity locked, then claim insurance and remove liquidity (should be the same result)\n",
    "# - test case where 50% liquidity locked, then some bets, then remove liquidity, then claim insurance, then remove another 50%\n",
    "# - test case where claim_insurance_case called after lock created and after it should be freed (provider should receive profit from against pool)\n",
    "\n",
    "\n",
    "# - test case when someone put a lot of liquidity in the end and get it back\n",
    "# - test non symetrical event start\n",
    "# - mix multiple cases\n",
    "\n",
    "# start to check that there are no arbitrague opportunities\n",
    "\n",
    "\n",
    "# что случится если до лока ликвидности были ставки, страховой случай не реализовался,\n",
    "# пользователи виздровнули эти ставки, потом хоп страховой случай и провайдер тогда по какому сценарию выводит лок?\n",
    "# -- надо в локе указывать время завершения лока и если страховой случай после него - значит по сценарию до лока\n",
    "\n",
    "# нужно анализировать ещё момент наступления страхового случая потому что если пользователь не виздровнул\n",
    "# и дождался страхового случая уже за пределами своего соглашения, этот случай на него не должен распространяться\n",
    "\n",
    "# 2. также если после лока были ставки, они по идее вообще не должны влиять на результат провайдера\n",
    "\n",
    "\n",
    "# 3. можно в модельку добавить каунтер, чтобы каждая операция связывалась со своим временем абстрактным, каждая следующая\n",
    "# операция это новое время\n",
    "# 4. можно добавить ещё .wait(time)\n",
    "\n",
    "# подумать нет ли смысла объединить withdraw_lock & give_reward?\n",
    "\n",
    "jb"
   ]
  },
  {
   "cell_type": "code",
   "execution_count": 17,
   "id": "73a3a0d0-103f-447e-95e6-b4598cae00d5",
   "metadata": {},
   "outputs": [
    {
     "ename": "AssertionError",
     "evalue": "",
     "output_type": "error",
     "traceback": [
      "\u001b[0;31m---------------------------------------------------------------------------\u001b[0m",
      "\u001b[0;31mAssertionError\u001b[0m                            Traceback (most recent call last)",
      "\u001b[0;32m<ipython-input-17-5ecef4777d94>\u001b[0m in \u001b[0;36m<module>\u001b[0;34m\u001b[0m\n\u001b[1;32m      9\u001b[0m \u001b[0;34m\u001b[0m\u001b[0m\n\u001b[1;32m     10\u001b[0m \u001b[0mlock\u001b[0m \u001b[0;34m=\u001b[0m \u001b[0mjb\u001b[0m\u001b[0;34m.\u001b[0m\u001b[0mlock_liquidity\u001b[0m\u001b[0;34m(\u001b[0m\u001b[0;34m'A'\u001b[0m\u001b[0;34m,\u001b[0m \u001b[0;36m500\u001b[0m\u001b[0;34m)\u001b[0m\u001b[0;34m\u001b[0m\u001b[0;34m\u001b[0m\u001b[0m\n\u001b[0;32m---> 11\u001b[0;31m \u001b[0;32massert\u001b[0m \u001b[0mjb\u001b[0m\u001b[0;34m.\u001b[0m\u001b[0mlocked_pools\u001b[0m \u001b[0;34m==\u001b[0m \u001b[0mPools\u001b[0m\u001b[0;34m(\u001b[0m\u001b[0;36m1000\u001b[0m\u001b[0;34m,\u001b[0m \u001b[0;36m250\u001b[0m\u001b[0;34m)\u001b[0m\u001b[0;34m\u001b[0m\u001b[0;34m\u001b[0m\u001b[0m\n\u001b[0m\u001b[1;32m     12\u001b[0m \u001b[0;34m\u001b[0m\u001b[0m\n\u001b[1;32m     13\u001b[0m \u001b[0;31m# C possible win is 800 = 1000 / 1250 * 1000:\u001b[0m\u001b[0;34m\u001b[0m\u001b[0;34m\u001b[0m\u001b[0m\n",
      "\u001b[0;31mAssertionError\u001b[0m: "
     ]
    }
   ],
   "source": [
    "# THIS CASE AGAIN:\n",
    "import pdb\n",
    "from pools import Pools\n",
    "\n",
    "# the case with insurance case while partial liquidity lock:\n",
    "jb = JusterB.new_with_deposit('A', 1000, 1000)\n",
    "insurance_one = jb.insure('B', 1000, 'for')\n",
    "assert jb.pools == Pools(2000, 500)\n",
    "\n",
    "lock = jb.lock_liquidity('A', 500)\n",
    "assert jb.locked_pools == Pools(1000, 250)\n",
    "\n",
    "# C possible win is 800 = 1000 / 1250 * 1000:\n",
    "insurance_two = jb.insure('C', 1000, 'against')\n",
    "actual_pools = jb.pools - jb.locked_pools\n",
    "assert actual_pools == Pools(200, 1250)\n",
    "assert jb.pools == Pools(1200, 1500)\n",
    "\n",
    "jb.claim_insurance_case()\n",
    "jb.give_reward(insurance_one)\n",
    "# at this moment:\n",
    "# - B wins 500 and need to return his 1000\n",
    "# - A loses 500 and it is splitted between actual pool (-250) and locked_pool (-250)\n",
    "\n",
    "jb.give_reward(insurance_two)\n",
    "\n",
    "# TODO replace two next and should not have any effect\n",
    "# jb.withdraw_lock(lock) \n",
    "# lock = jb.lock_liquidity('A', 500)\n",
    "# jb.withdraw_lock(lock)\n",
    "jb\n",
    "\n",
    "import pdb; pdb.run('jb.withdraw_lock(lock)')\n",
    "\n",
    "# ?? Вывод провайдера не должен зависеть от результата, так как в одном случае он проиграл с for, в другом выйграл с against\n",
    "# хотя нет, вроде как сходится что результат то один\n",
    "# pdb.run('jb.give_reward(insurance_one)')\n",
    "jb\n",
    "\n",
    "\n",
    "# МОЖЕТ БЫТЬ:\n",
    "# Участник при выходе не должен уже никак влиять на соотношение пулов, но он может их раздувать сдувать увеличивая\n",
    "# минимальную часть пула на забираемую / освобождаемую ликвидность"
   ]
  },
  {
   "cell_type": "code",
   "execution_count": 18,
   "id": "de559ce4-322f-443b-a90b-af61920a5ab1",
   "metadata": {},
   "outputs": [],
   "source": [
    "# the case when provider first wins with case \"for\" and then loses with case \"for\""
   ]
  },
  {
   "cell_type": "markdown",
   "id": "af2253d7-2c10-4801-a63a-935cca93e3b9",
   "metadata": {},
   "source": [
    "---\n",
    "а может пулы должны быть отвязаны от общей ликвидности? то есть должна быть переменная которая показывает сколько общей ликвидности в контракте и пулы которые никак с ней не связаны (но что-то мне в этом не нравится)\n",
    "\n",
    "---\n",
    "а не по минимальному ли пулу надо сокращать ликвидность и шринкать пулы?"
   ]
  },
  {
   "cell_type": "code",
   "execution_count": 19,
   "id": "7f774207-c0c1-450f-bb6c-e63fe8333119",
   "metadata": {},
   "outputs": [
    {
     "data": {
      "text/plain": [
       "<Line>\n",
       "{\n",
       "    \"actual_pools\": {\n",
       "        \"for\": 0.0,\n",
       "        \"against\": 0.0\n",
       "    },\n",
       "    \"total_shares\": 0,\n",
       "    \"is_claimed\": true,\n",
       "    \"agreements\": {},\n",
       "    \"deposits\": {\n",
       "        \"A\": {\n",
       "            \"amount\": 0.0,\n",
       "            \"shares\": 0.0,\n",
       "            \"pools\": {\n",
       "                \"for\": 0.0,\n",
       "                \"against\": 0.0\n",
       "            }\n",
       "        }\n",
       "    },\n",
       "    \"locks\": {},\n",
       "    \"balances\": {\n",
       "        \"A\": -500.0,\n",
       "        \"B\": 500.0\n",
       "    }\n",
       "}"
      ]
     },
     "execution_count": 19,
     "metadata": {},
     "output_type": "execute_result"
    }
   ],
   "source": [
    "from importlib import reload\n",
    "import deposit, agreement, juster_b, lock\n",
    "reload(lock); reload(deposit); reload(agreement); reload(juster_b)\n",
    "from juster_b import JusterB\n",
    "\n",
    "jb = JusterB.new_with_deposit('A', 1000, 1000)\n",
    "insurance_one = jb.insure('B', 1000, 'for')\n",
    "lock = jb.lock_liquidity('A', 1000)\n",
    "jb.claim_insurance_case()\n",
    "jb.give_reward(insurance_one)\n",
    "jb.withdraw_lock(lock)\n",
    "jb.assert_empty()\n",
    "jb\n",
    "\n",
    "# import pdb\n",
    "# pdb.run('jb.withdraw_lock(lock)')"
   ]
  },
  {
   "cell_type": "markdown",
   "id": "31787dcc-7924-4926-a474-f3f985fe8408",
   "metadata": {},
   "source": [
    "## Идея как-то исключать залоченную ликвидность из пулов, но не определять пока победила она или нет, возможно ли это?\n",
    "- то есть для новых ставок уже должно считаться что ликвидности меньше и пулы другие\n",
    "- а при виздро провайдером чтобы были учтены только те ставки которые были на момент его выхода\n",
    "\n",
    "\n",
    "- вообще ведь провайдер при выходе одинаково влияет на пулы всегда и просто шринкает их пропорционально выходу\n",
    "- но на размер того что он в итоге получает влияет размер пулов в ивенте. Вот вопрос: нужно ли сохранять может быть эти пулы на момент запроса выхода? и потом рассчитывать прибыль / убыток по этим пулам? Потому что явно ведь не по новым пулам?\n",
    "    - или всё-таки даже пулы не надо записывать будет?\n",
    "\n",
    "- хочу понять: влияет ли результат в зависимости от того кто первый выходит пользователь или провайдер?"
   ]
  },
  {
   "cell_type": "code",
   "execution_count": null,
   "id": "8489ba9a-9f4d-4d17-ac9d-c0e57f9af95c",
   "metadata": {},
   "outputs": [],
   "source": []
  }
 ],
 "metadata": {
  "kernelspec": {
   "display_name": "Python 3",
   "language": "python",
   "name": "python3"
  },
  "language_info": {
   "codemirror_mode": {
    "name": "ipython",
    "version": 3
   },
   "file_extension": ".py",
   "mimetype": "text/x-python",
   "name": "python",
   "nbconvert_exporter": "python",
   "pygments_lexer": "ipython3",
   "version": "3.9.7"
  }
 },
 "nbformat": 4,
 "nbformat_minor": 5
}
