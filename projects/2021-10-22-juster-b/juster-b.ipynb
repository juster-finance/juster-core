{
 "cells": [
  {
   "cell_type": "code",
   "execution_count": 8,
   "id": "3f7e00bf-0bf3-4ac9-9a5c-8df1d8147a16",
   "metadata": {},
   "outputs": [
    {
     "data": {
      "text/plain": [
       "<Line>\n",
       "{\n",
       "    \"pool_for\": 250.0,\n",
       "    \"pool_against\": 90.0,\n",
       "    \"total_shares\": 150.0,\n",
       "    \"is_claimed\": false,\n",
       "    \"agreements\": {\n",
       "        \"0\": {\n",
       "            \"user\": \"B\",\n",
       "            \"pool\": \"for\",\n",
       "            \"amount\": 100,\n",
       "            \"delta\": 60.0\n",
       "        }\n",
       "    },\n",
       "    \"deposits\": {\n",
       "        \"A\": {\n",
       "            \"deposited\": 100,\n",
       "            \"provided_for\": 100,\n",
       "            \"provided_against\": 100,\n",
       "            \"shares\": 100\n",
       "        },\n",
       "        \"B\": {\n",
       "            \"deposited\": 50,\n",
       "            \"provided_for\": 50.0,\n",
       "            \"provided_against\": 50.0,\n",
       "            \"shares\": 50.0\n",
       "        }\n",
       "    }\n",
       "}"
      ]
     },
     "execution_count": 8,
     "metadata": {},
     "output_type": "execute_result"
    }
   ],
   "source": [
    "from importlib import reload\n",
    "import deposit, agreement, juster_b\n",
    "reload(deposit); reload(agreement); reload(juster_b)\n",
    "from juster_b import JusterB\n",
    "\n",
    "jb = JusterB.new_with_deposit('A', 100, 100)\n",
    "jb.provide_liqudity('B', 50)\n",
    "jb.insure('B', 100, 'for')\n",
    "jb"
   ]
  },
  {
   "cell_type": "code",
   "execution_count": null,
   "id": "6011a10e-1572-40fb-a736-2aaf4ec090ad",
   "metadata": {},
   "outputs": [],
   "source": []
  }
 ],
 "metadata": {
  "kernelspec": {
   "display_name": "Python 3",
   "language": "python",
   "name": "python3"
  },
  "language_info": {
   "codemirror_mode": {
    "name": "ipython",
    "version": 3
   },
   "file_extension": ".py",
   "mimetype": "text/x-python",
   "name": "python",
   "nbconvert_exporter": "python",
   "pygments_lexer": "ipython3",
   "version": "3.9.7"
  }
 },
 "nbformat": 4,
 "nbformat_minor": 5
}
