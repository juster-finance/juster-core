{
 "cells": [
  {
   "cell_type": "code",
   "execution_count": 8,
   "id": "drawn-solid",
   "metadata": {},
   "outputs": [],
   "source": [
    "from pytezos import ContractInterface, pytezos, MichelsonRuntimeError"
   ]
  },
  {
   "cell_type": "code",
   "execution_count": 9,
   "id": "postal-nursing",
   "metadata": {},
   "outputs": [],
   "source": [
    "contract_fn = 'test_multikey.tz'\n",
    "participants = dict(\n",
    "    a='tz1iQE8ijR5xVPffBUPFubwB9XQJuyD9qsoJ',\n",
    "    b='tz1MdaJfWzP5pPx3gwPxfdLZTHW6js9havos',\n",
    "    c='tz1RS9GoEXakf9iyBmSaheLMcakFRtzBXpWE'\n",
    ")\n",
    "\n",
    "contract = ContractInterface.from_file(contract_fn)"
   ]
  },
  {
   "cell_type": "code",
   "execution_count": 18,
   "id": "israeli-thanksgiving",
   "metadata": {},
   "outputs": [],
   "source": [
    "result = contract.increaseCounter({'amount': 100, 'counterId': 12}).interpret(\n",
    "    sender=participants['a'])\n",
    "\n",
    "result = contract.increaseCounter({'amount': 100, 'counterId': 12}).interpret(\n",
    "    sender=participants['a'], storage=result.storage)\n",
    "\n",
    "result = contract.increaseCounter({'amount': 500, 'counterId': 331}).interpret(\n",
    "    sender=participants['c'], storage=result.storage)"
   ]
  },
  {
   "cell_type": "code",
   "execution_count": 19,
   "id": "emerging-mainstream",
   "metadata": {},
   "outputs": [
    {
     "data": {
      "text/plain": [
       "{('tz1RS9GoEXakf9iyBmSaheLMcakFRtzBXpWE', 331): 500,\n",
       " ('tz1iQE8ijR5xVPffBUPFubwB9XQJuyD9qsoJ', 12): 200}"
      ]
     },
     "execution_count": 19,
     "metadata": {},
     "output_type": "execute_result"
    }
   ],
   "source": [
    "result.storage"
   ]
  },
  {
   "cell_type": "code",
   "execution_count": null,
   "id": "cross-running",
   "metadata": {},
   "outputs": [],
   "source": []
  }
 ],
 "metadata": {
  "kernelspec": {
   "display_name": "Python 3",
   "language": "python",
   "name": "python3"
  },
  "language_info": {
   "codemirror_mode": {
    "name": "ipython",
    "version": 3
   },
   "file_extension": ".py",
   "mimetype": "text/x-python",
   "name": "python",
   "nbconvert_exporter": "python",
   "pygments_lexer": "ipython3",
   "version": "3.9.6"
  }
 },
 "nbformat": 4,
 "nbformat_minor": 5
}
