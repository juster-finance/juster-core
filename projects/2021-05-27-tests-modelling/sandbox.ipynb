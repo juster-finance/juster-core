{
 "cells": [
  {
   "cell_type": "code",
   "execution_count": 12,
   "id": "cellular-madness",
   "metadata": {},
   "outputs": [],
   "source": [
    "import logging\n",
    "\n",
    "from pytezos.sandbox.node import SandboxedNodeTestCase\n",
    "from pytezos.sandbox.parameters import sandbox_addresses, sandbox_commitment\n",
    "from pytezos import ContractInterface, pytezos, MichelsonRuntimeError\n",
    "from pytezos.contract.result import ContractCallResult\n",
    "\n",
    "import unittest\n",
    "import time"
   ]
  },
  {
   "cell_type": "code",
   "execution_count": 13,
   "id": "extreme-interference",
   "metadata": {},
   "outputs": [],
   "source": [
    "contract_fn = '../build/tz/baking_bet.tz'\n",
    "\n",
    "RUN_TIME = 0\n",
    "ONE_HOUR = 60*60\n",
    "ONE_DAY = ONE_HOUR*24"
   ]
  },
  {
   "cell_type": "code",
   "execution_count": 14,
   "id": "removable-maryland",
   "metadata": {},
   "outputs": [],
   "source": [
    "class ContractInteractionsTestCase(SandboxedNodeTestCase):\n",
    "\n",
    "    def test_contract_interactions(self):\n",
    "\n",
    "        # four participants and their pk hashes:\n",
    "        self.a = 'tz1iQE8ijR5xVPffBUPFubwB9XQJuyD9qsoJ'\n",
    "        self.b = 'tz1MdaJfWzP5pPx3gwPxfdLZTHW6js9havos'\n",
    "        self.c = 'tz1RS9GoEXakf9iyBmSaheLMcakFRtzBXpWE'\n",
    "        self.d = 'tz1TdKuFwYgbPHHb7y1VvLH4xiwtAzcjwDjM'\n",
    "\n",
    "        self.manager = self.a\n",
    "\n",
    "        self.oracle_address = 'KT1SUP27JhX24Kvr11oUdWswk7FnCW78ZyUn'\n",
    "        # florencenet: KT1SUP27JhX24Kvr11oUdWswk7FnCW78ZyUn\n",
    "        # edo2net:     KT1RCNpUEDjZAYhabjzgz1ZfxQijCDVMEaTZ\n",
    "\n",
    "        self.currency_pair = 'XTZ-USD'\n",
    "        self.measure_start_fee = 200_000\n",
    "        self.expiration_fee = 100_000\n",
    "        self.current_time = RUN_TIME\n",
    "\n",
    "        # this is eventId that for the tests:\n",
    "        self.id = 0\n",
    "\n",
    "        self.default_event_params = {\n",
    "            'currencyPair': self.currency_pair,\n",
    "            'targetDynamics': 1_000_000,\n",
    "            'betsCloseTime': RUN_TIME + 24*ONE_HOUR,\n",
    "            'measurePeriod': 12*ONE_HOUR,\n",
    "        }\n",
    "\n",
    "        self.default_config = {\n",
    "            'defaultTime': 0,\n",
    "            'expirationFee': self.expiration_fee,\n",
    "            'liquidityPercent': 0,\n",
    "            'maxAllowedMeasureLag': ONE_HOUR*4,  # 4 hours\n",
    "            'maxMeasurePeriod': ONE_DAY*31,  # 31 day\n",
    "            'maxPeriodToBetsClose': ONE_DAY*31,  # 31 day\n",
    "            'measureStartFee': self.measure_start_fee,\n",
    "            'minMeasurePeriod': 60*5,  # 5 min\n",
    "            'minPeriodToBetsClose': 60*5,  # 5 min\n",
    "            'minPoolSize': 0,\n",
    "            'oracleAddress': self.oracle_address,\n",
    "            'rewardCallFee': 100_000,\n",
    "        }\n",
    "\n",
    "        self.init_storage = {\n",
    "            'events': {},\n",
    "            'betsFor': {},\n",
    "            'betsAgainst': {},\n",
    "            'providedLiquidityFor': {},\n",
    "            'providedLiquidityAgainst': {},\n",
    "            'liquidityShares': {},\n",
    "            'depositedBets': {},\n",
    "            'lastEventId': 0,\n",
    "            'closeCallId': None,\n",
    "            'measurementStartCallId': None,\n",
    "            'newEventConfig': self.default_config,\n",
    "            'manager': self.manager,\n",
    "\n",
    "            'liquidityPrecision': 1_000_000,\n",
    "            'ratioPrecision': 100_000_000,\n",
    "            'sharePrecision': 100_000_000,\n",
    "            'targetDynamicsPrecision': 1_000_000,\n",
    "        }\n",
    "\n",
    "        # Originating contract:\n",
    "        client = self.client.using(key='bootstrap1')\n",
    "        client.reveal()\n",
    "\n",
    "        contract = ContractInterface.from_file(contract_fn)\n",
    "\n",
    "        opg = contract.using(shell=self.get_node_url(), key='bootstrap1')\n",
    "        opg = opg.originate(initial_storage=self.init_storage)\n",
    "        opg = opg.fill().sign().inject()\n",
    "\n",
    "        self.bake_block()\n",
    "\n",
    "        # Find originated contract address by operation hash\n",
    "        opg = client.shell.blocks['head':].find_operation(opg['hash'])\n",
    "        op_result = opg['contents'][0]['metadata']['operation_result']\n",
    "        contract_address = op_result['originated_contracts'][0]\n",
    "\n",
    "        # Load originated contract from blockchain\n",
    "        self.contract = client.contract(contract_address)\n",
    "        self.contract = self.contract.using(\n",
    "            shell=self.get_node_url(),\n",
    "            key='bootstrap1')\n",
    "\n",
    "        # Perform real contract call\n",
    "        call = self.contract.newEvent(self.default_event_params).with_amount(300_000)\n",
    "        opg = call.inject()\n",
    "\n",
    "        self.bake_block()\n",
    "\n",
    "        # Get injected operation and convert to ContractCallResult\n",
    "        opg = client.shell.blocks['head':].find_operation(opg['hash'])\n",
    "        result = ContractCallResult.from_operation_group(opg)[0]\n",
    "\n",
    "        # It is hard to work with time, did not found solution yet,\n",
    "        #     can't change time with bake_block operation\n",
    "        # It is needed to originate oracle, and to provide current prices\n",
    "        #     to make proper tests\n"
   ]
  },
  {
   "cell_type": "code",
   "execution_count": 15,
   "id": "knowing-village",
   "metadata": {},
   "outputs": [
    {
     "name": "stderr",
     "output_type": "stream",
     "text": [
      "test_contract_interactions (__main__.ContractInteractionsTestCase) ... /home/fortune/Documents/DeFiProjects/FortuneCrystalBall/pytezos-env/lib/python3.9/site-packages/ply/lex.py:319: ResourceWarning: unclosed <socket.socket fd=57, family=AddressFamily.AF_INET, type=SocketKind.SOCK_STREAM, proto=6, laddr=('172.17.0.1', 56180), raddr=('172.17.0.6', 8732)>\n",
      "  for lexre, lexindexfunc in self.lexre:\n",
      "ResourceWarning: Enable tracemalloc to get the object allocation traceback\n",
      "/home/fortune/Documents/DeFiProjects/FortuneCrystalBall/pytezos-env/lib/python3.9/site-packages/ply/lex.py:319: ResourceWarning: unclosed <socket.socket fd=58, family=AddressFamily.AF_INET, type=SocketKind.SOCK_STREAM, proto=6, laddr=('172.17.0.1', 56190), raddr=('172.17.0.6', 8732)>\n",
      "  for lexre, lexindexfunc in self.lexre:\n",
      "ResourceWarning: Enable tracemalloc to get the object allocation traceback\n",
      "/home/fortune/Documents/DeFiProjects/FortuneCrystalBall/pytezos-env/lib/python3.9/site-packages/simplejson/decoder.py:400: ResourceWarning: unclosed <socket.socket fd=58, family=AddressFamily.AF_INET, type=SocketKind.SOCK_STREAM, proto=6, laddr=('172.17.0.1', 56206), raddr=('172.17.0.6', 8732)>\n",
      "  return self.scan_once(s, idx=_w(s, idx).end())\n",
      "ResourceWarning: Enable tracemalloc to get the object allocation traceback\n",
      "ok\n",
      "\n",
      "----------------------------------------------------------------------\n",
      "Ran 1 test in 2.171s\n",
      "\n",
      "OK\n"
     ]
    },
    {
     "data": {
      "text/plain": [
       "<unittest.main.TestProgram at 0x7f38e5d9eaf0>"
      ]
     },
     "execution_count": 15,
     "metadata": {},
     "output_type": "execute_result"
    }
   ],
   "source": [
    "unittest.main(argv=[''], verbosity=2, exit=False)"
   ]
  },
  {
   "cell_type": "code",
   "execution_count": null,
   "id": "accessory-oasis",
   "metadata": {},
   "outputs": [],
   "source": []
  }
 ],
 "metadata": {
  "kernelspec": {
   "display_name": "Python 3",
   "language": "python",
   "name": "python3"
  },
  "language_info": {
   "codemirror_mode": {
    "name": "ipython",
    "version": 3
   },
   "file_extension": ".py",
   "mimetype": "text/x-python",
   "name": "python",
   "nbconvert_exporter": "python",
   "pygments_lexer": "ipython3",
   "version": "3.9.2"
  }
 },
 "nbformat": 4,
 "nbformat_minor": 5
}
