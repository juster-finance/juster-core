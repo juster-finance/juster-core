{
 "cells": [
  {
   "cell_type": "code",
   "execution_count": 1,
   "id": "smoking-currency",
   "metadata": {},
   "outputs": [],
   "source": [
    "from pytezos import pytezos\n",
    "import requests\n",
    "import json\n",
    "from pandas import json_normalize\n",
    "import time\n",
    "from random import choice\n",
    "from pprint import pprint\n",
    "from random import randint\n",
    "from pytezos.rpc.errors import RpcError, MichelsonError\n",
    "\n",
    "address = 'KT1JPehwEkAhg1z5RVA8wAccYbDgF2E2itDv'\n",
    "# pytezos = pytezos.using(shell='https://florencenet-tezos.giganode.io')\n",
    "# pytezos = pytezos.using(shell='https://api.tez.ie/rpc/florencenet')\n",
    "pytezos = pytezos.using(shell='https://granadanet.smartpy.io/')"
   ]
  },
  {
   "cell_type": "code",
   "execution_count": 2,
   "id": "91d58734-dbf9-495c-9f5e-87f95cc2a5be",
   "metadata": {},
   "outputs": [],
   "source": [
    "from os.path import join\n",
    "KEYS_DIR = '../../../juster-maker/keys'"
   ]
  },
  {
   "cell_type": "code",
   "execution_count": 3,
   "id": "running-sculpture",
   "metadata": {},
   "outputs": [],
   "source": [
    "keys = dict(\n",
    "    a = pytezos.using(key=join(KEYS_DIR, 'tz1fvzdyC7s4mMhBrmG38kasaZjE9PHPgFEu.json')).contract(address),\n",
    "    b = pytezos.using(key=join(KEYS_DIR, 'tz1iosWvYEaNdFXC7w6wcn5rFFfFuWaKUMVK.json')).contract(address),\n",
    "    c = pytezos.using(key=join(KEYS_DIR, 'tz1RorGpGL42VEkd3zRBK5s8uAk3uuismC2y.json')).contract(address),\n",
    "    d = pytezos.using(key=join(KEYS_DIR, 'tz1UZbnprFkQe4qR11m8MFvs19JuEN3r8rG6.json')).contract(address),\n",
    "    e = pytezos.using(key=join(KEYS_DIR, 'tz1VRV2jtEVgupzgf4YoXQxK9x6Vksh9tPdM.json')).contract(address)\n",
    ")"
   ]
  },
  {
   "cell_type": "code",
   "execution_count": 4,
   "id": "palestinian-discharge",
   "metadata": {},
   "outputs": [],
   "source": [
    "last_used = {}\n",
    "\n",
    "def pick_random_free_key(keys, last_used, time_to_use_again=60):\n",
    "    while True:\n",
    "        random_key = choice(list(keys.keys()))\n",
    "        current_time = time.time()\n",
    "        elapsed_time = current_time - last_used.get(random_key, 0)\n",
    "        if elapsed_time > time_to_use_again:\n",
    "            last_used[random_key] = current_time\n",
    "            return random_key\n",
    "        else:\n",
    "            time.sleep(1)\n",
    "\n",
    "def wait_while_key_can_be_used(key, last_used):\n",
    "    the_only_key = {key: keys[key]}\n",
    "    return pick_random_free_key(the_only_key, last_used)"
   ]
  },
  {
   "cell_type": "code",
   "execution_count": 5,
   "id": "meaning-sending",
   "metadata": {},
   "outputs": [],
   "source": [
    "CURRENCY_PAIRS = [\n",
    "    'BAT-USDC', 'BTC-USD', 'COMP-USD', 'DAI-USDC', 'ETH-USD',\n",
    "    'KNC-USD', 'LINK-USD', 'REP-USD', 'ZRX-USD',\n",
    "    # 'XTZ-USD', \n",
    "]\n",
    "\n",
    "# CURRENCY_PAIRS = ['XTZ-USD']\n",
    "\n",
    "TARGET_DYNAMICS = [\n",
    "    1_000_000, 1_000_000, 1_000_000, 1_000_000, 1_000_000,\n",
    "    950_000, 950_000, 950_000,\n",
    "    1_050_000, 1_050_000, 1_050_000,\n",
    "    900_000,\n",
    "    1_000_000\n",
    "]\n",
    "\n",
    "RUN_TIME = int(time.time())\n",
    "\n",
    "# picking nearest available hour:\n",
    "RUN_TIME = RUN_TIME - RUN_TIME % 300\n",
    "BETS_CLOSE_TIME = [RUN_TIME + 3600]\n",
    "# BETS_CLOSE_TIME = [RUN_TIME + 604800*2]  # two weeks to collect bets\n",
    "MEASURE_PERIOD = [300, 600, 1200]\n",
    "LIQUIDITY_PERCENT = [10_000, 25_000, 50_000, 100_000]\n",
    "MEASURE_START_FEE = [100_000, 200_000, 500_000]\n",
    "EXPIRATION_FEE = [100_000, 200_000, 500_000]\n",
    "\n",
    "LIQUIDITY_VALUE = [1_000_000, 2_000_000, 5_000_000, 10_000_000]\n",
    "BET_VALUE = [100_000, 250_000, 500_000, 1_000_000]\n",
    "\n",
    "EVENTS_COUNT = 5"
   ]
  },
  {
   "cell_type": "markdown",
   "id": "0531d82f-5abf-4e2d-a979-c5fb01fa03cd",
   "metadata": {},
   "source": [
    "# TODO finish test with mock oracle complete and run\n",
    "    - otherwise need to write why I was not succeeded to run them?\n",
    "    /chains/main/blocks/BMWKwbv4HFjXJoKmzEmS1bYWoismCNmzvp5KVoxTqbeHioYzdwr/context/constants\n",
    "\n",
    "# TODO why does tests with forceMajeure fails in simulation mode?\n",
    "    *** pytezos.rpc.node.RpcError: ('Not found: '\n",
    "     '/chains/main/blocks/BMJHK5gc3XPMUVqscu2aiCAjtJJZe8BHqP9XszPJdtWc9EWxJzT/context/constants',)\n"
   ]
  },
  {
   "cell_type": "code",
   "execution_count": 38,
   "id": "electrical-service",
   "metadata": {},
   "outputs": [],
   "source": [
    "def repeat_to_succeed_wrapper(func):\n",
    "    max_attempts = 10\n",
    "\n",
    "    def wrapped(*args, **kwargs):\n",
    "        for attempt in range(max_attempts):\n",
    "            try:\n",
    "                return func(*args, **kwargs)\n",
    "            except MichelsonError as e:\n",
    "                print(f'catched MichelsonError ({attempt}) {e}')\n",
    "                time.sleep(1)\n",
    "            except RpcError as e:\n",
    "                print(f'catched RpcError ({attempt}) {e}')\n",
    "                time.sleep(1)\n",
    "\n",
    "    return wrapped\n",
    "\n",
    "\n",
    "@repeat_to_succeed_wrapper\n",
    "def create_random_event():\n",
    "    event_params = {\n",
    "        'currencyPair': choice(CURRENCY_PAIRS),\n",
    "        'targetDynamics': choice(TARGET_DYNAMICS),\n",
    "        'betsCloseTime': choice(BETS_CLOSE_TIME),\n",
    "        'measurePeriod': choice(MEASURE_PERIOD),\n",
    "        'liquidityPercent': choice(LIQUIDITY_PERCENT),\n",
    "    }\n",
    "\n",
    "    key = pick_random_free_key(keys, last_used)\n",
    "    print(f'creating event with {key}:')\n",
    "    pprint(event_params)\n",
    "\n",
    "    fees = (\n",
    "        keys[key].storage()['config']['expirationFee']\n",
    "        + keys[key].storage()['config']['measureStartFee'])\n",
    "\n",
    "    keys[key].newEvent(event_params).with_amount(fees).as_transaction().autofill().sign().inject(_async=False)\n",
    "    return event_params\n",
    "\n",
    "\n",
    "@repeat_to_succeed_wrapper\n",
    "def provide_liquidity(event_id):\n",
    "    liquidity_value = choice(LIQUIDITY_VALUE)\n",
    "    pl_params = {\n",
    "        'eventId': event_id,\n",
    "        'expectedRatioAboveEq': choice([1, 2, 3, 4]),\n",
    "        'expectedRatioBelow': choice([1, 2, 3, 4]),\n",
    "        'maxSlippage': 10_000_000_000,\n",
    "    }\n",
    "\n",
    "    key = pick_random_free_key(keys, last_used)\n",
    "    print(f'providing liquidity for {event_id} with {key}:')\n",
    "\n",
    "    transaction = keys[key].provideLiquidity(pl_params).with_amount(liquidity_value).as_transaction()\n",
    "    return transaction.autofill().sign().inject(_async=False)\n",
    "\n",
    "\n",
    "@repeat_to_succeed_wrapper\n",
    "def bet(event_id):\n",
    "    bet_value = choice(BET_VALUE)\n",
    "    bet_choice = choice(['aboveEq', 'below'])\n",
    "    bet_params = {\n",
    "        'bet': bet_choice,\n",
    "        'eventId': event_id,\n",
    "        'minimalWinAmount': bet_value\n",
    "    }\n",
    "\n",
    "    key = pick_random_free_key(keys, last_used)\n",
    "    print(f'bet \"{bet_choice}\" for {event_id} with {key}:')\n",
    "\n",
    "    transaction = keys[key].bet(bet_params).with_amount(bet_value).as_transaction()\n",
    "    return transaction.autofill().sign().inject(_async=False)\n",
    "\n",
    "\n",
    "@repeat_to_succeed_wrapper\n",
    "def start_measurement(event_id):\n",
    "    key = pick_random_free_key(keys, last_used)\n",
    "    print(f'starting measurement for {event_id} with {key}:')\n",
    "\n",
    "    transaction = keys[key].startMeasurement(event_id).as_transaction()\n",
    "    return transaction.autofill().sign().inject(_async=False)\n",
    "\n",
    "\n",
    "@repeat_to_succeed_wrapper\n",
    "def close(event_id):\n",
    "    key = pick_random_free_key(keys, last_used)\n",
    "    print(f'closing for {event_id} with {key}:')\n",
    "\n",
    "    transaction = keys[key].close(event_id).as_transaction()\n",
    "    return transaction.autofill().sign().inject(_async=False)\n",
    "\n",
    "\n",
    "def withdraw(event_id, key):\n",
    "    print(f'withdrawing for {event_id} with {key}:')\n",
    "\n",
    "    params = {'eventId': event_id, 'participantAddress': keys[key].key.public_key_hash()}\n",
    "    transaction = keys[key].withdraw(params).as_transaction()\n",
    "    return transaction.autofill().sign().inject(_async=False)\n",
    "\n",
    "\n",
    "@repeat_to_succeed_wrapper\n",
    "def trigger_force_majeure(event_id):\n",
    "    key = pick_random_free_key(keys, last_used)\n",
    "    transaction = keys[key].triggerForceMajeure(event_id).as_transaction()\n",
    "    transaction.autofill().sign().inject(_async=False)\n",
    "    print(f'event: {event_id} triggered by key: {key}')\n",
    "\n",
    "\n",
    "def wait_until(time_until_wait):\n",
    "    while time.time() < time_until_wait:\n",
    "        time.sleep(1)\n",
    "        yield f'waiting until {time_until_wait}'\n",
    "    return 'ready'"
   ]
  },
  {
   "cell_type": "code",
   "execution_count": 39,
   "id": "limited-berkeley",
   "metadata": {},
   "outputs": [],
   "source": [
    "# event_params = keys['a'].storage['events'][6]()"
   ]
  },
  {
   "cell_type": "code",
   "execution_count": 40,
   "id": "8084aa6a-7584-4925-b63d-35ec0f89f2e7",
   "metadata": {},
   "outputs": [
    {
     "data": {
      "text/plain": [
       "\"\\ndef get_event_if_created(event_id):\\n    try:\\n        event_params = keys['a'].storage['events'][event_id]()\\n    except KeyError:\\n        return\\n\""
      ]
     },
     "execution_count": 40,
     "metadata": {},
     "output_type": "execute_result"
    }
   ],
   "source": [
    "'''\n",
    "def get_event_if_created(event_id):\n",
    "    try:\n",
    "        event_params = keys['a'].storage['events'][event_id]()\n",
    "    except KeyError:\n",
    "        return\n",
    "'''"
   ]
  },
  {
   "cell_type": "code",
   "execution_count": 61,
   "id": "declared-steel",
   "metadata": {},
   "outputs": [],
   "source": [
    "ORACLE_DELAY = 7*60  # starting calling oracle after this time\n",
    "BET_CLOSE_LAG = 4*60\n",
    "WAIT_TRANSACTION_LAG = 90\n",
    "\n",
    "# TODO: split event to actions, yield after each action, if action is not succeed - yield and then repeat action\n",
    "def event_pipeline(event_id):\n",
    "\n",
    "    storage = keys['a'].storage()\n",
    "\n",
    "    # checking if event already created:\n",
    "    # (the case with event in the future is legit because events created before blockchain is updated)\n",
    "    if event_id >= storage['nextEventId']:\n",
    "        event_params = create_random_event()\n",
    "        yield event_params\n",
    "        yield from wait_until(time.time() + WAIT_TRANSACTION_LAG)\n",
    "\n",
    "    try:\n",
    "        event_params = keys['a'].storage['events'][event_id]()\n",
    "    except KeyError:\n",
    "        print(f'catched KeyError in event_pipeline {event_id}, looks like this event already end')\n",
    "        return\n",
    "\n",
    "    # providing first liquidity if needed:\n",
    "    if event_params['poolAboveEq'] == 0:\n",
    "        yield provide_liquidity(event_id)\n",
    "        yield from wait_until(time.time() + WAIT_TRANSACTION_LAG)\n",
    "\n",
    "    # making random bets and adding random liquidity:\n",
    "    end_time = event_params['betsCloseTime'] - BET_CLOSE_LAG\n",
    "\n",
    "    while time.time() < end_time:\n",
    "        next_action = choice([provide_liquidity, bet, bet, bet])\n",
    "        yield next_action(event_id)\n",
    "\n",
    "    # waiting for bets close time:\n",
    "    yield from wait_until(event_params['betsCloseTime'] + ORACLE_DELAY)\n",
    "\n",
    "    if event_params['measureOracleStartTime'] is None:\n",
    "        yield start_measurement(event_id)\n",
    "        yield from wait_until(time.time() + WAIT_TRANSACTION_LAG)\n",
    "\n",
    "    # waiting for close time:\n",
    "    updated_event_params = keys['a'].storage['events'][event_id]()\n",
    "    time_until_wait = (\n",
    "        updated_event_params['measureOracleStartTime']\n",
    "        + ORACLE_DELAY\n",
    "        + event_params['measurePeriod']\n",
    "    )\n",
    "    yield from wait_until(time_until_wait)\n",
    "\n",
    "    if event_params['closedOracleTime'] is None:\n",
    "        yield close(event_id)\n",
    "        yield from wait_until(time.time() + WAIT_TRANSACTION_LAG)\n",
    "\n",
    "    for key in keys:\n",
    "        # blocking waiting (anyway no one can use keys if they in transactions):\n",
    "        try:\n",
    "            wait_while_key_can_be_used(key, last_used)\n",
    "            yield withdraw(event_id, key)\n",
    "        except Exception as e:\n",
    "            print('error', e)\n",
    "\n",
    "    yield 'finished'"
   ]
  },
  {
   "cell_type": "code",
   "execution_count": 62,
   "id": "interstate-israeli",
   "metadata": {},
   "outputs": [
    {
     "data": {
      "text/plain": [
       "5"
      ]
     },
     "execution_count": 62,
     "metadata": {},
     "output_type": "execute_result"
    }
   ],
   "source": [
    "next_event_id = keys['a'].storage['nextEventId']()\n",
    "# next_event_id = 22\n",
    "next_event_id"
   ]
  },
  {
   "cell_type": "code",
   "execution_count": 63,
   "id": "laden-impossible",
   "metadata": {},
   "outputs": [],
   "source": [
    "pipelines = [event_pipeline(k) for k in [0, 1, 2, 3, 4]]"
   ]
  },
  {
   "cell_type": "code",
   "execution_count": 64,
   "id": "d8292bda-5ad8-42f0-a18e-5a4051b71b0f",
   "metadata": {
    "tags": []
   },
   "outputs": [],
   "source": [
    "# keys['a'].storage['events'][4]()"
   ]
  },
  {
   "cell_type": "code",
   "execution_count": 65,
   "id": "mathematical-coral",
   "metadata": {
    "tags": []
   },
   "outputs": [
    {
     "name": "stdout",
     "output_type": "stream",
     "text": [
      "catched KeyError in event_pipeline 0, looks like this event already end\n",
      "catched KeyError in event_pipeline 3, looks like this event already end\n",
      "catched KeyError in event_pipeline 1, looks like this event already end\n",
      "withdrawing for 4 with a:\n",
      "error ({'id': 'proto.010-PtGRANAD.michelson_v1.script_rejected',\n",
      "  'kind': 'temporary',\n",
      "  'location': 7853,\n",
      "  'with': {'string': 'Participant not found'}},)\n",
      "withdrawing for 4 with b:\n",
      "error ({'id': 'proto.010-PtGRANAD.michelson_v1.script_rejected',\n",
      "  'kind': 'temporary',\n",
      "  'location': 7853,\n",
      "  'with': {'string': 'Participant not found'}},)\n",
      "withdrawing for 4 with c:\n",
      "error ({'id': 'proto.010-PtGRANAD.michelson_v1.script_rejected',\n",
      "  'kind': 'temporary',\n",
      "  'location': 7853,\n",
      "  'with': {'string': 'Participant not found'}},)\n",
      "withdrawing for 4 with d:\n",
      "withdrawing for 4 with e:\n",
      "closing for 2 with a:\n",
      "withdrawing for 2 with a:\n",
      "withdrawing for 2 with b:\n",
      "withdrawing for 2 with c:\n",
      "withdrawing for 2 with d:\n",
      "withdrawing for 2 with e:\n"
     ]
    }
   ],
   "source": [
    "while pipelines:\n",
    "    for n in range(len(pipelines)):\n",
    "        try:\n",
    "            next(pipelines[n])\n",
    "        except StopIteration:\n",
    "            # should work, but will skips one pipeline when popping:\n",
    "            pipelines.pop(n)\n",
    "        except IndexError:\n",
    "            continue"
   ]
  },
  {
   "cell_type": "code",
   "execution_count": 66,
   "id": "31acc8aa-33e6-45fc-9284-6e64ef497d8a",
   "metadata": {},
   "outputs": [],
   "source": [
    "# trigger_force_majeure(5)\n",
    "_ = \"\"\"\n",
    "for event_id in [3, 4, 5, 6, 7, 8]:\n",
    "    for key in keys:\n",
    "        # blocking waiting (anyway no one can use keys if they in transactions):\n",
    "        try:\n",
    "            wait_while_key_can_be_used(key, last_used)\n",
    "            withdraw(event_id, key)\n",
    "        except Exception as e:\n",
    "            print('error', e)\n",
    "\"\"\""
   ]
  },
  {
   "cell_type": "code",
   "execution_count": 28,
   "id": "under-christian",
   "metadata": {},
   "outputs": [],
   "source": [
    "response = requests.get(f'https://api.edo2net.tzkt.io/v1/contracts/{address}/storage/history?limit=100')\n",
    "data = json.loads(response.text)\n",
    "df = json_normalize(data)"
   ]
  },
  {
   "cell_type": "code",
   "execution_count": 67,
   "id": "e01081e3-be39-4484-b3b9-f2546dc95ecc",
   "metadata": {},
   "outputs": [],
   "source": [
    "opg = keys['a'].claimRetainedProfits().send()"
   ]
  },
  {
   "cell_type": "code",
   "execution_count": null,
   "id": "c18ebd98-3810-483b-ae1d-4f271ae1e609",
   "metadata": {},
   "outputs": [],
   "source": []
  }
 ],
 "metadata": {
  "kernelspec": {
   "display_name": "Python 3",
   "language": "python",
   "name": "python3"
  },
  "language_info": {
   "codemirror_mode": {
    "name": "ipython",
    "version": 3
   },
   "file_extension": ".py",
   "mimetype": "text/x-python",
   "name": "python",
   "nbconvert_exporter": "python",
   "pygments_lexer": "ipython3",
   "version": "3.9.7"
  }
 },
 "nbformat": 4,
 "nbformat_minor": 5
}
