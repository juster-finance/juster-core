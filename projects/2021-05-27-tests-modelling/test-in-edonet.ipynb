{
 "cells": [
  {
   "cell_type": "code",
   "execution_count": 39,
   "id": "smoking-currency",
   "metadata": {},
   "outputs": [],
   "source": [
    "from pytezos import pytezos\n",
    "import requests\n",
    "import json\n",
    "from pandas import json_normalize\n",
    "import time\n",
    "from random import choice\n",
    "from pprint import pprint\n",
    "from random import randint\n",
    "\n",
    "address = 'KT1CepDBrMg73d7LHm773KAsunjAjgLYituP'\n",
    "# pytezos = pytezos.using(shell='https://florencenet-tezos.giganode.io')\n",
    "pytezos = pytezos.using(shell='https://api.tez.ie/rpc/florencenet')"
   ]
  },
  {
   "cell_type": "code",
   "execution_count": 40,
   "id": "running-sculpture",
   "metadata": {},
   "outputs": [],
   "source": [
    "keys = dict(\n",
    "    a = pytezos.using(key='test-keys/tz1iQE8ijR5xVPffBUPFubwB9XQJuyD9qsoJ.json').contract(address),\n",
    "    b = pytezos.using(key='test-keys/tz1MdaJfWzP5pPx3gwPxfdLZTHW6js9havos.json').contract(address),\n",
    "    c = pytezos.using(key='test-keys/tz1ZAzDvkZCT2LAyPN8Kdxw3kes7xfWerZhZ.json').contract(address),\n",
    "    d = pytezos.using(key='test-keys/tz1RS9GoEXakf9iyBmSaheLMcakFRtzBXpWE.json').contract(address),\n",
    "    e = pytezos.using(key='test-keys/tz1TdKuFwYgbPHHb7y1VvLH4xiwtAzcjwDjM.json').contract(address)\n",
    ")"
   ]
  },
  {
   "cell_type": "code",
   "execution_count": 41,
   "id": "palestinian-discharge",
   "metadata": {},
   "outputs": [],
   "source": [
    "last_used = {}\n",
    "\n",
    "def pick_random_free_key(keys, last_used, time_to_use_again=60):\n",
    "    while True:\n",
    "        random_key = choice(list(keys.keys()))\n",
    "        current_time = time.time()\n",
    "        elapsed_time = current_time - last_used.get(random_key, 0)\n",
    "        if elapsed_time > time_to_use_again:\n",
    "            last_used[random_key] = current_time\n",
    "            return random_key\n",
    "        else:\n",
    "            time.sleep(1)\n",
    "\n",
    "def wait_while_key_can_be_used(key, last_used):\n",
    "    the_only_key = {key: keys[key]}\n",
    "    return pick_random_free_key(the_only_key, last_used)"
   ]
  },
  {
   "cell_type": "code",
   "execution_count": 54,
   "id": "meaning-sending",
   "metadata": {},
   "outputs": [],
   "source": [
    "CURRENCY_PAIRS = [\n",
    "    'BAT-USDC', 'BTC-USD', 'COMP-USD', 'DAI-USDC', 'ETH-USD',\n",
    "    'KNC-USD', 'LINK-USD', 'REP-USD', 'ZRX-USD',\n",
    "    # 'XTZ-USD', \n",
    "]\n",
    "\n",
    "# CURRENCY_PAIRS = ['XTZ-USD']\n",
    "\n",
    "TARGET_DYNAMICS = [\n",
    "    1_000_000, 1_000_000, 1_000_000, 1_000_000, 1_000_000,\n",
    "    950_000, 950_000, 950_000,\n",
    "    1_050_000, 1_050_000, 1_050_000,\n",
    "    900_000,\n",
    "    1_000_000\n",
    "]\n",
    "\n",
    "RUN_TIME = int(time.time())\n",
    "\n",
    "# picking nearest available hour:\n",
    "RUN_TIME = RUN_TIME - RUN_TIME % 300\n",
    "# BETS_CLOSE_TIME = [RUN_TIME + 1200]\n",
    "BETS_CLOSE_TIME = [RUN_TIME + 604800*2]  # two weeks to collect bets\n",
    "MEASURE_PERIOD = [300, 600, 1200]\n",
    "LIQUIDITY_PERCENT = [10_000, 25_000, 50_000, 100_000]\n",
    "MEASURE_START_FEE = [100_000, 200_000, 500_000]\n",
    "EXPIRATION_FEE = [100_000, 200_000, 500_000]\n",
    "\n",
    "LIQUIDITY_VALUE = [1_000_000, 2_000_000, 5_000_000, 10_000_000]\n",
    "BET_VALUE = [100_000, 250_000, 500_000, 1_000_000]\n",
    "\n",
    "EVENTS_COUNT = 5"
   ]
  },
  {
   "cell_type": "code",
   "execution_count": 55,
   "id": "electrical-service",
   "metadata": {},
   "outputs": [
    {
     "data": {
      "text/plain": [
       "\"\\ndef wait_until(time_until_wait):\\n    while time.time() < time_until_wait:\\n        time.sleep(1)\\n        yield f'waiting until {time_until_wait}'\\n    return 'ready'\\n\""
      ]
     },
     "execution_count": 55,
     "metadata": {},
     "output_type": "execute_result"
    }
   ],
   "source": [
    "def create_random_event():\n",
    "    event_params = {\n",
    "        'currencyPair': choice(CURRENCY_PAIRS),\n",
    "        'targetDynamics': choice(TARGET_DYNAMICS),\n",
    "        'betsCloseTime': choice(BETS_CLOSE_TIME),\n",
    "        'measurePeriod': choice(MEASURE_PERIOD),\n",
    "        'liquidityPercent': choice(LIQUIDITY_PERCENT),\n",
    "    }\n",
    "\n",
    "    key = pick_random_free_key(keys, last_used)\n",
    "    print(f'creating event with {key}:')\n",
    "    pprint(event_params)\n",
    "\n",
    "    fees = (\n",
    "        keys[key].storage()['config']['expirationFee']\n",
    "        + keys[key].storage()['config']['measureStartFee'])\n",
    "\n",
    "    keys[key].newEvent(event_params).with_amount(fees).as_transaction().autofill().sign().inject(_async=False)\n",
    "    return event_params\n",
    "\n",
    "def provide_liquidity(event_id):\n",
    "    liquidity_value = choice(LIQUIDITY_VALUE)\n",
    "    pl_params = {\n",
    "        'eventId': event_id,\n",
    "        'expectedRatioAboveEq': choice([1, 2, 3, 4]),\n",
    "        'expectedRatioBelow': choice([1, 2, 3, 4]),\n",
    "        'maxSlippage': 10_000_000_000,\n",
    "    }\n",
    "\n",
    "    key = pick_random_free_key(keys, last_used)\n",
    "    print(f'providing liquidity for {event_id} with {key}:')\n",
    "\n",
    "    transaction = keys[key].provideLiquidity(pl_params).with_amount(liquidity_value).as_transaction()\n",
    "    return transaction.autofill().sign().inject(_async=False)\n",
    "\n",
    "\n",
    "def bet(event_id):\n",
    "    bet_value = choice(BET_VALUE)\n",
    "    bet_choice = choice(['aboveEq', 'below'])\n",
    "    bet_params = {\n",
    "        'bet': bet_choice,\n",
    "        'eventId': event_id,\n",
    "        'minimalWinAmount': bet_value\n",
    "    }\n",
    "\n",
    "    key = pick_random_free_key(keys, last_used)\n",
    "    print(f'bet \"{bet_choice}\" for {event_id} with {key}:')\n",
    "\n",
    "    transaction = keys[key].bet(bet_params).with_amount(bet_value).as_transaction()\n",
    "    return transaction.autofill().sign().inject(_async=False)\n",
    "\n",
    "def start_measurement(event_id):\n",
    "    key = pick_random_free_key(keys, last_used)\n",
    "    print(f'starting measurement for {event_id} with {key}:')\n",
    "\n",
    "    transaction = keys[key].startMeasurement(event_id).as_transaction()\n",
    "    return transaction.autofill().sign().inject(_async=False)\n",
    "\n",
    "def close(event_id):\n",
    "    key = pick_random_free_key(keys, last_used)\n",
    "    print(f'closing for {event_id} with {key}:')\n",
    "\n",
    "    transaction = keys[key].close(event_id).as_transaction()\n",
    "    return transaction.autofill().sign().inject(_async=False)\n",
    "\n",
    "def withdraw(event_id, key):\n",
    "    print(f'withdrawing for {event_id} with {key}:')\n",
    "\n",
    "    params = {'eventId': event_id, 'participantAddress': keys[key].key.public_key_hash()}\n",
    "    transaction = keys[key].withdraw(params).as_transaction()\n",
    "    return transaction.autofill().sign().inject(_async=False)\n",
    "\n",
    "def repeat_to_succeed_wrapper(func):\n",
    "    def wrapped(*args, **kwargs):\n",
    "        while True:\n",
    "            try:\n",
    "                return f(*args, **kwargs)\n",
    "            except MichelsonError as e:\n",
    "                print(f'catched MichelsonError {e}')\n",
    "                time.sleep(1)\n",
    "    return wrapped\n",
    "\n",
    "def trigger_force_majeure(event_id):\n",
    "    key = pick_random_free_key(keys, last_used)\n",
    "    transaction = keys[key].triggerForceMajeure(event_id).as_transaction()\n",
    "    transaction.autofill().sign().inject(_async=False)\n",
    "    print(f'event: {event_id} triggered by key: {key}')\n",
    "\n",
    "'''\n",
    "def wait_until(time_until_wait):\n",
    "    while time.time() < time_until_wait:\n",
    "        time.sleep(1)\n",
    "        yield f'waiting until {time_until_wait}'\n",
    "    return 'ready'\n",
    "'''"
   ]
  },
  {
   "cell_type": "code",
   "execution_count": 56,
   "id": "juvenile-buying",
   "metadata": {},
   "outputs": [],
   "source": [
    "def repeat_to_succeed_wrapper(func):\n",
    "    def wrapped(*args, **kwargs):\n",
    "        while True:\n",
    "            try:\n",
    "                return f(*args, **kwargs)\n",
    "            except MichelsonError as e:\n",
    "                print(f'catched MichelsonError {e}')\n",
    "                time.sleep(1)\n",
    "    return wrapped"
   ]
  },
  {
   "cell_type": "code",
   "execution_count": 57,
   "id": "limited-berkeley",
   "metadata": {},
   "outputs": [],
   "source": [
    "# event_params = keys['a'].storage['events'][6]()"
   ]
  },
  {
   "cell_type": "code",
   "execution_count": 73,
   "id": "declared-steel",
   "metadata": {},
   "outputs": [],
   "source": [
    "ORACLE_DELAY = 10*60  # starting calling oracle after this time\n",
    "\n",
    "# TODO: split event to actions, yield after each action, if action is not succeed - yield and then repeat action\n",
    "def event_pipeline(event_id):\n",
    "    '''\n",
    "    event_params = create_random_event()\n",
    "    yield event_params\n",
    "\n",
    "    # waiting till event is created:\n",
    "    # TODO: is it possible to move this kind of waiting to async func?\n",
    "    # TODO: maybe I should learn how to use async instead?\n",
    "    time_until_wait = time.time() + 90\n",
    "    while time.time() < time_until_wait:\n",
    "        time.sleep(1)\n",
    "        yield f'waiting until {time_until_wait}'\n",
    "\n",
    "\n",
    "    # providing liquidity:\n",
    "    yield provide_liquidity(event_id)\n",
    "\n",
    "    time_until_wait = time.time() + 90\n",
    "    while time.time() < time_until_wait:\n",
    "        time.sleep(1)\n",
    "        yield f'waiting until {time_until_wait}'\n",
    "    '''\n",
    "\n",
    "    event_params = keys['a'].storage['events'][event_id]()\n",
    "    actions = randint(10, 100)\n",
    "    for action in range(actions):\n",
    "        next_action = choice([provide_liquidity, bet, bet, bet])\n",
    "        if time.time() + 90 > event_params['betsCloseTime']:\n",
    "            break\n",
    "\n",
    "        yield next_action(event_id)\n",
    "\n",
    "    # waiting for bets close time:\n",
    "    time_until_wait = event_params['betsCloseTime'] + ORACLE_DELAY\n",
    "    while time.time() < time_until_wait:\n",
    "        time.sleep(1)\n",
    "        yield f'waiting until {time_until_wait}'\n",
    "    yield start_measurement(event_id)\n",
    "\n",
    "    # waiting for close time:\n",
    "    time_until_wait = event_params['betsCloseTime'] + ORACLE_DELAY*2 + event_params['measurePeriod']\n",
    "    while time.time() < time_until_wait:\n",
    "        time.sleep(1)\n",
    "        yield f'waiting until {time_until_wait}'\n",
    "    yield close(event_id)\n",
    "\n",
    "    for key in keys:\n",
    "        # blocking waiting (anyway no one can use keys if they in transactions):\n",
    "        try:\n",
    "            wait_while_key_can_be_used(key, last_used)\n",
    "            yield withdraw(event_id, key)\n",
    "        except Exception as e:\n",
    "            print('error', e)\n",
    "\n",
    "    yield 'finished'"
   ]
  },
  {
   "cell_type": "code",
   "execution_count": 74,
   "id": "interstate-israeli",
   "metadata": {},
   "outputs": [
    {
     "data": {
      "text/plain": [
       "28"
      ]
     },
     "execution_count": 74,
     "metadata": {},
     "output_type": "execute_result"
    }
   ],
   "source": [
    "next_event_id = keys['a'].storage['nextEventId']()\n",
    "# next_event_id = 22\n",
    "next_event_id"
   ]
  },
  {
   "cell_type": "code",
   "execution_count": 75,
   "id": "laden-impossible",
   "metadata": {},
   "outputs": [],
   "source": [
    "pipelines = [event_pipeline(k) for k in [25, 26, 27]]"
   ]
  },
  {
   "cell_type": "code",
   "execution_count": null,
   "id": "mathematical-coral",
   "metadata": {
    "tags": []
   },
   "outputs": [],
   "source": [
    "while pipelines:\n",
    "    for n in range(len(pipelines)):\n",
    "        try:\n",
    "            next(pipelines[n])\n",
    "        except StopIteration:\n",
    "            # should work, but will skips one pipeline when popping:\n",
    "            pipelines.pop(n)\n",
    "        except IndexError:\n",
    "            continue"
   ]
  },
  {
   "cell_type": "code",
   "execution_count": 293,
   "id": "intellectual-update",
   "metadata": {
    "tags": []
   },
   "outputs": [
    {
     "name": "stdout",
     "output_type": "stream",
     "text": [
      "withdrawing for 6 with a:\n",
      "withdrawing for 6 with b:\n",
      "withdrawing for 6 with c:\n",
      "withdrawing for 6 with d:\n",
      "withdrawing for 6 with e:\n",
      "withdrawing for 7 with a:\n",
      "withdrawing for 7 with b:\n",
      "withdrawing for 7 with c:\n",
      "withdrawing for 7 with d:\n",
      "withdrawing for 7 with e:\n",
      "withdrawing for 8 with a:\n",
      "withdrawing for 8 with b:\n",
      "withdrawing for 8 with c:\n",
      "withdrawing for 8 with d:\n",
      "withdrawing for 8 with e:\n"
     ]
    }
   ],
   "source": [
    "for event_id in [6, 7, 8]:\n",
    "    for key in keys:\n",
    "        # blocking waiting (anyway no one can use keys if they in transactions):\n",
    "        try:\n",
    "            wait_while_key_can_be_used(key, last_used)\n",
    "            withdraw(event_id, key)\n",
    "        except Exception as e:\n",
    "            print('error', e)"
   ]
  },
  {
   "cell_type": "code",
   "execution_count": 28,
   "id": "under-christian",
   "metadata": {},
   "outputs": [],
   "source": [
    "response = requests.get(f'https://api.edo2net.tzkt.io/v1/contracts/{address}/storage/history?limit=100')\n",
    "data = json.loads(response.text)\n",
    "df = json_normalize(data)"
   ]
  },
  {
   "cell_type": "code",
   "execution_count": null,
   "id": "e01081e3-be39-4484-b3b9-f2546dc95ecc",
   "metadata": {},
   "outputs": [],
   "source": []
  }
 ],
 "metadata": {
  "kernelspec": {
   "display_name": "Python 3",
   "language": "python",
   "name": "python3"
  },
  "language_info": {
   "codemirror_mode": {
    "name": "ipython",
    "version": 3
   },
   "file_extension": ".py",
   "mimetype": "text/x-python",
   "name": "python",
   "nbconvert_exporter": "python",
   "pygments_lexer": "ipython3",
   "version": "3.9.6"
  }
 },
 "nbformat": 4,
 "nbformat_minor": 5
}
