{
 "cells": [
  {
   "cell_type": "code",
   "execution_count": 39,
   "id": "smoking-currency",
   "metadata": {},
   "outputs": [],
   "source": [
    "from pytezos import pytezos\n",
    "import requests\n",
    "import json\n",
    "from pandas import json_normalize\n",
    "import time\n",
    "from random import choice\n",
    "from pprint import pprint\n",
    "from random import randint\n",
    "\n",
    "address = 'KT1CepDBrMg73d7LHm773KAsunjAjgLYituP'\n",
    "# pytezos = pytezos.using(shell='https://florencenet-tezos.giganode.io')\n",
    "pytezos = pytezos.using(shell='https://api.tez.ie/rpc/florencenet')"
   ]
  },
  {
   "cell_type": "code",
   "execution_count": 40,
   "id": "running-sculpture",
   "metadata": {},
   "outputs": [],
   "source": [
    "keys = dict(\n",
    "    a = pytezos.using(key='test-keys/tz1iQE8ijR5xVPffBUPFubwB9XQJuyD9qsoJ.json').contract(address),\n",
    "    b = pytezos.using(key='test-keys/tz1MdaJfWzP5pPx3gwPxfdLZTHW6js9havos.json').contract(address),\n",
    "    c = pytezos.using(key='test-keys/tz1ZAzDvkZCT2LAyPN8Kdxw3kes7xfWerZhZ.json').contract(address),\n",
    "    d = pytezos.using(key='test-keys/tz1RS9GoEXakf9iyBmSaheLMcakFRtzBXpWE.json').contract(address),\n",
    "    e = pytezos.using(key='test-keys/tz1TdKuFwYgbPHHb7y1VvLH4xiwtAzcjwDjM.json').contract(address)\n",
    ")"
   ]
  },
  {
   "cell_type": "code",
   "execution_count": 41,
   "id": "palestinian-discharge",
   "metadata": {},
   "outputs": [],
   "source": [
    "last_used = {}\n",
    "\n",
    "def pick_random_free_key(keys, last_used, time_to_use_again=60):\n",
    "    while True:\n",
    "        random_key = choice(list(keys.keys()))\n",
    "        current_time = time.time()\n",
    "        elapsed_time = current_time - last_used.get(random_key, 0)\n",
    "        if elapsed_time > time_to_use_again:\n",
    "            last_used[random_key] = current_time\n",
    "            return random_key\n",
    "        else:\n",
    "            time.sleep(1)\n",
    "\n",
    "def wait_while_key_can_be_used(key, last_used):\n",
    "    the_only_key = {key: keys[key]}\n",
    "    return pick_random_free_key(the_only_key, last_used)"
   ]
  },
  {
   "cell_type": "code",
   "execution_count": 54,
   "id": "meaning-sending",
   "metadata": {},
   "outputs": [],
   "source": [
    "CURRENCY_PAIRS = [\n",
    "    'BAT-USDC', 'BTC-USD', 'COMP-USD', 'DAI-USDC', 'ETH-USD',\n",
    "    'KNC-USD', 'LINK-USD', 'REP-USD', 'ZRX-USD',\n",
    "    # 'XTZ-USD', \n",
    "]\n",
    "\n",
    "# CURRENCY_PAIRS = ['XTZ-USD']\n",
    "\n",
    "TARGET_DYNAMICS = [\n",
    "    1_000_000, 1_000_000, 1_000_000, 1_000_000, 1_000_000,\n",
    "    950_000, 950_000, 950_000,\n",
    "    1_050_000, 1_050_000, 1_050_000,\n",
    "    900_000,\n",
    "    1_000_000\n",
    "]\n",
    "\n",
    "RUN_TIME = int(time.time())\n",
    "\n",
    "# picking nearest available hour:\n",
    "RUN_TIME = RUN_TIME - RUN_TIME % 300\n",
    "# BETS_CLOSE_TIME = [RUN_TIME + 1200]\n",
    "BETS_CLOSE_TIME = [RUN_TIME + 604800*2]  # two weeks to collect bets\n",
    "MEASURE_PERIOD = [300, 600, 1200]\n",
    "LIQUIDITY_PERCENT = [10_000, 25_000, 50_000, 100_000]\n",
    "MEASURE_START_FEE = [100_000, 200_000, 500_000]\n",
    "EXPIRATION_FEE = [100_000, 200_000, 500_000]\n",
    "\n",
    "LIQUIDITY_VALUE = [1_000_000, 2_000_000, 5_000_000, 10_000_000]\n",
    "BET_VALUE = [100_000, 250_000, 500_000, 1_000_000]\n",
    "\n",
    "EVENTS_COUNT = 5"
   ]
  },
  {
   "cell_type": "code",
   "execution_count": 55,
   "id": "electrical-service",
   "metadata": {},
   "outputs": [
    {
     "data": {
      "text/plain": [
       "\"\\ndef wait_until(time_until_wait):\\n    while time.time() < time_until_wait:\\n        time.sleep(1)\\n        yield f'waiting until {time_until_wait}'\\n    return 'ready'\\n\""
      ]
     },
     "execution_count": 55,
     "metadata": {},
     "output_type": "execute_result"
    }
   ],
   "source": [
    "def create_random_event():\n",
    "    event_params = {\n",
    "        'currencyPair': choice(CURRENCY_PAIRS),\n",
    "        'targetDynamics': choice(TARGET_DYNAMICS),\n",
    "        'betsCloseTime': choice(BETS_CLOSE_TIME),\n",
    "        'measurePeriod': choice(MEASURE_PERIOD),\n",
    "        'liquidityPercent': choice(LIQUIDITY_PERCENT),\n",
    "    }\n",
    "\n",
    "    key = pick_random_free_key(keys, last_used)\n",
    "    print(f'creating event with {key}:')\n",
    "    pprint(event_params)\n",
    "\n",
    "    fees = (\n",
    "        keys[key].storage()['config']['expirationFee']\n",
    "        + keys[key].storage()['config']['measureStartFee'])\n",
    "\n",
    "    keys[key].newEvent(event_params).with_amount(fees).as_transaction().autofill().sign().inject(_async=False)\n",
    "    return event_params\n",
    "\n",
    "def provide_liquidity(event_id):\n",
    "    liquidity_value = choice(LIQUIDITY_VALUE)\n",
    "    pl_params = {\n",
    "        'eventId': event_id,\n",
    "        'expectedRatioAboveEq': choice([1, 2, 3, 4]),\n",
    "        'expectedRatioBelow': choice([1, 2, 3, 4]),\n",
    "        'maxSlippage': 10_000_000_000,\n",
    "    }\n",
    "\n",
    "    key = pick_random_free_key(keys, last_used)\n",
    "    print(f'providing liquidity for {event_id} with {key}:')\n",
    "\n",
    "    transaction = keys[key].provideLiquidity(pl_params).with_amount(liquidity_value).as_transaction()\n",
    "    return transaction.autofill().sign().inject(_async=False)\n",
    "\n",
    "\n",
    "def bet(event_id):\n",
    "    bet_value = choice(BET_VALUE)\n",
    "    bet_choice = choice(['aboveEq', 'below'])\n",
    "    bet_params = {\n",
    "        'bet': bet_choice,\n",
    "        'eventId': event_id,\n",
    "        'minimalWinAmount': bet_value\n",
    "    }\n",
    "\n",
    "    key = pick_random_free_key(keys, last_used)\n",
    "    print(f'bet \"{bet_choice}\" for {event_id} with {key}:')\n",
    "\n",
    "    transaction = keys[key].bet(bet_params).with_amount(bet_value).as_transaction()\n",
    "    return transaction.autofill().sign().inject(_async=False)\n",
    "\n",
    "def start_measurement(event_id):\n",
    "    key = pick_random_free_key(keys, last_used)\n",
    "    print(f'starting measurement for {event_id} with {key}:')\n",
    "\n",
    "    transaction = keys[key].startMeasurement(event_id).as_transaction()\n",
    "    return transaction.autofill().sign().inject(_async=False)\n",
    "\n",
    "def close(event_id):\n",
    "    key = pick_random_free_key(keys, last_used)\n",
    "    print(f'closing for {event_id} with {key}:')\n",
    "\n",
    "    transaction = keys[key].close(event_id).as_transaction()\n",
    "    return transaction.autofill().sign().inject(_async=False)\n",
    "\n",
    "def withdraw(event_id, key):\n",
    "    print(f'withdrawing for {event_id} with {key}:')\n",
    "\n",
    "    params = {'eventId': event_id, 'participantAddress': keys[key].key.public_key_hash()}\n",
    "    transaction = keys[key].withdraw(params).as_transaction()\n",
    "    return transaction.autofill().sign().inject(_async=False)\n",
    "\n",
    "def repeat_to_succeed_wrapper(func):\n",
    "    def wrapped(*args, **kwargs):\n",
    "        while True:\n",
    "            try:\n",
    "                return f(*args, **kwargs)\n",
    "            except MichelsonError as e:\n",
    "                print(f'catched MichelsonError {e}')\n",
    "                time.sleep(1)\n",
    "    return wrapped\n",
    "\n",
    "def trigger_force_majeure(event_id):\n",
    "    key = pick_random_free_key(keys, last_used)\n",
    "    transaction = keys[key].triggerForceMajeure(event_id).as_transaction()\n",
    "    transaction.autofill().sign().inject(_async=False)\n",
    "    print(f'event: {event_id} triggered by key: {key}')\n",
    "\n",
    "'''\n",
    "def wait_until(time_until_wait):\n",
    "    while time.time() < time_until_wait:\n",
    "        time.sleep(1)\n",
    "        yield f'waiting until {time_until_wait}'\n",
    "    return 'ready'\n",
    "'''"
   ]
  },
  {
   "cell_type": "code",
   "execution_count": 56,
   "id": "juvenile-buying",
   "metadata": {},
   "outputs": [],
   "source": [
    "def repeat_to_succeed_wrapper(func):\n",
    "    def wrapped(*args, **kwargs):\n",
    "        while True:\n",
    "            try:\n",
    "                return f(*args, **kwargs)\n",
    "            except MichelsonError as e:\n",
    "                print(f'catched MichelsonError {e}')\n",
    "                time.sleep(1)\n",
    "    return wrapped"
   ]
  },
  {
   "cell_type": "code",
   "execution_count": 57,
   "id": "limited-berkeley",
   "metadata": {},
   "outputs": [],
   "source": [
    "# event_params = keys['a'].storage['events'][6]()"
   ]
  },
  {
   "cell_type": "code",
   "execution_count": 73,
   "id": "declared-steel",
   "metadata": {},
   "outputs": [],
   "source": [
    "ORACLE_DELAY = 10*60  # starting calling oracle after this time\n",
    "\n",
    "# TODO: split event to actions, yield after each action, if action is not succeed - yield and then repeat action\n",
    "def event_pipeline(event_id):\n",
    "    '''\n",
    "    event_params = create_random_event()\n",
    "    yield event_params\n",
    "\n",
    "    # waiting till event is created:\n",
    "    # TODO: is it possible to move this kind of waiting to async func?\n",
    "    # TODO: maybe I should learn how to use async instead?\n",
    "    time_until_wait = time.time() + 90\n",
    "    while time.time() < time_until_wait:\n",
    "        time.sleep(1)\n",
    "        yield f'waiting until {time_until_wait}'\n",
    "\n",
    "\n",
    "    # providing liquidity:\n",
    "    yield provide_liquidity(event_id)\n",
    "\n",
    "    time_until_wait = time.time() + 90\n",
    "    while time.time() < time_until_wait:\n",
    "        time.sleep(1)\n",
    "        yield f'waiting until {time_until_wait}'\n",
    "    '''\n",
    "\n",
    "    event_params = keys['a'].storage['events'][event_id]()\n",
    "    actions = randint(10, 100)\n",
    "    for action in range(actions):\n",
    "        next_action = choice([provide_liquidity, bet, bet, bet])\n",
    "        if time.time() + 90 > event_params['betsCloseTime']:\n",
    "            break\n",
    "\n",
    "        yield next_action(event_id)\n",
    "\n",
    "    # waiting for bets close time:\n",
    "    time_until_wait = event_params['betsCloseTime'] + ORACLE_DELAY\n",
    "    while time.time() < time_until_wait:\n",
    "        time.sleep(1)\n",
    "        yield f'waiting until {time_until_wait}'\n",
    "    yield start_measurement(event_id)\n",
    "\n",
    "    # waiting for close time:\n",
    "    time_until_wait = event_params['betsCloseTime'] + ORACLE_DELAY*2 + event_params['measurePeriod']\n",
    "    while time.time() < time_until_wait:\n",
    "        time.sleep(1)\n",
    "        yield f'waiting until {time_until_wait}'\n",
    "    yield close(event_id)\n",
    "\n",
    "    for key in keys:\n",
    "        # blocking waiting (anyway no one can use keys if they in transactions):\n",
    "        try:\n",
    "            wait_while_key_can_be_used(key, last_used)\n",
    "            yield withdraw(event_id, key)\n",
    "        except Exception as e:\n",
    "            print('error', e)\n",
    "\n",
    "    yield 'finished'"
   ]
  },
  {
   "cell_type": "code",
   "execution_count": 74,
   "id": "interstate-israeli",
   "metadata": {},
   "outputs": [
    {
     "data": {
      "text/plain": [
       "28"
      ]
     },
     "execution_count": 74,
     "metadata": {},
     "output_type": "execute_result"
    }
   ],
   "source": [
    "next_event_id = keys['a'].storage['nextEventId']()\n",
    "# next_event_id = 22\n",
    "next_event_id"
   ]
  },
  {
   "cell_type": "code",
   "execution_count": 75,
   "id": "laden-impossible",
   "metadata": {},
   "outputs": [],
   "source": [
    "pipelines = [event_pipeline(k) for k in [25, 26, 27]]"
   ]
  },
  {
   "cell_type": "code",
   "execution_count": null,
   "id": "mathematical-coral",
   "metadata": {
    "tags": []
   },
   "outputs": [],
   "source": [
    "while pipelines:\n",
    "    for n in range(len(pipelines)):\n",
    "        try:\n",
    "            next(pipelines[n])\n",
    "        except StopIteration:\n",
    "            # should work, but will skips one pipeline when popping:\n",
    "            pipelines.pop(n)\n",
    "        except IndexError:\n",
    "            continue"
   ]
  },
  {
   "cell_type": "code",
   "execution_count": 293,
   "id": "intellectual-update",
   "metadata": {
    "tags": []
   },
   "outputs": [
    {
     "name": "stdout",
     "output_type": "stream",
     "text": [
      "withdrawing for 6 with a:\n",
      "withdrawing for 6 with b:\n",
      "withdrawing for 6 with c:\n",
      "withdrawing for 6 with d:\n",
      "withdrawing for 6 with e:\n",
      "withdrawing for 7 with a:\n",
      "withdrawing for 7 with b:\n",
      "withdrawing for 7 with c:\n",
      "withdrawing for 7 with d:\n",
      "withdrawing for 7 with e:\n",
      "withdrawing for 8 with a:\n",
      "withdrawing for 8 with b:\n",
      "withdrawing for 8 with c:\n",
      "withdrawing for 8 with d:\n",
      "withdrawing for 8 with e:\n"
     ]
    }
   ],
   "source": [
    "for event_id in [6, 7, 8]:\n",
    "    for key in keys:\n",
    "        # blocking waiting (anyway no one can use keys if they in transactions):\n",
    "        try:\n",
    "            wait_while_key_can_be_used(key, last_used)\n",
    "            withdraw(event_id, key)\n",
    "        except Exception as e:\n",
    "            print('error', e)"
   ]
  },
  {
   "cell_type": "code",
   "execution_count": 28,
   "id": "under-christian",
   "metadata": {},
   "outputs": [],
   "source": [
    "response = requests.get(f'https://api.edo2net.tzkt.io/v1/contracts/{address}/storage/history?limit=100')\n",
    "data = json.loads(response.text)\n",
    "df = json_normalize(data)"
   ]
  },
  {
   "cell_type": "markdown",
   "id": "norwegian-persian",
   "metadata": {},
   "source": [
    "### removeme:"
   ]
  },
  {
   "cell_type": "code",
   "execution_count": 1,
   "id": "regulation-withdrawal",
   "metadata": {},
   "outputs": [],
   "source": [
    "import pandas as pd\n",
    "import requests\n",
    "import json\n",
    "\n",
    "response = requests.get('https://api.better-call.dev/v1/contract/mainnet/KT1LRboPna9yQY9BrjtQYDS1DVxhKESK4VVd/tokens/holders?token_id=0')\n",
    "data = json.loads(response.text)\n",
    "df = pd.json_normalize(data).T\n",
    "\n",
    "df = df.rename(columns={0: 'tokens'})\n",
    "df.tokens = df.tokens.astype(int)\n",
    "df['share'] = df.tokens / df.tokens.sum()\n",
    "df = df.sort_values('share', ascending=False)\n",
    "df['WRAP'] = df.tokens / 10**8"
   ]
  },
  {
   "cell_type": "code",
   "execution_count": 2,
   "id": "julian-injection",
   "metadata": {},
   "outputs": [
    {
     "data": {
      "text/plain": [
       "tz1d4EXxyFQV23dGV8pQhan4PK3oLbjY5yoY    55.428\n",
       "KT1FG63hhFtMEEEtmBSX2vuFmP87t9E7Ab4t    18.140\n",
       "KT1J82G1XVAA4oqjC44qskihdWerrneNVHnn     3.381\n",
       "KT1DQg57yTJ7QKxzk6AkPtDGvZYTM5pX4GYE     2.991\n",
       "KT1APj29bNiMdrxQ2Nah49MH89TweW84nSXQ     2.826\n",
       "tz1cNABC2qtbbHKDDKdvxRkcyopL1kEfbpgV     2.773\n",
       "KT1UfeNuqT3F6ntYwucDGPHwHdYa1pQbWfST     2.205\n",
       "KT1HVrGpv4GUoSR6qCmkxmHzAFtwfKxzfcop     2.193\n",
       "KT1GCNfU4RQ85VgQF3fsj69Lgw8Ucz7RGoph     1.588\n",
       "KT1KENVgwsrAnXZHkm5MptHWhMYiXeG5hwa3     1.443\n",
       "tz1Mc61yajNASzh5KWZFtYs4i7EJbzAxQC4K     0.887\n",
       "KT1UeEeeSfSd7uDWpbxBTBkBBpVeDrcqcUr7     0.745\n",
       "KT1Stv6ATejBZ2uD9eMm5HyQ3nrNrC32zpRL     0.660\n",
       "KT1UxnT4id9zKz1tgK1UxwpigFi5ny7vTCu9     0.614\n",
       "KT1LXQT3b39wLSiFQ1rHatzALzeKsRGmd8gr     0.482\n",
       "KT19ohHrCtSv5u4RzU3SySZJPKGhcovkf9sS     0.416\n",
       "KT1NSKpB8ppqABLAEDozUmcLv3QUceN5uHQi     0.408\n",
       "KT1PUFe6Gc2k8HKFXFEpVSoCVjM9uWUY54h3     0.250\n",
       "KT1U9pATbqyDL3ZXzTQnPN2LnaGN78UnpzUw     0.238\n",
       "KT1KY55T9jVZwFaCpRcj62LQNwoVYgtRHG6F     0.228\n",
       "Name: share, dtype: object"
      ]
     },
     "execution_count": 2,
     "metadata": {},
     "output_type": "execute_result"
    }
   ],
   "source": [
    "df.share.map(lambda x: f'{x*100:.3f}')[0:20]"
   ]
  },
  {
   "cell_type": "code",
   "execution_count": 3,
   "id": "complex-trial",
   "metadata": {},
   "outputs": [
    {
     "data": {
      "text/plain": [
       "0.0677055358837802"
      ]
     },
     "execution_count": 3,
     "metadata": {},
     "output_type": "execute_result"
    }
   ],
   "source": [
    "total_supply = 10000000000000000\n",
    "decimals = 10**8\n",
    "df.tokens.sum() / total_supply"
   ]
  },
  {
   "cell_type": "code",
   "execution_count": 4,
   "id": "unknown-seeker",
   "metadata": {},
   "outputs": [
    {
     "data": {
      "text/plain": [
       "6770553.58837802"
      ]
     },
     "execution_count": 4,
     "metadata": {},
     "output_type": "execute_result"
    }
   ],
   "source": [
    "current_supply = df.tokens.sum()\n",
    "current_supply / decimals"
   ]
  },
  {
   "cell_type": "code",
   "execution_count": 5,
   "id": "variable-metro",
   "metadata": {},
   "outputs": [
    {
     "data": {
      "text/plain": [
       "0.0032493650205743965"
      ]
     },
     "execution_count": 5,
     "metadata": {},
     "output_type": "execute_result"
    }
   ],
   "source": [
    "22000*decimals / current_supply"
   ]
  },
  {
   "cell_type": "code",
   "execution_count": 6,
   "id": "narrow-spectacular",
   "metadata": {},
   "outputs": [],
   "source": [
    "token_price =  0.168"
   ]
  },
  {
   "cell_type": "code",
   "execution_count": 7,
   "id": "understood-jersey",
   "metadata": {},
   "outputs": [],
   "source": [
    "xtz_price = 2.44"
   ]
  },
  {
   "cell_type": "code",
   "execution_count": 8,
   "id": "strategic-alexandria",
   "metadata": {},
   "outputs": [
    {
     "data": {
      "text/plain": [
       "40.992"
      ]
     },
     "execution_count": 8,
     "metadata": {},
     "output_type": "execute_result"
    }
   ],
   "source": [
    "total_supply / decimals * token_price / 10**6 * xtz_price"
   ]
  },
  {
   "cell_type": "code",
   "execution_count": 9,
   "id": "normal-think",
   "metadata": {},
   "outputs": [
    {
     "data": {
      "text/plain": [
       "2.775385326947918"
      ]
     },
     "execution_count": 9,
     "metadata": {},
     "output_type": "execute_result"
    }
   ],
   "source": [
    "current_supply / decimals * token_price / 10**6 * xtz_price"
   ]
  },
  {
   "cell_type": "code",
   "execution_count": 10,
   "id": "owned-mapping",
   "metadata": {},
   "outputs": [
    {
     "data": {
      "text/plain": [
       "18.03648"
      ]
     },
     "execution_count": 10,
     "metadata": {},
     "output_type": "execute_result"
    }
   ],
   "source": [
    "year_supply = 44 * 10**6\n",
    "year_supply * token_price / 10**6 * xtz_price"
   ]
  },
  {
   "cell_type": "markdown",
   "id": "b3070725-db56-49f7-8c1f-321b89db24f6",
   "metadata": {},
   "source": [
    "### Quipuswap:"
   ]
  },
  {
   "cell_type": "code",
   "execution_count": 42,
   "id": "connected-perception",
   "metadata": {},
   "outputs": [],
   "source": [
    "response = requests.get('https://api.better-call.dev/v1/contract/mainnet/KT1FG63hhFtMEEEtmBSX2vuFmP87t9E7Ab4t/tokens/holders?token_id=0')\n",
    "data = json.loads(response.text)\n",
    "df = pd.json_normalize(data).T"
   ]
  },
  {
   "cell_type": "code",
   "execution_count": 43,
   "id": "1012742a-8a98-4dca-bc6b-4bf71b2f278c",
   "metadata": {},
   "outputs": [],
   "source": [
    "df = df.rename(columns={0: 'tokens'})\n",
    "df.tokens = -df.tokens.astype(int)\n",
    "df = df[ df.tokens > 0 ]\n",
    "df['share'] = df.tokens / df.tokens.sum()\n",
    "df = df.sort_values('share', ascending=False)\n",
    "df['QUIPU'] = df.tokens / 10**6"
   ]
  },
  {
   "cell_type": "code",
   "execution_count": 45,
   "id": "04dffce0-dcae-424a-ab98-d48e527c423c",
   "metadata": {},
   "outputs": [
    {
     "data": {
      "text/html": [
       "<div>\n",
       "<style scoped>\n",
       "    .dataframe tbody tr th:only-of-type {\n",
       "        vertical-align: middle;\n",
       "    }\n",
       "\n",
       "    .dataframe tbody tr th {\n",
       "        vertical-align: top;\n",
       "    }\n",
       "\n",
       "    .dataframe thead th {\n",
       "        text-align: right;\n",
       "    }\n",
       "</style>\n",
       "<table border=\"1\" class=\"dataframe\">\n",
       "  <thead>\n",
       "    <tr style=\"text-align: right;\">\n",
       "      <th></th>\n",
       "      <th>tokens</th>\n",
       "      <th>share</th>\n",
       "      <th>QUIPU</th>\n",
       "    </tr>\n",
       "  </thead>\n",
       "  <tbody>\n",
       "    <tr>\n",
       "      <th>tz1cmanHzitf3UgWgECzLpGUKpzEfmGZaFsw</th>\n",
       "      <td>15108020407</td>\n",
       "      <td>0.091118</td>\n",
       "      <td>15108.020407</td>\n",
       "    </tr>\n",
       "    <tr>\n",
       "      <th>tz1L8m6MGdvK2WA65wQ7DeVwXVmCS72JKWeN</th>\n",
       "      <td>13862055056</td>\n",
       "      <td>0.083603</td>\n",
       "      <td>13862.055056</td>\n",
       "    </tr>\n",
       "    <tr>\n",
       "      <th>tz1gJpwrJy66fWH2niNwLzWv2YhbggKq8crT</th>\n",
       "      <td>11251481661</td>\n",
       "      <td>0.067859</td>\n",
       "      <td>11251.481661</td>\n",
       "    </tr>\n",
       "    <tr>\n",
       "      <th>tz1XYkmAHtkZFjZLdWNoL2BTqUws4oD4H1PR</th>\n",
       "      <td>10743667679</td>\n",
       "      <td>0.064796</td>\n",
       "      <td>10743.667679</td>\n",
       "    </tr>\n",
       "    <tr>\n",
       "      <th>tz1Yu1qh4mk9ejf2MLxRNnRwdHoidXqoSqqm</th>\n",
       "      <td>8832254547</td>\n",
       "      <td>0.053268</td>\n",
       "      <td>8832.254547</td>\n",
       "    </tr>\n",
       "    <tr>\n",
       "      <th>tz1W19DveaP3mW4WvFtdVdqGsWwBL5q1QDSK</th>\n",
       "      <td>7290406374</td>\n",
       "      <td>0.043969</td>\n",
       "      <td>7290.406374</td>\n",
       "    </tr>\n",
       "    <tr>\n",
       "      <th>tz1ZNxMa8XsMa8JTv776X9iCETcNoo4SY629</th>\n",
       "      <td>6702908997</td>\n",
       "      <td>0.040426</td>\n",
       "      <td>6702.908997</td>\n",
       "    </tr>\n",
       "    <tr>\n",
       "      <th>tz1PaJwmmL2nrRt5K6HvwFEc6fUfxNe6Dyp5</th>\n",
       "      <td>6100002365</td>\n",
       "      <td>0.036790</td>\n",
       "      <td>6100.002365</td>\n",
       "    </tr>\n",
       "    <tr>\n",
       "      <th>tz1bAUF7TenZVtYEysqdDcvP7XiA3n35jVEN</th>\n",
       "      <td>6025997065</td>\n",
       "      <td>0.036343</td>\n",
       "      <td>6025.997065</td>\n",
       "    </tr>\n",
       "    <tr>\n",
       "      <th>tz1QGZU9mpkSYkMVkoi2J22RtoqMY7RRzjjn</th>\n",
       "      <td>5536919617</td>\n",
       "      <td>0.033394</td>\n",
       "      <td>5536.919617</td>\n",
       "    </tr>\n",
       "    <tr>\n",
       "      <th>tz1VnXCALwSCihScu984A3dbY6XXLzDqJWa1</th>\n",
       "      <td>5229139264</td>\n",
       "      <td>0.031537</td>\n",
       "      <td>5229.139264</td>\n",
       "    </tr>\n",
       "    <tr>\n",
       "      <th>tz1Uh9fH9yYJF9ZLJtopz4xCkJyhEXVPuB8E</th>\n",
       "      <td>4538800391</td>\n",
       "      <td>0.027374</td>\n",
       "      <td>4538.800391</td>\n",
       "    </tr>\n",
       "    <tr>\n",
       "      <th>tz1fKhdo3NBk3uqtAzeL2GNGAKdCgb1JC4vt</th>\n",
       "      <td>4431235778</td>\n",
       "      <td>0.026725</td>\n",
       "      <td>4431.235778</td>\n",
       "    </tr>\n",
       "    <tr>\n",
       "      <th>tz1P8pHeW6qWzBkgeDvi3bc8depN63r5tt5s</th>\n",
       "      <td>3393254007</td>\n",
       "      <td>0.020465</td>\n",
       "      <td>3393.254007</td>\n",
       "    </tr>\n",
       "    <tr>\n",
       "      <th>tz1ewd8gDnG3USrTRJVdbpsyieVv9fWDMPNk</th>\n",
       "      <td>2585210306</td>\n",
       "      <td>0.015592</td>\n",
       "      <td>2585.210306</td>\n",
       "    </tr>\n",
       "    <tr>\n",
       "      <th>tz1WC4nVkrdBXrF9hoADXmLvvDvF4GdJRFWt</th>\n",
       "      <td>2408719438</td>\n",
       "      <td>0.014527</td>\n",
       "      <td>2408.719438</td>\n",
       "    </tr>\n",
       "    <tr>\n",
       "      <th>tz1NiraRNtWgpXyyxopRTk2a7Py9oKFdrgkB</th>\n",
       "      <td>2331840050</td>\n",
       "      <td>0.014064</td>\n",
       "      <td>2331.840050</td>\n",
       "    </tr>\n",
       "    <tr>\n",
       "      <th>tz1eugHdv9yXeJra8ZTKC6tBd7k4NpUum3gv</th>\n",
       "      <td>2057689987</td>\n",
       "      <td>0.012410</td>\n",
       "      <td>2057.689987</td>\n",
       "    </tr>\n",
       "    <tr>\n",
       "      <th>tz2ALu8Jxf2SMgzSZaZEwfiJQbogpUDPStwz</th>\n",
       "      <td>2039333110</td>\n",
       "      <td>0.012299</td>\n",
       "      <td>2039.333110</td>\n",
       "    </tr>\n",
       "    <tr>\n",
       "      <th>tz1dKaw4xdNjfufDSLWRxumNBwe2VX4mxXyW</th>\n",
       "      <td>2022887727</td>\n",
       "      <td>0.012200</td>\n",
       "      <td>2022.887727</td>\n",
       "    </tr>\n",
       "    <tr>\n",
       "      <th>tz1VV5912Qp7qqZaQ28MC2G3RQ89UhEdueqt</th>\n",
       "      <td>1928022424</td>\n",
       "      <td>0.011628</td>\n",
       "      <td>1928.022424</td>\n",
       "    </tr>\n",
       "    <tr>\n",
       "      <th>tz1amoqk71y4tqnZxRWGcttpK47XJnPx51jB</th>\n",
       "      <td>1689863819</td>\n",
       "      <td>0.010192</td>\n",
       "      <td>1689.863819</td>\n",
       "    </tr>\n",
       "    <tr>\n",
       "      <th>tz1XkMZQCCAC1d2YCbHzSySvaiGU7fv24gx3</th>\n",
       "      <td>1678564560</td>\n",
       "      <td>0.010124</td>\n",
       "      <td>1678.564560</td>\n",
       "    </tr>\n",
       "    <tr>\n",
       "      <th>tz1aDrsGYyNbiqUX6eTHLe5otZJwN5XQh2kG</th>\n",
       "      <td>1601644955</td>\n",
       "      <td>0.009660</td>\n",
       "      <td>1601.644955</td>\n",
       "    </tr>\n",
       "    <tr>\n",
       "      <th>tz1VrXfxvKDt6r59p4jDBTGavQt1XCgi9a6Y</th>\n",
       "      <td>1549279941</td>\n",
       "      <td>0.009344</td>\n",
       "      <td>1549.279941</td>\n",
       "    </tr>\n",
       "  </tbody>\n",
       "</table>\n",
       "</div>"
      ],
      "text/plain": [
       "                                           tokens     share         QUIPU\n",
       "tz1cmanHzitf3UgWgECzLpGUKpzEfmGZaFsw  15108020407  0.091118  15108.020407\n",
       "tz1L8m6MGdvK2WA65wQ7DeVwXVmCS72JKWeN  13862055056  0.083603  13862.055056\n",
       "tz1gJpwrJy66fWH2niNwLzWv2YhbggKq8crT  11251481661  0.067859  11251.481661\n",
       "tz1XYkmAHtkZFjZLdWNoL2BTqUws4oD4H1PR  10743667679  0.064796  10743.667679\n",
       "tz1Yu1qh4mk9ejf2MLxRNnRwdHoidXqoSqqm   8832254547  0.053268   8832.254547\n",
       "tz1W19DveaP3mW4WvFtdVdqGsWwBL5q1QDSK   7290406374  0.043969   7290.406374\n",
       "tz1ZNxMa8XsMa8JTv776X9iCETcNoo4SY629   6702908997  0.040426   6702.908997\n",
       "tz1PaJwmmL2nrRt5K6HvwFEc6fUfxNe6Dyp5   6100002365  0.036790   6100.002365\n",
       "tz1bAUF7TenZVtYEysqdDcvP7XiA3n35jVEN   6025997065  0.036343   6025.997065\n",
       "tz1QGZU9mpkSYkMVkoi2J22RtoqMY7RRzjjn   5536919617  0.033394   5536.919617\n",
       "tz1VnXCALwSCihScu984A3dbY6XXLzDqJWa1   5229139264  0.031537   5229.139264\n",
       "tz1Uh9fH9yYJF9ZLJtopz4xCkJyhEXVPuB8E   4538800391  0.027374   4538.800391\n",
       "tz1fKhdo3NBk3uqtAzeL2GNGAKdCgb1JC4vt   4431235778  0.026725   4431.235778\n",
       "tz1P8pHeW6qWzBkgeDvi3bc8depN63r5tt5s   3393254007  0.020465   3393.254007\n",
       "tz1ewd8gDnG3USrTRJVdbpsyieVv9fWDMPNk   2585210306  0.015592   2585.210306\n",
       "tz1WC4nVkrdBXrF9hoADXmLvvDvF4GdJRFWt   2408719438  0.014527   2408.719438\n",
       "tz1NiraRNtWgpXyyxopRTk2a7Py9oKFdrgkB   2331840050  0.014064   2331.840050\n",
       "tz1eugHdv9yXeJra8ZTKC6tBd7k4NpUum3gv   2057689987  0.012410   2057.689987\n",
       "tz2ALu8Jxf2SMgzSZaZEwfiJQbogpUDPStwz   2039333110  0.012299   2039.333110\n",
       "tz1dKaw4xdNjfufDSLWRxumNBwe2VX4mxXyW   2022887727  0.012200   2022.887727\n",
       "tz1VV5912Qp7qqZaQ28MC2G3RQ89UhEdueqt   1928022424  0.011628   1928.022424\n",
       "tz1amoqk71y4tqnZxRWGcttpK47XJnPx51jB   1689863819  0.010192   1689.863819\n",
       "tz1XkMZQCCAC1d2YCbHzSySvaiGU7fv24gx3   1678564560  0.010124   1678.564560\n",
       "tz1aDrsGYyNbiqUX6eTHLe5otZJwN5XQh2kG   1601644955  0.009660   1601.644955\n",
       "tz1VrXfxvKDt6r59p4jDBTGavQt1XCgi9a6Y   1549279941  0.009344   1549.279941"
      ]
     },
     "execution_count": 45,
     "metadata": {},
     "output_type": "execute_result"
    }
   ],
   "source": [
    "df.iloc[:25]"
   ]
  },
  {
   "cell_type": "code",
   "execution_count": null,
   "id": "e01081e3-be39-4484-b3b9-f2546dc95ecc",
   "metadata": {},
   "outputs": [],
   "source": []
  }
 ],
 "metadata": {
  "kernelspec": {
   "display_name": "Python 3",
   "language": "python",
   "name": "python3"
  },
  "language_info": {
   "codemirror_mode": {
    "name": "ipython",
    "version": 3
   },
   "file_extension": ".py",
   "mimetype": "text/x-python",
   "name": "python",
   "nbconvert_exporter": "python",
   "pygments_lexer": "ipython3",
   "version": "3.9.5"
  }
 },
 "nbformat": 4,
 "nbformat_minor": 5
}
