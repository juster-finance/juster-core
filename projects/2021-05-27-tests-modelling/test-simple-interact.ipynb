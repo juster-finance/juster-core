{
 "cells": [
  {
   "cell_type": "code",
   "execution_count": 1,
   "id": "blessed-worse",
   "metadata": {},
   "outputs": [],
   "source": [
    "from pytezos import ContractInterface, pytezos, MichelsonRuntimeError"
   ]
  },
  {
   "cell_type": "code",
   "execution_count": 2,
   "id": "sacred-insulin",
   "metadata": {},
   "outputs": [],
   "source": [
    "contract_fn = '../../build/tz/baking_bet.tz'\n",
    "\n",
    "a='tz1iQE8ijR5xVPffBUPFubwB9XQJuyD9qsoJ'\n",
    "b='tz1MdaJfWzP5pPx3gwPxfdLZTHW6js9havos'\n",
    "c='tz1RS9GoEXakf9iyBmSaheLMcakFRtzBXpWE'\n",
    "d='tz1TdKuFwYgbPHHb7y1VvLH4xiwtAzcjwDjM'\n",
    "\n",
    "contract = ContractInterface.from_file(contract_fn)"
   ]
  },
  {
   "cell_type": "code",
   "execution_count": 3,
   "id": "fifty-florist",
   "metadata": {},
   "outputs": [],
   "source": [
    "lambda_fn = '../../build/tz/lambda_raise_liq_fee.tz'\n",
    "lambda_code = open(lambda_fn).read()"
   ]
  },
  {
   "cell_type": "code",
   "execution_count": 4,
   "id": "major-rebound",
   "metadata": {},
   "outputs": [],
   "source": [
    "import time\n",
    "\n",
    "RUN_TIME = int(time.time())\n",
    "ONE_HOUR = 60*60\n",
    "ONE_DAY = 24*ONE_HOUR\n",
    "\n",
    "expiration_fee = 100_000\n",
    "measure_start_fee = 100_000\n",
    "oracle_address = 'KT1RCNpUEDjZAYhabjzgz1ZfxQijCDVMEaTZ'\n",
    "\n",
    "\n",
    "default_config = {\n",
    "    'defaultTime': 0,\n",
    "    'expirationFee': expiration_fee,\n",
    "    'minLiquidityPercent': 0,\n",
    "    'maxLiquidityPercent': 300_000,  # 30% for 1_000_000 liquidityPrecision\n",
    "    'maxAllowedMeasureLag': ONE_HOUR*4,  # 4 hours\n",
    "    'maxMeasurePeriod': ONE_DAY*31,  # 31 day\n",
    "    'maxPeriodToBetsClose': ONE_DAY*31,  # 31 day\n",
    "    'measureStartFee': measure_start_fee,\n",
    "    'minMeasurePeriod': 60*5,  # 5 min\n",
    "    'minPeriodToBetsClose': 60*5,  # 5 min\n",
    "    'oracleAddress': oracle_address,\n",
    "    'rewardCallFee': 100_000,\n",
    "}\n",
    "\n",
    "init_storage = {\n",
    "    'events': {},\n",
    "    'betsAboveEq': {},\n",
    "    'betsBellow': {},\n",
    "    'providedLiquidityAboveEq': {},\n",
    "    'providedLiquidityBellow': {},\n",
    "    'liquidityShares': {},\n",
    "    'depositedBets': {},\n",
    "    'lastEventId': 0,\n",
    "    'closeCallId': None,\n",
    "    'measurementStartCallId': None,\n",
    "    'newEventConfig': default_config,\n",
    "    'manager': a,\n",
    "\n",
    "    'liquidityPrecision': 1_000_000,\n",
    "    'ratioPrecision': 100_000_000,\n",
    "    'sharePrecision': 100_000_000,\n",
    "    'targetDynamicsPrecision': 1_000_000,\n",
    "\n",
    "    'bakingRewards': 0\n",
    "}\n",
    "\n",
    "event = {\n",
    "    'currencyPair': 'XTZ-USD',\n",
    "    'targetDynamics': 1_000_000,\n",
    "    'betsCloseTime': RUN_TIME + 24*ONE_HOUR,\n",
    "    'measurePeriod': 12*ONE_HOUR,\n",
    "    'liquidityPercent': 0,\n",
    "}"
   ]
  },
  {
   "cell_type": "code",
   "execution_count": 5,
   "id": "dominant-lithuania",
   "metadata": {
    "tags": []
   },
   "outputs": [],
   "source": [
    "result = contract.newEvent(event).with_amount(200_000).interpret(\n",
    "    now=RUN_TIME, storage=init_storage)"
   ]
  },
  {
   "cell_type": "code",
   "execution_count": 6,
   "id": "furnished-titanium",
   "metadata": {},
   "outputs": [
    {
     "data": {
      "text/plain": [
       "0"
      ]
     },
     "execution_count": 6,
     "metadata": {},
     "output_type": "execute_result"
    }
   ],
   "source": [
    "result.storage['newEventConfig']['minLiquidityPercent']"
   ]
  },
  {
   "cell_type": "code",
   "execution_count": 7,
   "id": "future-recruitment",
   "metadata": {},
   "outputs": [
    {
     "data": {
      "text/plain": [
       "[{'kind': 'delegation',\n",
       "  'source': 'KT1BEqzn5Wx8uJrZNvuS9DVHmLvG9td3fDLi',\n",
       "  'delegate': 'tz3e7LbZvUtoXhpUD1yb6wuFodZpfYRb9nWJ'}]"
      ]
     },
     "execution_count": 7,
     "metadata": {},
     "output_type": "execute_result"
    }
   ],
   "source": [
    "result = contract.setDelegate('tz3e7LbZvUtoXhpUD1yb6wuFodZpfYRb9nWJ').interpret(\n",
    "    now=RUN_TIME, storage=init_storage)\n",
    "\n",
    "result.operations"
   ]
  },
  {
   "cell_type": "code",
   "execution_count": 8,
   "id": "suited-writer",
   "metadata": {},
   "outputs": [],
   "source": [
    "result = contract.updateConfig(lambda_code).interpret(\n",
    "    now=RUN_TIME, storage=result.storage, sender=a)"
   ]
  },
  {
   "cell_type": "code",
   "execution_count": 15,
   "id": "bearing-configuration",
   "metadata": {},
   "outputs": [],
   "source": [
    "# pytezos.transaction(amount=200_000)"
   ]
  },
  {
   "cell_type": "code",
   "execution_count": 11,
   "id": "amazing-growing",
   "metadata": {},
   "outputs": [
    {
     "data": {
      "text/plain": [
       "<pytezos.jupyter.ContractInterface object at 0x7fbc6b8e89a0>\n",
       "\n",
       "Properties\n",
       ".block_id\thead\n",
       ".storage\t# access storage data at block `block_id`\n",
       ".parameter\t# root entrypoint\n",
       "\n",
       "Entrypoints\n",
       ".bet()\n",
       ".claimBakingRewards()\n",
       ".close()\n",
       ".closeCallback()\n",
       ".default()\n",
       ".newEvent()\n",
       ".provideLiquidity()\n",
       ".setDelegate()\n",
       ".startMeasurement()\n",
       ".startMeasurementCallback()\n",
       ".triggerForceMajeure()\n",
       ".updateConfig()\n",
       ".withdraw()\n",
       ".root()\n",
       "\n",
       "Helpers\n",
       ".big_map_get()\n",
       ".create_from()\n",
       ".from_context()\n",
       ".from_file()\n",
       ".from_micheline()\n",
       ".from_michelson()\n",
       ".from_url()\n",
       ".metadata()\n",
       ".metadata_url()\n",
       ".operation_result()\n",
       ".originate()\n",
       ".program()\n",
       ".script()\n",
       ".to_file()\n",
       ".to_micheline()\n",
       ".to_michelson()\n",
       ".using()"
      ]
     },
     "execution_count": 11,
     "metadata": {},
     "output_type": "execute_result"
    }
   ],
   "source": [
    "contract#.transaction()"
   ]
  },
  {
   "cell_type": "code",
   "execution_count": 48,
   "id": "durable-excitement",
   "metadata": {},
   "outputs": [
    {
     "data": {
      "text/plain": [
       "10000"
      ]
     },
     "execution_count": 48,
     "metadata": {},
     "output_type": "execute_result"
    }
   ],
   "source": [
    "result.storage['newEventConfig']['liquidityPercent']"
   ]
  },
  {
   "cell_type": "code",
   "execution_count": 6,
   "id": "interior-arizona",
   "metadata": {},
   "outputs": [
    {
     "data": {
      "text/plain": [
       "{'betsAgainstLiquidityPoolSum': 5000000,\n",
       " 'betsCloseTime': 1620373402,\n",
       " 'betsForLiquidityPoolSum': 5000000,\n",
       " 'closedDynamics': 0,\n",
       " 'closedOracleTime': 1530342452,\n",
       " 'closedRate': 0,\n",
       " 'createdTime': 1620287002,\n",
       " 'currencyPair': 'XTZ-USD',\n",
       " 'expirationFee': 200000,\n",
       " 'firstProviderAgainstSharesSum': 5000000,\n",
       " 'firstProviderForSharesSum': 5000000,\n",
       " 'isBetsForWin': False,\n",
       " 'isClosed': False,\n",
       " 'isMeasurementStarted': False,\n",
       " 'liquidityPercent': 10000,\n",
       " 'liquidityPrecision': 1000000,\n",
       " 'measureOracleStartTime': 1530342452,\n",
       " 'measurePeriod': 43200,\n",
       " 'measureStartFee': 200000,\n",
       " 'oracleAddress': 'KT1SUP27JhX24Kvr11oUdWswk7FnCW78ZyUn',\n",
       " 'ratioPrecision': 100000000,\n",
       " 'rewardCallFee': 100000,\n",
       " 'sharePrecision': 100000000,\n",
       " 'startRate': 0,\n",
       " 'targetDynamics': 1000000,\n",
       " 'targetDynamicsPrecision': 1000000,\n",
       " 'totalLiquidityAgainstSharesSum': 5000000,\n",
       " 'totalLiquidityForSharesSum': 5000000,\n",
       " 'totalLiquidityProvided': 10000000,\n",
       " 'winAgainstProfitLossPerShare': 0,\n",
       " 'winForProfitLossPerShare': 0}"
      ]
     },
     "execution_count": 6,
     "metadata": {},
     "output_type": "execute_result"
    }
   ],
   "source": [
    "provide_params = {\n",
    "    'eventId': 0,\n",
    "    'expectedRatioAgainst': 1,\n",
    "    'expectedRatioFor': 1,\n",
    "    'maxSlippage': 100_000,\n",
    "}\n",
    "\n",
    "result = contract.provideLiquidity(provide_params).with_amount(10_000_000).interpret(\n",
    "    sender=d, now=RUN_TIME, storage=result.storage)\n",
    "result.storage['events'][0]"
   ]
  },
  {
   "cell_type": "code",
   "execution_count": 7,
   "id": "objective-associate",
   "metadata": {},
   "outputs": [
    {
     "data": {
      "text/plain": [
       "{('tz1TdKuFwYgbPHHb7y1VvLH4xiwtAzcjwDjM', 0): 5000000}"
      ]
     },
     "execution_count": 7,
     "metadata": {},
     "output_type": "execute_result"
    }
   ],
   "source": [
    "result.storage['liquidityForSharesLedger']"
   ]
  },
  {
   "cell_type": "code",
   "execution_count": 8,
   "id": "collectible-overhead",
   "metadata": {},
   "outputs": [
    {
     "data": {
      "text/plain": [
       "{('tz1TdKuFwYgbPHHb7y1VvLH4xiwtAzcjwDjM', 0): 0}"
      ]
     },
     "execution_count": 8,
     "metadata": {},
     "output_type": "execute_result"
    }
   ],
   "source": [
    "result.storage['winAgainstProfitLossPerShareAtEntry']"
   ]
  },
  {
   "cell_type": "code",
   "execution_count": 9,
   "id": "funded-basics",
   "metadata": {},
   "outputs": [
    {
     "data": {
      "text/plain": [
       "{'betsAgainstLiquidityPoolSum': 4166667,\n",
       " 'betsCloseTime': 1620373402,\n",
       " 'betsForLiquidityPoolSum': 6000000,\n",
       " 'closedDynamics': 0,\n",
       " 'closedOracleTime': 1530342452,\n",
       " 'closedRate': 0,\n",
       " 'createdTime': 1620287002,\n",
       " 'currencyPair': 'XTZ-USD',\n",
       " 'expirationFee': 200000,\n",
       " 'firstProviderAgainstSharesSum': 5000000,\n",
       " 'firstProviderForSharesSum': 5000000,\n",
       " 'isBetsForWin': False,\n",
       " 'isClosed': False,\n",
       " 'isMeasurementStarted': False,\n",
       " 'liquidityPercent': 10000,\n",
       " 'liquidityPrecision': 1000000,\n",
       " 'measureOracleStartTime': 1530342452,\n",
       " 'measurePeriod': 43200,\n",
       " 'measureStartFee': 200000,\n",
       " 'oracleAddress': 'KT1SUP27JhX24Kvr11oUdWswk7FnCW78ZyUn',\n",
       " 'ratioPrecision': 100000000,\n",
       " 'rewardCallFee': 100000,\n",
       " 'sharePrecision': 100000000,\n",
       " 'startRate': 0,\n",
       " 'targetDynamics': 1000000,\n",
       " 'targetDynamicsPrecision': 1000000,\n",
       " 'totalLiquidityAgainstSharesSum': 5000000,\n",
       " 'totalLiquidityForSharesSum': 5000000,\n",
       " 'totalLiquidityProvided': 10000000,\n",
       " 'winAgainstProfitLossPerShare': 20000000,\n",
       " 'winForProfitLossPerShare': -16499980}"
      ]
     },
     "execution_count": 9,
     "metadata": {},
     "output_type": "execute_result"
    }
   ],
   "source": [
    "result = contract.bet({'bet': 'for', 'eventId': 0, 'minimalWinAmount': 1_000_000}).with_amount(1_000_000).interpret(\n",
    "    sender=a, now=RUN_TIME + 6*ONE_HOUR, storage=result.storage)\n",
    "result.storage['events'][0]"
   ]
  },
  {
   "cell_type": "code",
   "execution_count": 10,
   "id": "verbal-worst",
   "metadata": {},
   "outputs": [
    {
     "data": {
      "text/plain": [
       "{'betsAgainstLiquidityPoolSum': 8265028,\n",
       " 'betsCloseTime': 1620373402,\n",
       " 'betsForLiquidityPoolSum': 11901639,\n",
       " 'closedDynamics': 0,\n",
       " 'closedOracleTime': 1530342452,\n",
       " 'closedRate': 0,\n",
       " 'createdTime': 1620287002,\n",
       " 'currencyPair': 'XTZ-USD',\n",
       " 'expirationFee': 200000,\n",
       " 'firstProviderAgainstSharesSum': 5000000,\n",
       " 'firstProviderForSharesSum': 5000000,\n",
       " 'isBetsForWin': False,\n",
       " 'isClosed': False,\n",
       " 'isMeasurementStarted': False,\n",
       " 'liquidityPercent': 10000,\n",
       " 'liquidityPrecision': 1000000,\n",
       " 'measureOracleStartTime': 1530342452,\n",
       " 'measurePeriod': 43200,\n",
       " 'measureStartFee': 200000,\n",
       " 'oracleAddress': 'KT1SUP27JhX24Kvr11oUdWswk7FnCW78ZyUn',\n",
       " 'ratioPrecision': 100000000,\n",
       " 'rewardCallFee': 100000,\n",
       " 'sharePrecision': 100000000,\n",
       " 'startRate': 0,\n",
       " 'targetDynamics': 1000000,\n",
       " 'targetDynamicsPrecision': 1000000,\n",
       " 'totalLiquidityAgainstSharesSum': 8073770,\n",
       " 'totalLiquidityForSharesSum': 9426229,\n",
       " 'totalLiquidityProvided': 20000000,\n",
       " 'winAgainstProfitLossPerShare': 20000000,\n",
       " 'winForProfitLossPerShare': -16499980}"
      ]
     },
     "execution_count": 10,
     "metadata": {},
     "output_type": "execute_result"
    }
   ],
   "source": [
    "result = contract.provideLiquidity(provide_params).with_amount(10_000_000).interpret(\n",
    "    sender=d, now=RUN_TIME + 6*ONE_HOUR, storage=result.storage)\n",
    "result.storage['events'][0]"
   ]
  },
  {
   "cell_type": "code",
   "execution_count": 11,
   "id": "about-universe",
   "metadata": {},
   "outputs": [
    {
     "data": {
      "text/plain": [
       "{('tz1TdKuFwYgbPHHb7y1VvLH4xiwtAzcjwDjM', 0): 0}"
      ]
     },
     "execution_count": 11,
     "metadata": {},
     "output_type": "execute_result"
    }
   ],
   "source": [
    "result.storage['winAgainstProfitLossPerShareAtEntry']"
   ]
  },
  {
   "cell_type": "code",
   "execution_count": 12,
   "id": "reliable-career",
   "metadata": {},
   "outputs": [],
   "source": [
    "def get_params(storage, event_id, participant):\n",
    "    key = (participant, event_id)\n",
    "    win_for_expected = (\n",
    "        storage['events'][event_id]['winForProfitLossPerShare']\n",
    "        * storage['liquidityForSharesLedger'][key]\n",
    "        / storage['events'][event_id]['sharePrecision'])\n",
    "\n",
    "    win_against_expected = (\n",
    "        storage['events'][event_id]['winAgainstProfitLossPerShare']\n",
    "        * storage['liquidityAgainstSharesLedger'][key]\n",
    "        / storage['events'][event_id]['sharePrecision'])\n",
    "\n",
    "    # I calculate here without event:\n",
    "    bets_for_winnig_sum = sum(storage['betsForWinningLedger'].values())\n",
    "    bets_against_winning_sum = sum(storage['betsAgainstWinningLedger'].values())\n",
    "    bets = sum(storage['depositedBets'].values())\n",
    "    \n",
    "    return {\n",
    "        'win_for_expected': win_for_expected,\n",
    "        'win_against_expected': win_against_expected,\n",
    "        'bets_for_sum': bets_for_winnig_sum,\n",
    "        'bets_against_sum': bets_against_winning_sum,\n",
    "        'bets': bets\n",
    "    }"
   ]
  },
  {
   "cell_type": "code",
   "execution_count": 13,
   "id": "disciplinary-salon",
   "metadata": {},
   "outputs": [
    {
     "data": {
      "text/plain": [
       "{'win_for_expected': -1555325.8997542,\n",
       " 'win_against_expected': 1614754.0,\n",
       " 'bets_for_sum': 1824999,\n",
       " 'bets_against_sum': 0,\n",
       " 'bets': 1000000}"
      ]
     },
     "execution_count": 13,
     "metadata": {},
     "output_type": "execute_result"
    }
   ],
   "source": [
    "get_params(result.storage, 0, d)"
   ]
  },
  {
   "cell_type": "code",
   "execution_count": 14,
   "id": "identical-crazy",
   "metadata": {},
   "outputs": [
    {
     "data": {
      "text/plain": [
       "{'betsAgainstLiquidityPoolSum': 11265028,\n",
       " 'betsCloseTime': 1620373402,\n",
       " 'betsForLiquidityPoolSum': 8732103,\n",
       " 'closedDynamics': 0,\n",
       " 'closedOracleTime': 1530342452,\n",
       " 'closedRate': 0,\n",
       " 'createdTime': 1620287002,\n",
       " 'currencyPair': 'XTZ-USD',\n",
       " 'expirationFee': 200000,\n",
       " 'firstProviderAgainstSharesSum': 5000000,\n",
       " 'firstProviderForSharesSum': 5000000,\n",
       " 'isBetsForWin': False,\n",
       " 'isClosed': False,\n",
       " 'isMeasurementStarted': False,\n",
       " 'liquidityPercent': 10000,\n",
       " 'liquidityPrecision': 1000000,\n",
       " 'measureOracleStartTime': 1530342452,\n",
       " 'measurePeriod': 43200,\n",
       " 'measureStartFee': 200000,\n",
       " 'oracleAddress': 'KT1SUP27JhX24Kvr11oUdWswk7FnCW78ZyUn',\n",
       " 'ratioPrecision': 100000000,\n",
       " 'rewardCallFee': 100000,\n",
       " 'sharePrecision': 100000000,\n",
       " 'startRate': 0,\n",
       " 'targetDynamics': 1000000,\n",
       " 'targetDynamicsPrecision': 1000000,\n",
       " 'totalLiquidityAgainstSharesSum': 8073770,\n",
       " 'totalLiquidityForSharesSum': 9426229,\n",
       " 'totalLiquidityProvided': 20000000,\n",
       " 'winAgainstProfitLossPerShare': -13288391,\n",
       " 'winForProfitLossPerShare': 15326108}"
      ]
     },
     "execution_count": 14,
     "metadata": {},
     "output_type": "execute_result"
    }
   ],
   "source": [
    "result = contract.bet({'bet': 'against', 'eventId': 0, 'minimalWinAmount': 3_000_000}).with_amount(3_000_000).interpret(\n",
    "    sender=b, now=RUN_TIME + 12*ONE_HOUR, storage=result.storage)\n",
    "result.storage['events'][0]"
   ]
  },
  {
   "cell_type": "code",
   "execution_count": 15,
   "id": "moral-stand",
   "metadata": {},
   "outputs": [
    {
     "data": {
      "text/plain": [
       "{'win_for_expected': 1444674.03686732,\n",
       " 'win_against_expected': -1072874.1260407,\n",
       " 'bets_for_sum': 1824999,\n",
       " 'bets_against_sum': 6137840,\n",
       " 'bets': 4000000}"
      ]
     },
     "execution_count": 15,
     "metadata": {},
     "output_type": "execute_result"
    }
   ],
   "source": [
    "get_params(result.storage, 0, d)"
   ]
  },
  {
   "cell_type": "code",
   "execution_count": 16,
   "id": "bacterial-arizona",
   "metadata": {},
   "outputs": [
    {
     "data": {
      "text/plain": [
       "{('tz1TdKuFwYgbPHHb7y1VvLH4xiwtAzcjwDjM', 0): 0}"
      ]
     },
     "execution_count": 16,
     "metadata": {},
     "output_type": "execute_result"
    }
   ],
   "source": [
    "result.storage['winAgainstProfitLossPerShareAtEntry']"
   ]
  },
  {
   "cell_type": "code",
   "execution_count": 17,
   "id": "comparative-turner",
   "metadata": {},
   "outputs": [],
   "source": [
    "result = contract.provideLiquidity(provide_params).with_amount(40_000_000).interpret(\n",
    "    sender=c, now=RUN_TIME + 16*ONE_HOUR, storage=result.storage)"
   ]
  },
  {
   "cell_type": "code",
   "execution_count": 18,
   "id": "editorial-smith",
   "metadata": {},
   "outputs": [
    {
     "data": {
      "text/plain": [
       "{('tz1RS9GoEXakf9iyBmSaheLMcakFRtzBXpWE', 0): 5822237,\n",
       " ('tz1TdKuFwYgbPHHb7y1VvLH4xiwtAzcjwDjM', 0): 9426229}"
      ]
     },
     "execution_count": 18,
     "metadata": {},
     "output_type": "execute_result"
    }
   ],
   "source": [
    "result.storage['liquidityForSharesLedger']"
   ]
  },
  {
   "cell_type": "code",
   "execution_count": 19,
   "id": "prime-manchester",
   "metadata": {},
   "outputs": [
    {
     "data": {
      "text/plain": [
       "{'betsAgainstLiquidityPoolSum': 29771930,\n",
       " 'betsCloseTime': 1620372978,\n",
       " 'betsForLiquidityPoolSum': 29518285,\n",
       " 'closedDynamics': 0,\n",
       " 'closedOracleTime': 1530342452,\n",
       " 'closedRate': 0,\n",
       " 'createdTime': 1620286578,\n",
       " 'currencyPair': 'XTZ-USD',\n",
       " 'expirationFee': 200000,\n",
       " 'firstProviderAgainstSharesSum': 5000000,\n",
       " 'firstProviderForSharesSum': 5000000,\n",
       " 'isBetsForWin': False,\n",
       " 'isClosed': False,\n",
       " 'isMeasurementStarted': False,\n",
       " 'liquidityPercent': 10000,\n",
       " 'liquidityPrecision': 1000000,\n",
       " 'measureOracleStartTime': 1530342452,\n",
       " 'measurePeriod': 43200,\n",
       " 'measureStartFee': 200000,\n",
       " 'oracleAddress': 'KT1SUP27JhX24Kvr11oUdWswk7FnCW78ZyUn',\n",
       " 'ratioPrecision': 100000000,\n",
       " 'rewardCallFee': 100000,\n",
       " 'sharePrecision': 100000000,\n",
       " 'startRate': 0,\n",
       " 'targetDynamics': 1000000,\n",
       " 'targetDynamicsPrecision': 1000000,\n",
       " 'totalLiquidityAgainstSharesSum': 16667464,\n",
       " 'totalLiquidityForSharesSum': 14165869,\n",
       " 'totalLiquidityProvided': 60000000,\n",
       " 'winAgainstProfitLossPerShare': 10546804,\n",
       " 'winForProfitLossPerShare': -12062210}"
      ]
     },
     "execution_count": 19,
     "metadata": {},
     "output_type": "execute_result"
    }
   ],
   "source": [
    "result = contract.bet({'bet': 'for', 'eventId': 0, 'minimalWinAmount': 5_000_000}).with_amount(5_000_000).interpret(\n",
    "    sender=a, now=RUN_TIME + 20*ONE_HOUR, storage=result.storage)\n",
    "result.storage['events'][0]"
   ]
  },
  {
   "cell_type": "code",
   "execution_count": 20,
   "id": "greater-amateur",
   "metadata": {},
   "outputs": [
    {
     "data": {
      "text/plain": [
       "{'win_for_expected': -1055443.375,\n",
       " 'win_against_expected': 922845.35,\n",
       " 'bets_for_sum': 12910657,\n",
       " 'bets_against_sum': 5702029,\n",
       " 'bets': 9000000}"
      ]
     },
     "execution_count": 20,
     "metadata": {},
     "output_type": "execute_result"
    }
   ],
   "source": [
    "get_params(result.storage, 0, d)"
   ]
  },
  {
   "cell_type": "code",
   "execution_count": 21,
   "id": "separate-robertson",
   "metadata": {},
   "outputs": [
    {
     "data": {
      "text/plain": [
       "{'betsAgainstLiquidityPoolSum': 34771930,\n",
       " 'betsCloseTime': 1620372978,\n",
       " 'betsForLiquidityPoolSum': 25273729,\n",
       " 'closedDynamics': 0,\n",
       " 'closedOracleTime': 1530342452,\n",
       " 'closedRate': 0,\n",
       " 'createdTime': 1620286578,\n",
       " 'currencyPair': 'XTZ-USD',\n",
       " 'expirationFee': 200000,\n",
       " 'firstProviderAgainstSharesSum': 5000000,\n",
       " 'firstProviderForSharesSum': 5000000,\n",
       " 'isBetsForWin': False,\n",
       " 'isClosed': False,\n",
       " 'isMeasurementStarted': False,\n",
       " 'liquidityPercent': 10000,\n",
       " 'liquidityPrecision': 1000000,\n",
       " 'measureOracleStartTime': 1530342452,\n",
       " 'measurePeriod': 43200,\n",
       " 'measureStartFee': 200000,\n",
       " 'oracleAddress': 'KT1SUP27JhX24Kvr11oUdWswk7FnCW78ZyUn',\n",
       " 'ratioPrecision': 100000000,\n",
       " 'rewardCallFee': 100000,\n",
       " 'sharePrecision': 100000000,\n",
       " 'startRate': 0,\n",
       " 'targetDynamics': 1000000,\n",
       " 'targetDynamicsPrecision': 1000000,\n",
       " 'totalLiquidityAgainstSharesSum': 16667464,\n",
       " 'totalLiquidityForSharesSum': 14165869,\n",
       " 'totalLiquidityProvided': 60000000,\n",
       " 'winAgainstProfitLossPerShare': -19116819,\n",
       " 'winForProfitLossPerShare': 23233895}"
      ]
     },
     "execution_count": 21,
     "metadata": {},
     "output_type": "execute_result"
    }
   ],
   "source": [
    "result = contract.bet({'bet': 'against', 'eventId': 0, 'minimalWinAmount': 5_000_000}).with_amount(5_000_000).interpret(\n",
    "    sender=c, now=RUN_TIME + 22*ONE_HOUR, storage=result.storage)\n",
    "result.storage['events'][0]"
   ]
  },
  {
   "cell_type": "code",
   "execution_count": 22,
   "id": "dressed-courtesy",
   "metadata": {},
   "outputs": [
    {
     "data": {
      "text/plain": [
       "{'betsAgainstLiquidityPoolSum': 34771930,\n",
       " 'betsCloseTime': 1620372978,\n",
       " 'betsForLiquidityPoolSum': 25273729,\n",
       " 'closedDynamics': 0,\n",
       " 'closedOracleTime': 1530342452,\n",
       " 'closedRate': 0,\n",
       " 'createdTime': 1620286578,\n",
       " 'currencyPair': 'XTZ-USD',\n",
       " 'expirationFee': 200000,\n",
       " 'firstProviderAgainstSharesSum': 5000000,\n",
       " 'firstProviderForSharesSum': 5000000,\n",
       " 'isBetsForWin': False,\n",
       " 'isClosed': False,\n",
       " 'isMeasurementStarted': False,\n",
       " 'liquidityPercent': 10000,\n",
       " 'liquidityPrecision': 1000000,\n",
       " 'measureOracleStartTime': 1530342452,\n",
       " 'measurePeriod': 43200,\n",
       " 'measureStartFee': 200000,\n",
       " 'oracleAddress': 'KT1SUP27JhX24Kvr11oUdWswk7FnCW78ZyUn',\n",
       " 'ratioPrecision': 100000000,\n",
       " 'rewardCallFee': 100000,\n",
       " 'sharePrecision': 100000000,\n",
       " 'startRate': 0,\n",
       " 'targetDynamics': 1000000,\n",
       " 'targetDynamicsPrecision': 1000000,\n",
       " 'totalLiquidityAgainstSharesSum': 16667464,\n",
       " 'totalLiquidityForSharesSum': 14165869,\n",
       " 'totalLiquidityProvided': 60000000,\n",
       " 'winAgainstProfitLossPerShare': -19116819,\n",
       " 'winForProfitLossPerShare': 23233895}"
      ]
     },
     "execution_count": 22,
     "metadata": {},
     "output_type": "execute_result"
    }
   ],
   "source": [
    "result = contract.startMeasurement(0).interpret(\n",
    "    sender=a, storage=result.storage, now=RUN_TIME + 26*ONE_HOUR)\n",
    "result.storage['events'][0]"
   ]
  },
  {
   "cell_type": "code",
   "execution_count": 23,
   "id": "offshore-heather",
   "metadata": {},
   "outputs": [],
   "source": [
    "callback = {\n",
    "    'currencyPair': 'XTZ-USD',\n",
    "    'lastUpdate': RUN_TIME + 26*ONE_HOUR - 1*ONE_HOUR,\n",
    "    'rate': 6_000_000\n",
    "}\n",
    "\n",
    "result = contract.startMeasurementCallback(callback).interpret(\n",
    "    sender=event['oracleAddress'], now=RUN_TIME + 26*ONE_HOUR, storage=result.storage)"
   ]
  },
  {
   "cell_type": "code",
   "execution_count": 24,
   "id": "unusual-czech",
   "metadata": {},
   "outputs": [],
   "source": [
    "result = contract.close(0).interpret(\n",
    "    sender=a, storage=result.storage, now=RUN_TIME + 38*ONE_HOUR)"
   ]
  },
  {
   "cell_type": "code",
   "execution_count": 25,
   "id": "backed-enough",
   "metadata": {},
   "outputs": [],
   "source": [
    "callback = {\n",
    "    'currencyPair': 'XTZ-USD',\n",
    "    'lastUpdate': RUN_TIME + 38*ONE_HOUR - 1*ONE_HOUR,\n",
    "    'rate': 7_500_000\n",
    "}\n",
    "\n",
    "result = contract.closeCallback(callback).interpret(\n",
    "    sender=event['oracleAddress'], now=RUN_TIME + 38*ONE_HOUR, storage=result.storage)"
   ]
  },
  {
   "cell_type": "code",
   "execution_count": 26,
   "id": "small-sheep",
   "metadata": {},
   "outputs": [],
   "source": [
    "def remove_none_values(storage):\n",
    "    def clean_dict(dct):\n",
    "        return {key: value for key, value in dct.items() if value}\n",
    "\n",
    "    return {\n",
    "        key: clean_dict(value) if type(value) is dict else value\n",
    "        for key, value in storage.items()\n",
    "    }"
   ]
  },
  {
   "cell_type": "code",
   "execution_count": 28,
   "id": "faced-grill",
   "metadata": {},
   "outputs": [
    {
     "data": {
      "text/plain": [
       "{('tz1iQE8ijR5xVPffBUPFubwB9XQJuyD9qsoJ', 0): 12910657}"
      ]
     },
     "execution_count": 28,
     "metadata": {},
     "output_type": "execute_result"
    }
   ],
   "source": [
    "result.storage['betsForWinningLedger']"
   ]
  },
  {
   "cell_type": "code",
   "execution_count": 29,
   "id": "spare-pillow",
   "metadata": {},
   "outputs": [
    {
     "data": {
      "text/plain": [
       "{('tz1MdaJfWzP5pPx3gwPxfdLZTHW6js9havos', 0): 5702029,\n",
       " ('tz1RS9GoEXakf9iyBmSaheLMcakFRtzBXpWE', 0): 9202110}"
      ]
     },
     "execution_count": 29,
     "metadata": {},
     "output_type": "execute_result"
    }
   ],
   "source": [
    "result.storage['betsAgainstWinningLedger']"
   ]
  },
  {
   "cell_type": "code",
   "execution_count": 30,
   "id": "inappropriate-montreal",
   "metadata": {},
   "outputs": [
    {
     "data": {
      "text/plain": [
       "'tz1RS9GoEXakf9iyBmSaheLMcakFRtzBXpWE'"
      ]
     },
     "execution_count": 30,
     "metadata": {},
     "output_type": "execute_result"
    }
   ],
   "source": [
    "c"
   ]
  },
  {
   "cell_type": "code",
   "execution_count": 31,
   "id": "alternate-scanner",
   "metadata": {},
   "outputs": [
    {
     "data": {
      "text/plain": [
       "[{'kind': 'transaction',\n",
       "  'source': 'KT1BEqzn5Wx8uJrZNvuS9DVHmLvG9td3fDLi',\n",
       "  'destination': 'tz1RS9GoEXakf9iyBmSaheLMcakFRtzBXpWE',\n",
       "  'amount': '76790705',\n",
       "  'parameters': {'entrypoint': 'default', 'value': {'prim': 'Unit'}}}]"
      ]
     },
     "execution_count": 31,
     "metadata": {},
     "output_type": "execute_result"
    }
   ],
   "source": [
    "result = contract.withdraw(0).interpret(\n",
    "    sender=c, now=RUN_TIME + 40*ONE_HOUR, storage=result.storage)\n",
    "result.storage = remove_none_values(result.storage)\n",
    "\n",
    "result.operations"
   ]
  },
  {
   "cell_type": "code",
   "execution_count": 33,
   "id": "defensive-inside",
   "metadata": {},
   "outputs": [
    {
     "data": {
      "text/plain": [
       "{('tz1iQE8ijR5xVPffBUPFubwB9XQJuyD9qsoJ', 0): 12910657}"
      ]
     },
     "execution_count": 33,
     "metadata": {},
     "output_type": "execute_result"
    }
   ],
   "source": [
    "result.storage['betsForWinningLedger']"
   ]
  },
  {
   "cell_type": "code",
   "execution_count": 34,
   "id": "dominican-phone",
   "metadata": {},
   "outputs": [
    {
     "data": {
      "text/plain": [
       "{('tz1MdaJfWzP5pPx3gwPxfdLZTHW6js9havos', 0): 5702029}"
      ]
     },
     "execution_count": 34,
     "metadata": {},
     "output_type": "execute_result"
    }
   ],
   "source": [
    "result.storage['betsAgainstWinningLedger']"
   ]
  },
  {
   "cell_type": "code",
   "execution_count": 36,
   "id": "african-crash",
   "metadata": {
    "tags": []
   },
   "outputs": [],
   "source": [
    "result = contract.withdraw(0).interpret(\n",
    "    sender=a, now=RUN_TIME + 40*ONE_HOUR, storage=result.storage)\n",
    "result.storage = remove_none_values(result.storage)"
   ]
  },
  {
   "cell_type": "code",
   "execution_count": 38,
   "id": "promising-overall",
   "metadata": {},
   "outputs": [
    {
     "data": {
      "text/plain": [
       "[{'kind': 'transaction',\n",
       "  'source': 'KT1BEqzn5Wx8uJrZNvuS9DVHmLvG9td3fDLi',\n",
       "  'destination': 'tz1iQE8ijR5xVPffBUPFubwB9XQJuyD9qsoJ',\n",
       "  'amount': '12910657',\n",
       "  'parameters': {'entrypoint': 'default', 'value': {'prim': 'Unit'}}}]"
      ]
     },
     "execution_count": 38,
     "metadata": {},
     "output_type": "execute_result"
    }
   ],
   "source": [
    "result.operations"
   ]
  },
  {
   "cell_type": "markdown",
   "id": "spoken-pastor",
   "metadata": {},
   "source": [
    "### Nohting to withdraw because b is not withdrawn:"
   ]
  },
  {
   "cell_type": "code",
   "execution_count": 39,
   "id": "lyric-scott",
   "metadata": {
    "tags": []
   },
   "outputs": [],
   "source": [
    "result = contract.withdraw(0).interpret(\n",
    "    sender=d, now=RUN_TIME + 40*ONE_HOUR, storage=result.storage)\n",
    "result.storage = remove_none_values(result.storage)"
   ]
  },
  {
   "cell_type": "code",
   "execution_count": 40,
   "id": "obvious-correction",
   "metadata": {
    "tags": []
   },
   "outputs": [],
   "source": [
    "result = contract.withdraw(0).interpret(\n",
    "    sender=b, now=RUN_TIME + 40*ONE_HOUR, storage=result.storage, balance=64_000_000)\n",
    "result.storage = remove_none_values(result.storage)"
   ]
  },
  {
   "cell_type": "code",
   "execution_count": 41,
   "id": "liberal-remark",
   "metadata": {},
   "outputs": [
    {
     "data": {
      "text/plain": [
       "[{'kind': 'transaction',\n",
       "  'source': 'KT1BEqzn5Wx8uJrZNvuS9DVHmLvG9td3fDLi',\n",
       "  'destination': 'tz1MdaJfWzP5pPx3gwPxfdLZTHW6js9havos',\n",
       "  'amount': '0',\n",
       "  'parameters': {'entrypoint': 'default', 'value': {'prim': 'Unit'}}}]"
      ]
     },
     "execution_count": 41,
     "metadata": {},
     "output_type": "execute_result"
    }
   ],
   "source": [
    "result.operations"
   ]
  },
  {
   "cell_type": "code",
   "execution_count": 42,
   "id": "pleased-lending",
   "metadata": {},
   "outputs": [
    {
     "data": {
      "text/plain": [
       "[{'kind': 'transaction',\n",
       "  'source': 'KT1BEqzn5Wx8uJrZNvuS9DVHmLvG9td3fDLi',\n",
       "  'destination': 'tz1TdKuFwYgbPHHb7y1VvLH4xiwtAzcjwDjM',\n",
       "  'amount': '0',\n",
       "  'parameters': {'entrypoint': 'default', 'value': {'prim': 'Unit'}}}]"
      ]
     },
     "execution_count": 42,
     "metadata": {},
     "output_type": "execute_result"
    }
   ],
   "source": [
    "result = contract.withdraw(0).interpret(\n",
    "    sender=d, now=RUN_TIME + 40*ONE_HOUR, storage=result.storage, balance=64_000_000)\n",
    "result.storage = remove_none_values(result.storage)\n",
    "result.operations"
   ]
  },
  {
   "cell_type": "code",
   "execution_count": 44,
   "id": "appointed-syndrome",
   "metadata": {},
   "outputs": [
    {
     "data": {
      "text/plain": [
       "{'betsAgainstWinningLedger': {},\n",
       " 'betsForWinningLedger': {},\n",
       " 'closeCallEventId': None,\n",
       " 'depositedBets': {('tz1MdaJfWzP5pPx3gwPxfdLZTHW6js9havos', 0): 3000000,\n",
       "  ('tz1RS9GoEXakf9iyBmSaheLMcakFRtzBXpWE', 0): 5000000,\n",
       "  ('tz1iQE8ijR5xVPffBUPFubwB9XQJuyD9qsoJ', 0): 6000000},\n",
       " 'events': {0: {'betsAgainstLiquidityPoolSum': 34771930,\n",
       "   'betsCloseTime': 1620372978,\n",
       "   'betsForLiquidityPoolSum': 25273729,\n",
       "   'closedDynamics': 1250000,\n",
       "   'closedOracleTime': 1620419778,\n",
       "   'closedRate': 7500000,\n",
       "   'createdTime': 1620286578,\n",
       "   'currencyPair': 'XTZ-USD',\n",
       "   'expirationFee': 200000,\n",
       "   'firstProviderAgainstSharesSum': 5000000,\n",
       "   'firstProviderForSharesSum': 5000000,\n",
       "   'isBetsForWin': True,\n",
       "   'isClosed': True,\n",
       "   'isMeasurementStarted': True,\n",
       "   'liquidityPercent': 10000,\n",
       "   'liquidityPrecision': 1000000,\n",
       "   'measureOracleStartTime': 1620376578,\n",
       "   'measurePeriod': 43200,\n",
       "   'measureStartFee': 200000,\n",
       "   'oracleAddress': 'KT1SUP27JhX24Kvr11oUdWswk7FnCW78ZyUn',\n",
       "   'ratioPrecision': 100000000,\n",
       "   'rewardCallFee': 100000,\n",
       "   'sharePrecision': 100000000,\n",
       "   'startRate': 6000000,\n",
       "   'targetDynamics': 1000000,\n",
       "   'targetDynamicsPrecision': 1000000,\n",
       "   'totalLiquidityAgainstSharesSum': 16667464,\n",
       "   'totalLiquidityForSharesSum': 14165869,\n",
       "   'totalLiquidityProvided': 60000000,\n",
       "   'winAgainstProfitLossPerShare': -19116819,\n",
       "   'winForProfitLossPerShare': 23233895}},\n",
       " 'lastEventId': 1,\n",
       " 'liquidityAgainstSharesLedger': {},\n",
       " 'liquidityForSharesLedger': {},\n",
       " 'measurementStartCallEventId': None,\n",
       " 'providedLiquidityLedger': {},\n",
       " 'winAgainstProfitLossPerShareAtEntry': {},\n",
       " 'winForProfitLossPerShareAtEntry': {}}"
      ]
     },
     "execution_count": 44,
     "metadata": {},
     "output_type": "execute_result"
    }
   ],
   "source": [
    "result.storage"
   ]
  },
  {
   "cell_type": "markdown",
   "id": "surprised-amsterdam",
   "metadata": {},
   "source": [
    "### TODO: тесты\n",
    "- тест что при ставке рейт оказывается хуже ожидаемого\n",
    "- тест что при добавлении ликвидности рейт хуже ожидаемого\n",
    "- тест что попытка добавить ликвидность после окончания времени\n",
    "- тест что один участник одновременно и провайдер и игрок\n",
    "- тест что провайдер выводит средства за игроков\n",
    "- тест сценария когда провайдеры терпят убытки\n",
    "- что провайдер не может вывести средства свои пока есть участники\n"
   ]
  },
  {
   "cell_type": "code",
   "execution_count": null,
   "id": "invalid-basics",
   "metadata": {},
   "outputs": [],
   "source": []
  }
 ],
 "metadata": {
  "kernelspec": {
   "display_name": "Python 3",
   "language": "python",
   "name": "python3"
  },
  "language_info": {
   "codemirror_mode": {
    "name": "ipython",
    "version": 3
   },
   "file_extension": ".py",
   "mimetype": "text/x-python",
   "name": "python",
   "nbconvert_exporter": "python",
   "pygments_lexer": "ipython3",
   "version": "3.9.6"
  }
 },
 "nbformat": 4,
 "nbformat_minor": 5
}
