{
 "cells": [
  {
   "cell_type": "code",
   "execution_count": 1,
   "id": "simple-ireland",
   "metadata": {},
   "outputs": [],
   "source": [
    "working_storage = {\n",
    "    'betsAgainst': {('tz1TdKuFwYgbPHHb7y1VvLH4xiwtAzcjwDjM', 0): 375000},\n",
    "    'betsFor': {('tz1MdaJfWzP5pPx3gwPxfdLZTHW6js9havos', 0): 75000},\n",
    "    'closeCallId': None,\n",
    "    'depositedBets': {('tz1MdaJfWzP5pPx3gwPxfdLZTHW6js9havos', 0): 50000,\n",
    "                   ('tz1TdKuFwYgbPHHb7y1VvLH4xiwtAzcjwDjM', 0): 125000},\n",
    "    'events': {0: {'betsCloseTime': 1621019480,\n",
    "                'closedDynamics': 1250000,\n",
    "                'closedOracleTime': 1621066280,\n",
    "                'closedRate': 7500000,\n",
    "                'createdTime': 1620933080,\n",
    "                'currencyPair': 'XTZ-USD',\n",
    "                'expirationFee': 100000,\n",
    "                'isBetsForWin': True,\n",
    "                'isClosed': True,\n",
    "                'isMeasurementStarted': True,\n",
    "                'liquidityPercent': 0,\n",
    "                'liquidityPrecision': 1000000,\n",
    "                'maxAllowedMeasureLag': 14400,\n",
    "                'measureOracleStartTime': 1621023080,\n",
    "                'measurePeriod': 43200,\n",
    "                'measureStartFee': 200000,\n",
    "                'minPoolSize': 0,\n",
    "                'oracleAddress': 'KT1SUP27JhX24Kvr11oUdWswk7FnCW78ZyUn',\n",
    "                'poolAgainst': 300000,\n",
    "                'poolFor': 300000,\n",
    "                'ratioPrecision': 100000000,\n",
    "                'rewardCallFee': 100000,\n",
    "                'sharePrecision': 100000000,\n",
    "                'startRate': 6000000,\n",
    "                'targetDynamics': 1000000,\n",
    "                'targetDynamicsPrecision': 1000000,\n",
    "                'totalLiquidityShares': 600000000}},\n",
    "    'lastEventId': 1,\n",
    "    'liquidityShares': {('tz1RS9GoEXakf9iyBmSaheLMcakFRtzBXpWE', 0): 100000000,\n",
    "                     ('tz1TdKuFwYgbPHHb7y1VvLH4xiwtAzcjwDjM', 0): 360000000,\n",
    "                     ('tz1iQE8ijR5xVPffBUPFubwB9XQJuyD9qsoJ', 0): 140000000},\n",
    "    'measurementStartCallId': None,\n",
    "    'newEventConfig': {'defaultTime': 0,\n",
    "                    'expirationFee': 100000,\n",
    "                    'liquidityPercent': 0,\n",
    "                    'liquidityPrecision': 1000000,\n",
    "                    'maxAllowedMeasureLag': 14400,\n",
    "                    'maxMeasurePeriod': 2678400,\n",
    "                    'maxPeriodToBetsClose': 2678400,\n",
    "                    'measureStartFee': 200000,\n",
    "                    'minMeasurePeriod': 300,\n",
    "                    'minPeriodToBetsClose': 300,\n",
    "                    'minPoolSize': 0,\n",
    "                    'oracleAddress': 'KT1SUP27JhX24Kvr11oUdWswk7FnCW78ZyUn',\n",
    "                    'ratioPrecision': 100000000,\n",
    "                    'rewardCallFee': 100000,\n",
    "                    'sharePrecision': 100000000,\n",
    "                    'targetDynamicsPrecision': 1000000},\n",
    "    'providedLiquidityAgainst': {('tz1RS9GoEXakf9iyBmSaheLMcakFRtzBXpWE', 0): 50000,\n",
    "                              ('tz1TdKuFwYgbPHHb7y1VvLH4xiwtAzcjwDjM', 0): 90000,\n",
    "                              ('tz1iQE8ijR5xVPffBUPFubwB9XQJuyD9qsoJ', 0): 60000},\n",
    "    'providedLiquidityFor': {('tz1RS9GoEXakf9iyBmSaheLMcakFRtzBXpWE', 0): 50000,\n",
    "                          ('tz1TdKuFwYgbPHHb7y1VvLH4xiwtAzcjwDjM', 0): 360000,\n",
    "                          ('tz1iQE8ijR5xVPffBUPFubwB9XQJuyD9qsoJ', 0): 90000}}"
   ]
  },
  {
   "cell_type": "code",
   "execution_count": 2,
   "id": "documented-flooring",
   "metadata": {},
   "outputs": [],
   "source": [
    "failing_storage = {\n",
    "    'betsAgainst': {('tz1TdKuFwYgbPHHb7y1VvLH4xiwtAzcjwDjM', 0): 375000},\n",
    "    'betsFor': {},\n",
    "    'closeCallId': None,\n",
    "    'depositedBets': {('tz1TdKuFwYgbPHHb7y1VvLH4xiwtAzcjwDjM', 0): 125000},\n",
    "    'events': {0: {'betsCloseTime': 1621019480,\n",
    "                'closedDynamics': 1250000,\n",
    "                'closedOracleTime': 1621066280,\n",
    "                'closedRate': 7500000,\n",
    "                'createdTime': 1620933080,\n",
    "                'currencyPair': 'XTZ-USD',\n",
    "                'expirationFee': 100000,\n",
    "                'isBetsForWin': True,\n",
    "                'isClosed': True,\n",
    "                'isMeasurementStarted': True,\n",
    "                'liquidityPercent': 0,\n",
    "                'liquidityPrecision': 1000000,\n",
    "                'maxAllowedMeasureLag': 14400,\n",
    "                'measureOracleStartTime': 1621023080,\n",
    "                'measurePeriod': 43200,\n",
    "                'measureStartFee': 200000,\n",
    "                'minPoolSize': 0,\n",
    "                'oracleAddress': 'KT1SUP27JhX24Kvr11oUdWswk7FnCW78ZyUn',\n",
    "                'poolAgainst': 300000,\n",
    "                'poolFor': 300000,\n",
    "                'ratioPrecision': 100000000,\n",
    "                'rewardCallFee': 100000,\n",
    "                'sharePrecision': 100000000,\n",
    "                'startRate': 6000000,\n",
    "                'targetDynamics': 1000000,\n",
    "                'targetDynamicsPrecision': 1000000,\n",
    "                'totalLiquidityShares': 600000000}},\n",
    "    'lastEventId': 1,\n",
    "    'liquidityShares': {('tz1RS9GoEXakf9iyBmSaheLMcakFRtzBXpWE', 0): 100000000,\n",
    "                     ('tz1TdKuFwYgbPHHb7y1VvLH4xiwtAzcjwDjM', 0): 360000000,\n",
    "                     ('tz1iQE8ijR5xVPffBUPFubwB9XQJuyD9qsoJ', 0): 140000000},\n",
    "    'measurementStartCallId': None,\n",
    "    'newEventConfig': {'expirationFee': 100000,\n",
    "                    'liquidityPrecision': 1000000,\n",
    "                    'maxAllowedMeasureLag': 14400,\n",
    "                    'maxMeasurePeriod': 2678400,\n",
    "                    'maxPeriodToBetsClose': 2678400,\n",
    "                    'measureStartFee': 200000,\n",
    "                    'minMeasurePeriod': 300,\n",
    "                    'minPeriodToBetsClose': 300,\n",
    "                    'oracleAddress': 'KT1SUP27JhX24Kvr11oUdWswk7FnCW78ZyUn',\n",
    "                    'ratioPrecision': 100000000,\n",
    "                    'rewardCallFee': 100000,\n",
    "                    'sharePrecision': 100000000,\n",
    "                    'targetDynamicsPrecision': 1000000},\n",
    "    'providedLiquidityAgainst': {('tz1RS9GoEXakf9iyBmSaheLMcakFRtzBXpWE', 0): 50000,\n",
    "                              ('tz1TdKuFwYgbPHHb7y1VvLH4xiwtAzcjwDjM', 0): 90000,\n",
    "                              ('tz1iQE8ijR5xVPffBUPFubwB9XQJuyD9qsoJ', 0): 60000},\n",
    "    'providedLiquidityFor': {('tz1RS9GoEXakf9iyBmSaheLMcakFRtzBXpWE', 0): 50000,\n",
    "                          ('tz1TdKuFwYgbPHHb7y1VvLH4xiwtAzcjwDjM', 0): 360000,\n",
    "                          ('tz1iQE8ijR5xVPffBUPFubwB9XQJuyD9qsoJ', 0): 90000}\n",
    "    }"
   ]
  },
  {
   "cell_type": "code",
   "execution_count": null,
   "id": "electronic-rouge",
   "metadata": {},
   "outputs": [],
   "source": [
    "from pytezos import ContractInterface, pytezos, MichelsonRuntimeError\n",
    "\n",
    "contract_fn = '../pytezos-tests/baking_bet.tz'\n",
    "contract = ContractInterface.from_file(contract_fn)\n",
    "contract.withdraw(0).interpret(\n",
    "    storage=failing_storage, sender='tz1iQE8ijR5xVPffBUPFubwB9XQJuyD9qsoJ')"
   ]
  },
  {
   "cell_type": "code",
   "execution_count": 3,
   "id": "posted-connection",
   "metadata": {},
   "outputs": [
    {
     "data": {
      "text/plain": [
       "True"
      ]
     },
     "execution_count": 3,
     "metadata": {},
     "output_type": "execute_result"
    }
   ],
   "source": [
    "working_storage.keys() == failing_storage.keys()"
   ]
  },
  {
   "cell_type": "code",
   "execution_count": 4,
   "id": "behavioral-investigation",
   "metadata": {},
   "outputs": [
    {
     "data": {
      "text/plain": [
       "{'betsFor', 'depositedBets', 'newEventConfig'}"
      ]
     },
     "execution_count": 4,
     "metadata": {},
     "output_type": "execute_result"
    }
   ],
   "source": [
    "{key for key in working_storage if working_storage[key] != failing_storage[key]}"
   ]
  },
  {
   "cell_type": "code",
   "execution_count": 5,
   "id": "molecular-cartridge",
   "metadata": {},
   "outputs": [
    {
     "data": {
      "text/plain": [
       "{}"
      ]
     },
     "execution_count": 5,
     "metadata": {},
     "output_type": "execute_result"
    }
   ],
   "source": [
    "failing_storage['betsFor']"
   ]
  },
  {
   "cell_type": "code",
   "execution_count": 6,
   "id": "amber-capability",
   "metadata": {},
   "outputs": [
    {
     "data": {
      "text/plain": [
       "{('tz1MdaJfWzP5pPx3gwPxfdLZTHW6js9havos', 0): 75000}"
      ]
     },
     "execution_count": 6,
     "metadata": {},
     "output_type": "execute_result"
    }
   ],
   "source": [
    "working_storage['betsFor']"
   ]
  },
  {
   "cell_type": "code",
   "execution_count": 7,
   "id": "capable-population",
   "metadata": {},
   "outputs": [
    {
     "data": {
      "text/plain": [
       "{('tz1TdKuFwYgbPHHb7y1VvLH4xiwtAzcjwDjM', 0): 125000}"
      ]
     },
     "execution_count": 7,
     "metadata": {},
     "output_type": "execute_result"
    }
   ],
   "source": [
    "failing_storage['depositedBets']"
   ]
  },
  {
   "cell_type": "code",
   "execution_count": 9,
   "id": "therapeutic-appearance",
   "metadata": {},
   "outputs": [
    {
     "data": {
      "text/plain": [
       "{'defaultTime': 0,\n",
       " 'expirationFee': 100000,\n",
       " 'liquidityPercent': 0,\n",
       " 'liquidityPrecision': 1000000,\n",
       " 'maxAllowedMeasureLag': 14400,\n",
       " 'maxMeasurePeriod': 2678400,\n",
       " 'maxPeriodToBetsClose': 2678400,\n",
       " 'measureStartFee': 200000,\n",
       " 'minMeasurePeriod': 300,\n",
       " 'minPeriodToBetsClose': 300,\n",
       " 'minPoolSize': 0,\n",
       " 'oracleAddress': 'KT1SUP27JhX24Kvr11oUdWswk7FnCW78ZyUn',\n",
       " 'ratioPrecision': 100000000,\n",
       " 'rewardCallFee': 100000,\n",
       " 'sharePrecision': 100000000,\n",
       " 'targetDynamicsPrecision': 1000000}"
      ]
     },
     "execution_count": 9,
     "metadata": {},
     "output_type": "execute_result"
    }
   ],
   "source": [
    "working_storage['newEventConfig']"
   ]
  },
  {
   "cell_type": "code",
   "execution_count": 10,
   "id": "accomplished-cleaner",
   "metadata": {},
   "outputs": [
    {
     "data": {
      "text/plain": [
       "{'expirationFee': 100000,\n",
       " 'liquidityPrecision': 1000000,\n",
       " 'maxAllowedMeasureLag': 14400,\n",
       " 'maxMeasurePeriod': 2678400,\n",
       " 'maxPeriodToBetsClose': 2678400,\n",
       " 'measureStartFee': 200000,\n",
       " 'minMeasurePeriod': 300,\n",
       " 'minPeriodToBetsClose': 300,\n",
       " 'oracleAddress': 'KT1SUP27JhX24Kvr11oUdWswk7FnCW78ZyUn',\n",
       " 'ratioPrecision': 100000000,\n",
       " 'rewardCallFee': 100000,\n",
       " 'sharePrecision': 100000000,\n",
       " 'targetDynamicsPrecision': 1000000}"
      ]
     },
     "execution_count": 10,
     "metadata": {},
     "output_type": "execute_result"
    }
   ],
   "source": [
    "failing_storage['newEventConfig']"
   ]
  },
  {
   "cell_type": "code",
   "execution_count": 14,
   "id": "concerned-tourism",
   "metadata": {},
   "outputs": [
    {
     "data": {
      "text/plain": [
       "{'defaultTime', 'liquidityPercent', 'minPoolSize'}"
      ]
     },
     "execution_count": 14,
     "metadata": {},
     "output_type": "execute_result"
    }
   ],
   "source": [
    "set(working_storage['newEventConfig'].keys()) - set(failing_storage['newEventConfig'].keys())"
   ]
  },
  {
   "cell_type": "code",
   "execution_count": null,
   "id": "handled-cabinet",
   "metadata": {},
   "outputs": [],
   "source": []
  }
 ],
 "metadata": {
  "kernelspec": {
   "display_name": "Python 3",
   "language": "python",
   "name": "python3"
  },
  "language_info": {
   "codemirror_mode": {
    "name": "ipython",
    "version": 3
   },
   "file_extension": ".py",
   "mimetype": "text/x-python",
   "name": "python",
   "nbconvert_exporter": "python",
   "pygments_lexer": "ipython3",
   "version": "3.9.2"
  }
 },
 "nbformat": 4,
 "nbformat_minor": 5
}
