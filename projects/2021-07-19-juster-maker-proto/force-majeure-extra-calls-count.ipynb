{
 "cells": [
  {
   "cell_type": "markdown",
   "id": "6ceed438-61fd-40d6-a1e3-258dab2251a9",
   "metadata": {},
   "source": [
    "### Requesting force majeure withdrawals:"
   ]
  },
  {
   "cell_type": "code",
   "execution_count": 1,
   "id": "fb17c135-ceaa-4f24-a45b-febfdde6dce0",
   "metadata": {},
   "outputs": [],
   "source": [
    "from tqdm import tqdm\n",
    "import json\n",
    "import requests\n",
    "import pandas as pd\n",
    "import time\n",
    "from urllib.parse import urlencode\n",
    "from config import JUSTER_ADDRESS\n",
    "\n",
    "\n",
    "def make_deep_requests(url, depth=5, limit=1000, sleep_time=2, stop_id=None):\n",
    "    \"\"\" Copypasted from https://github.com/ztepler/\n",
    "        quipuswap-tezos-analysis-colab/blob/main/\n",
    "        QuipuSwap_Tezos_Pool_Analysis.ipynb\"\"\"\n",
    "\n",
    "    last_id = None\n",
    "    data = pd.DataFrame()\n",
    "\n",
    "    for counter in tqdm(range(depth)):\n",
    "        request_url = f'{url}&lastId={last_id}' if last_id else url\n",
    "\n",
    "        try:\n",
    "            response = requests.get(request_url)\n",
    "            new_data = pd.json_normalize(json.loads(response.text))\n",
    "            data = data.append(new_data)\n",
    "\n",
    "        except Exception as exception:\n",
    "            print(exception)\n",
    "            import pdb; pdb.set_trace()\n",
    "\n",
    "        last_id = data.id.iloc[-1]\n",
    "\n",
    "        if len(new_data) < limit:\n",
    "            break\n",
    "\n",
    "        if stop_id in data['id'].values:\n",
    "            break\n",
    "\n",
    "        time.sleep(sleep_time)\n",
    "\n",
    "    return data"
   ]
  },
  {
   "cell_type": "code",
   "execution_count": 2,
   "id": "86b4f323-4a80-4235-ab3e-9a5542eadfef",
   "metadata": {},
   "outputs": [
    {
     "name": "stderr",
     "output_type": "stream",
     "text": [
      " 20%|██        | 4/20 [00:11<00:46,  2.89s/it]\n"
     ]
    }
   ],
   "source": [
    "method = f'https://api.florencenet.tzkt.io/v1/accounts/{JUSTER_ADDRESS}/operations?'\n",
    "params = urlencode({\n",
    "    'type': 'transaction',\n",
    "    'limit': 1000,\n",
    "    'entrypoint': 'triggerForceMajeure',\n",
    "    'status': 'applied'\n",
    "})\n",
    "\n",
    "data = make_deep_requests(method + params, depth=20)"
   ]
  },
  {
   "cell_type": "code",
   "execution_count": 3,
   "id": "9c11abd6-1c8d-4394-87c1-cfb024f6ff70",
   "metadata": {},
   "outputs": [
    {
     "data": {
      "text/plain": [
       "4512"
      ]
     },
     "execution_count": 3,
     "metadata": {},
     "output_type": "execute_result"
    }
   ],
   "source": [
    "len(data)"
   ]
  },
  {
   "cell_type": "code",
   "execution_count": 4,
   "id": "96ed71e4-f8bb-4e93-9603-ec4e0bcb6a31",
   "metadata": {},
   "outputs": [],
   "source": [
    "calls = pd.DataFrame({\n",
    "    'calls_count': data['parameter.value'].value_counts()\n",
    "})\n",
    "calls.index.name = 'event_id'\n",
    "calls.index = calls.index.astype(int)"
   ]
  },
  {
   "cell_type": "markdown",
   "id": "a8891f64-e9ef-4554-8af3-4a6be8744d02",
   "metadata": {},
   "source": [
    "### Adding info about events current fees:"
   ]
  },
  {
   "cell_type": "code",
   "execution_count": 50,
   "id": "51c778af-3867-41cc-a8f9-faeed543c012",
   "metadata": {},
   "outputs": [
    {
     "data": {
      "text/plain": [
       "107"
      ]
     },
     "execution_count": 50,
     "metadata": {},
     "output_type": "execute_result"
    }
   ],
   "source": [
    "from sgqlc.endpoint.http import HTTPEndpoint\n",
    "from config import DIPDUP_ENDPOINT_URI\n",
    "from executors.force_majeure_caller import detect_failed_start, detect_failed_close\n",
    "\n",
    "def dirty_dipdup_query(offset=0):\n",
    "    \"\"\" This is one-time used code and I don't like how it written \"\"\"\n",
    "\n",
    "    query = \"\"\"\n",
    "    query Query {\n",
    "      juster_event(where: {\n",
    "        positions: {withdrawn: {_eq: false}},\n",
    "        closed_oracle_time: {_is_null: true},\n",
    "        status: {_eq: \"CANCELED\"}\n",
    "        }, \n",
    "        offset: \"\"\" + str(offset) + \"\"\"\n",
    "      ) {\n",
    "        id\n",
    "        closed_oracle_time\n",
    "        measure_oracle_start_time\n",
    "        bets_close_time\n",
    "        measure_period\n",
    "      }\n",
    "    }\n",
    "    \"\"\"\n",
    "\n",
    "    endpoint = HTTPEndpoint(DIPDUP_ENDPOINT_URI)\n",
    "    dipdup = endpoint(query)\n",
    "    events = dipdup['data']['juster_event']\n",
    "\n",
    "    return events\n",
    "\n",
    "\n",
    "# I know that there are only 107 events so I am doint this,\n",
    "# very bad, but I need to resolve this issue and go next:\n",
    "events = dirty_dipdup_query(0) + dirty_dipdup_query(100)\n",
    "df_events = pd.DataFrame(events)\n",
    "len(df_events)"
   ]
  },
  {
   "cell_type": "code",
   "execution_count": 51,
   "id": "4c5f8f53-48ee-47a5-9c75-65d28ad9c113",
   "metadata": {},
   "outputs": [],
   "source": [
    "# calls\n",
    "df = pd.concat([\n",
    "    calls,\n",
    "    df_events.set_index('id')\n",
    "], axis=1)"
   ]
  },
  {
   "cell_type": "code",
   "execution_count": 52,
   "id": "886b9d5b-fae9-4d79-9574-6a52c7519769",
   "metadata": {},
   "outputs": [],
   "source": [
    "assert df['calls_count'].isna().sum() == 0\n",
    "assert df.index.duplicated().sum() == 0"
   ]
  },
  {
   "cell_type": "markdown",
   "id": "edf09642-6616-4d48-aaf7-1d4790f9acdf",
   "metadata": {},
   "source": [
    "### 4 events with no info from dipdup that was called only once:\n",
    "- maybe because all positions are withdrawn?"
   ]
  },
  {
   "cell_type": "code",
   "execution_count": 53,
   "id": "cf2d88af-698f-4380-82cc-68d479373702",
   "metadata": {},
   "outputs": [
    {
     "data": {
      "text/html": [
       "<div>\n",
       "<style scoped>\n",
       "    .dataframe tbody tr th:only-of-type {\n",
       "        vertical-align: middle;\n",
       "    }\n",
       "\n",
       "    .dataframe tbody tr th {\n",
       "        vertical-align: top;\n",
       "    }\n",
       "\n",
       "    .dataframe thead th {\n",
       "        text-align: right;\n",
       "    }\n",
       "</style>\n",
       "<table border=\"1\" class=\"dataframe\">\n",
       "  <thead>\n",
       "    <tr style=\"text-align: right;\">\n",
       "      <th></th>\n",
       "      <th>calls_count</th>\n",
       "      <th>closed_oracle_time</th>\n",
       "      <th>measure_oracle_start_time</th>\n",
       "      <th>bets_close_time</th>\n",
       "      <th>measure_period</th>\n",
       "    </tr>\n",
       "  </thead>\n",
       "  <tbody>\n",
       "    <tr>\n",
       "      <th>0</th>\n",
       "      <td>1</td>\n",
       "      <td>NaN</td>\n",
       "      <td>NaN</td>\n",
       "      <td>NaN</td>\n",
       "      <td>NaN</td>\n",
       "    </tr>\n",
       "    <tr>\n",
       "      <th>1</th>\n",
       "      <td>1</td>\n",
       "      <td>NaN</td>\n",
       "      <td>NaN</td>\n",
       "      <td>NaN</td>\n",
       "      <td>NaN</td>\n",
       "    </tr>\n",
       "    <tr>\n",
       "      <th>2</th>\n",
       "      <td>1</td>\n",
       "      <td>NaN</td>\n",
       "      <td>NaN</td>\n",
       "      <td>NaN</td>\n",
       "      <td>NaN</td>\n",
       "    </tr>\n",
       "    <tr>\n",
       "      <th>9</th>\n",
       "      <td>1</td>\n",
       "      <td>NaN</td>\n",
       "      <td>NaN</td>\n",
       "      <td>NaN</td>\n",
       "      <td>NaN</td>\n",
       "    </tr>\n",
       "  </tbody>\n",
       "</table>\n",
       "</div>"
      ],
      "text/plain": [
       "   calls_count closed_oracle_time measure_oracle_start_time bets_close_time  \\\n",
       "0            1                NaN                       NaN             NaN   \n",
       "1            1                NaN                       NaN             NaN   \n",
       "2            1                NaN                       NaN             NaN   \n",
       "9            1                NaN                       NaN             NaN   \n",
       "\n",
       "   measure_period  \n",
       "0             NaN  \n",
       "1             NaN  \n",
       "2             NaN  \n",
       "9             NaN  "
      ]
     },
     "execution_count": 53,
     "metadata": {},
     "output_type": "execute_result"
    }
   ],
   "source": [
    "no_dipdup_info = df['measure_period'].isna()\n",
    "df[ no_dipdup_info ]"
   ]
  },
  {
   "cell_type": "markdown",
   "id": "628f5681-1785-43b0-a6bc-0150f1f5efdb",
   "metadata": {},
   "source": [
    "### Excluding this objects:"
   ]
  },
  {
   "cell_type": "code",
   "execution_count": 54,
   "id": "bc0882ec-bb0a-40f3-b05e-2cce24412f94",
   "metadata": {},
   "outputs": [],
   "source": [
    "df = df[ ~no_dipdup_info ]"
   ]
  },
  {
   "cell_type": "markdown",
   "id": "524830b2-de78-42c7-bb2b-0c86d57a3c14",
   "metadata": {},
   "source": [
    "### Calculating required sum:"
   ]
  },
  {
   "cell_type": "code",
   "execution_count": 60,
   "id": "dc50b7d3-d18d-4fc7-9ddc-01bc67cde345",
   "metadata": {},
   "outputs": [],
   "source": [
    "df['open_fee'] = df['measure_oracle_start_time'].isna() * 0.1\n",
    "df['close_fee'] = df['closed_oracle_time'].isna() * 0.1"
   ]
  },
  {
   "cell_type": "code",
   "execution_count": 62,
   "id": "e4a0ef5e-7aa8-4238-ab8d-604c3dd4cc1c",
   "metadata": {},
   "outputs": [],
   "source": [
    "df['total_fee'] = df.apply(\n",
    "    lambda row: row.calls_count * (row.open_fee + row.close_fee),\n",
    "    axis=1)"
   ]
  },
  {
   "cell_type": "code",
   "execution_count": 63,
   "id": "64172bab-3a5e-4654-82f0-58c3fef75271",
   "metadata": {},
   "outputs": [
    {
     "data": {
      "text/plain": [
       "680.4"
      ]
     },
     "execution_count": 63,
     "metadata": {},
     "output_type": "execute_result"
    }
   ],
   "source": [
    "df.total_fee.sum()"
   ]
  }
 ],
 "metadata": {
  "kernelspec": {
   "display_name": "Python 3 (ipykernel)",
   "language": "python",
   "name": "python3"
  },
  "language_info": {
   "codemirror_mode": {
    "name": "ipython",
    "version": 3
   },
   "file_extension": ".py",
   "mimetype": "text/x-python",
   "name": "python",
   "nbconvert_exporter": "python",
   "pygments_lexer": "ipython3",
   "version": "3.9.6"
  }
 },
 "nbformat": 4,
 "nbformat_minor": 5
}
