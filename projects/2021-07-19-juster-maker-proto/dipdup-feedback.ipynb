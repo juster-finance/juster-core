{
 "cells": [
  {
   "cell_type": "code",
   "execution_count": 149,
   "id": "2ce0b0d9-a582-4d2d-8086-9dafcd2a94f3",
   "metadata": {},
   "outputs": [],
   "source": [
    "from dipdup import JusterDipDupClient\n",
    "\n",
    "dd_client = JusterDipDupClient()"
   ]
  },
  {
   "cell_type": "markdown",
   "id": "5cd40560-273a-49b7-9a67-14cd746da342",
   "metadata": {},
   "source": [
    "### Analysing juster dipdup events data:"
   ]
  },
  {
   "cell_type": "code",
   "execution_count": 150,
   "id": "1210f992-005b-4fad-a88e-a92f87931490",
   "metadata": {},
   "outputs": [],
   "source": [
    "import pandas as pd\n",
    "\n",
    "all_events = dd_client.query_all_events()\n",
    "df = pd.json_normalize(all_events)"
   ]
  },
  {
   "cell_type": "code",
   "execution_count": 151,
   "id": "8346fba3-3078-4be4-adcf-81619bf06cca",
   "metadata": {},
   "outputs": [
    {
     "data": {
      "text/plain": [
       "Timestamp('2021-07-28 15:01:11.870875+0000', tz='tzutc()')"
      ]
     },
     "execution_count": 151,
     "metadata": {},
     "output_type": "execute_result"
    }
   ],
   "source": [
    "df.iloc[0].created_time"
   ]
  },
  {
   "cell_type": "code",
   "execution_count": 152,
   "id": "46bf111c-49fb-42f0-ac9e-ffacc5be7e44",
   "metadata": {},
   "outputs": [],
   "source": [
    "from time import time\n",
    "\n",
    "now = pd.Timestamp(time(), unit='s')"
   ]
  },
  {
   "cell_type": "markdown",
   "id": "0fee53fa-2579-414a-8950-d885023baff0",
   "metadata": {},
   "source": [
    "### TODO: this method does not show daily events:\n",
    "    - either replace request all events with requesting each line separately\n",
    "    - either increase dipdup events count limit"
   ]
  },
  {
   "cell_type": "code",
   "execution_count": 153,
   "id": "4ca2060b-6dda-449e-b7ac-7e9a098035a7",
   "metadata": {
    "tags": []
   },
   "outputs": [
    {
     "data": {
      "text/html": [
       "<div>\n",
       "<style scoped>\n",
       "    .dataframe tbody tr th:only-of-type {\n",
       "        vertical-align: middle;\n",
       "    }\n",
       "\n",
       "    .dataframe tbody tr th {\n",
       "        vertical-align: top;\n",
       "    }\n",
       "\n",
       "    .dataframe thead th {\n",
       "        text-align: right;\n",
       "    }\n",
       "</style>\n",
       "<table border=\"1\" class=\"dataframe\">\n",
       "  <thead>\n",
       "    <tr style=\"text-align: right;\">\n",
       "      <th></th>\n",
       "      <th></th>\n",
       "      <th></th>\n",
       "      <th>creator_id</th>\n",
       "      <th>created_time</th>\n",
       "      <th>bets_close_time</th>\n",
       "      <th>id</th>\n",
       "      <th>pool_above_eq</th>\n",
       "      <th>pool_below</th>\n",
       "      <th>created_minutes_back</th>\n",
       "    </tr>\n",
       "    <tr>\n",
       "      <th>currency_pair.symbol</th>\n",
       "      <th>target_dynamics</th>\n",
       "      <th>measure_period</th>\n",
       "      <th></th>\n",
       "      <th></th>\n",
       "      <th></th>\n",
       "      <th></th>\n",
       "      <th></th>\n",
       "      <th></th>\n",
       "      <th></th>\n",
       "    </tr>\n",
       "  </thead>\n",
       "  <tbody>\n",
       "    <tr>\n",
       "      <th rowspan=\"6\" valign=\"top\">BTC-USD</th>\n",
       "      <th rowspan=\"2\" valign=\"top\">0.99</th>\n",
       "      <th>3600</th>\n",
       "      <td>tz1fvzdyC7s4mMhBrmG38kasaZjE9PHPgFEu</td>\n",
       "      <td>2021-07-28 15:01:11.858167+00:00</td>\n",
       "      <td>2021-07-28 16:00:00+00:00</td>\n",
       "      <td>1731</td>\n",
       "      <td>1.0</td>\n",
       "      <td>1.0</td>\n",
       "      <td>9.666667</td>\n",
       "    </tr>\n",
       "    <tr>\n",
       "      <th>21600</th>\n",
       "      <td>tz1fvzdyC7s4mMhBrmG38kasaZjE9PHPgFEu</td>\n",
       "      <td>2021-07-28 10:03:53.766381+00:00</td>\n",
       "      <td>2021-07-28 16:00:00+00:00</td>\n",
       "      <td>1692</td>\n",
       "      <td>1.0</td>\n",
       "      <td>1.0</td>\n",
       "      <td>306.966667</td>\n",
       "    </tr>\n",
       "    <tr>\n",
       "      <th rowspan=\"2\" valign=\"top\">1.00</th>\n",
       "      <th>3600</th>\n",
       "      <td>tz1fvzdyC7s4mMhBrmG38kasaZjE9PHPgFEu</td>\n",
       "      <td>2021-07-28 15:01:11.854608+00:00</td>\n",
       "      <td>2021-07-28 16:00:00+00:00</td>\n",
       "      <td>1730</td>\n",
       "      <td>1.0</td>\n",
       "      <td>1.0</td>\n",
       "      <td>9.666667</td>\n",
       "    </tr>\n",
       "    <tr>\n",
       "      <th>21600</th>\n",
       "      <td>tz1fvzdyC7s4mMhBrmG38kasaZjE9PHPgFEu</td>\n",
       "      <td>2021-07-28 10:02:06.622749+00:00</td>\n",
       "      <td>2021-07-28 16:00:00+00:00</td>\n",
       "      <td>1691</td>\n",
       "      <td>1.0</td>\n",
       "      <td>1.0</td>\n",
       "      <td>308.750000</td>\n",
       "    </tr>\n",
       "    <tr>\n",
       "      <th rowspan=\"2\" valign=\"top\">1.01</th>\n",
       "      <th>3600</th>\n",
       "      <td>tz1fvzdyC7s4mMhBrmG38kasaZjE9PHPgFEu</td>\n",
       "      <td>2021-07-28 15:01:11.861952+00:00</td>\n",
       "      <td>2021-07-28 16:00:00+00:00</td>\n",
       "      <td>1732</td>\n",
       "      <td>1.0</td>\n",
       "      <td>1.0</td>\n",
       "      <td>9.666667</td>\n",
       "    </tr>\n",
       "    <tr>\n",
       "      <th>21600</th>\n",
       "      <td>tz1fvzdyC7s4mMhBrmG38kasaZjE9PHPgFEu</td>\n",
       "      <td>2021-07-28 10:03:53.773032+00:00</td>\n",
       "      <td>2021-07-28 16:00:00+00:00</td>\n",
       "      <td>1693</td>\n",
       "      <td>1.0</td>\n",
       "      <td>1.0</td>\n",
       "      <td>306.966667</td>\n",
       "    </tr>\n",
       "    <tr>\n",
       "      <th rowspan=\"6\" valign=\"top\">ETH-USD</th>\n",
       "      <th rowspan=\"2\" valign=\"top\">0.99</th>\n",
       "      <th>3600</th>\n",
       "      <td>tz1fvzdyC7s4mMhBrmG38kasaZjE9PHPgFEu</td>\n",
       "      <td>2021-07-28 15:01:11.868500+00:00</td>\n",
       "      <td>2021-07-28 16:00:00+00:00</td>\n",
       "      <td>1734</td>\n",
       "      <td>1.0</td>\n",
       "      <td>1.0</td>\n",
       "      <td>9.666667</td>\n",
       "    </tr>\n",
       "    <tr>\n",
       "      <th>21600</th>\n",
       "      <td>tz1fvzdyC7s4mMhBrmG38kasaZjE9PHPgFEu</td>\n",
       "      <td>2021-07-28 10:03:53.783997+00:00</td>\n",
       "      <td>2021-07-28 16:00:00+00:00</td>\n",
       "      <td>1698</td>\n",
       "      <td>1.0</td>\n",
       "      <td>1.0</td>\n",
       "      <td>306.966667</td>\n",
       "    </tr>\n",
       "    <tr>\n",
       "      <th rowspan=\"2\" valign=\"top\">1.00</th>\n",
       "      <th>3600</th>\n",
       "      <td>tz1fvzdyC7s4mMhBrmG38kasaZjE9PHPgFEu</td>\n",
       "      <td>2021-07-28 15:01:11.865432+00:00</td>\n",
       "      <td>2021-07-28 16:00:00+00:00</td>\n",
       "      <td>1733</td>\n",
       "      <td>1.0</td>\n",
       "      <td>1.0</td>\n",
       "      <td>9.666667</td>\n",
       "    </tr>\n",
       "    <tr>\n",
       "      <th>21600</th>\n",
       "      <td>tz1fvzdyC7s4mMhBrmG38kasaZjE9PHPgFEu</td>\n",
       "      <td>2021-07-28 10:03:53.781655+00:00</td>\n",
       "      <td>2021-07-28 16:00:00+00:00</td>\n",
       "      <td>1697</td>\n",
       "      <td>1.0</td>\n",
       "      <td>1.0</td>\n",
       "      <td>306.966667</td>\n",
       "    </tr>\n",
       "    <tr>\n",
       "      <th rowspan=\"2\" valign=\"top\">1.01</th>\n",
       "      <th>3600</th>\n",
       "      <td>tz1fvzdyC7s4mMhBrmG38kasaZjE9PHPgFEu</td>\n",
       "      <td>2021-07-28 15:01:11.870875+00:00</td>\n",
       "      <td>2021-07-28 16:00:00+00:00</td>\n",
       "      <td>1735</td>\n",
       "      <td>1.0</td>\n",
       "      <td>1.0</td>\n",
       "      <td>9.666667</td>\n",
       "    </tr>\n",
       "    <tr>\n",
       "      <th>21600</th>\n",
       "      <td>tz1fvzdyC7s4mMhBrmG38kasaZjE9PHPgFEu</td>\n",
       "      <td>2021-07-28 10:03:53.786333+00:00</td>\n",
       "      <td>2021-07-28 16:00:00+00:00</td>\n",
       "      <td>1699</td>\n",
       "      <td>1.0</td>\n",
       "      <td>1.0</td>\n",
       "      <td>306.966667</td>\n",
       "    </tr>\n",
       "    <tr>\n",
       "      <th rowspan=\"6\" valign=\"top\">XTZ-USD</th>\n",
       "      <th rowspan=\"2\" valign=\"top\">0.99</th>\n",
       "      <th>3600</th>\n",
       "      <td>tz1fvzdyC7s4mMhBrmG38kasaZjE9PHPgFEu</td>\n",
       "      <td>2021-07-28 15:01:11.845808+00:00</td>\n",
       "      <td>2021-07-28 16:00:00+00:00</td>\n",
       "      <td>1728</td>\n",
       "      <td>1.0</td>\n",
       "      <td>1.0</td>\n",
       "      <td>9.666667</td>\n",
       "    </tr>\n",
       "    <tr>\n",
       "      <th>21600</th>\n",
       "      <td>tz1fvzdyC7s4mMhBrmG38kasaZjE9PHPgFEu</td>\n",
       "      <td>2021-07-28 10:02:06.607868+00:00</td>\n",
       "      <td>2021-07-28 16:00:00+00:00</td>\n",
       "      <td>1686</td>\n",
       "      <td>1.0</td>\n",
       "      <td>1.0</td>\n",
       "      <td>308.750000</td>\n",
       "    </tr>\n",
       "    <tr>\n",
       "      <th rowspan=\"2\" valign=\"top\">1.00</th>\n",
       "      <th>3600</th>\n",
       "      <td>tz1fvzdyC7s4mMhBrmG38kasaZjE9PHPgFEu</td>\n",
       "      <td>2021-07-28 15:01:11.836815+00:00</td>\n",
       "      <td>2021-07-28 16:00:00+00:00</td>\n",
       "      <td>1727</td>\n",
       "      <td>1.0</td>\n",
       "      <td>1.0</td>\n",
       "      <td>9.666667</td>\n",
       "    </tr>\n",
       "    <tr>\n",
       "      <th>21600</th>\n",
       "      <td>tz1fvzdyC7s4mMhBrmG38kasaZjE9PHPgFEu</td>\n",
       "      <td>2021-07-28 10:02:06.604246+00:00</td>\n",
       "      <td>2021-07-28 16:00:00+00:00</td>\n",
       "      <td>1685</td>\n",
       "      <td>1.0</td>\n",
       "      <td>1.0</td>\n",
       "      <td>308.750000</td>\n",
       "    </tr>\n",
       "    <tr>\n",
       "      <th rowspan=\"2\" valign=\"top\">1.01</th>\n",
       "      <th>3600</th>\n",
       "      <td>tz1fvzdyC7s4mMhBrmG38kasaZjE9PHPgFEu</td>\n",
       "      <td>2021-07-28 15:01:11.849893+00:00</td>\n",
       "      <td>2021-07-28 16:00:00+00:00</td>\n",
       "      <td>1729</td>\n",
       "      <td>1.0</td>\n",
       "      <td>1.0</td>\n",
       "      <td>9.666667</td>\n",
       "    </tr>\n",
       "    <tr>\n",
       "      <th>21600</th>\n",
       "      <td>tz1fvzdyC7s4mMhBrmG38kasaZjE9PHPgFEu</td>\n",
       "      <td>2021-07-28 10:02:06.611716+00:00</td>\n",
       "      <td>2021-07-28 16:00:00+00:00</td>\n",
       "      <td>1687</td>\n",
       "      <td>1.0</td>\n",
       "      <td>1.0</td>\n",
       "      <td>308.750000</td>\n",
       "    </tr>\n",
       "  </tbody>\n",
       "</table>\n",
       "</div>"
      ],
      "text/plain": [
       "                                                                               creator_id  \\\n",
       "currency_pair.symbol target_dynamics measure_period                                         \n",
       "BTC-USD              0.99            3600            tz1fvzdyC7s4mMhBrmG38kasaZjE9PHPgFEu   \n",
       "                                     21600           tz1fvzdyC7s4mMhBrmG38kasaZjE9PHPgFEu   \n",
       "                     1.00            3600            tz1fvzdyC7s4mMhBrmG38kasaZjE9PHPgFEu   \n",
       "                                     21600           tz1fvzdyC7s4mMhBrmG38kasaZjE9PHPgFEu   \n",
       "                     1.01            3600            tz1fvzdyC7s4mMhBrmG38kasaZjE9PHPgFEu   \n",
       "                                     21600           tz1fvzdyC7s4mMhBrmG38kasaZjE9PHPgFEu   \n",
       "ETH-USD              0.99            3600            tz1fvzdyC7s4mMhBrmG38kasaZjE9PHPgFEu   \n",
       "                                     21600           tz1fvzdyC7s4mMhBrmG38kasaZjE9PHPgFEu   \n",
       "                     1.00            3600            tz1fvzdyC7s4mMhBrmG38kasaZjE9PHPgFEu   \n",
       "                                     21600           tz1fvzdyC7s4mMhBrmG38kasaZjE9PHPgFEu   \n",
       "                     1.01            3600            tz1fvzdyC7s4mMhBrmG38kasaZjE9PHPgFEu   \n",
       "                                     21600           tz1fvzdyC7s4mMhBrmG38kasaZjE9PHPgFEu   \n",
       "XTZ-USD              0.99            3600            tz1fvzdyC7s4mMhBrmG38kasaZjE9PHPgFEu   \n",
       "                                     21600           tz1fvzdyC7s4mMhBrmG38kasaZjE9PHPgFEu   \n",
       "                     1.00            3600            tz1fvzdyC7s4mMhBrmG38kasaZjE9PHPgFEu   \n",
       "                                     21600           tz1fvzdyC7s4mMhBrmG38kasaZjE9PHPgFEu   \n",
       "                     1.01            3600            tz1fvzdyC7s4mMhBrmG38kasaZjE9PHPgFEu   \n",
       "                                     21600           tz1fvzdyC7s4mMhBrmG38kasaZjE9PHPgFEu   \n",
       "\n",
       "                                                                        created_time  \\\n",
       "currency_pair.symbol target_dynamics measure_period                                    \n",
       "BTC-USD              0.99            3600           2021-07-28 15:01:11.858167+00:00   \n",
       "                                     21600          2021-07-28 10:03:53.766381+00:00   \n",
       "                     1.00            3600           2021-07-28 15:01:11.854608+00:00   \n",
       "                                     21600          2021-07-28 10:02:06.622749+00:00   \n",
       "                     1.01            3600           2021-07-28 15:01:11.861952+00:00   \n",
       "                                     21600          2021-07-28 10:03:53.773032+00:00   \n",
       "ETH-USD              0.99            3600           2021-07-28 15:01:11.868500+00:00   \n",
       "                                     21600          2021-07-28 10:03:53.783997+00:00   \n",
       "                     1.00            3600           2021-07-28 15:01:11.865432+00:00   \n",
       "                                     21600          2021-07-28 10:03:53.781655+00:00   \n",
       "                     1.01            3600           2021-07-28 15:01:11.870875+00:00   \n",
       "                                     21600          2021-07-28 10:03:53.786333+00:00   \n",
       "XTZ-USD              0.99            3600           2021-07-28 15:01:11.845808+00:00   \n",
       "                                     21600          2021-07-28 10:02:06.607868+00:00   \n",
       "                     1.00            3600           2021-07-28 15:01:11.836815+00:00   \n",
       "                                     21600          2021-07-28 10:02:06.604246+00:00   \n",
       "                     1.01            3600           2021-07-28 15:01:11.849893+00:00   \n",
       "                                     21600          2021-07-28 10:02:06.611716+00:00   \n",
       "\n",
       "                                                              bets_close_time  \\\n",
       "currency_pair.symbol target_dynamics measure_period                             \n",
       "BTC-USD              0.99            3600           2021-07-28 16:00:00+00:00   \n",
       "                                     21600          2021-07-28 16:00:00+00:00   \n",
       "                     1.00            3600           2021-07-28 16:00:00+00:00   \n",
       "                                     21600          2021-07-28 16:00:00+00:00   \n",
       "                     1.01            3600           2021-07-28 16:00:00+00:00   \n",
       "                                     21600          2021-07-28 16:00:00+00:00   \n",
       "ETH-USD              0.99            3600           2021-07-28 16:00:00+00:00   \n",
       "                                     21600          2021-07-28 16:00:00+00:00   \n",
       "                     1.00            3600           2021-07-28 16:00:00+00:00   \n",
       "                                     21600          2021-07-28 16:00:00+00:00   \n",
       "                     1.01            3600           2021-07-28 16:00:00+00:00   \n",
       "                                     21600          2021-07-28 16:00:00+00:00   \n",
       "XTZ-USD              0.99            3600           2021-07-28 16:00:00+00:00   \n",
       "                                     21600          2021-07-28 16:00:00+00:00   \n",
       "                     1.00            3600           2021-07-28 16:00:00+00:00   \n",
       "                                     21600          2021-07-28 16:00:00+00:00   \n",
       "                     1.01            3600           2021-07-28 16:00:00+00:00   \n",
       "                                     21600          2021-07-28 16:00:00+00:00   \n",
       "\n",
       "                                                       id  pool_above_eq  \\\n",
       "currency_pair.symbol target_dynamics measure_period                        \n",
       "BTC-USD              0.99            3600            1731            1.0   \n",
       "                                     21600           1692            1.0   \n",
       "                     1.00            3600            1730            1.0   \n",
       "                                     21600           1691            1.0   \n",
       "                     1.01            3600            1732            1.0   \n",
       "                                     21600           1693            1.0   \n",
       "ETH-USD              0.99            3600            1734            1.0   \n",
       "                                     21600           1698            1.0   \n",
       "                     1.00            3600            1733            1.0   \n",
       "                                     21600           1697            1.0   \n",
       "                     1.01            3600            1735            1.0   \n",
       "                                     21600           1699            1.0   \n",
       "XTZ-USD              0.99            3600            1728            1.0   \n",
       "                                     21600           1686            1.0   \n",
       "                     1.00            3600            1727            1.0   \n",
       "                                     21600           1685            1.0   \n",
       "                     1.01            3600            1729            1.0   \n",
       "                                     21600           1687            1.0   \n",
       "\n",
       "                                                     pool_below  \\\n",
       "currency_pair.symbol target_dynamics measure_period               \n",
       "BTC-USD              0.99            3600                   1.0   \n",
       "                                     21600                  1.0   \n",
       "                     1.00            3600                   1.0   \n",
       "                                     21600                  1.0   \n",
       "                     1.01            3600                   1.0   \n",
       "                                     21600                  1.0   \n",
       "ETH-USD              0.99            3600                   1.0   \n",
       "                                     21600                  1.0   \n",
       "                     1.00            3600                   1.0   \n",
       "                                     21600                  1.0   \n",
       "                     1.01            3600                   1.0   \n",
       "                                     21600                  1.0   \n",
       "XTZ-USD              0.99            3600                   1.0   \n",
       "                                     21600                  1.0   \n",
       "                     1.00            3600                   1.0   \n",
       "                                     21600                  1.0   \n",
       "                     1.01            3600                   1.0   \n",
       "                                     21600                  1.0   \n",
       "\n",
       "                                                     created_minutes_back  \n",
       "currency_pair.symbol target_dynamics measure_period                        \n",
       "BTC-USD              0.99            3600                        9.666667  \n",
       "                                     21600                     306.966667  \n",
       "                     1.00            3600                        9.666667  \n",
       "                                     21600                     308.750000  \n",
       "                     1.01            3600                        9.666667  \n",
       "                                     21600                     306.966667  \n",
       "ETH-USD              0.99            3600                        9.666667  \n",
       "                                     21600                     306.966667  \n",
       "                     1.00            3600                        9.666667  \n",
       "                                     21600                     306.966667  \n",
       "                     1.01            3600                        9.666667  \n",
       "                                     21600                     306.966667  \n",
       "XTZ-USD              0.99            3600                        9.666667  \n",
       "                                     21600                     308.750000  \n",
       "                     1.00            3600                        9.666667  \n",
       "                                     21600                     308.750000  \n",
       "                     1.01            3600                        9.666667  \n",
       "                                     21600                     308.750000  "
      ]
     },
     "execution_count": 153,
     "metadata": {},
     "output_type": "execute_result"
    }
   ],
   "source": [
    "curated_events = df[\n",
    "    df['measure_period'].isin([3600, 21600, 86400])\n",
    "    & df.target_dynamics.isin([1, 0.99, 1.01])\n",
    "]\n",
    "\n",
    "groupby = ['currency_pair.symbol', 'target_dynamics', 'measure_period']\n",
    "\n",
    "last_event_stats = curated_events.sort_values('created_time').groupby(groupby).last()\n",
    "\n",
    "last_event_stats['created_minutes_back'] = last_event_stats['created_time'].dt.tz_localize(None).map(\n",
    "    lambda x: (now - x).seconds / 60)\n",
    "\n",
    "last_event_stats"
   ]
  },
  {
   "cell_type": "code",
   "execution_count": 154,
   "id": "61784cef-7df6-4559-868c-3739303d6b08",
   "metadata": {},
   "outputs": [
    {
     "data": {
      "text/html": [
       "<div>\n",
       "<style scoped>\n",
       "    .dataframe tbody tr th:only-of-type {\n",
       "        vertical-align: middle;\n",
       "    }\n",
       "\n",
       "    .dataframe tbody tr th {\n",
       "        vertical-align: top;\n",
       "    }\n",
       "\n",
       "    .dataframe thead th {\n",
       "        text-align: right;\n",
       "    }\n",
       "</style>\n",
       "<table border=\"1\" class=\"dataframe\">\n",
       "  <thead>\n",
       "    <tr style=\"text-align: right;\">\n",
       "      <th></th>\n",
       "      <th>creator_id</th>\n",
       "      <th>created_time</th>\n",
       "      <th>bets_close_time</th>\n",
       "      <th>id</th>\n",
       "      <th>measure_period</th>\n",
       "      <th>target_dynamics</th>\n",
       "      <th>pool_above_eq</th>\n",
       "      <th>pool_below</th>\n",
       "      <th>currency_pair.symbol</th>\n",
       "    </tr>\n",
       "  </thead>\n",
       "  <tbody>\n",
       "    <tr>\n",
       "      <th>98</th>\n",
       "      <td>tz1fvzdyC7s4mMhBrmG38kasaZjE9PHPgFEu</td>\n",
       "      <td>2021-07-28 05:00:58.773523+00:00</td>\n",
       "      <td>2021-07-28 06:00:00+00:00</td>\n",
       "      <td>1637</td>\n",
       "      <td>3600</td>\n",
       "      <td>1.0</td>\n",
       "      <td>1.0</td>\n",
       "      <td>1.0</td>\n",
       "      <td>XTZ-USD</td>\n",
       "    </tr>\n",
       "    <tr>\n",
       "      <th>89</th>\n",
       "      <td>tz1fvzdyC7s4mMhBrmG38kasaZjE9PHPgFEu</td>\n",
       "      <td>2021-07-28 06:02:00.457378+00:00</td>\n",
       "      <td>2021-07-28 07:00:00+00:00</td>\n",
       "      <td>1646</td>\n",
       "      <td>3600</td>\n",
       "      <td>1.0</td>\n",
       "      <td>1.0</td>\n",
       "      <td>1.0</td>\n",
       "      <td>XTZ-USD</td>\n",
       "    </tr>\n",
       "    <tr>\n",
       "      <th>80</th>\n",
       "      <td>tz1fvzdyC7s4mMhBrmG38kasaZjE9PHPgFEu</td>\n",
       "      <td>2021-07-28 07:02:02.091090+00:00</td>\n",
       "      <td>2021-07-28 08:00:00+00:00</td>\n",
       "      <td>1655</td>\n",
       "      <td>3600</td>\n",
       "      <td>1.0</td>\n",
       "      <td>1.0</td>\n",
       "      <td>1.0</td>\n",
       "      <td>XTZ-USD</td>\n",
       "    </tr>\n",
       "    <tr>\n",
       "      <th>71</th>\n",
       "      <td>tz1fvzdyC7s4mMhBrmG38kasaZjE9PHPgFEu</td>\n",
       "      <td>2021-07-28 08:01:22.393176+00:00</td>\n",
       "      <td>2021-07-28 09:00:00+00:00</td>\n",
       "      <td>1664</td>\n",
       "      <td>3600</td>\n",
       "      <td>1.0</td>\n",
       "      <td>1.0</td>\n",
       "      <td>1.0</td>\n",
       "      <td>XTZ-USD</td>\n",
       "    </tr>\n",
       "    <tr>\n",
       "      <th>62</th>\n",
       "      <td>tz1fvzdyC7s4mMhBrmG38kasaZjE9PHPgFEu</td>\n",
       "      <td>2021-07-28 09:01:35.424521+00:00</td>\n",
       "      <td>2021-07-28 10:00:00+00:00</td>\n",
       "      <td>1673</td>\n",
       "      <td>3600</td>\n",
       "      <td>1.0</td>\n",
       "      <td>1.0</td>\n",
       "      <td>1.0</td>\n",
       "      <td>XTZ-USD</td>\n",
       "    </tr>\n",
       "    <tr>\n",
       "      <th>53</th>\n",
       "      <td>tz1fvzdyC7s4mMhBrmG38kasaZjE9PHPgFEu</td>\n",
       "      <td>2021-07-28 10:02:06.590368+00:00</td>\n",
       "      <td>2021-07-28 11:00:00+00:00</td>\n",
       "      <td>1682</td>\n",
       "      <td>3600</td>\n",
       "      <td>1.0</td>\n",
       "      <td>1.0</td>\n",
       "      <td>1.0</td>\n",
       "      <td>XTZ-USD</td>\n",
       "    </tr>\n",
       "    <tr>\n",
       "      <th>35</th>\n",
       "      <td>tz1fvzdyC7s4mMhBrmG38kasaZjE9PHPgFEu</td>\n",
       "      <td>2021-07-28 11:22:13.784069+00:00</td>\n",
       "      <td>2021-07-28 12:00:00+00:00</td>\n",
       "      <td>1700</td>\n",
       "      <td>3600</td>\n",
       "      <td>1.0</td>\n",
       "      <td>1.0</td>\n",
       "      <td>1.0</td>\n",
       "      <td>XTZ-USD</td>\n",
       "    </tr>\n",
       "    <tr>\n",
       "      <th>26</th>\n",
       "      <td>tz1fvzdyC7s4mMhBrmG38kasaZjE9PHPgFEu</td>\n",
       "      <td>2021-07-28 12:01:42.142521+00:00</td>\n",
       "      <td>2021-07-28 13:00:00+00:00</td>\n",
       "      <td>1709</td>\n",
       "      <td>3600</td>\n",
       "      <td>1.0</td>\n",
       "      <td>1.0</td>\n",
       "      <td>1.0</td>\n",
       "      <td>XTZ-USD</td>\n",
       "    </tr>\n",
       "    <tr>\n",
       "      <th>17</th>\n",
       "      <td>tz1fvzdyC7s4mMhBrmG38kasaZjE9PHPgFEu</td>\n",
       "      <td>2021-07-28 14:01:42.800472+00:00</td>\n",
       "      <td>2021-07-28 15:00:00+00:00</td>\n",
       "      <td>1718</td>\n",
       "      <td>3600</td>\n",
       "      <td>1.0</td>\n",
       "      <td>1.0</td>\n",
       "      <td>1.0</td>\n",
       "      <td>XTZ-USD</td>\n",
       "    </tr>\n",
       "    <tr>\n",
       "      <th>8</th>\n",
       "      <td>tz1fvzdyC7s4mMhBrmG38kasaZjE9PHPgFEu</td>\n",
       "      <td>2021-07-28 15:01:11.836815+00:00</td>\n",
       "      <td>2021-07-28 16:00:00+00:00</td>\n",
       "      <td>1727</td>\n",
       "      <td>3600</td>\n",
       "      <td>1.0</td>\n",
       "      <td>1.0</td>\n",
       "      <td>1.0</td>\n",
       "      <td>XTZ-USD</td>\n",
       "    </tr>\n",
       "  </tbody>\n",
       "</table>\n",
       "</div>"
      ],
      "text/plain": [
       "                              creator_id                     created_time  \\\n",
       "98  tz1fvzdyC7s4mMhBrmG38kasaZjE9PHPgFEu 2021-07-28 05:00:58.773523+00:00   \n",
       "89  tz1fvzdyC7s4mMhBrmG38kasaZjE9PHPgFEu 2021-07-28 06:02:00.457378+00:00   \n",
       "80  tz1fvzdyC7s4mMhBrmG38kasaZjE9PHPgFEu 2021-07-28 07:02:02.091090+00:00   \n",
       "71  tz1fvzdyC7s4mMhBrmG38kasaZjE9PHPgFEu 2021-07-28 08:01:22.393176+00:00   \n",
       "62  tz1fvzdyC7s4mMhBrmG38kasaZjE9PHPgFEu 2021-07-28 09:01:35.424521+00:00   \n",
       "53  tz1fvzdyC7s4mMhBrmG38kasaZjE9PHPgFEu 2021-07-28 10:02:06.590368+00:00   \n",
       "35  tz1fvzdyC7s4mMhBrmG38kasaZjE9PHPgFEu 2021-07-28 11:22:13.784069+00:00   \n",
       "26  tz1fvzdyC7s4mMhBrmG38kasaZjE9PHPgFEu 2021-07-28 12:01:42.142521+00:00   \n",
       "17  tz1fvzdyC7s4mMhBrmG38kasaZjE9PHPgFEu 2021-07-28 14:01:42.800472+00:00   \n",
       "8   tz1fvzdyC7s4mMhBrmG38kasaZjE9PHPgFEu 2021-07-28 15:01:11.836815+00:00   \n",
       "\n",
       "             bets_close_time    id  measure_period  target_dynamics  \\\n",
       "98 2021-07-28 06:00:00+00:00  1637            3600              1.0   \n",
       "89 2021-07-28 07:00:00+00:00  1646            3600              1.0   \n",
       "80 2021-07-28 08:00:00+00:00  1655            3600              1.0   \n",
       "71 2021-07-28 09:00:00+00:00  1664            3600              1.0   \n",
       "62 2021-07-28 10:00:00+00:00  1673            3600              1.0   \n",
       "53 2021-07-28 11:00:00+00:00  1682            3600              1.0   \n",
       "35 2021-07-28 12:00:00+00:00  1700            3600              1.0   \n",
       "26 2021-07-28 13:00:00+00:00  1709            3600              1.0   \n",
       "17 2021-07-28 15:00:00+00:00  1718            3600              1.0   \n",
       "8  2021-07-28 16:00:00+00:00  1727            3600              1.0   \n",
       "\n",
       "    pool_above_eq  pool_below currency_pair.symbol  \n",
       "98            1.0         1.0              XTZ-USD  \n",
       "89            1.0         1.0              XTZ-USD  \n",
       "80            1.0         1.0              XTZ-USD  \n",
       "71            1.0         1.0              XTZ-USD  \n",
       "62            1.0         1.0              XTZ-USD  \n",
       "53            1.0         1.0              XTZ-USD  \n",
       "35            1.0         1.0              XTZ-USD  \n",
       "26            1.0         1.0              XTZ-USD  \n",
       "17            1.0         1.0              XTZ-USD  \n",
       "8             1.0         1.0              XTZ-USD  "
      ]
     },
     "execution_count": 154,
     "metadata": {},
     "output_type": "execute_result"
    }
   ],
   "source": [
    "df[\n",
    "    (df['currency_pair.symbol'] == 'XTZ-USD')\n",
    "    & (df['target_dynamics'] == 1.00)\n",
    "    & (df['measure_period'] == 3600)\n",
    "].sort_values('created_time')"
   ]
  },
  {
   "cell_type": "markdown",
   "id": "18aa4446-632b-4089-9ae0-5e035e07fa14",
   "metadata": {},
   "source": [
    "### Withdrawable events check:"
   ]
  },
  {
   "cell_type": "code",
   "execution_count": 155,
   "id": "9d6b309e-170a-4b8d-ae0a-1404187b71ce",
   "metadata": {},
   "outputs": [
    {
     "data": {
      "text/plain": [
       "74"
      ]
     },
     "execution_count": 155,
     "metadata": {},
     "output_type": "execute_result"
    }
   ],
   "source": [
    "events = dd_client.query_withdrawable_events('2021-07-27 24:00')\n",
    "len(events)"
   ]
  },
  {
   "cell_type": "code",
   "execution_count": 156,
   "id": "56034b05-5fa1-4d5f-9820-0c2be4f01cf1",
   "metadata": {},
   "outputs": [
    {
     "data": {
      "text/plain": [
       "<AxesSubplot:>"
      ]
     },
     "execution_count": 156,
     "metadata": {},
     "output_type": "execute_result"
    },
    {
     "data": {
      "image/png": "[encoded data removed]",
      "text/plain": [
       "<Figure size 432x288 with 1 Axes>"
      ]
     },
     "metadata": {
      "needs_background": "light"
     },
     "output_type": "display_data"
    }
   ],
   "source": [
    "# events[-1]['closed_oracle_time']\n",
    "close_times = pd.DataFrame(events).closed_oracle_time.map(pd.Timestamp)\n",
    "close_times.hist(bins=100)"
   ]
  },
  {
   "cell_type": "markdown",
   "id": "22623a5c-8a7a-46b0-be50-a5863d8352d4",
   "metadata": {},
   "source": [
    "### Query withdrawable events sum:"
   ]
  },
  {
   "cell_type": "code",
   "execution_count": 157,
   "id": "51a1eb57-a143-4c2d-9529-5c90e7d661c8",
   "metadata": {},
   "outputs": [
    {
     "name": "stderr",
     "output_type": "stream",
     "text": [
      " 18%|█▊        | 18/100 [00:09<00:44,  1.85it/s]\n"
     ]
    }
   ],
   "source": [
    "from tqdm import tqdm\n",
    "\n",
    "query = \"\"\"\n",
    "query MyQuery($offset: Int = 0) {\n",
    "  juster_event(offset: $offset) {\n",
    "    positions {\n",
    "      liquidity_provided_above_eq\n",
    "      liquidity_provided_below\n",
    "      reward_above_eq\n",
    "      reward_below\n",
    "      shares\n",
    "      withdrawn\n",
    "    }\n",
    "    id\n",
    "    winner_bets\n",
    "    total_liquidity_shares\n",
    "    closed_oracle_time\n",
    "  }\n",
    "}\n",
    "\"\"\"\n",
    "\n",
    "\n",
    "def deep_dd_query(query, process, max_depth=100, limit_size=100):\n",
    "\n",
    "    data = []\n",
    "\n",
    "    for query_num in tqdm(range(max_depth)):\n",
    "        raw_data = dd_client.endpoint(query, {'offset': query_num*limit_size})\n",
    "        processed_data = process(raw_data)\n",
    "        data += processed_data\n",
    "        if not len(processed_data):\n",
    "            break\n",
    "\n",
    "    return data\n",
    "\n",
    "\n",
    "events_data = deep_dd_query(query, lambda d: d['data']['juster_event'])"
   ]
  },
  {
   "cell_type": "code",
   "execution_count": 163,
   "id": "0bf48c29-fcb1-4913-8427-42c888038f3e",
   "metadata": {},
   "outputs": [
    {
     "data": {
      "text/plain": [
       "862"
      ]
     },
     "execution_count": 163,
     "metadata": {},
     "output_type": "execute_result"
    }
   ],
   "source": [
    "positions = [\n",
    "    {**position, **event}\n",
    "    for event in events_data\n",
    "    for position in event.pop('positions')\n",
    "]\n",
    "\n",
    "df = pd.DataFrame(positions)\n",
    "len(df)"
   ]
  },
  {
   "cell_type": "code",
   "execution_count": 165,
   "id": "cd13792e-1f44-4bc4-abe9-cf873221123d",
   "metadata": {},
   "outputs": [
    {
     "data": {
      "text/plain": [
       "ABOVE_EQ    345\n",
       "BELOW       308\n",
       "Name: winner_bets, dtype: int64"
      ]
     },
     "execution_count": 165,
     "metadata": {},
     "output_type": "execute_result"
    }
   ],
   "source": [
    "df['winner_bets'].value_counts()"
   ]
  },
  {
   "cell_type": "code",
   "execution_count": 214,
   "id": "72a2841f-b678-4ef8-8f80-638b544d8ea9",
   "metadata": {},
   "outputs": [],
   "source": [
    "def calculate_return(position, winner_bets):\n",
    "\n",
    "    loan = min(position.liquidity_provided_below, position.liquidity_provided_above_eq)\n",
    "    share = position.shares / position.total_liquidity_shares\n",
    "\n",
    "    if winner_bets == 'BELOW':\n",
    "        return (\n",
    "            position.liquidity_provided_below\n",
    "            + position.liquidity_provided_above_eq * share\n",
    "            - loan\n",
    "            + position.reward_below\n",
    "        )\n",
    "    elif winner_bets == 'ABOVE_EQ':\n",
    "        return (\n",
    "            position.liquidity_provided_above_eq\n",
    "            + position.liquidity_provided_below * share\n",
    "            - loan\n",
    "            + position.reward_above_eq\n",
    "        )\n",
    "    else:\n",
    "        raise Exception('Unexpected winner_bets param')\n",
    "\n",
    "\n",
    "df['position_return_above_eq'] = df.apply(\n",
    "    lambda position: calculate_return(position, 'ABOVE_EQ'),\n",
    "    axis=1)\n",
    "\n",
    "df['position_return_below'] = df.apply(\n",
    "    lambda position: calculate_return(position, 'BELOW'),\n",
    "    axis=1)"
   ]
  },
  {
   "cell_type": "code",
   "execution_count": 215,
   "id": "74bf08da-28a2-47b6-9b24-ae49144a6597",
   "metadata": {},
   "outputs": [
    {
     "data": {
      "text/plain": [
       "withdrawn\n",
       "False    555.371410\n",
       "True     584.170546\n",
       "Name: position_return_above_eq, dtype: float64"
      ]
     },
     "execution_count": 215,
     "metadata": {},
     "output_type": "execute_result"
    }
   ],
   "source": [
    "df.groupby('withdrawn').position_return_above_eq.sum()"
   ]
  },
  {
   "cell_type": "code",
   "execution_count": 216,
   "id": "cce6405b-9942-4651-9910-a3764ad21d12",
   "metadata": {},
   "outputs": [
    {
     "data": {
      "text/plain": [
       "withdrawn\n",
       "False    549.716835\n",
       "True     558.395690\n",
       "Name: position_return_below, dtype: float64"
      ]
     },
     "execution_count": 216,
     "metadata": {},
     "output_type": "execute_result"
    }
   ],
   "source": [
    "df.groupby('withdrawn').position_return_below.sum()"
   ]
  },
  {
   "cell_type": "code",
   "execution_count": 168,
   "id": "66911b51-133a-47b7-a67f-03d091fab6f1",
   "metadata": {},
   "outputs": [],
   "source": [
    "positions_in_events = df.id.value_counts().sort_index()\n",
    "ids = [x for x in range(positions_in_events.index.max())]\n",
    "\n",
    "positions_in_events = positions_in_events.reindex(ids)\n",
    "events_without_position = positions_in_events[ positions_in_events.isna() ]"
   ]
  },
  {
   "cell_type": "code",
   "execution_count": 169,
   "id": "279cebb9-bbf0-4070-97c9-9330ed77c57e",
   "metadata": {},
   "outputs": [
    {
     "data": {
      "text/plain": [
       "929"
      ]
     },
     "execution_count": 169,
     "metadata": {},
     "output_type": "execute_result"
    }
   ],
   "source": [
    "len(events_without_position)"
   ]
  },
  {
   "cell_type": "markdown",
   "id": "29c23f8d-1053-4ddd-9b4a-2138c4641c0b",
   "metadata": {},
   "source": [
    "### OK: all provided liquidity + all bets - all withdrawals:"
   ]
  },
  {
   "cell_type": "code",
   "execution_count": 176,
   "id": "73a984a4-29f0-49d0-84cc-2f0779c2d508",
   "metadata": {},
   "outputs": [
    {
     "name": "stderr",
     "output_type": "stream",
     "text": [
      "  2%|▏         | 2/100 [00:00<00:45,  2.17it/s]\n",
      "  9%|▉         | 9/100 [00:03<00:34,  2.60it/s]\n",
      "  5%|▌         | 5/100 [00:01<00:30,  3.08it/s]\n"
     ]
    }
   ],
   "source": [
    "all_bets_query = \"\"\"\n",
    "query MyQuery($offset: Int = 0) {\n",
    "  juster_bet(offset: $offset) {\n",
    "    amount\n",
    "  }\n",
    "}\n",
    "\"\"\"\n",
    "\n",
    "all_bets = deep_dd_query(all_bets_query, lambda d: d['data']['juster_bet'])\n",
    "sum_all_bets = pd.DataFrame(all_bets).sum().amount\n",
    "\n",
    "all_liquidity_query = \"\"\"\n",
    "query MyQuery($offset: Int = 0) {\n",
    "  juster_deposit(offset: $offset) {\n",
    "    amount_above_eq\n",
    "    amount_below\n",
    "  }\n",
    "}\n",
    "\"\"\"\n",
    "all_liquidity = deep_dd_query(all_liquidity_query, lambda d: d['data']['juster_deposit'])\n",
    "all_liquidity_df = pd.DataFrame(all_liquidity)\n",
    "all_liquidity_df['deposit'] = all_liquidity_df.sum(axis=1) - all_liquidity_df.min(axis=1)\n",
    "sum_all_liquidity = all_liquidity_df['deposit'].sum()\n",
    "\n",
    "all_withdrawals_query = \"\"\"\n",
    "query MyQuery($offset: Int = 0) {\n",
    "  juster_withdrawal(offset: $offset) {\n",
    "    amount\n",
    "  }\n",
    "}\n",
    "\"\"\"\n",
    "all_withdrawals = deep_dd_query(all_withdrawals_query, lambda d: d['data']['juster_withdrawal'])\n",
    "all_withdrawals_df = pd.DataFrame(all_withdrawals)\n",
    "withdrawals_sum = all_withdrawals_df.sum().amount"
   ]
  },
  {
   "cell_type": "code",
   "execution_count": 181,
   "id": "9901a81a-c948-42f1-aefb-1815160c8a5f",
   "metadata": {},
   "outputs": [
    {
     "data": {
      "text/plain": [
       "680.167661"
      ]
     },
     "execution_count": 181,
     "metadata": {},
     "output_type": "execute_result"
    }
   ],
   "source": [
    "sum_all_liquidity + sum_all_bets - withdrawals_sum"
   ]
  },
  {
   "cell_type": "code",
   "execution_count": 183,
   "id": "ef104798-183a-4ab3-9e8c-e53adbed3c62",
   "metadata": {},
   "outputs": [
    {
     "data": {
      "text/plain": [
       "608.034339"
      ]
     },
     "execution_count": 183,
     "metadata": {},
     "output_type": "execute_result"
    }
   ],
   "source": [
    "withdrawals_sum"
   ]
  },
  {
   "cell_type": "markdown",
   "id": "86e2ce6e-4cd1-4b63-9f8f-0c4d57e28b67",
   "metadata": {},
   "source": [
    "### why delta == 680 tez and it is more that should be removed by positions (225)?\n",
    "### why withdrawals_sum == 608 tez and withdrawn by positions is only 518?\n",
    "### why contract balance is 732.852006, when calculated delta is 680.167661\n",
    "    - this can be because some events holds 0.2 tez used to start/close and I need to run force majeure"
   ]
  },
  {
   "cell_type": "markdown",
   "id": "b817975d-707b-4b44-962e-248b8c2fa05a",
   "metadata": {},
   "source": [
    "### ALL POSITIONS:"
   ]
  },
  {
   "cell_type": "code",
   "execution_count": 301,
   "id": "7add88a5-dc2a-4385-9b23-b5e2cbf93041",
   "metadata": {},
   "outputs": [
    {
     "name": "stderr",
     "output_type": "stream",
     "text": [
      "  9%|▉         | 9/100 [00:05<00:54,  1.67it/s]\n"
     ]
    }
   ],
   "source": [
    "query_positions = \"\"\"\n",
    "query MyQuery($offset: Int = 0) {\n",
    "  juster_position(offset: $offset) {\n",
    "    event {\n",
    "      closed_oracle_time\n",
    "      id\n",
    "      total_liquidity_shares\n",
    "      winner_bets\n",
    "      measure_oracle_start_time\n",
    "      bets_close_time\n",
    "      measure_period\n",
    "      created_time\n",
    "      creator {\n",
    "        address\n",
    "      }\n",
    "    }\n",
    "    liquidity_provided_above_eq\n",
    "    liquidity_provided_below\n",
    "    reward_above_eq\n",
    "    reward_below\n",
    "    shares\n",
    "    event_id\n",
    "    withdrawn\n",
    "  }\n",
    "}\n",
    "\"\"\"\n",
    "\n",
    "all_positions = deep_dd_query(query_positions, lambda d: d['data']['juster_position'])"
   ]
  },
  {
   "cell_type": "code",
   "execution_count": 302,
   "id": "56f1bcb0-40b1-4157-89aa-3613ca91973d",
   "metadata": {},
   "outputs": [],
   "source": [
    "df = pd.json_normalize(all_positions)\n",
    "df = df.rename(columns={\n",
    "    'event.total_liquidity_shares': 'total_liquidity_shares',\n",
    "    'event.winner_bets': 'winner_bets'\n",
    "})\n",
    "\n",
    "df['calculated_return_above_eq'] = df.apply(\n",
    "    lambda row: calculate_return(row, 'ABOVE_EQ'), axis=1)\n",
    "df['calculated_return_below'] = df.apply(\n",
    "    lambda row: calculate_return(row, 'BELOW'), axis=1)"
   ]
  },
  {
   "cell_type": "code",
   "execution_count": 303,
   "id": "982de153-9387-4a8d-85b2-ee55c17695a6",
   "metadata": {},
   "outputs": [
    {
     "data": {
      "text/plain": [
       "withdrawn\n",
       "False    542.716835\n",
       "True     562.395690\n",
       "Name: calculated_return_below, dtype: float64"
      ]
     },
     "execution_count": 303,
     "metadata": {},
     "output_type": "execute_result"
    }
   ],
   "source": [
    "df.groupby('withdrawn').calculated_return_below.sum()"
   ]
  },
  {
   "cell_type": "markdown",
   "id": "42425ceb-6b14-4084-81d8-99a5ab693622",
   "metadata": {},
   "source": [
    "### Agregate all unclosed events and how much liquidity are there?"
   ]
  },
  {
   "cell_type": "code",
   "execution_count": 304,
   "id": "9d52e3da-f0ae-4c3e-a4b5-48778f0a37b3",
   "metadata": {},
   "outputs": [],
   "source": [
    "import time\n",
    "\n",
    "\n",
    "# TODO: drop timezone correctly plz:\n",
    "def to_timestamp(string):\n",
    "    if string:\n",
    "        return pd.Timestamp(string.split(':')[0])\n",
    "\n",
    "def to_timedelta(seconds):\n",
    "    return pd.Timedelta(seconds=seconds)\n",
    "\n",
    "df['event.bets_close_time'] = df['event.bets_close_time'].map(to_timestamp)\n",
    "df['event.measure_oracle_start_time'] = df['event.measure_oracle_start_time'].map(to_timestamp)\n",
    "df['event.measure_period'] = df['event.measure_period'].map(to_timedelta)\n",
    "df['finish_time'] = df['event.measure_oracle_start_time'] + df['event.measure_period']"
   ]
  },
  {
   "cell_type": "code",
   "execution_count": 305,
   "id": "f688837d-2c55-4554-a45e-1f36dbbe7174",
   "metadata": {},
   "outputs": [
    {
     "name": "stdout",
     "output_type": "stream",
     "text": [
      "failed_to_start: 25\n",
      "failed_to_finish: 28\n"
     ]
    }
   ],
   "source": [
    "now = pd.Timestamp(time.time(), unit='s')\n",
    "\n",
    "failed_to_start = df[\n",
    "    (df['event.bets_close_time'] > now)\n",
    "    & df['event.measure_oracle_start_time'].isna()\n",
    "]\n",
    "print(f'failed_to_start: {len(failed_to_start)}')\n",
    "\n",
    "failed_to_finish = df[\n",
    "    (df['finish_time'] > now)\n",
    "    & df['event.closed_oracle_time'].isna()\n",
    "]\n",
    "print(f'failed_to_finish: {len(failed_to_finish)}')\n"
   ]
  },
  {
   "cell_type": "code",
   "execution_count": 306,
   "id": "dab9bfb3-2d62-4dba-b145-1e58073b2211",
   "metadata": {},
   "outputs": [
    {
     "data": {
      "text/plain": [
       "failtype\n",
       "failed_to_finish     27.001000\n",
       "failed_to_start     112.740728\n",
       "Name: calculated_return_above_eq, dtype: float64"
      ]
     },
     "execution_count": 306,
     "metadata": {},
     "output_type": "execute_result"
    }
   ],
   "source": [
    "assert set(failed_to_start.index).intersection(set(failed_to_finish.index)) == set()\n",
    "\n",
    "# failed_to_start.calculated_return_above_eq.sum()\n",
    "faileds = pd.concat({'failed_to_start': failed_to_start, 'failed_to_finish': failed_to_finish}, names=['failtype', '_']).reset_index()\n",
    "faileds.groupby(['failtype']).calculated_return_above_eq.sum()"
   ]
  },
  {
   "cell_type": "code",
   "execution_count": 307,
   "id": "4a018df3-8adf-4545-ba0e-5d315f9c79c3",
   "metadata": {},
   "outputs": [
    {
     "data": {
      "text/plain": [
       "failtype\n",
       "failed_to_finish     27.001000\n",
       "failed_to_start     120.169168\n",
       "Name: calculated_return_below, dtype: float64"
      ]
     },
     "execution_count": 307,
     "metadata": {},
     "output_type": "execute_result"
    }
   ],
   "source": [
    "faileds.groupby(['failtype']).calculated_return_below.sum()"
   ]
  },
  {
   "cell_type": "code",
   "execution_count": 308,
   "id": "21438377-cf45-4fdd-b189-d72930491221",
   "metadata": {},
   "outputs": [
    {
     "data": {
      "text/plain": [
       "event.bets_close_time\n",
       "2021-06-22 11:00:00      0.000000\n",
       "2021-06-25 15:00:00      0.000000\n",
       "2021-07-02 14:00:00      0.001000\n",
       "2021-07-15 12:00:00     41.546666\n",
       "2021-07-23 16:00:00      9.000000\n",
       "2021-07-23 17:00:00      9.000000\n",
       "2021-07-23 22:00:00     24.000000\n",
       "2021-07-23 23:00:00      9.000000\n",
       "2021-07-24 04:00:00     12.000000\n",
       "2021-07-24 10:00:00      3.000000\n",
       "2021-07-24 22:00:00      9.000000\n",
       "2021-07-25 23:00:00      9.000000\n",
       "2021-07-26 00:00:00      9.000000\n",
       "2021-07-26 16:00:00      9.000000\n",
       "2021-07-26 17:00:00      9.000000\n",
       "2021-07-26 22:00:00      9.000000\n",
       "2021-07-27 16:00:00      9.000000\n",
       "2021-07-27 18:00:00      9.000000\n",
       "2021-07-27 19:00:00      9.000000\n",
       "2021-07-27 20:00:00      9.000000\n",
       "2021-07-27 21:00:00      9.000000\n",
       "2021-07-27 22:00:00     36.000000\n",
       "2021-07-27 23:00:00      9.000000\n",
       "2021-07-28 00:00:00      9.000000\n",
       "2021-07-28 01:00:00      9.000000\n",
       "2021-07-28 02:00:00      9.000000\n",
       "2021-07-28 03:00:00      9.000000\n",
       "2021-07-28 04:00:00     18.000000\n",
       "2021-07-28 05:00:00      9.000000\n",
       "2021-07-28 06:00:00      9.000000\n",
       "2021-07-28 07:00:00      9.000000\n",
       "2021-07-28 08:00:00      9.000000\n",
       "2021-07-28 09:00:00      9.000000\n",
       "2021-07-28 10:00:00     18.000000\n",
       "2021-07-28 11:00:00      9.000000\n",
       "2021-07-28 12:00:00      9.000000\n",
       "2021-07-28 13:00:00      9.000000\n",
       "2021-07-28 15:00:00      9.000000\n",
       "2021-07-28 16:00:00     18.000000\n",
       "2021-07-28 22:00:00      9.000000\n",
       "2021-07-29 13:00:00    111.168168\n",
       "2021-08-02 13:00:00      0.001000\n",
       "Name: calculated_return_below, dtype: float64"
      ]
     },
     "execution_count": 308,
     "metadata": {},
     "output_type": "execute_result"
    }
   ],
   "source": [
    "df[ ~df['withdrawn'] ].groupby(['event.bets_close_time']).calculated_return_below.sum().sort_index()#.sort_values(ascending=False)"
   ]
  },
  {
   "cell_type": "markdown",
   "id": "a4bfa197-8e04-4643-aab1-fb40f604eb31",
   "metadata": {},
   "source": [
    "- is event.created_time correct?"
   ]
  },
  {
   "cell_type": "code",
   "execution_count": 341,
   "id": "716863ba-df7e-4a3c-a6bb-6ca18af5d893",
   "metadata": {},
   "outputs": [
    {
     "data": {
      "text/html": [
       "<div>\n",
       "<style scoped>\n",
       "    .dataframe tbody tr th:only-of-type {\n",
       "        vertical-align: middle;\n",
       "    }\n",
       "\n",
       "    .dataframe tbody tr th {\n",
       "        vertical-align: top;\n",
       "    }\n",
       "\n",
       "    .dataframe thead th {\n",
       "        text-align: right;\n",
       "    }\n",
       "</style>\n",
       "<table border=\"1\" class=\"dataframe\">\n",
       "  <thead>\n",
       "    <tr style=\"text-align: right;\">\n",
       "      <th></th>\n",
       "      <th>calculated_return_above_eq</th>\n",
       "      <th>calculated_return_below</th>\n",
       "    </tr>\n",
       "    <tr>\n",
       "      <th>event.measure_period</th>\n",
       "      <th></th>\n",
       "      <th></th>\n",
       "    </tr>\n",
       "  </thead>\n",
       "  <tbody>\n",
       "    <tr>\n",
       "      <th>0 days 00:05:00</th>\n",
       "      <td>10</td>\n",
       "      <td>10</td>\n",
       "    </tr>\n",
       "    <tr>\n",
       "      <th>0 days 00:10:00</th>\n",
       "      <td>32</td>\n",
       "      <td>32</td>\n",
       "    </tr>\n",
       "    <tr>\n",
       "      <th>0 days 00:20:00</th>\n",
       "      <td>25</td>\n",
       "      <td>25</td>\n",
       "    </tr>\n",
       "    <tr>\n",
       "      <th>0 days 00:30:00</th>\n",
       "      <td>10</td>\n",
       "      <td>10</td>\n",
       "    </tr>\n",
       "    <tr>\n",
       "      <th>0 days 01:00:00</th>\n",
       "      <td>604</td>\n",
       "      <td>604</td>\n",
       "    </tr>\n",
       "    <tr>\n",
       "      <th>0 days 06:00:00</th>\n",
       "      <td>135</td>\n",
       "      <td>135</td>\n",
       "    </tr>\n",
       "    <tr>\n",
       "      <th>1 days 00:00:00</th>\n",
       "      <td>45</td>\n",
       "      <td>45</td>\n",
       "    </tr>\n",
       "    <tr>\n",
       "      <th>31 days 00:00:00</th>\n",
       "      <td>1</td>\n",
       "      <td>1</td>\n",
       "    </tr>\n",
       "  </tbody>\n",
       "</table>\n",
       "</div>"
      ],
      "text/plain": [
       "                      calculated_return_above_eq  calculated_return_below\n",
       "event.measure_period                                                     \n",
       "0 days 00:05:00                               10                       10\n",
       "0 days 00:10:00                               32                       32\n",
       "0 days 00:20:00                               25                       25\n",
       "0 days 00:30:00                               10                       10\n",
       "0 days 01:00:00                              604                      604\n",
       "0 days 06:00:00                              135                      135\n",
       "1 days 00:00:00                               45                       45\n",
       "31 days 00:00:00                               1                        1"
      ]
     },
     "execution_count": 341,
     "metadata": {},
     "output_type": "execute_result"
    }
   ],
   "source": [
    "# df.sort_values('calculated_return_below', ascending=False)\n",
    "df.groupby(['event.measure_period'])[['calculated_return_above_eq', 'calculated_return_below']].count()"
   ]
  },
  {
   "cell_type": "markdown",
   "id": "622245c2-1a49-469e-9f92-7dc1007d8972",
   "metadata": {},
   "source": [
    "### Why there are so many 1-hour event positions?"
   ]
  },
  {
   "cell_type": "code",
   "execution_count": 318,
   "id": "799f1550-c1bf-44f5-82de-060cb5d5ef74",
   "metadata": {},
   "outputs": [],
   "source": [
    "hours = df[ df['event.measure_period'] == pd.Timedelta(seconds=60*60) ]"
   ]
  },
  {
   "cell_type": "code",
   "execution_count": 323,
   "id": "550baa52-eda7-44b3-afb4-2bcef51dc393",
   "metadata": {},
   "outputs": [
    {
     "data": {
      "text/html": [
       "<div>\n",
       "<style scoped>\n",
       "    .dataframe tbody tr th:only-of-type {\n",
       "        vertical-align: middle;\n",
       "    }\n",
       "\n",
       "    .dataframe tbody tr th {\n",
       "        vertical-align: top;\n",
       "    }\n",
       "\n",
       "    .dataframe thead th {\n",
       "        text-align: right;\n",
       "    }\n",
       "</style>\n",
       "<table border=\"1\" class=\"dataframe\">\n",
       "  <thead>\n",
       "    <tr style=\"text-align: right;\">\n",
       "      <th></th>\n",
       "      <th>above_eq_sum</th>\n",
       "      <th>below_sum</th>\n",
       "    </tr>\n",
       "    <tr>\n",
       "      <th>event_id</th>\n",
       "      <th></th>\n",
       "      <th></th>\n",
       "    </tr>\n",
       "  </thead>\n",
       "  <tbody>\n",
       "    <tr>\n",
       "      <th>841</th>\n",
       "      <td>2.0</td>\n",
       "      <td>2.0</td>\n",
       "    </tr>\n",
       "    <tr>\n",
       "      <th>842</th>\n",
       "      <td>2.0</td>\n",
       "      <td>2.0</td>\n",
       "    </tr>\n",
       "  </tbody>\n",
       "</table>\n",
       "</div>"
      ],
      "text/plain": [
       "          above_eq_sum  below_sum\n",
       "event_id                         \n",
       "841                2.0        2.0\n",
       "842                2.0        2.0"
      ]
     },
     "execution_count": 323,
     "metadata": {},
     "output_type": "execute_result"
    }
   ],
   "source": [
    "# Hypothesis: there are multiple times liquidity provided?\n",
    "# - NO, only 2 cases:\n",
    "by_events = pd.DataFrame({\n",
    "    'above_eq_sum': hours.groupby('event_id').liquidity_provided_above_eq.sum(),\n",
    "    'below_sum': hours.groupby('event_id').liquidity_provided_below.sum()\n",
    "})\n",
    "\n",
    "by_events[ by_events.above_eq_sum > 1 ]"
   ]
  },
  {
   "cell_type": "code",
   "execution_count": 329,
   "id": "3fe876cb-1cb4-4bb6-a824-812d32c46307",
   "metadata": {},
   "outputs": [
    {
     "data": {
      "text/plain": [
       "event.bets_close_time\n",
       "2021-07-28 12:00:00    10\n",
       "2021-07-23 16:00:00     9\n",
       "2021-07-27 10:00:00     9\n",
       "2021-07-27 19:00:00     9\n",
       "2021-07-27 18:00:00     9\n",
       "                       ..\n",
       "2021-07-24 07:00:00     3\n",
       "2021-07-24 08:00:00     3\n",
       "2021-07-24 09:00:00     3\n",
       "2021-07-24 10:00:00     3\n",
       "2021-07-24 06:00:00     3\n",
       "Name: event_id, Length: 75, dtype: int64"
      ]
     },
     "execution_count": 329,
     "metadata": {},
     "output_type": "execute_result"
    }
   ],
   "source": [
    "# Hypothesis: there are multiple events in one hour?\n",
    "hours.groupby('event.bets_close_time').event_id.count().sort_values(ascending=False)\n",
    "# NO, only one with 10 events instead of 9"
   ]
  },
  {
   "cell_type": "markdown",
   "id": "7cfbfcc5-2f31-4898-add3-6adff9e968ab",
   "metadata": {},
   "source": [
    "Oh, it is all right, all this events are withdrawn before:"
   ]
  },
  {
   "cell_type": "code",
   "execution_count": 332,
   "id": "d6639a33-26bd-4403-8c5b-8f844e245ce0",
   "metadata": {},
   "outputs": [
    {
     "data": {
      "text/plain": [
       "True     338\n",
       "False    266\n",
       "Name: withdrawn, dtype: int64"
      ]
     },
     "execution_count": 332,
     "metadata": {},
     "output_type": "execute_result"
    }
   ],
   "source": [
    "hours.withdrawn.value_counts()"
   ]
  },
  {
   "cell_type": "code",
   "execution_count": 334,
   "id": "b5bf0e0e-352e-4148-bdb8-994a76372add",
   "metadata": {},
   "outputs": [
    {
     "data": {
      "text/html": [
       "<div>\n",
       "<style scoped>\n",
       "    .dataframe tbody tr th:only-of-type {\n",
       "        vertical-align: middle;\n",
       "    }\n",
       "\n",
       "    .dataframe tbody tr th {\n",
       "        vertical-align: top;\n",
       "    }\n",
       "\n",
       "    .dataframe thead th {\n",
       "        text-align: right;\n",
       "    }\n",
       "</style>\n",
       "<table border=\"1\" class=\"dataframe\">\n",
       "  <thead>\n",
       "    <tr style=\"text-align: right;\">\n",
       "      <th></th>\n",
       "      <th>calculated_return_above_eq</th>\n",
       "      <th>calculated_return_below</th>\n",
       "    </tr>\n",
       "    <tr>\n",
       "      <th>event.measure_period</th>\n",
       "      <th></th>\n",
       "      <th></th>\n",
       "    </tr>\n",
       "  </thead>\n",
       "  <tbody>\n",
       "    <tr>\n",
       "      <th>0 days 00:05:00</th>\n",
       "      <td>67.944060</td>\n",
       "      <td>68.115201</td>\n",
       "    </tr>\n",
       "    <tr>\n",
       "      <th>0 days 00:10:00</th>\n",
       "      <td>39.755462</td>\n",
       "      <td>46.315251</td>\n",
       "    </tr>\n",
       "    <tr>\n",
       "      <th>0 days 00:20:00</th>\n",
       "      <td>28.719470</td>\n",
       "      <td>38.284383</td>\n",
       "    </tr>\n",
       "    <tr>\n",
       "      <th>0 days 00:30:00</th>\n",
       "      <td>20.453796</td>\n",
       "      <td>0.001000</td>\n",
       "    </tr>\n",
       "    <tr>\n",
       "      <th>0 days 01:00:00</th>\n",
       "      <td>268.497622</td>\n",
       "      <td>267.000000</td>\n",
       "    </tr>\n",
       "    <tr>\n",
       "      <th>0 days 06:00:00</th>\n",
       "      <td>72.000000</td>\n",
       "      <td>72.000000</td>\n",
       "    </tr>\n",
       "    <tr>\n",
       "      <th>1 days 00:00:00</th>\n",
       "      <td>51.000000</td>\n",
       "      <td>51.000000</td>\n",
       "    </tr>\n",
       "    <tr>\n",
       "      <th>31 days 00:00:00</th>\n",
       "      <td>0.001000</td>\n",
       "      <td>0.001000</td>\n",
       "    </tr>\n",
       "  </tbody>\n",
       "</table>\n",
       "</div>"
      ],
      "text/plain": [
       "                      calculated_return_above_eq  calculated_return_below\n",
       "event.measure_period                                                     \n",
       "0 days 00:05:00                        67.944060                68.115201\n",
       "0 days 00:10:00                        39.755462                46.315251\n",
       "0 days 00:20:00                        28.719470                38.284383\n",
       "0 days 00:30:00                        20.453796                 0.001000\n",
       "0 days 01:00:00                       268.497622               267.000000\n",
       "0 days 06:00:00                        72.000000                72.000000\n",
       "1 days 00:00:00                        51.000000                51.000000\n",
       "31 days 00:00:00                        0.001000                 0.001000"
      ]
     },
     "execution_count": 334,
     "metadata": {},
     "output_type": "execute_result"
    }
   ],
   "source": [
    "not_withdrawn = df[ ~df.withdrawn ]\n",
    "not_withdrawn.groupby(['event.measure_period'])[['calculated_return_above_eq', 'calculated_return_below']].sum()"
   ]
  },
  {
   "cell_type": "code",
   "execution_count": 339,
   "id": "8b699630-7e69-41c5-9ec1-db08b18c48a9",
   "metadata": {},
   "outputs": [
    {
     "data": {
      "text/plain": [
       "2021-07-23 22:00:00    9\n",
       "2021-07-24 22:00:00    9\n",
       "2021-07-26 22:00:00    9\n",
       "2021-07-27 22:00:00    9\n",
       "2021-07-28 22:00:00    9\n",
       "Name: event.bets_close_time, dtype: int64"
      ]
     },
     "execution_count": 339,
     "metadata": {},
     "output_type": "execute_result"
    }
   ],
   "source": [
    "days = not_withdrawn[ not_withdrawn['event.measure_period'] == pd.Timedelta(seconds=60*60*24) ]\n",
    "days['event.bets_close_time'].value_counts()"
   ]
  },
  {
   "cell_type": "markdown",
   "id": "8a83410e-6df2-4cd2-83ed-bbcab7c5ceb4",
   "metadata": {},
   "source": [
    "### FINALLY: why event_id 653, 654 and some more are not withrawn?\n",
    "- looks like it is unclosed events"
   ]
  },
  {
   "cell_type": "code",
   "execution_count": 337,
   "id": "c00961e0-9e0b-4019-a9e3-e75789dbcde2",
   "metadata": {},
   "outputs": [
    {
     "data": {
      "text/plain": [
       "72"
      ]
     },
     "execution_count": 337,
     "metadata": {},
     "output_type": "execute_result"
    }
   ],
   "source": [
    "9*4*2"
   ]
  },
  {
   "cell_type": "code",
   "execution_count": 335,
   "id": "2d9a98f5-6229-4f98-a7ed-4a78eeb58167",
   "metadata": {},
   "outputs": [
    {
     "data": {
      "text/plain": [
       "261"
      ]
     },
     "execution_count": 335,
     "metadata": {},
     "output_type": "execute_result"
    }
   ],
   "source": [
    "9*24 + 9*4 + 9"
   ]
  },
  {
   "cell_type": "markdown",
   "id": "15830c50-b329-42a1-9eb0-64e8ac7e1c36",
   "metadata": {},
   "source": [
    "### DONE?: Force majeure calls?\n",
    "### TODO: withdraw canceled?"
   ]
  },
  {
   "cell_type": "code",
   "execution_count": 3,
   "id": "8b393d95-7663-4e11-9c7a-424bcf4281e3",
   "metadata": {},
   "outputs": [],
   "source": [
    "from event_lines import EventLines\n",
    "\n",
    "event_lines = EventLines()\n",
    "event_params = event_lines.generate_new()"
   ]
  },
  {
   "cell_type": "code",
   "execution_count": 18,
   "id": "26a3d2b1-e3fc-4a36-97c2-47ae1056659e",
   "metadata": {},
   "outputs": [
    {
     "data": {
      "text/plain": [
       "'2021-07-22 01:00:00'"
      ]
     },
     "execution_count": 18,
     "metadata": {},
     "output_type": "execute_result"
    }
   ],
   "source": [
    "import time\n",
    "from datetime import datetime\n",
    "\n",
    "next_hour_timestamp = int((time.time() // 3600 + 1) * 3600)\n",
    "datetime.fromtimestamp(next_hour_timestamp).strftime('%Y-%m-%d %H:%M:%S')"
   ]
  },
  {
   "cell_type": "code",
   "execution_count": 19,
   "id": "f0da941a-e6bf-442f-9e95-7afd7c013a67",
   "metadata": {
    "tags": []
   },
   "outputs": [
    {
     "name": "stderr",
     "output_type": "stream",
     "text": [
      " 15%|█▍        | 4/27 [00:02<00:11,  1.95it/s]"
     ]
    },
    {
     "name": "stdout",
     "output_type": "stream",
     "text": [
      "last bets close timestamp is not found: {'currency_pair': 'XTZ-USD', 'target_dynamics': 1.0, 'bets_period': 21600, 'measure_period': 21600, 'liquidity_percent': 0.01, 'expiration_fee': 100000, 'measure_start_fee': 100000, 'next_at': 0}, using default timestamp = 1626904800\n"
     ]
    },
    {
     "name": "stderr",
     "output_type": "stream",
     "text": [
      " 19%|█▊        | 5/27 [00:02<00:11,  1.95it/s]"
     ]
    },
    {
     "name": "stdout",
     "output_type": "stream",
     "text": [
      "last bets close timestamp is not found: {'currency_pair': 'XTZ-USD', 'target_dynamics': 0.99, 'bets_period': 21600, 'measure_period': 21600, 'liquidity_percent': 0.02, 'expiration_fee': 100000, 'measure_start_fee': 100000, 'next_at': 0}, using default timestamp = 1626904800\n"
     ]
    },
    {
     "name": "stderr",
     "output_type": "stream",
     "text": [
      " 22%|██▏       | 6/27 [00:03<00:10,  1.95it/s]"
     ]
    },
    {
     "name": "stdout",
     "output_type": "stream",
     "text": [
      "last bets close timestamp is not found: {'currency_pair': 'XTZ-USD', 'target_dynamics': 1.01, 'bets_period': 21600, 'measure_period': 21600, 'liquidity_percent': 0.02, 'expiration_fee': 100000, 'measure_start_fee': 100000, 'next_at': 0}, using default timestamp = 1626904800\n"
     ]
    },
    {
     "name": "stderr",
     "output_type": "stream",
     "text": [
      " 26%|██▌       | 7/27 [00:03<00:10,  1.95it/s]"
     ]
    },
    {
     "name": "stdout",
     "output_type": "stream",
     "text": [
      "last bets close timestamp is not found: {'currency_pair': 'XTZ-USD', 'target_dynamics': 1.0, 'bets_period': 86400, 'measure_period': 86400, 'liquidity_percent': 0.01, 'expiration_fee': 100000, 'measure_start_fee': 100000, 'next_at': 0}, using default timestamp = 1626904800\n"
     ]
    },
    {
     "name": "stderr",
     "output_type": "stream",
     "text": [
      " 30%|██▉       | 8/27 [00:04<00:09,  1.97it/s]"
     ]
    },
    {
     "name": "stdout",
     "output_type": "stream",
     "text": [
      "last bets close timestamp is not found: {'currency_pair': 'XTZ-USD', 'target_dynamics': 0.99, 'bets_period': 86400, 'measure_period': 86400, 'liquidity_percent': 0.02, 'expiration_fee': 100000, 'measure_start_fee': 100000, 'next_at': 0}, using default timestamp = 1626904800\n"
     ]
    },
    {
     "name": "stderr",
     "output_type": "stream",
     "text": [
      " 33%|███▎      | 9/27 [00:04<00:09,  1.95it/s]"
     ]
    },
    {
     "name": "stdout",
     "output_type": "stream",
     "text": [
      "last bets close timestamp is not found: {'currency_pair': 'XTZ-USD', 'target_dynamics': 1.01, 'bets_period': 86400, 'measure_period': 86400, 'liquidity_percent': 0.02, 'expiration_fee': 100000, 'measure_start_fee': 100000, 'next_at': 0}, using default timestamp = 1626904800\n"
     ]
    },
    {
     "name": "stderr",
     "output_type": "stream",
     "text": [
      " 48%|████▊     | 13/27 [00:06<00:07,  1.97it/s]"
     ]
    },
    {
     "name": "stdout",
     "output_type": "stream",
     "text": [
      "last bets close timestamp is not found: {'currency_pair': 'BTC-USD', 'target_dynamics': 1.0, 'bets_period': 21600, 'measure_period': 21600, 'liquidity_percent': 0.01, 'expiration_fee': 100000, 'measure_start_fee': 100000, 'next_at': 0}, using default timestamp = 1626904800\n"
     ]
    },
    {
     "name": "stderr",
     "output_type": "stream",
     "text": [
      " 52%|█████▏    | 14/27 [00:07<00:06,  1.96it/s]"
     ]
    },
    {
     "name": "stdout",
     "output_type": "stream",
     "text": [
      "last bets close timestamp is not found: {'currency_pair': 'BTC-USD', 'target_dynamics': 0.99, 'bets_period': 21600, 'measure_period': 21600, 'liquidity_percent': 0.02, 'expiration_fee': 100000, 'measure_start_fee': 100000, 'next_at': 0}, using default timestamp = 1626904800\n"
     ]
    },
    {
     "name": "stderr",
     "output_type": "stream",
     "text": [
      " 56%|█████▌    | 15/27 [00:07<00:06,  1.97it/s]"
     ]
    },
    {
     "name": "stdout",
     "output_type": "stream",
     "text": [
      "last bets close timestamp is not found: {'currency_pair': 'BTC-USD', 'target_dynamics': 1.01, 'bets_period': 21600, 'measure_period': 21600, 'liquidity_percent': 0.02, 'expiration_fee': 100000, 'measure_start_fee': 100000, 'next_at': 0}, using default timestamp = 1626904800\n"
     ]
    },
    {
     "name": "stderr",
     "output_type": "stream",
     "text": [
      " 59%|█████▉    | 16/27 [00:08<00:05,  1.98it/s]"
     ]
    },
    {
     "name": "stdout",
     "output_type": "stream",
     "text": [
      "last bets close timestamp is not found: {'currency_pair': 'BTC-USD', 'target_dynamics': 1.0, 'bets_period': 86400, 'measure_period': 86400, 'liquidity_percent': 0.01, 'expiration_fee': 100000, 'measure_start_fee': 100000, 'next_at': 0}, using default timestamp = 1626904800\n"
     ]
    },
    {
     "name": "stderr",
     "output_type": "stream",
     "text": [
      " 63%|██████▎   | 17/27 [00:08<00:05,  1.94it/s]"
     ]
    },
    {
     "name": "stdout",
     "output_type": "stream",
     "text": [
      "last bets close timestamp is not found: {'currency_pair': 'BTC-USD', 'target_dynamics': 0.99, 'bets_period': 86400, 'measure_period': 86400, 'liquidity_percent': 0.02, 'expiration_fee': 100000, 'measure_start_fee': 100000, 'next_at': 0}, using default timestamp = 1626904800\n"
     ]
    },
    {
     "name": "stderr",
     "output_type": "stream",
     "text": [
      " 67%|██████▋   | 18/27 [00:09<00:04,  1.94it/s]"
     ]
    },
    {
     "name": "stdout",
     "output_type": "stream",
     "text": [
      "last bets close timestamp is not found: {'currency_pair': 'BTC-USD', 'target_dynamics': 1.01, 'bets_period': 86400, 'measure_period': 86400, 'liquidity_percent': 0.02, 'expiration_fee': 100000, 'measure_start_fee': 100000, 'next_at': 0}, using default timestamp = 1626904800\n"
     ]
    },
    {
     "name": "stderr",
     "output_type": "stream",
     "text": [
      " 81%|████████▏ | 22/27 [00:11<00:02,  1.95it/s]"
     ]
    },
    {
     "name": "stdout",
     "output_type": "stream",
     "text": [
      "last bets close timestamp is not found: {'currency_pair': 'ETH-USD', 'target_dynamics': 1.0, 'bets_period': 21600, 'measure_period': 21600, 'liquidity_percent': 0.01, 'expiration_fee': 100000, 'measure_start_fee': 100000, 'next_at': 0}, using default timestamp = 1626904800\n"
     ]
    },
    {
     "name": "stderr",
     "output_type": "stream",
     "text": [
      " 85%|████████▌ | 23/27 [00:11<00:02,  1.96it/s]"
     ]
    },
    {
     "name": "stdout",
     "output_type": "stream",
     "text": [
      "last bets close timestamp is not found: {'currency_pair': 'ETH-USD', 'target_dynamics': 0.99, 'bets_period': 21600, 'measure_period': 21600, 'liquidity_percent': 0.02, 'expiration_fee': 100000, 'measure_start_fee': 100000, 'next_at': 0}, using default timestamp = 1626904800\n"
     ]
    },
    {
     "name": "stderr",
     "output_type": "stream",
     "text": [
      " 89%|████████▉ | 24/27 [00:12<00:01,  1.95it/s]"
     ]
    },
    {
     "name": "stdout",
     "output_type": "stream",
     "text": [
      "last bets close timestamp is not found: {'currency_pair': 'ETH-USD', 'target_dynamics': 1.01, 'bets_period': 21600, 'measure_period': 21600, 'liquidity_percent': 0.02, 'expiration_fee': 100000, 'measure_start_fee': 100000, 'next_at': 0}, using default timestamp = 1626904800\n"
     ]
    },
    {
     "name": "stderr",
     "output_type": "stream",
     "text": [
      " 93%|█████████▎| 25/27 [00:12<00:01,  1.96it/s]"
     ]
    },
    {
     "name": "stdout",
     "output_type": "stream",
     "text": [
      "last bets close timestamp is not found: {'currency_pair': 'ETH-USD', 'target_dynamics': 1.0, 'bets_period': 86400, 'measure_period': 86400, 'liquidity_percent': 0.01, 'expiration_fee': 100000, 'measure_start_fee': 100000, 'next_at': 0}, using default timestamp = 1626904800\n"
     ]
    },
    {
     "name": "stderr",
     "output_type": "stream",
     "text": [
      " 96%|█████████▋| 26/27 [00:13<00:00,  1.94it/s]"
     ]
    },
    {
     "name": "stdout",
     "output_type": "stream",
     "text": [
      "last bets close timestamp is not found: {'currency_pair': 'ETH-USD', 'target_dynamics': 0.99, 'bets_period': 86400, 'measure_period': 86400, 'liquidity_percent': 0.02, 'expiration_fee': 100000, 'measure_start_fee': 100000, 'next_at': 0}, using default timestamp = 1626904800\n"
     ]
    },
    {
     "name": "stderr",
     "output_type": "stream",
     "text": [
      "100%|██████████| 27/27 [00:13<00:00,  1.95it/s]"
     ]
    },
    {
     "name": "stdout",
     "output_type": "stream",
     "text": [
      "last bets close timestamp is not found: {'currency_pair': 'ETH-USD', 'target_dynamics': 1.01, 'bets_period': 86400, 'measure_period': 86400, 'liquidity_percent': 0.02, 'expiration_fee': 100000, 'measure_start_fee': 100000, 'next_at': 0}, using default timestamp = 1626904800\n"
     ]
    },
    {
     "name": "stderr",
     "output_type": "stream",
     "text": [
      "\n"
     ]
    }
   ],
   "source": [
    "from tqdm import tqdm\n",
    "\n",
    "for params in tqdm(event_params):\n",
    "    params.update({\n",
    "        'next_at': get_last_bets_close_timestamp(\n",
    "            dd_client, params, next_hour_timestamp)\n",
    "    })"
   ]
  },
  {
   "cell_type": "markdown",
   "id": "55dec94c-175c-48cb-87ab-34a00dd06a47",
   "metadata": {},
   "source": [
    "### TODO: tests using mocked dipdup"
   ]
  },
  {
   "cell_type": "code",
   "execution_count": 20,
   "id": "4f2b1b19-b42a-406c-b87e-82850f539d26",
   "metadata": {},
   "outputs": [
    {
     "name": "stdout",
     "output_type": "stream",
     "text": [
      "last bets close timestamp is not found: {'currency_pair': 'XTZ-USD', 'target_dynamics': 1.0, 'bets_period': 21600, 'measure_period': 21600, 'liquidity_percent': 0.01, 'expiration_fee': 100000, 'measure_start_fee': 100000}, using default timestamp = 0\n"
     ]
    },
    {
     "data": {
      "text/plain": [
       "0"
      ]
     },
     "execution_count": 20,
     "metadata": {},
     "output_type": "execute_result"
    }
   ],
   "source": []
  },
  {
   "cell_type": "markdown",
   "id": "2a652e5f-0783-4352-bdf8-403c9d96761e",
   "metadata": {},
   "source": [
    "### TODO: maybe it is better not to have created date but the bets_close_time?\n",
    "- if measure_period == bets_close_time, then next event should be runned at measure_period time"
   ]
  },
  {
   "cell_type": "code",
   "execution_count": 10,
   "id": "7e015d4f-0062-45bc-b546-74abda7b1b30",
   "metadata": {},
   "outputs": [
    {
     "data": {
      "text/plain": [
       "1626901200.0"
      ]
     },
     "execution_count": 10,
     "metadata": {},
     "output_type": "execute_result"
    }
   ],
   "source": [
    "date.timestamp()"
   ]
  },
  {
   "cell_type": "markdown",
   "id": "98c0741b-9548-4ca6-aabe-2bb7da89daac",
   "metadata": {},
   "source": [
    "- можем ли мы проверять кто создавал ивенты? чтобы чужие ивенты не сдвигали нашу сетку?\n",
    "    - как-то бы валидировать список запрошенных ивентов и брать только наши\n",
    "- можем ли мы проверять время создания ивента? потому что сейчас у нас есть пара ивентов где measure_period 1800 которые висят в далёком будущем"
   ]
  },
  {
   "cell_type": "code",
   "execution_count": 48,
   "id": "ef50062a-b911-4bfd-81e2-39207bb55c48",
   "metadata": {},
   "outputs": [
    {
     "data": {
      "text/plain": [
       "{'currency_pair': 'XTZ-USD',\n",
       " 'target_dynamics': 3600,\n",
       " 'bets_period': 3600,\n",
       " 'measure_period': 3600,\n",
       " 'liquidity_percent': 10000,\n",
       " 'expiration_fee': 100000,\n",
       " 'measure_start_fee': 100000}"
      ]
     },
     "execution_count": 48,
     "metadata": {},
     "output_type": "execute_result"
    }
   ],
   "source": [
    "event_lines.event_params[0]"
   ]
  },
  {
   "cell_type": "code",
   "execution_count": 49,
   "id": "cd8a3fa6-ffe9-4c22-a95c-7a6ed9470414",
   "metadata": {
    "tags": []
   },
   "outputs": [
    {
     "ename": "SyntaxError",
     "evalue": "invalid syntax (<ipython-input-49-c97c57da31c6>, line 10)",
     "output_type": "error",
     "traceback": [
      "\u001b[0;36m  File \u001b[0;32m\"<ipython-input-49-c97c57da31c6>\"\u001b[0;36m, line \u001b[0;32m10\u001b[0m\n\u001b[0;31m    if not 'bets_period' in event else event['bets_period'])\u001b[0m\n\u001b[0m    ^\u001b[0m\n\u001b[0;31mSyntaxError\u001b[0m\u001b[0;31m:\u001b[0m invalid syntax\n"
     ]
    }
   ],
   "source": [
    "\n",
    "\n",
    "\n",
    "def event_type_name(event):\n",
    "    \"\"\" Returns event line name identifier for given event data\n",
    "        - supports both event from EventLines and event from dipdup\n",
    "    \"\"\"\n",
    "\n",
    "event = events[0]\n",
    "\n",
    "# bets_period calculated for data from juster-dipdup:\n",
    "bets_period = (\n",
    "    if not 'bets_period' in event else event['bets_period'])\n",
    "\n",
    "measure_period = event['measure_period']\n",
    "\n",
    "# currency_pair stored in 'symbol' key in juster-dipdup:\n",
    "currency_pair = event['currency_pair']\n",
    "currency_pair = currency_pair['symbol'] if 'symbol' in currency_pair"
   ]
  },
  {
   "cell_type": "markdown",
   "id": "961230e7-0c6c-4a81-b7cc-c8362b6200c9",
   "metadata": {},
   "source": [
    "### DipDup:\n",
    "1. Должен отвечать на вопрос, когда последний раз был создан ивент с определёнными параметрами\n",
    "2. Должен отвечать на вопрос, успешно ли был создан ивент с определёнными параметрами"
   ]
  },
  {
   "cell_type": "code",
   "execution_count": null,
   "id": "1a583861-fb59-4555-8c99-e2faac81ac7e",
   "metadata": {},
   "outputs": [],
   "source": [
    "\n",
    "\n",
    "def calculate_bets_period(event):\n",
    "    \"\"\" Returns bets period in seconds for given event requested\n",
    "        from dipdup\n",
    "    \"\"\"\n",
    "\n",
    "    bets_close_time = parse(event['bets_close_time'])\n",
    "    created_time = parse(event['created_time'])\n",
    "    return (bets_close_time - created_time).seconds\n",
    "\n",
    "\n",
    "class EventLine:\n",
    "    \"\"\" Represent one line of the events with the same type. Can be created\n",
    "        from dipdup response and from simplified dict that used to store this lines\n",
    "    \"\"\"\n",
    "\n",
    "    TARGET_RATE_PRECISION = 10**6\n",
    "\n",
    "\n",
    "    def __init__(self, currency_pair, measure_period, bets_period, target_rate):\n",
    "        self.currency_pair = currency_pair\n",
    "        self.measure_period = measure_period\n",
    "        self.bets_period = bets_period\n",
    "        self.target_rate = target_rate\n",
    "\n",
    "\n",
    "    @classmethod\n",
    "    def from_dipdup(cls, event):\n",
    "        return cls(\n",
    "            currency_pair=event['currency_pair']['symbol'],\n",
    "            measure_period=event['measure_period'],\n",
    "            bets_period=calculate_bets_period(event),\n",
    "            target_rate=int(event['target_rate']*self.TARGET_RATE_PRECISION)\n",
    "        )\n",
    "\n",
    "\n",
    "    @classmethod\n",
    "    def from_dict(cls, event):\n",
    "        return cls(\n",
    "            currency_pair=event['currency_pair'],\n",
    "            measure_period=event['measure_period'],\n",
    "            bets_period=event['bets_period'],\n",
    "            target_rate=event['target_rate']\n",
    "        )"
   ]
  },
  {
   "cell_type": "code",
   "execution_count": null,
   "id": "8583a296-e5fc-4f30-b84f-907071bbecda",
   "metadata": {},
   "outputs": [],
   "source": [
    "def dipdup_event_to_"
   ]
  },
  {
   "cell_type": "code",
   "execution_count": 44,
   "id": "8c6d2bfe-8c19-4ffd-ae8d-0e5433003327",
   "metadata": {},
   "outputs": [
    {
     "data": {
      "text/plain": [
       "0.0"
      ]
     },
     "execution_count": 44,
     "metadata": {},
     "output_type": "execute_result"
    }
   ],
   "source": [
    "event['target_dynamics']"
   ]
  },
  {
   "cell_type": "code",
   "execution_count": 42,
   "id": "10d62ef1-66f0-41c8-825d-13cd93613397",
   "metadata": {},
   "outputs": [
    {
     "ename": "NameError",
     "evalue": "name 'target_rate' is not defined",
     "output_type": "error",
     "traceback": [
      "\u001b[0;31m---------------------------------------------------------------------------\u001b[0m",
      "\u001b[0;31mNameError\u001b[0m                                 Traceback (most recent call last)",
      "\u001b[0;32m<ipython-input-42-5a0dfbc25376>\u001b[0m in \u001b[0;36m<module>\u001b[0;34m\u001b[0m\n\u001b[0;32m----> 1\u001b[0;31m \u001b[0;34mf'{currency_pair}_{measure_period}_{target_rate}'\u001b[0m\u001b[0;34m\u001b[0m\u001b[0;34m\u001b[0m\u001b[0m\n\u001b[0m",
      "\u001b[0;31mNameError\u001b[0m: name 'target_rate' is not defined"
     ]
    }
   ],
   "source": [
    "f'{currency_pair}_{measure_period}_{target_rate}'"
   ]
  },
  {
   "cell_type": "code",
   "execution_count": 15,
   "id": "6fd36ec2-1a83-49dd-9708-a1fe22702c60",
   "metadata": {},
   "outputs": [
    {
     "data": {
      "text/plain": [
       "{'created_time': '2021-07-04T19:05:58.051943+00:00',\n",
       " 'bets_close_time': '2021-08-02T13:20:00+00:00',\n",
       " 'id': 16,\n",
       " 'currency_pair': {'symbol': 'XTZ-USD'},\n",
       " 'measure_period': 1800,\n",
       " 'target_dynamics': 0.0}"
      ]
     },
     "execution_count": 15,
     "metadata": {},
     "output_type": "execute_result"
    }
   ],
   "source": [
    "event"
   ]
  },
  {
   "cell_type": "markdown",
   "id": "da212b03-4076-40bf-a3e3-f2eb31e7cc6e",
   "metadata": {},
   "source": [
    "### Определение времени когда ивенты были созданы в последний раз:"
   ]
  },
  {
   "cell_type": "code",
   "execution_count": null,
   "id": "0c2decbd-c6b5-4a79-9dd1-bf34629860b4",
   "metadata": {},
   "outputs": [],
   "source": []
  }
 ],
 "metadata": {
  "kernelspec": {
   "display_name": "Python 3",
   "language": "python",
   "name": "python3"
  },
  "language_info": {
   "codemirror_mode": {
    "name": "ipython",
    "version": 3
   },
   "file_extension": ".py",
   "mimetype": "text/x-python",
   "name": "python",
   "nbconvert_exporter": "python",
   "pygments_lexer": "ipython3",
   "version": "3.9.6"
  }
 },
 "nbformat": 4,
 "nbformat_minor": 5
}
