{
 "cells": [
  {
   "cell_type": "code",
   "execution_count": 1,
   "id": "2ce0b0d9-a582-4d2d-8086-9dafcd2a94f3",
   "metadata": {},
   "outputs": [],
   "source": [
    "from dipdup import JusterDipDupClient, get_last_bets_close_timestamp\n",
    "\n",
    "dd_client = JusterDipDupClient()"
   ]
  },
  {
   "cell_type": "markdown",
   "id": "5cd40560-273a-49b7-9a67-14cd746da342",
   "metadata": {},
   "source": [
    "### Analysing juster dipdup events data:"
   ]
  },
  {
   "cell_type": "code",
   "execution_count": 2,
   "id": "1210f992-005b-4fad-a88e-a92f87931490",
   "metadata": {},
   "outputs": [],
   "source": [
    "import pandas as pd\n",
    "\n",
    "all_events = dd_client.query_all_events()\n",
    "df = pd.json_normalize(all_events)"
   ]
  },
  {
   "cell_type": "code",
   "execution_count": 3,
   "id": "8346fba3-3078-4be4-adcf-81619bf06cca",
   "metadata": {},
   "outputs": [
    {
     "data": {
      "text/plain": [
       "Timestamp('2021-07-23 16:03:36.390453+0000', tz='tzutc()')"
      ]
     },
     "execution_count": 3,
     "metadata": {},
     "output_type": "execute_result"
    }
   ],
   "source": [
    "df.iloc[0].created_time"
   ]
  },
  {
   "cell_type": "code",
   "execution_count": 4,
   "id": "46bf111c-49fb-42f0-ac9e-ffacc5be7e44",
   "metadata": {},
   "outputs": [],
   "source": [
    "from time import time\n",
    "\n",
    "now = pd.Timestamp(time(), unit='s')"
   ]
  },
  {
   "cell_type": "markdown",
   "id": "0fee53fa-2579-414a-8950-d885023baff0",
   "metadata": {},
   "source": [
    "### TODO: this method does not show daily events:\n",
    "    - either replace request all events with requesting each line separately\n",
    "    - either increase dipdup events count limit"
   ]
  },
  {
   "cell_type": "code",
   "execution_count": 11,
   "id": "4ca2060b-6dda-449e-b7ac-7e9a098035a7",
   "metadata": {},
   "outputs": [
    {
     "data": {
      "text/html": [
       "<div>\n",
       "<style scoped>\n",
       "    .dataframe tbody tr th:only-of-type {\n",
       "        vertical-align: middle;\n",
       "    }\n",
       "\n",
       "    .dataframe tbody tr th {\n",
       "        vertical-align: top;\n",
       "    }\n",
       "\n",
       "    .dataframe thead th {\n",
       "        text-align: right;\n",
       "    }\n",
       "</style>\n",
       "<table border=\"1\" class=\"dataframe\">\n",
       "  <thead>\n",
       "    <tr style=\"text-align: right;\">\n",
       "      <th></th>\n",
       "      <th></th>\n",
       "      <th></th>\n",
       "      <th>creator_id</th>\n",
       "      <th>created_time</th>\n",
       "      <th>bets_close_time</th>\n",
       "      <th>id</th>\n",
       "      <th>pool_above_eq</th>\n",
       "      <th>pool_below</th>\n",
       "      <th>created_minutes_back</th>\n",
       "    </tr>\n",
       "    <tr>\n",
       "      <th>currency_pair.symbol</th>\n",
       "      <th>target_dynamics</th>\n",
       "      <th>measure_period</th>\n",
       "      <th></th>\n",
       "      <th></th>\n",
       "      <th></th>\n",
       "      <th></th>\n",
       "      <th></th>\n",
       "      <th></th>\n",
       "      <th></th>\n",
       "    </tr>\n",
       "  </thead>\n",
       "  <tbody>\n",
       "    <tr>\n",
       "      <th rowspan=\"6\" valign=\"top\">BTC-USD</th>\n",
       "      <th rowspan=\"2\" valign=\"top\">0.99</th>\n",
       "      <th>3600</th>\n",
       "      <td>tz1iQE8ijR5xVPffBUPFubwB9XQJuyD9qsoJ</td>\n",
       "      <td>2021-07-23 16:01:47.271626+00:00</td>\n",
       "      <td>2021-07-23 17:00:00+00:00</td>\n",
       "      <td>852</td>\n",
       "      <td>1.0</td>\n",
       "      <td>1.0</td>\n",
       "      <td>13.850000</td>\n",
       "    </tr>\n",
       "    <tr>\n",
       "      <th>21600</th>\n",
       "      <td>tz1iQE8ijR5xVPffBUPFubwB9XQJuyD9qsoJ</td>\n",
       "      <td>2021-07-23 16:03:36.371843+00:00</td>\n",
       "      <td>2021-07-23 22:00:00+00:00</td>\n",
       "      <td>855</td>\n",
       "      <td>1.0</td>\n",
       "      <td>1.0</td>\n",
       "      <td>12.033333</td>\n",
       "    </tr>\n",
       "    <tr>\n",
       "      <th rowspan=\"2\" valign=\"top\">1.00</th>\n",
       "      <th>3600</th>\n",
       "      <td>tz1iQE8ijR5xVPffBUPFubwB9XQJuyD9qsoJ</td>\n",
       "      <td>2021-07-23 16:01:47.268299+00:00</td>\n",
       "      <td>2021-07-23 17:00:00+00:00</td>\n",
       "      <td>851</td>\n",
       "      <td>1.0</td>\n",
       "      <td>1.0</td>\n",
       "      <td>13.850000</td>\n",
       "    </tr>\n",
       "    <tr>\n",
       "      <th>21600</th>\n",
       "      <td>tz1iQE8ijR5xVPffBUPFubwB9XQJuyD9qsoJ</td>\n",
       "      <td>2021-07-23 16:01:47.277818+00:00</td>\n",
       "      <td>2021-07-23 22:00:00+00:00</td>\n",
       "      <td>854</td>\n",
       "      <td>1.0</td>\n",
       "      <td>1.0</td>\n",
       "      <td>13.850000</td>\n",
       "    </tr>\n",
       "    <tr>\n",
       "      <th rowspan=\"2\" valign=\"top\">1.01</th>\n",
       "      <th>3600</th>\n",
       "      <td>tz1iQE8ijR5xVPffBUPFubwB9XQJuyD9qsoJ</td>\n",
       "      <td>2021-07-23 16:01:47.274817+00:00</td>\n",
       "      <td>2021-07-23 17:00:00+00:00</td>\n",
       "      <td>853</td>\n",
       "      <td>1.0</td>\n",
       "      <td>1.0</td>\n",
       "      <td>13.850000</td>\n",
       "    </tr>\n",
       "    <tr>\n",
       "      <th>21600</th>\n",
       "      <td>tz1iQE8ijR5xVPffBUPFubwB9XQJuyD9qsoJ</td>\n",
       "      <td>2021-07-23 16:03:36.374987+00:00</td>\n",
       "      <td>2021-07-23 22:00:00+00:00</td>\n",
       "      <td>856</td>\n",
       "      <td>1.0</td>\n",
       "      <td>1.0</td>\n",
       "      <td>12.033333</td>\n",
       "    </tr>\n",
       "    <tr>\n",
       "      <th rowspan=\"6\" valign=\"top\">ETH-USD</th>\n",
       "      <th rowspan=\"2\" valign=\"top\">0.99</th>\n",
       "      <th>3600</th>\n",
       "      <td>tz1iQE8ijR5xVPffBUPFubwB9XQJuyD9qsoJ</td>\n",
       "      <td>2021-07-23 16:03:36.380229+00:00</td>\n",
       "      <td>2021-07-23 17:00:00+00:00</td>\n",
       "      <td>858</td>\n",
       "      <td>1.0</td>\n",
       "      <td>1.0</td>\n",
       "      <td>12.033333</td>\n",
       "    </tr>\n",
       "    <tr>\n",
       "      <th>21600</th>\n",
       "      <td>tz1iQE8ijR5xVPffBUPFubwB9XQJuyD9qsoJ</td>\n",
       "      <td>2021-07-23 16:03:36.387887+00:00</td>\n",
       "      <td>2021-07-23 22:00:00+00:00</td>\n",
       "      <td>861</td>\n",
       "      <td>1.0</td>\n",
       "      <td>1.0</td>\n",
       "      <td>12.033333</td>\n",
       "    </tr>\n",
       "    <tr>\n",
       "      <th rowspan=\"2\" valign=\"top\">1.00</th>\n",
       "      <th>3600</th>\n",
       "      <td>tz1iQE8ijR5xVPffBUPFubwB9XQJuyD9qsoJ</td>\n",
       "      <td>2021-07-23 16:03:36.377605+00:00</td>\n",
       "      <td>2021-07-23 17:00:00+00:00</td>\n",
       "      <td>857</td>\n",
       "      <td>1.0</td>\n",
       "      <td>1.0</td>\n",
       "      <td>12.033333</td>\n",
       "    </tr>\n",
       "    <tr>\n",
       "      <th>21600</th>\n",
       "      <td>tz1iQE8ijR5xVPffBUPFubwB9XQJuyD9qsoJ</td>\n",
       "      <td>2021-07-23 16:03:36.385362+00:00</td>\n",
       "      <td>2021-07-23 22:00:00+00:00</td>\n",
       "      <td>860</td>\n",
       "      <td>1.0</td>\n",
       "      <td>1.0</td>\n",
       "      <td>12.033333</td>\n",
       "    </tr>\n",
       "    <tr>\n",
       "      <th rowspan=\"2\" valign=\"top\">1.01</th>\n",
       "      <th>3600</th>\n",
       "      <td>tz1iQE8ijR5xVPffBUPFubwB9XQJuyD9qsoJ</td>\n",
       "      <td>2021-07-23 16:03:36.382812+00:00</td>\n",
       "      <td>2021-07-23 17:00:00+00:00</td>\n",
       "      <td>859</td>\n",
       "      <td>1.0</td>\n",
       "      <td>1.0</td>\n",
       "      <td>12.033333</td>\n",
       "    </tr>\n",
       "    <tr>\n",
       "      <th>21600</th>\n",
       "      <td>tz1iQE8ijR5xVPffBUPFubwB9XQJuyD9qsoJ</td>\n",
       "      <td>2021-07-23 16:03:36.390453+00:00</td>\n",
       "      <td>2021-07-23 22:00:00+00:00</td>\n",
       "      <td>862</td>\n",
       "      <td>1.0</td>\n",
       "      <td>1.0</td>\n",
       "      <td>12.033333</td>\n",
       "    </tr>\n",
       "    <tr>\n",
       "      <th rowspan=\"6\" valign=\"top\">XTZ-USD</th>\n",
       "      <th rowspan=\"2\" valign=\"top\">0.99</th>\n",
       "      <th>3600</th>\n",
       "      <td>tz1iQE8ijR5xVPffBUPFubwB9XQJuyD9qsoJ</td>\n",
       "      <td>2021-07-23 16:01:47.253229+00:00</td>\n",
       "      <td>2021-07-23 17:00:00+00:00</td>\n",
       "      <td>846</td>\n",
       "      <td>1.0</td>\n",
       "      <td>1.0</td>\n",
       "      <td>13.866667</td>\n",
       "    </tr>\n",
       "    <tr>\n",
       "      <th>21600</th>\n",
       "      <td>tz1iQE8ijR5xVPffBUPFubwB9XQJuyD9qsoJ</td>\n",
       "      <td>2021-07-23 16:01:47.262158+00:00</td>\n",
       "      <td>2021-07-23 22:00:00+00:00</td>\n",
       "      <td>849</td>\n",
       "      <td>1.0</td>\n",
       "      <td>1.0</td>\n",
       "      <td>13.850000</td>\n",
       "    </tr>\n",
       "    <tr>\n",
       "      <th rowspan=\"2\" valign=\"top\">1.00</th>\n",
       "      <th>3600</th>\n",
       "      <td>tz1iQE8ijR5xVPffBUPFubwB9XQJuyD9qsoJ</td>\n",
       "      <td>2021-07-23 16:01:47.249376+00:00</td>\n",
       "      <td>2021-07-23 17:00:00+00:00</td>\n",
       "      <td>845</td>\n",
       "      <td>1.0</td>\n",
       "      <td>1.0</td>\n",
       "      <td>13.866667</td>\n",
       "    </tr>\n",
       "    <tr>\n",
       "      <th>21600</th>\n",
       "      <td>tz1iQE8ijR5xVPffBUPFubwB9XQJuyD9qsoJ</td>\n",
       "      <td>2021-07-23 16:01:47.259147+00:00</td>\n",
       "      <td>2021-07-23 22:00:00+00:00</td>\n",
       "      <td>848</td>\n",
       "      <td>1.0</td>\n",
       "      <td>1.0</td>\n",
       "      <td>13.850000</td>\n",
       "    </tr>\n",
       "    <tr>\n",
       "      <th rowspan=\"2\" valign=\"top\">1.01</th>\n",
       "      <th>3600</th>\n",
       "      <td>tz1iQE8ijR5xVPffBUPFubwB9XQJuyD9qsoJ</td>\n",
       "      <td>2021-07-23 16:01:47.255980+00:00</td>\n",
       "      <td>2021-07-23 17:00:00+00:00</td>\n",
       "      <td>847</td>\n",
       "      <td>1.0</td>\n",
       "      <td>1.0</td>\n",
       "      <td>13.850000</td>\n",
       "    </tr>\n",
       "    <tr>\n",
       "      <th>21600</th>\n",
       "      <td>tz1iQE8ijR5xVPffBUPFubwB9XQJuyD9qsoJ</td>\n",
       "      <td>2021-07-23 16:01:47.265216+00:00</td>\n",
       "      <td>2021-07-23 22:00:00+00:00</td>\n",
       "      <td>850</td>\n",
       "      <td>1.0</td>\n",
       "      <td>1.0</td>\n",
       "      <td>13.850000</td>\n",
       "    </tr>\n",
       "  </tbody>\n",
       "</table>\n",
       "</div>"
      ],
      "text/plain": [
       "                                                                               creator_id  \\\n",
       "currency_pair.symbol target_dynamics measure_period                                         \n",
       "BTC-USD              0.99            3600            tz1iQE8ijR5xVPffBUPFubwB9XQJuyD9qsoJ   \n",
       "                                     21600           tz1iQE8ijR5xVPffBUPFubwB9XQJuyD9qsoJ   \n",
       "                     1.00            3600            tz1iQE8ijR5xVPffBUPFubwB9XQJuyD9qsoJ   \n",
       "                                     21600           tz1iQE8ijR5xVPffBUPFubwB9XQJuyD9qsoJ   \n",
       "                     1.01            3600            tz1iQE8ijR5xVPffBUPFubwB9XQJuyD9qsoJ   \n",
       "                                     21600           tz1iQE8ijR5xVPffBUPFubwB9XQJuyD9qsoJ   \n",
       "ETH-USD              0.99            3600            tz1iQE8ijR5xVPffBUPFubwB9XQJuyD9qsoJ   \n",
       "                                     21600           tz1iQE8ijR5xVPffBUPFubwB9XQJuyD9qsoJ   \n",
       "                     1.00            3600            tz1iQE8ijR5xVPffBUPFubwB9XQJuyD9qsoJ   \n",
       "                                     21600           tz1iQE8ijR5xVPffBUPFubwB9XQJuyD9qsoJ   \n",
       "                     1.01            3600            tz1iQE8ijR5xVPffBUPFubwB9XQJuyD9qsoJ   \n",
       "                                     21600           tz1iQE8ijR5xVPffBUPFubwB9XQJuyD9qsoJ   \n",
       "XTZ-USD              0.99            3600            tz1iQE8ijR5xVPffBUPFubwB9XQJuyD9qsoJ   \n",
       "                                     21600           tz1iQE8ijR5xVPffBUPFubwB9XQJuyD9qsoJ   \n",
       "                     1.00            3600            tz1iQE8ijR5xVPffBUPFubwB9XQJuyD9qsoJ   \n",
       "                                     21600           tz1iQE8ijR5xVPffBUPFubwB9XQJuyD9qsoJ   \n",
       "                     1.01            3600            tz1iQE8ijR5xVPffBUPFubwB9XQJuyD9qsoJ   \n",
       "                                     21600           tz1iQE8ijR5xVPffBUPFubwB9XQJuyD9qsoJ   \n",
       "\n",
       "                                                                        created_time  \\\n",
       "currency_pair.symbol target_dynamics measure_period                                    \n",
       "BTC-USD              0.99            3600           2021-07-23 16:01:47.271626+00:00   \n",
       "                                     21600          2021-07-23 16:03:36.371843+00:00   \n",
       "                     1.00            3600           2021-07-23 16:01:47.268299+00:00   \n",
       "                                     21600          2021-07-23 16:01:47.277818+00:00   \n",
       "                     1.01            3600           2021-07-23 16:01:47.274817+00:00   \n",
       "                                     21600          2021-07-23 16:03:36.374987+00:00   \n",
       "ETH-USD              0.99            3600           2021-07-23 16:03:36.380229+00:00   \n",
       "                                     21600          2021-07-23 16:03:36.387887+00:00   \n",
       "                     1.00            3600           2021-07-23 16:03:36.377605+00:00   \n",
       "                                     21600          2021-07-23 16:03:36.385362+00:00   \n",
       "                     1.01            3600           2021-07-23 16:03:36.382812+00:00   \n",
       "                                     21600          2021-07-23 16:03:36.390453+00:00   \n",
       "XTZ-USD              0.99            3600           2021-07-23 16:01:47.253229+00:00   \n",
       "                                     21600          2021-07-23 16:01:47.262158+00:00   \n",
       "                     1.00            3600           2021-07-23 16:01:47.249376+00:00   \n",
       "                                     21600          2021-07-23 16:01:47.259147+00:00   \n",
       "                     1.01            3600           2021-07-23 16:01:47.255980+00:00   \n",
       "                                     21600          2021-07-23 16:01:47.265216+00:00   \n",
       "\n",
       "                                                              bets_close_time  \\\n",
       "currency_pair.symbol target_dynamics measure_period                             \n",
       "BTC-USD              0.99            3600           2021-07-23 17:00:00+00:00   \n",
       "                                     21600          2021-07-23 22:00:00+00:00   \n",
       "                     1.00            3600           2021-07-23 17:00:00+00:00   \n",
       "                                     21600          2021-07-23 22:00:00+00:00   \n",
       "                     1.01            3600           2021-07-23 17:00:00+00:00   \n",
       "                                     21600          2021-07-23 22:00:00+00:00   \n",
       "ETH-USD              0.99            3600           2021-07-23 17:00:00+00:00   \n",
       "                                     21600          2021-07-23 22:00:00+00:00   \n",
       "                     1.00            3600           2021-07-23 17:00:00+00:00   \n",
       "                                     21600          2021-07-23 22:00:00+00:00   \n",
       "                     1.01            3600           2021-07-23 17:00:00+00:00   \n",
       "                                     21600          2021-07-23 22:00:00+00:00   \n",
       "XTZ-USD              0.99            3600           2021-07-23 17:00:00+00:00   \n",
       "                                     21600          2021-07-23 22:00:00+00:00   \n",
       "                     1.00            3600           2021-07-23 17:00:00+00:00   \n",
       "                                     21600          2021-07-23 22:00:00+00:00   \n",
       "                     1.01            3600           2021-07-23 17:00:00+00:00   \n",
       "                                     21600          2021-07-23 22:00:00+00:00   \n",
       "\n",
       "                                                      id  pool_above_eq  \\\n",
       "currency_pair.symbol target_dynamics measure_period                       \n",
       "BTC-USD              0.99            3600            852            1.0   \n",
       "                                     21600           855            1.0   \n",
       "                     1.00            3600            851            1.0   \n",
       "                                     21600           854            1.0   \n",
       "                     1.01            3600            853            1.0   \n",
       "                                     21600           856            1.0   \n",
       "ETH-USD              0.99            3600            858            1.0   \n",
       "                                     21600           861            1.0   \n",
       "                     1.00            3600            857            1.0   \n",
       "                                     21600           860            1.0   \n",
       "                     1.01            3600            859            1.0   \n",
       "                                     21600           862            1.0   \n",
       "XTZ-USD              0.99            3600            846            1.0   \n",
       "                                     21600           849            1.0   \n",
       "                     1.00            3600            845            1.0   \n",
       "                                     21600           848            1.0   \n",
       "                     1.01            3600            847            1.0   \n",
       "                                     21600           850            1.0   \n",
       "\n",
       "                                                     pool_below  \\\n",
       "currency_pair.symbol target_dynamics measure_period               \n",
       "BTC-USD              0.99            3600                   1.0   \n",
       "                                     21600                  1.0   \n",
       "                     1.00            3600                   1.0   \n",
       "                                     21600                  1.0   \n",
       "                     1.01            3600                   1.0   \n",
       "                                     21600                  1.0   \n",
       "ETH-USD              0.99            3600                   1.0   \n",
       "                                     21600                  1.0   \n",
       "                     1.00            3600                   1.0   \n",
       "                                     21600                  1.0   \n",
       "                     1.01            3600                   1.0   \n",
       "                                     21600                  1.0   \n",
       "XTZ-USD              0.99            3600                   1.0   \n",
       "                                     21600                  1.0   \n",
       "                     1.00            3600                   1.0   \n",
       "                                     21600                  1.0   \n",
       "                     1.01            3600                   1.0   \n",
       "                                     21600                  1.0   \n",
       "\n",
       "                                                     created_minutes_back  \n",
       "currency_pair.symbol target_dynamics measure_period                        \n",
       "BTC-USD              0.99            3600                       13.850000  \n",
       "                                     21600                      12.033333  \n",
       "                     1.00            3600                       13.850000  \n",
       "                                     21600                      13.850000  \n",
       "                     1.01            3600                       13.850000  \n",
       "                                     21600                      12.033333  \n",
       "ETH-USD              0.99            3600                       12.033333  \n",
       "                                     21600                      12.033333  \n",
       "                     1.00            3600                       12.033333  \n",
       "                                     21600                      12.033333  \n",
       "                     1.01            3600                       12.033333  \n",
       "                                     21600                      12.033333  \n",
       "XTZ-USD              0.99            3600                       13.866667  \n",
       "                                     21600                      13.850000  \n",
       "                     1.00            3600                       13.866667  \n",
       "                                     21600                      13.850000  \n",
       "                     1.01            3600                       13.850000  \n",
       "                                     21600                      13.850000  "
      ]
     },
     "execution_count": 11,
     "metadata": {},
     "output_type": "execute_result"
    }
   ],
   "source": [
    "curated_events = df[\n",
    "    df['measure_period'].isin([3600, 21600, 86400])\n",
    "    & df.target_dynamics.isin([1, 0.99, 1.01])\n",
    "]\n",
    "\n",
    "groupby = ['currency_pair.symbol', 'target_dynamics', 'measure_period']\n",
    "\n",
    "last_event_stats = curated_events.sort_values('created_time').groupby(groupby).last()\n",
    "\n",
    "last_event_stats['created_minutes_back'] = last_event_stats['created_time'].dt.tz_localize(None).map(\n",
    "    lambda x: (now - x).seconds / 60)\n",
    "\n",
    "last_event_stats"
   ]
  },
  {
   "cell_type": "code",
   "execution_count": 36,
   "id": "61784cef-7df6-4559-868c-3739303d6b08",
   "metadata": {},
   "outputs": [
    {
     "data": {
      "text/html": [
       "<div>\n",
       "<style scoped>\n",
       "    .dataframe tbody tr th:only-of-type {\n",
       "        vertical-align: middle;\n",
       "    }\n",
       "\n",
       "    .dataframe tbody tr th {\n",
       "        vertical-align: top;\n",
       "    }\n",
       "\n",
       "    .dataframe thead th {\n",
       "        text-align: right;\n",
       "    }\n",
       "</style>\n",
       "<table border=\"1\" class=\"dataframe\">\n",
       "  <thead>\n",
       "    <tr style=\"text-align: right;\">\n",
       "      <th></th>\n",
       "      <th>created_time</th>\n",
       "      <th>bets_close_time</th>\n",
       "      <th>id</th>\n",
       "      <th>measure_period</th>\n",
       "      <th>target_dynamics</th>\n",
       "      <th>currency_pair.symbol</th>\n",
       "    </tr>\n",
       "  </thead>\n",
       "  <tbody>\n",
       "    <tr>\n",
       "      <th>95</th>\n",
       "      <td>2021-07-22T13:01:24.444504+00:00</td>\n",
       "      <td>2021-07-22T14:00:00+00:00</td>\n",
       "      <td>557</td>\n",
       "      <td>3600</td>\n",
       "      <td>1.0</td>\n",
       "      <td>XTZ-USD</td>\n",
       "    </tr>\n",
       "    <tr>\n",
       "      <th>88</th>\n",
       "      <td>2021-07-22T14:01:38.648273+00:00</td>\n",
       "      <td>2021-07-22T15:00:00+00:00</td>\n",
       "      <td>566</td>\n",
       "      <td>3600</td>\n",
       "      <td>1.0</td>\n",
       "      <td>XTZ-USD</td>\n",
       "    </tr>\n",
       "    <tr>\n",
       "      <th>72</th>\n",
       "      <td>2021-07-22T15:01:26.414354+00:00</td>\n",
       "      <td>2021-07-22T16:00:00+00:00</td>\n",
       "      <td>575</td>\n",
       "      <td>3600</td>\n",
       "      <td>1.0</td>\n",
       "      <td>XTZ-USD</td>\n",
       "    </tr>\n",
       "    <tr>\n",
       "      <th>62</th>\n",
       "      <td>2021-07-22T16:01:47.56456+00:00</td>\n",
       "      <td>2021-07-22T17:00:00+00:00</td>\n",
       "      <td>584</td>\n",
       "      <td>3600</td>\n",
       "      <td>1.0</td>\n",
       "      <td>XTZ-USD</td>\n",
       "    </tr>\n",
       "    <tr>\n",
       "      <th>53</th>\n",
       "      <td>2021-07-22T17:02:16.557068+00:00</td>\n",
       "      <td>2021-07-22T18:00:00+00:00</td>\n",
       "      <td>602</td>\n",
       "      <td>3600</td>\n",
       "      <td>1.0</td>\n",
       "      <td>XTZ-USD</td>\n",
       "    </tr>\n",
       "    <tr>\n",
       "      <th>42</th>\n",
       "      <td>2021-07-22T18:01:29.892033+00:00</td>\n",
       "      <td>2021-07-22T19:00:00+00:00</td>\n",
       "      <td>611</td>\n",
       "      <td>3600</td>\n",
       "      <td>1.0</td>\n",
       "      <td>XTZ-USD</td>\n",
       "    </tr>\n",
       "    <tr>\n",
       "      <th>31</th>\n",
       "      <td>2021-07-22T19:02:24.015572+00:00</td>\n",
       "      <td>2021-07-22T20:00:00+00:00</td>\n",
       "      <td>620</td>\n",
       "      <td>3600</td>\n",
       "      <td>1.0</td>\n",
       "      <td>XTZ-USD</td>\n",
       "    </tr>\n",
       "    <tr>\n",
       "      <th>22</th>\n",
       "      <td>2021-07-22T20:01:10.445438+00:00</td>\n",
       "      <td>2021-07-22T21:00:00+00:00</td>\n",
       "      <td>629</td>\n",
       "      <td>3600</td>\n",
       "      <td>1.0</td>\n",
       "      <td>XTZ-USD</td>\n",
       "    </tr>\n",
       "  </tbody>\n",
       "</table>\n",
       "</div>"
      ],
      "text/plain": [
       "                        created_time            bets_close_time   id  \\\n",
       "95  2021-07-22T13:01:24.444504+00:00  2021-07-22T14:00:00+00:00  557   \n",
       "88  2021-07-22T14:01:38.648273+00:00  2021-07-22T15:00:00+00:00  566   \n",
       "72  2021-07-22T15:01:26.414354+00:00  2021-07-22T16:00:00+00:00  575   \n",
       "62   2021-07-22T16:01:47.56456+00:00  2021-07-22T17:00:00+00:00  584   \n",
       "53  2021-07-22T17:02:16.557068+00:00  2021-07-22T18:00:00+00:00  602   \n",
       "42  2021-07-22T18:01:29.892033+00:00  2021-07-22T19:00:00+00:00  611   \n",
       "31  2021-07-22T19:02:24.015572+00:00  2021-07-22T20:00:00+00:00  620   \n",
       "22  2021-07-22T20:01:10.445438+00:00  2021-07-22T21:00:00+00:00  629   \n",
       "\n",
       "    measure_period  target_dynamics currency_pair.symbol  \n",
       "95            3600              1.0              XTZ-USD  \n",
       "88            3600              1.0              XTZ-USD  \n",
       "72            3600              1.0              XTZ-USD  \n",
       "62            3600              1.0              XTZ-USD  \n",
       "53            3600              1.0              XTZ-USD  \n",
       "42            3600              1.0              XTZ-USD  \n",
       "31            3600              1.0              XTZ-USD  \n",
       "22            3600              1.0              XTZ-USD  "
      ]
     },
     "execution_count": 36,
     "metadata": {},
     "output_type": "execute_result"
    }
   ],
   "source": [
    "df[\n",
    "    (df['currency_pair.symbol'] == 'XTZ-USD')\n",
    "    & (df['target_dynamics'] == 1.00)\n",
    "    & (df['measure_period'] == 3600)\n",
    "].sort_values('created_time')"
   ]
  },
  {
   "cell_type": "markdown",
   "id": "0460d49a-a06f-402c-9ea1-86c93342421a",
   "metadata": {},
   "source": [
    "### TODO: по каждой линейке делать отдельный запрос в dipdup и обрабатывать ответ чтобы получить ответ на вопросы\n",
    "- успешно создано ли событие\n",
    "- когда было создано последнее\n"
   ]
  },
  {
   "cell_type": "code",
   "execution_count": 3,
   "id": "8b393d95-7663-4e11-9c7a-424bcf4281e3",
   "metadata": {},
   "outputs": [],
   "source": [
    "from event_lines import EventLines\n",
    "\n",
    "event_lines = EventLines()\n",
    "event_params = event_lines.generate_new()"
   ]
  },
  {
   "cell_type": "code",
   "execution_count": 18,
   "id": "26a3d2b1-e3fc-4a36-97c2-47ae1056659e",
   "metadata": {},
   "outputs": [
    {
     "data": {
      "text/plain": [
       "'2021-07-22 01:00:00'"
      ]
     },
     "execution_count": 18,
     "metadata": {},
     "output_type": "execute_result"
    }
   ],
   "source": [
    "import time\n",
    "from datetime import datetime\n",
    "\n",
    "next_hour_timestamp = int((time.time() // 3600 + 1) * 3600)\n",
    "datetime.fromtimestamp(next_hour_timestamp).strftime('%Y-%m-%d %H:%M:%S')"
   ]
  },
  {
   "cell_type": "code",
   "execution_count": 19,
   "id": "f0da941a-e6bf-442f-9e95-7afd7c013a67",
   "metadata": {
    "tags": []
   },
   "outputs": [
    {
     "name": "stderr",
     "output_type": "stream",
     "text": [
      " 15%|█▍        | 4/27 [00:02<00:11,  1.95it/s]"
     ]
    },
    {
     "name": "stdout",
     "output_type": "stream",
     "text": [
      "last bets close timestamp is not found: {'currency_pair': 'XTZ-USD', 'target_dynamics': 1.0, 'bets_period': 21600, 'measure_period': 21600, 'liquidity_percent': 0.01, 'expiration_fee': 100000, 'measure_start_fee': 100000, 'next_at': 0}, using default timestamp = 1626904800\n"
     ]
    },
    {
     "name": "stderr",
     "output_type": "stream",
     "text": [
      " 19%|█▊        | 5/27 [00:02<00:11,  1.95it/s]"
     ]
    },
    {
     "name": "stdout",
     "output_type": "stream",
     "text": [
      "last bets close timestamp is not found: {'currency_pair': 'XTZ-USD', 'target_dynamics': 0.99, 'bets_period': 21600, 'measure_period': 21600, 'liquidity_percent': 0.02, 'expiration_fee': 100000, 'measure_start_fee': 100000, 'next_at': 0}, using default timestamp = 1626904800\n"
     ]
    },
    {
     "name": "stderr",
     "output_type": "stream",
     "text": [
      " 22%|██▏       | 6/27 [00:03<00:10,  1.95it/s]"
     ]
    },
    {
     "name": "stdout",
     "output_type": "stream",
     "text": [
      "last bets close timestamp is not found: {'currency_pair': 'XTZ-USD', 'target_dynamics': 1.01, 'bets_period': 21600, 'measure_period': 21600, 'liquidity_percent': 0.02, 'expiration_fee': 100000, 'measure_start_fee': 100000, 'next_at': 0}, using default timestamp = 1626904800\n"
     ]
    },
    {
     "name": "stderr",
     "output_type": "stream",
     "text": [
      " 26%|██▌       | 7/27 [00:03<00:10,  1.95it/s]"
     ]
    },
    {
     "name": "stdout",
     "output_type": "stream",
     "text": [
      "last bets close timestamp is not found: {'currency_pair': 'XTZ-USD', 'target_dynamics': 1.0, 'bets_period': 86400, 'measure_period': 86400, 'liquidity_percent': 0.01, 'expiration_fee': 100000, 'measure_start_fee': 100000, 'next_at': 0}, using default timestamp = 1626904800\n"
     ]
    },
    {
     "name": "stderr",
     "output_type": "stream",
     "text": [
      " 30%|██▉       | 8/27 [00:04<00:09,  1.97it/s]"
     ]
    },
    {
     "name": "stdout",
     "output_type": "stream",
     "text": [
      "last bets close timestamp is not found: {'currency_pair': 'XTZ-USD', 'target_dynamics': 0.99, 'bets_period': 86400, 'measure_period': 86400, 'liquidity_percent': 0.02, 'expiration_fee': 100000, 'measure_start_fee': 100000, 'next_at': 0}, using default timestamp = 1626904800\n"
     ]
    },
    {
     "name": "stderr",
     "output_type": "stream",
     "text": [
      " 33%|███▎      | 9/27 [00:04<00:09,  1.95it/s]"
     ]
    },
    {
     "name": "stdout",
     "output_type": "stream",
     "text": [
      "last bets close timestamp is not found: {'currency_pair': 'XTZ-USD', 'target_dynamics': 1.01, 'bets_period': 86400, 'measure_period': 86400, 'liquidity_percent': 0.02, 'expiration_fee': 100000, 'measure_start_fee': 100000, 'next_at': 0}, using default timestamp = 1626904800\n"
     ]
    },
    {
     "name": "stderr",
     "output_type": "stream",
     "text": [
      " 48%|████▊     | 13/27 [00:06<00:07,  1.97it/s]"
     ]
    },
    {
     "name": "stdout",
     "output_type": "stream",
     "text": [
      "last bets close timestamp is not found: {'currency_pair': 'BTC-USD', 'target_dynamics': 1.0, 'bets_period': 21600, 'measure_period': 21600, 'liquidity_percent': 0.01, 'expiration_fee': 100000, 'measure_start_fee': 100000, 'next_at': 0}, using default timestamp = 1626904800\n"
     ]
    },
    {
     "name": "stderr",
     "output_type": "stream",
     "text": [
      " 52%|█████▏    | 14/27 [00:07<00:06,  1.96it/s]"
     ]
    },
    {
     "name": "stdout",
     "output_type": "stream",
     "text": [
      "last bets close timestamp is not found: {'currency_pair': 'BTC-USD', 'target_dynamics': 0.99, 'bets_period': 21600, 'measure_period': 21600, 'liquidity_percent': 0.02, 'expiration_fee': 100000, 'measure_start_fee': 100000, 'next_at': 0}, using default timestamp = 1626904800\n"
     ]
    },
    {
     "name": "stderr",
     "output_type": "stream",
     "text": [
      " 56%|█████▌    | 15/27 [00:07<00:06,  1.97it/s]"
     ]
    },
    {
     "name": "stdout",
     "output_type": "stream",
     "text": [
      "last bets close timestamp is not found: {'currency_pair': 'BTC-USD', 'target_dynamics': 1.01, 'bets_period': 21600, 'measure_period': 21600, 'liquidity_percent': 0.02, 'expiration_fee': 100000, 'measure_start_fee': 100000, 'next_at': 0}, using default timestamp = 1626904800\n"
     ]
    },
    {
     "name": "stderr",
     "output_type": "stream",
     "text": [
      " 59%|█████▉    | 16/27 [00:08<00:05,  1.98it/s]"
     ]
    },
    {
     "name": "stdout",
     "output_type": "stream",
     "text": [
      "last bets close timestamp is not found: {'currency_pair': 'BTC-USD', 'target_dynamics': 1.0, 'bets_period': 86400, 'measure_period': 86400, 'liquidity_percent': 0.01, 'expiration_fee': 100000, 'measure_start_fee': 100000, 'next_at': 0}, using default timestamp = 1626904800\n"
     ]
    },
    {
     "name": "stderr",
     "output_type": "stream",
     "text": [
      " 63%|██████▎   | 17/27 [00:08<00:05,  1.94it/s]"
     ]
    },
    {
     "name": "stdout",
     "output_type": "stream",
     "text": [
      "last bets close timestamp is not found: {'currency_pair': 'BTC-USD', 'target_dynamics': 0.99, 'bets_period': 86400, 'measure_period': 86400, 'liquidity_percent': 0.02, 'expiration_fee': 100000, 'measure_start_fee': 100000, 'next_at': 0}, using default timestamp = 1626904800\n"
     ]
    },
    {
     "name": "stderr",
     "output_type": "stream",
     "text": [
      " 67%|██████▋   | 18/27 [00:09<00:04,  1.94it/s]"
     ]
    },
    {
     "name": "stdout",
     "output_type": "stream",
     "text": [
      "last bets close timestamp is not found: {'currency_pair': 'BTC-USD', 'target_dynamics': 1.01, 'bets_period': 86400, 'measure_period': 86400, 'liquidity_percent': 0.02, 'expiration_fee': 100000, 'measure_start_fee': 100000, 'next_at': 0}, using default timestamp = 1626904800\n"
     ]
    },
    {
     "name": "stderr",
     "output_type": "stream",
     "text": [
      " 81%|████████▏ | 22/27 [00:11<00:02,  1.95it/s]"
     ]
    },
    {
     "name": "stdout",
     "output_type": "stream",
     "text": [
      "last bets close timestamp is not found: {'currency_pair': 'ETH-USD', 'target_dynamics': 1.0, 'bets_period': 21600, 'measure_period': 21600, 'liquidity_percent': 0.01, 'expiration_fee': 100000, 'measure_start_fee': 100000, 'next_at': 0}, using default timestamp = 1626904800\n"
     ]
    },
    {
     "name": "stderr",
     "output_type": "stream",
     "text": [
      " 85%|████████▌ | 23/27 [00:11<00:02,  1.96it/s]"
     ]
    },
    {
     "name": "stdout",
     "output_type": "stream",
     "text": [
      "last bets close timestamp is not found: {'currency_pair': 'ETH-USD', 'target_dynamics': 0.99, 'bets_period': 21600, 'measure_period': 21600, 'liquidity_percent': 0.02, 'expiration_fee': 100000, 'measure_start_fee': 100000, 'next_at': 0}, using default timestamp = 1626904800\n"
     ]
    },
    {
     "name": "stderr",
     "output_type": "stream",
     "text": [
      " 89%|████████▉ | 24/27 [00:12<00:01,  1.95it/s]"
     ]
    },
    {
     "name": "stdout",
     "output_type": "stream",
     "text": [
      "last bets close timestamp is not found: {'currency_pair': 'ETH-USD', 'target_dynamics': 1.01, 'bets_period': 21600, 'measure_period': 21600, 'liquidity_percent': 0.02, 'expiration_fee': 100000, 'measure_start_fee': 100000, 'next_at': 0}, using default timestamp = 1626904800\n"
     ]
    },
    {
     "name": "stderr",
     "output_type": "stream",
     "text": [
      " 93%|█████████▎| 25/27 [00:12<00:01,  1.96it/s]"
     ]
    },
    {
     "name": "stdout",
     "output_type": "stream",
     "text": [
      "last bets close timestamp is not found: {'currency_pair': 'ETH-USD', 'target_dynamics': 1.0, 'bets_period': 86400, 'measure_period': 86400, 'liquidity_percent': 0.01, 'expiration_fee': 100000, 'measure_start_fee': 100000, 'next_at': 0}, using default timestamp = 1626904800\n"
     ]
    },
    {
     "name": "stderr",
     "output_type": "stream",
     "text": [
      " 96%|█████████▋| 26/27 [00:13<00:00,  1.94it/s]"
     ]
    },
    {
     "name": "stdout",
     "output_type": "stream",
     "text": [
      "last bets close timestamp is not found: {'currency_pair': 'ETH-USD', 'target_dynamics': 0.99, 'bets_period': 86400, 'measure_period': 86400, 'liquidity_percent': 0.02, 'expiration_fee': 100000, 'measure_start_fee': 100000, 'next_at': 0}, using default timestamp = 1626904800\n"
     ]
    },
    {
     "name": "stderr",
     "output_type": "stream",
     "text": [
      "100%|██████████| 27/27 [00:13<00:00,  1.95it/s]"
     ]
    },
    {
     "name": "stdout",
     "output_type": "stream",
     "text": [
      "last bets close timestamp is not found: {'currency_pair': 'ETH-USD', 'target_dynamics': 1.01, 'bets_period': 86400, 'measure_period': 86400, 'liquidity_percent': 0.02, 'expiration_fee': 100000, 'measure_start_fee': 100000, 'next_at': 0}, using default timestamp = 1626904800\n"
     ]
    },
    {
     "name": "stderr",
     "output_type": "stream",
     "text": [
      "\n"
     ]
    }
   ],
   "source": [
    "from tqdm import tqdm\n",
    "\n",
    "for params in tqdm(event_params):\n",
    "    params.update({\n",
    "        'next_at': get_last_bets_close_timestamp(\n",
    "            dd_client, params, next_hour_timestamp)\n",
    "    })"
   ]
  },
  {
   "cell_type": "markdown",
   "id": "55dec94c-175c-48cb-87ab-34a00dd06a47",
   "metadata": {},
   "source": [
    "### TODO: tests using mocked dipdup"
   ]
  },
  {
   "cell_type": "code",
   "execution_count": 20,
   "id": "4f2b1b19-b42a-406c-b87e-82850f539d26",
   "metadata": {},
   "outputs": [
    {
     "name": "stdout",
     "output_type": "stream",
     "text": [
      "last bets close timestamp is not found: {'currency_pair': 'XTZ-USD', 'target_dynamics': 1.0, 'bets_period': 21600, 'measure_period': 21600, 'liquidity_percent': 0.01, 'expiration_fee': 100000, 'measure_start_fee': 100000}, using default timestamp = 0\n"
     ]
    },
    {
     "data": {
      "text/plain": [
       "0"
      ]
     },
     "execution_count": 20,
     "metadata": {},
     "output_type": "execute_result"
    }
   ],
   "source": []
  },
  {
   "cell_type": "markdown",
   "id": "2a652e5f-0783-4352-bdf8-403c9d96761e",
   "metadata": {},
   "source": [
    "### TODO: maybe it is better not to have created date but the bets_close_time?\n",
    "- if measure_period == bets_close_time, then next event should be runned at measure_period time"
   ]
  },
  {
   "cell_type": "code",
   "execution_count": 10,
   "id": "7e015d4f-0062-45bc-b546-74abda7b1b30",
   "metadata": {},
   "outputs": [
    {
     "data": {
      "text/plain": [
       "1626901200.0"
      ]
     },
     "execution_count": 10,
     "metadata": {},
     "output_type": "execute_result"
    }
   ],
   "source": [
    "date.timestamp()"
   ]
  },
  {
   "cell_type": "markdown",
   "id": "98c0741b-9548-4ca6-aabe-2bb7da89daac",
   "metadata": {},
   "source": [
    "- можем ли мы проверять кто создавал ивенты? чтобы чужие ивенты не сдвигали нашу сетку?\n",
    "    - как-то бы валидировать список запрошенных ивентов и брать только наши\n",
    "- можем ли мы проверять время создания ивента? потому что сейчас у нас есть пара ивентов где measure_period 1800 которые висят в далёком будущем"
   ]
  },
  {
   "cell_type": "code",
   "execution_count": 48,
   "id": "ef50062a-b911-4bfd-81e2-39207bb55c48",
   "metadata": {},
   "outputs": [
    {
     "data": {
      "text/plain": [
       "{'currency_pair': 'XTZ-USD',\n",
       " 'target_dynamics': 3600,\n",
       " 'bets_period': 3600,\n",
       " 'measure_period': 3600,\n",
       " 'liquidity_percent': 10000,\n",
       " 'expiration_fee': 100000,\n",
       " 'measure_start_fee': 100000}"
      ]
     },
     "execution_count": 48,
     "metadata": {},
     "output_type": "execute_result"
    }
   ],
   "source": [
    "event_lines.event_params[0]"
   ]
  },
  {
   "cell_type": "code",
   "execution_count": 49,
   "id": "cd8a3fa6-ffe9-4c22-a95c-7a6ed9470414",
   "metadata": {
    "tags": []
   },
   "outputs": [
    {
     "ename": "SyntaxError",
     "evalue": "invalid syntax (<ipython-input-49-c97c57da31c6>, line 10)",
     "output_type": "error",
     "traceback": [
      "\u001b[0;36m  File \u001b[0;32m\"<ipython-input-49-c97c57da31c6>\"\u001b[0;36m, line \u001b[0;32m10\u001b[0m\n\u001b[0;31m    if not 'bets_period' in event else event['bets_period'])\u001b[0m\n\u001b[0m    ^\u001b[0m\n\u001b[0;31mSyntaxError\u001b[0m\u001b[0;31m:\u001b[0m invalid syntax\n"
     ]
    }
   ],
   "source": [
    "\n",
    "\n",
    "\n",
    "def event_type_name(event):\n",
    "    \"\"\" Returns event line name identifier for given event data\n",
    "        - supports both event from EventLines and event from dipdup\n",
    "    \"\"\"\n",
    "\n",
    "event = events[0]\n",
    "\n",
    "# bets_period calculated for data from juster-dipdup:\n",
    "bets_period = (\n",
    "    if not 'bets_period' in event else event['bets_period'])\n",
    "\n",
    "measure_period = event['measure_period']\n",
    "\n",
    "# currency_pair stored in 'symbol' key in juster-dipdup:\n",
    "currency_pair = event['currency_pair']\n",
    "currency_pair = currency_pair['symbol'] if 'symbol' in currency_pair"
   ]
  },
  {
   "cell_type": "markdown",
   "id": "961230e7-0c6c-4a81-b7cc-c8362b6200c9",
   "metadata": {},
   "source": [
    "### DipDup:\n",
    "1. Должен отвечать на вопрос, когда последний раз был создан ивент с определёнными параметрами\n",
    "2. Должен отвечать на вопрос, успешно ли был создан ивент с определёнными параметрами"
   ]
  },
  {
   "cell_type": "code",
   "execution_count": null,
   "id": "1a583861-fb59-4555-8c99-e2faac81ac7e",
   "metadata": {},
   "outputs": [],
   "source": [
    "\n",
    "\n",
    "def calculate_bets_period(event):\n",
    "    \"\"\" Returns bets period in seconds for given event requested\n",
    "        from dipdup\n",
    "    \"\"\"\n",
    "\n",
    "    bets_close_time = parse(event['bets_close_time'])\n",
    "    created_time = parse(event['created_time'])\n",
    "    return (bets_close_time - created_time).seconds\n",
    "\n",
    "\n",
    "class EventLine:\n",
    "    \"\"\" Represent one line of the events with the same type. Can be created\n",
    "        from dipdup response and from simplified dict that used to store this lines\n",
    "    \"\"\"\n",
    "\n",
    "    TARGET_RATE_PRECISION = 10**6\n",
    "\n",
    "\n",
    "    def __init__(self, currency_pair, measure_period, bets_period, target_rate):\n",
    "        self.currency_pair = currency_pair\n",
    "        self.measure_period = measure_period\n",
    "        self.bets_period = bets_period\n",
    "        self.target_rate = target_rate\n",
    "\n",
    "\n",
    "    @classmethod\n",
    "    def from_dipdup(cls, event):\n",
    "        return cls(\n",
    "            currency_pair=event['currency_pair']['symbol'],\n",
    "            measure_period=event['measure_period'],\n",
    "            bets_period=calculate_bets_period(event),\n",
    "            target_rate=int(event['target_rate']*self.TARGET_RATE_PRECISION)\n",
    "        )\n",
    "\n",
    "\n",
    "    @classmethod\n",
    "    def from_dict(cls, event):\n",
    "        return cls(\n",
    "            currency_pair=event['currency_pair'],\n",
    "            measure_period=event['measure_period'],\n",
    "            bets_period=event['bets_period'],\n",
    "            target_rate=event['target_rate']\n",
    "        )"
   ]
  },
  {
   "cell_type": "code",
   "execution_count": null,
   "id": "8583a296-e5fc-4f30-b84f-907071bbecda",
   "metadata": {},
   "outputs": [],
   "source": [
    "def dipdup_event_to_"
   ]
  },
  {
   "cell_type": "code",
   "execution_count": 44,
   "id": "8c6d2bfe-8c19-4ffd-ae8d-0e5433003327",
   "metadata": {},
   "outputs": [
    {
     "data": {
      "text/plain": [
       "0.0"
      ]
     },
     "execution_count": 44,
     "metadata": {},
     "output_type": "execute_result"
    }
   ],
   "source": [
    "event['target_dynamics']"
   ]
  },
  {
   "cell_type": "code",
   "execution_count": 42,
   "id": "10d62ef1-66f0-41c8-825d-13cd93613397",
   "metadata": {},
   "outputs": [
    {
     "ename": "NameError",
     "evalue": "name 'target_rate' is not defined",
     "output_type": "error",
     "traceback": [
      "\u001b[0;31m---------------------------------------------------------------------------\u001b[0m",
      "\u001b[0;31mNameError\u001b[0m                                 Traceback (most recent call last)",
      "\u001b[0;32m<ipython-input-42-5a0dfbc25376>\u001b[0m in \u001b[0;36m<module>\u001b[0;34m\u001b[0m\n\u001b[0;32m----> 1\u001b[0;31m \u001b[0;34mf'{currency_pair}_{measure_period}_{target_rate}'\u001b[0m\u001b[0;34m\u001b[0m\u001b[0;34m\u001b[0m\u001b[0m\n\u001b[0m",
      "\u001b[0;31mNameError\u001b[0m: name 'target_rate' is not defined"
     ]
    }
   ],
   "source": [
    "f'{currency_pair}_{measure_period}_{target_rate}'"
   ]
  },
  {
   "cell_type": "code",
   "execution_count": 15,
   "id": "6fd36ec2-1a83-49dd-9708-a1fe22702c60",
   "metadata": {},
   "outputs": [
    {
     "data": {
      "text/plain": [
       "{'created_time': '2021-07-04T19:05:58.051943+00:00',\n",
       " 'bets_close_time': '2021-08-02T13:20:00+00:00',\n",
       " 'id': 16,\n",
       " 'currency_pair': {'symbol': 'XTZ-USD'},\n",
       " 'measure_period': 1800,\n",
       " 'target_dynamics': 0.0}"
      ]
     },
     "execution_count": 15,
     "metadata": {},
     "output_type": "execute_result"
    }
   ],
   "source": [
    "event"
   ]
  },
  {
   "cell_type": "markdown",
   "id": "da212b03-4076-40bf-a3e3-f2eb31e7cc6e",
   "metadata": {},
   "source": [
    "### Определение времени когда ивенты были созданы в последний раз:"
   ]
  },
  {
   "cell_type": "code",
   "execution_count": null,
   "id": "0c2decbd-c6b5-4a79-9dd1-bf34629860b4",
   "metadata": {},
   "outputs": [],
   "source": []
  }
 ],
 "metadata": {
  "kernelspec": {
   "display_name": "Python 3",
   "language": "python",
   "name": "python3"
  },
  "language_info": {
   "codemirror_mode": {
    "name": "ipython",
    "version": 3
   },
   "file_extension": ".py",
   "mimetype": "text/x-python",
   "name": "python",
   "nbconvert_exporter": "python",
   "pygments_lexer": "ipython3",
   "version": "3.9.6"
  }
 },
 "nbformat": 4,
 "nbformat_minor": 5
}
