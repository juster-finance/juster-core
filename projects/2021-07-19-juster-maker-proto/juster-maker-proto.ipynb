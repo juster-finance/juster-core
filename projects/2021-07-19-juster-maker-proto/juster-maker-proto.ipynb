{
 "cells": [
  {
   "cell_type": "code",
   "execution_count": 1,
   "id": "09d7b88e-0b3b-4d86-ad40-f005f01360f1",
   "metadata": {},
   "outputs": [],
   "source": [
    "_ = '''\n",
    "transaction = contract.newEvent({\n",
    "    'currencyPair': 'XTZ-USD',\n",
    "    'targetDynamics': 1000000,\n",
    "    'betsCloseTime': int(time.time()) + 3600,\n",
    "    'measurePeriod': 3600,\n",
    "    'liquidityPercent': 10000,\n",
    "}).as_transaction()\n",
    "\n",
    "transaction.json_payload()#.hash()\n",
    "'''"
   ]
  },
  {
   "cell_type": "markdown",
   "id": "6e438f77-74d3-4620-839b-40e85b068f25",
   "metadata": {},
   "source": [
    "### Juster-Maker:\n",
    "Tool allowing to run events in cycle"
   ]
  },
  {
   "cell_type": "code",
   "execution_count": 2,
   "id": "0f940512-7dfa-4e2d-904a-b0045e3ea085",
   "metadata": {},
   "outputs": [],
   "source": [
    "from pytezos import pytezos\n",
    "import time\n",
    "from pprint import pprint\n",
    "from utility import repeat_until_succeed\n",
    "from bulk_sender import BulkSender\n",
    "from event_emitter import EventCreationEmitter\n",
    "\n",
    "\n",
    "# pytezos = pytezos.using(shell='https://florencenet-tezos.giganode.io')\n",
    "pytezos = pytezos.using(shell='https://api.tez.ie/rpc/florencenet')"
   ]
  },
  {
   "cell_type": "code",
   "execution_count": 3,
   "id": "9b6d4034-da48-4b6d-83e2-149a05628c78",
   "metadata": {},
   "outputs": [],
   "source": [
    "_ = '''\n",
    "CONFIG = {\n",
    "    'events': [],\n",
    "    'juster_address': 'KT1CepDBrMg73d7LHm773KAsunjAjgLYituP'\n",
    "}\n",
    "'''"
   ]
  },
  {
   "cell_type": "code",
   "execution_count": 4,
   "id": "82ac27e8-f321-41d0-a3a9-a9c16dc0cc29",
   "metadata": {},
   "outputs": [],
   "source": [
    "address = 'KT1CepDBrMg73d7LHm773KAsunjAjgLYituP'\n",
    "client = pytezos.using(\n",
    "    key='../2021-05-27-tests-modelling/test-keys/tz1iQE8ijR5xVPffBUPFubwB9XQJuyD9qsoJ.json'\n",
    ")\n",
    "contract = client.contract(address)"
   ]
  },
  {
   "cell_type": "code",
   "execution_count": 5,
   "id": "4730f292-1c56-4a90-952a-645a00e646d6",
   "metadata": {},
   "outputs": [
    {
     "data": {
      "text/plain": [
       "1626719355.6442986"
      ]
     },
     "execution_count": 5,
     "metadata": {},
     "output_type": "execute_result"
    }
   ],
   "source": [
    "import time\n",
    "time.time()"
   ]
  },
  {
   "cell_type": "code",
   "execution_count": 6,
   "id": "1c0a831a-56b0-4fde-87ed-5174090a2207",
   "metadata": {},
   "outputs": [],
   "source": [
    "from utility import date_to_timestamp"
   ]
  },
  {
   "cell_type": "markdown",
   "id": "a16e4972-ec1f-4e0d-9338-f957f2597acb",
   "metadata": {},
   "source": [
    "### TODO:\n",
    "- starts_from parameter for events creators so it would be possible to bind events to the time slots"
   ]
  },
  {
   "cell_type": "code",
   "execution_count": 7,
   "id": "e60a0e3e-eac2-401b-bdd9-fa1fde267316",
   "metadata": {},
   "outputs": [],
   "source": [
    "from asyncio import Queue\n",
    "\n",
    "# TODO: what would happen if queue overflow?\n",
    "MAX_QUEUE_SIZE = 50\n",
    "\n",
    "operations_queue = Queue(MAX_QUEUE_SIZE)\n",
    "\n",
    "events_params = [\n",
    "    {\n",
    "        'currency_pair': currency_pair,\n",
    "        'target_dynamics': 1_000_000,\n",
    "        'bets_period': period,\n",
    "        'measure_period': period,\n",
    "        'liquidity_percent': 10_000,\n",
    "        'expiration_fee': 100_000,\n",
    "        'measure_start_fee': 100_000\n",
    "    } for currency_pair in ['XTZ-USD', 'BTC-USD']\n",
    "    for period in [600, 900]\n",
    "]"
   ]
  },
  {
   "cell_type": "code",
   "execution_count": 8,
   "id": "e309e0f0-ee74-4ef1-a600-48272222a4fe",
   "metadata": {},
   "outputs": [],
   "source": [
    "# for each event_params EventCreationEmitter is created:\n",
    "emitters = [\n",
    "    EventCreationEmitter(\n",
    "        period=20,\n",
    "        contract=contract,\n",
    "        operations_queue=operations_queue,\n",
    "        event_params=params,\n",
    "        next_at=int(date_to_timestamp('2021-07-19 21:30:00')))\n",
    "    for params in events_params\n",
    "]\n",
    "\n",
    "emitters.append(\n",
    "    BulkSender(period=60, client=client, operations_queue=operations_queue)\n",
    ")"
   ]
  },
  {
   "cell_type": "code",
   "execution_count": 9,
   "id": "9681a283-11cc-4cc5-b092-47483426fb90",
   "metadata": {
    "tags": []
   },
   "outputs": [
    {
     "name": "stdout",
     "output_type": "stream",
     "text": [
      "time has not come, waiting a little: 42.10192894935608 secs\n",
      "time has not come, waiting a little: 42.101845264434814 secs\n",
      "time has not come, waiting a little: 42.10180401802063 secs\n",
      "time has not come, waiting a little: 42.10175895690918 secs\n",
      "time has not come, waiting a little: 22.080868005752563 secs\n",
      "time has not come, waiting a little: 22.08076572418213 secs\n",
      "time has not come, waiting a little: 22.080731868743896 secs\n",
      "time has not come, waiting a little: 22.08070468902588 secs\n",
      "time has not come, waiting a little: 2.06337308883667 secs\n",
      "time has not come, waiting a little: 2.06321382522583 secs\n",
      "time has not come, waiting a little: 2.0631463527679443 secs\n",
      "time has not come, waiting a little: 2.0630862712860107 secs\n",
      "created newEvent transaction with parameters: {'currencyPair': 'XTZ-USD', 'targetDynamics': 1000000, 'betsCloseTime': 1626720000, 'measurePeriod': 600, 'liquidityPercent': 10000}\n",
      "next event at: 1626720000\n",
      "created newEvent transaction with parameters: {'currencyPair': 'XTZ-USD', 'targetDynamics': 1000000, 'betsCloseTime': 1626720300, 'measurePeriod': 900, 'liquidityPercent': 10000}\n",
      "next event at: 1626720300\n",
      "created newEvent transaction with parameters: {'currencyPair': 'BTC-USD', 'targetDynamics': 1000000, 'betsCloseTime': 1626720000, 'measurePeriod': 600, 'liquidityPercent': 10000}\n",
      "next event at: 1626720000\n",
      "created newEvent transaction with parameters: {'currencyPair': 'BTC-USD', 'targetDynamics': 1000000, 'betsCloseTime': 1626720300, 'measurePeriod': 900, 'liquidityPercent': 10000}\n",
      "next event at: 1626720300\n",
      "time has not come, waiting a little: 562.0567541122437 secs\n",
      "time has not come, waiting a little: 862.0545361042023 secs\n",
      "time has not come, waiting a little: 562.0513832569122 secs\n",
      "time has not come, waiting a little: 862.0482304096222 secs\n",
      "time has not come, waiting a little: 542.0524206161499 secs\n",
      "time has not come, waiting a little: 842.0522673130035 secs\n",
      "time has not come, waiting a little: 542.0510642528534 secs\n",
      "time has not come, waiting a little: 842.0478768348694 secs\n",
      "making bulk of 4 operations\n",
      "signed, result: {'chain_id': 'NetXxkAx4woPLyu', 'hash': 'opNVwK5eRALboFuG2W4TvLkjXWEpVb7anPEDcZqVU9XJPVT19Ls', 'protocol': 'PsFLorenaUUuikDWvMDr6fGBRG8kt3e3D3fHoXK1j1BFRxeSH4i', 'branch': 'BLcSp5FdEGzqzLt74j1mSatdUCrXDWXvV4fnV6HixiiEHBkHzPa', 'contents': [{'kind': 'transaction', 'source': 'tz1iQE8ijR5xVPffBUPFubwB9XQJuyD9qsoJ', 'fee': '13014', 'counter': '52122', 'gas_limit': '127432', 'storage_limit': '306', 'amount': '200000', 'destination': 'KT1CepDBrMg73d7LHm773KAsunjAjgLYituP', 'parameters': {'entrypoint': 'newEvent', 'value': {'prim': 'Pair', 'args': [{'prim': 'Pair', 'args': [{'prim': 'Pair', 'args': [{'string': '2021-07-19T18:40:00Z'}, {'string': 'XTZ-USD'}]}, {'int': '10000'}, {'int': '600'}]}, {'int': '1000000'}]}}}, {'kind': 'transaction', 'source': 'tz1iQE8ijR5xVPffBUPFubwB9XQJuyD9qsoJ', 'fee': '13014', 'counter': '52123', 'gas_limit': '127432', 'storage_limit': '306', 'amount': '200000', 'destination': 'KT1CepDBrMg73d7LHm773KAsunjAjgLYituP', 'parameters': {'entrypoint': 'newEvent', 'value': {'prim': 'Pair', 'args': [{'prim': 'Pair', 'args': [{'prim': 'Pair', 'args': [{'string': '2021-07-19T18:45:00Z'}, {'string': 'XTZ-USD'}]}, {'int': '10000'}, {'int': '900'}]}, {'int': '1000000'}]}}}, {'kind': 'transaction', 'source': 'tz1iQE8ijR5xVPffBUPFubwB9XQJuyD9qsoJ', 'fee': '13014', 'counter': '52124', 'gas_limit': '127432', 'storage_limit': '306', 'amount': '200000', 'destination': 'KT1CepDBrMg73d7LHm773KAsunjAjgLYituP', 'parameters': {'entrypoint': 'newEvent', 'value': {'prim': 'Pair', 'args': [{'prim': 'Pair', 'args': [{'prim': 'Pair', 'args': [{'string': '2021-07-19T18:40:00Z'}, {'string': 'BTC-USD'}]}, {'int': '10000'}, {'int': '600'}]}, {'int': '1000000'}]}}}, {'kind': 'transaction', 'source': 'tz1iQE8ijR5xVPffBUPFubwB9XQJuyD9qsoJ', 'fee': '13014', 'counter': '52125', 'gas_limit': '127432', 'storage_limit': '306', 'amount': '200000', 'destination': 'KT1CepDBrMg73d7LHm773KAsunjAjgLYituP', 'parameters': {'entrypoint': 'newEvent', 'value': {'prim': 'Pair', 'args': [{'prim': 'Pair', 'args': [{'prim': 'Pair', 'args': [{'string': '2021-07-19T18:45:00Z'}, {'string': 'BTC-USD'}]}, {'int': '10000'}, {'int': '900'}]}, {'int': '1000000'}]}}}], 'signature': 'sigqXKs3GTJnnkcfoniddKEwtp2Xqwq3K8tXozC7duCPxV13PnwpjwYstRFvTcVeMhyBVan3KFFa9dBQY3Z6DQsrvzRUtzWM'}\n",
      "time has not come, waiting a little: 510.68536496162415 secs\n",
      "time has not come, waiting a little: 810.6853206157684 secs\n",
      "time has not come, waiting a little: 510.6852924823761 secs\n",
      "time has not come, waiting a little: 810.6852672100067 secs\n",
      "time has not come, waiting a little: 490.6651122570038 secs\n",
      "time has not come, waiting a little: 790.6650116443634 secs\n",
      "time has not come, waiting a little: 490.66497921943665 secs\n",
      "time has not come, waiting a little: 790.6649518013 secs\n",
      "time has not come, waiting a little: 470.64479422569275 secs\n",
      "time has not come, waiting a little: 770.6446671485901 secs\n",
      "time has not come, waiting a little: 470.64461970329285 secs\n",
      "time has not come, waiting a little: 770.6445732116699 secs\n",
      "time has not come, waiting a little: 450.64358401298523 secs\n",
      "time has not come, waiting a little: 750.6434502601624 secs\n",
      "time has not come, waiting a little: 450.64341044425964 secs\n",
      "time has not come, waiting a little: 750.6433746814728 secs\n",
      "time has not come, waiting a little: 430.62345027923584 secs\n",
      "time has not come, waiting a little: 730.6233353614807 secs\n",
      "time has not come, waiting a little: 430.6232895851135 secs\n",
      "time has not come, waiting a little: 730.622879743576 secs\n",
      "time has not come, waiting a little: 410.60343074798584 secs\n",
      "time has not come, waiting a little: 710.603303194046 secs\n",
      "time has not come, waiting a little: 410.60325717926025 secs\n",
      "time has not come, waiting a little: 710.6032102108002 secs\n",
      "time has not come, waiting a little: 390.60288429260254 secs\n",
      "time has not come, waiting a little: 690.6027598381042 secs\n",
      "time has not come, waiting a little: 390.6027135848999 secs\n",
      "time has not come, waiting a little: 690.6026744842529 secs\n",
      "time has not come, waiting a little: 370.5834414958954 secs\n",
      "time has not come, waiting a little: 670.5833387374878 secs\n",
      "time has not come, waiting a little: 370.58328580856323 secs\n",
      "time has not come, waiting a little: 670.5832452774048 secs\n",
      "time has not come, waiting a little: 350.5713906288147 secs\n",
      "time has not come, waiting a little: 650.5712857246399 secs\n",
      "time has not come, waiting a little: 350.57125091552734 secs\n",
      "time has not come, waiting a little: 650.5709717273712 secs\n",
      "time has not come, waiting a little: 330.5705692768097 secs\n",
      "time has not come, waiting a little: 630.5704548358917 secs\n",
      "time has not come, waiting a little: 330.5704162120819 secs\n",
      "time has not come, waiting a little: 630.5703859329224 secs\n",
      "time has not come, waiting a little: 310.553435087204 secs\n",
      "time has not come, waiting a little: 610.5533139705658 secs\n",
      "time has not come, waiting a little: 310.5532693862915 secs\n",
      "time has not come, waiting a little: 610.5532231330872 secs\n",
      "time has not come, waiting a little: 290.5330581665039 secs\n",
      "time has not come, waiting a little: 590.5329368114471 secs\n",
      "time has not come, waiting a little: 290.53289270401 secs\n",
      "time has not come, waiting a little: 590.5328469276428 secs\n",
      "time has not come, waiting a little: 270.53254103660583 secs\n",
      "time has not come, waiting a little: 570.5324201583862 secs\n",
      "time has not come, waiting a little: 270.5323750972748 secs\n",
      "time has not come, waiting a little: 570.5323266983032 secs\n",
      "time has not come, waiting a little: 250.5126256942749 secs\n",
      "time has not come, waiting a little: 550.512176990509 secs\n",
      "time has not come, waiting a little: 250.5120611190796 secs\n",
      "time has not come, waiting a little: 550.512001991272 secs\n",
      "time has not come, waiting a little: 230.4932644367218 secs\n",
      "time has not come, waiting a little: 530.4931650161743 secs\n",
      "time has not come, waiting a little: 230.49313616752625 secs\n",
      "time has not come, waiting a little: 530.4931111335754 secs\n",
      "time has not come, waiting a little: 210.49220752716064 secs\n",
      "time has not come, waiting a little: 510.4921019077301 secs\n",
      "time has not come, waiting a little: 210.49206709861755 secs\n",
      "time has not come, waiting a little: 510.49203872680664 secs\n",
      "time has not come, waiting a little: 190.4733829498291 secs\n",
      "time has not come, waiting a little: 490.4729561805725 secs\n",
      "time has not come, waiting a little: 190.47291803359985 secs\n",
      "time has not come, waiting a little: 490.47288846969604 secs\n",
      "time has not come, waiting a little: 170.45334315299988 secs\n",
      "time has not come, waiting a little: 470.4527921676636 secs\n",
      "time has not come, waiting a little: 170.4526937007904 secs\n",
      "time has not come, waiting a little: 470.4526176452637 secs\n",
      "time has not come, waiting a little: 150.45132517814636 secs\n",
      "time has not come, waiting a little: 450.4511547088623 secs\n",
      "time has not come, waiting a little: 150.45109510421753 secs\n",
      "time has not come, waiting a little: 450.45104932785034 secs\n",
      "time has not come, waiting a little: 130.43317294120789 secs\n",
      "time has not come, waiting a little: 430.4328291416168 secs\n",
      "time has not come, waiting a little: 130.43119144439697 secs\n",
      "time has not come, waiting a little: 430.43085289001465 secs\n",
      "time has not come, waiting a little: 110.41340255737305 secs\n",
      "time has not come, waiting a little: 410.41320848464966 secs\n",
      "time has not come, waiting a little: 110.41312646865845 secs\n",
      "time has not come, waiting a little: 410.41306471824646 secs\n",
      "time has not come, waiting a little: 90.41218447685242 secs\n",
      "time has not come, waiting a little: 390.41208052635193 secs\n",
      "time has not come, waiting a little: 90.41204571723938 secs\n",
      "time has not come, waiting a little: 390.41201734542847 secs\n",
      "time has not come, waiting a little: 70.3918731212616 secs\n",
      "time has not come, waiting a little: 370.39176893234253 secs\n",
      "time has not come, waiting a little: 70.39173293113708 secs\n",
      "time has not come, waiting a little: 370.39170479774475 secs\n",
      "time has not come, waiting a little: 50.37119483947754 secs\n",
      "time has not come, waiting a little: 350.3705379962921 secs\n",
      "time has not come, waiting a little: 50.3703453540802 secs\n",
      "time has not come, waiting a little: 350.37029790878296 secs\n",
      "time has not come, waiting a little: 30.3701593875885 secs\n",
      "time has not come, waiting a little: 330.3700361251831 secs\n",
      "time has not come, waiting a little: 30.369990348815918 secs\n",
      "time has not come, waiting a little: 330.3699424266815 secs\n",
      "time has not come, waiting a little: 10.34973669052124 secs\n",
      "time has not come, waiting a little: 310.34930515289307 secs\n",
      "time has not come, waiting a little: 10.349246740341187 secs\n",
      "time has not come, waiting a little: 310.34919810295105 secs\n",
      "created newEvent transaction with parameters: {'currencyPair': 'XTZ-USD', 'targetDynamics': 1000000, 'betsCloseTime': 1626720600, 'measurePeriod': 600, 'liquidityPercent': 10000}\n",
      "next event at: 1626720600\n",
      "time has not come, waiting a little: 290.32655596733093 secs\n",
      "created newEvent transaction with parameters: {'currencyPair': 'BTC-USD', 'targetDynamics': 1000000, 'betsCloseTime': 1626720600, 'measurePeriod': 600, 'liquidityPercent': 10000}\n",
      "next event at: 1626720600\n",
      "time has not come, waiting a little: 290.3238875865936 secs\n",
      "making bulk of 2 operations\n",
      "signed, result: {'chain_id': 'NetXxkAx4woPLyu', 'hash': 'opW8c7yXWt3uHTA5ouxK9gL2uGPCAp62orAa7QxLNR5wkmZV2ca', 'protocol': 'PsFLorenaUUuikDWvMDr6fGBRG8kt3e3D3fHoXK1j1BFRxeSH4i', 'branch': 'BMdmZh21ZA7h5W6ihJUwpTeWN8PH7VryB37kSLPA2WYtkLJ1dWW', 'contents': [{'kind': 'transaction', 'source': 'tz1iQE8ijR5xVPffBUPFubwB9XQJuyD9qsoJ', 'fee': '13038', 'counter': '52126', 'gas_limit': '127432', 'storage_limit': '306', 'amount': '200000', 'destination': 'KT1CepDBrMg73d7LHm773KAsunjAjgLYituP', 'parameters': {'entrypoint': 'newEvent', 'value': {'prim': 'Pair', 'args': [{'prim': 'Pair', 'args': [{'prim': 'Pair', 'args': [{'string': '2021-07-19T18:50:00Z'}, {'string': 'XTZ-USD'}]}, {'int': '10000'}, {'int': '600'}]}, {'int': '1000000'}]}}}, {'kind': 'transaction', 'source': 'tz1iQE8ijR5xVPffBUPFubwB9XQJuyD9qsoJ', 'fee': '13038', 'counter': '52127', 'gas_limit': '127432', 'storage_limit': '306', 'amount': '200000', 'destination': 'KT1CepDBrMg73d7LHm773KAsunjAjgLYituP', 'parameters': {'entrypoint': 'newEvent', 'value': {'prim': 'Pair', 'args': [{'prim': 'Pair', 'args': [{'prim': 'Pair', 'args': [{'string': '2021-07-19T18:50:00Z'}, {'string': 'BTC-USD'}]}, {'int': '10000'}, {'int': '600'}]}, {'int': '1000000'}]}}}], 'signature': 'sigtPfBB9QWxKfoHRzrDwxfa8qJ6ZxV2BgP9PWgMxsECPZBFepirus4BNp13uSZZbpFniSnhFoTcsNqM8QpEDop8FjwpLn4s'}\n",
      "time has not come, waiting a little: 562.8843109607697 secs\n",
      "time has not come, waiting a little: 262.88426661491394 secs\n",
      "time has not come, waiting a little: 562.8842360973358 secs\n",
      "time has not come, waiting a little: 262.88420939445496 secs\n",
      "time has not come, waiting a little: 542.8668093681335 secs\n",
      "time has not come, waiting a little: 242.86671113967896 secs\n",
      "time has not come, waiting a little: 542.8666787147522 secs\n",
      "time has not come, waiting a little: 242.86665391921997 secs\n",
      "time has not come, waiting a little: 522.8461594581604 secs\n",
      "time has not come, waiting a little: 222.84569764137268 secs\n",
      "time has not come, waiting a little: 522.845645904541 secs\n",
      "time has not come, waiting a little: 222.84560537338257 secs\n"
     ]
    }
   ],
   "source": [
    "for emitter in emitters:\n",
    "    emitter.run()"
   ]
  },
  {
   "cell_type": "markdown",
   "id": "2d315b4f-3262-4774-96f8-1c3609ba6f41",
   "metadata": {},
   "source": [
    "### TODO: OK, в общем проще всего мне кажется вот так:\n",
    "    - для каждой линейки ивентов создаётся свой event_emitter, он проверяет что пришло время запустить ивет сравнивая текущее значение таймера с таргетом. И после запуска ивента он переставляет таймер дальше.\n",
    "    - с определённой частотой (например раз в 20 секунд) таймер проверяется и если время больше чем в таймере - транза с новым ивентом закидывается в очередь и подхватывается BulkSender"
   ]
  },
  {
   "cell_type": "markdown",
   "id": "0b783d7d-3ec0-45ad-b974-d9527cede188",
   "metadata": {},
   "source": [
    "### TODO: maybe make next_event func/iterator that returns time and params for the next events"
   ]
  },
  {
   "cell_type": "code",
   "execution_count": null,
   "id": "bf634907-3bdf-4385-acb1-a90743f78784",
   "metadata": {},
   "outputs": [],
   "source": []
  },
  {
   "cell_type": "markdown",
   "id": "c1900145-3a29-429b-a3c4-d552d94e211b",
   "metadata": {},
   "source": [
    "### TODO: need to have some tests for LoopExecutor:\n",
    "- for example that it runned function K times in given time"
   ]
  },
  {
   "cell_type": "markdown",
   "id": "e9fdd87a-9d7e-48e7-838c-c9ff1f33453c",
   "metadata": {},
   "source": [
    "### TODO: need to test all this code before running in florencenet"
   ]
  },
  {
   "cell_type": "code",
   "execution_count": 10,
   "id": "bfce3a10-c048-4864-b49d-40aa05928012",
   "metadata": {},
   "outputs": [],
   "source": [
    "for emitter in emitters:\n",
    "    emitter.stop()"
   ]
  },
  {
   "cell_type": "code",
   "execution_count": null,
   "id": "7a6a73a5-8aa8-42fd-855e-7d9da8a69a2d",
   "metadata": {},
   "outputs": [],
   "source": []
  }
 ],
 "metadata": {
  "kernelspec": {
   "display_name": "Python 3",
   "language": "python",
   "name": "python3"
  },
  "language_info": {
   "codemirror_mode": {
    "name": "ipython",
    "version": 3
   },
   "file_extension": ".py",
   "mimetype": "text/x-python",
   "name": "python",
   "nbconvert_exporter": "python",
   "pygments_lexer": "ipython3",
   "version": "3.9.5"
  }
 },
 "nbformat": 4,
 "nbformat_minor": 5
}
