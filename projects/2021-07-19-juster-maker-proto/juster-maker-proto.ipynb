{
 "cells": [
  {
   "cell_type": "code",
   "execution_count": 1,
   "id": "09d7b88e-0b3b-4d86-ad40-f005f01360f1",
   "metadata": {},
   "outputs": [],
   "source": [
    "_ = '''\n",
    "transaction = contract.newEvent({\n",
    "    'currencyPair': 'XTZ-USD',\n",
    "    'targetDynamics': 1000000,\n",
    "    'betsCloseTime': int(time.time()) + 3600,\n",
    "    'measurePeriod': 3600,\n",
    "    'liquidityPercent': 10000,\n",
    "}).as_transaction()\n",
    "\n",
    "transaction.json_payload()#.hash()\n",
    "'''"
   ]
  },
  {
   "cell_type": "markdown",
   "id": "6e438f77-74d3-4620-839b-40e85b068f25",
   "metadata": {},
   "source": [
    "### Juster-Maker:\n",
    "Tool allowing to run events in cycle"
   ]
  },
  {
   "cell_type": "code",
   "execution_count": 2,
   "id": "0f940512-7dfa-4e2d-904a-b0045e3ea085",
   "metadata": {},
   "outputs": [],
   "source": [
    "from pytezos import pytezos\n",
    "import time\n",
    "from pprint import pprint\n",
    "from utility import repeat_until_succeed\n",
    "from bulk_sender import BulkSender\n",
    "from event_emitter import EventCreationEmitter\n",
    "\n",
    "\n",
    "# pytezos = pytezos.using(shell='https://florencenet-tezos.giganode.io')\n",
    "pytezos = pytezos.using(shell='https://api.tez.ie/rpc/florencenet')"
   ]
  },
  {
   "cell_type": "code",
   "execution_count": 3,
   "id": "9b6d4034-da48-4b6d-83e2-149a05628c78",
   "metadata": {},
   "outputs": [],
   "source": [
    "_ = '''\n",
    "CONFIG = {\n",
    "    'events': [],\n",
    "    'juster_address': 'KT1CepDBrMg73d7LHm773KAsunjAjgLYituP'\n",
    "}\n",
    "'''"
   ]
  },
  {
   "cell_type": "code",
   "execution_count": 4,
   "id": "82ac27e8-f321-41d0-a3a9-a9c16dc0cc29",
   "metadata": {},
   "outputs": [],
   "source": [
    "address = 'KT1CepDBrMg73d7LHm773KAsunjAjgLYituP'\n",
    "client = pytezos.using(\n",
    "    key='../2021-05-27-tests-modelling/test-keys/tz1iQE8ijR5xVPffBUPFubwB9XQJuyD9qsoJ.json'\n",
    ")\n",
    "contract = client.contract(address)"
   ]
  },
  {
   "cell_type": "code",
   "execution_count": 5,
   "id": "4730f292-1c56-4a90-952a-645a00e646d6",
   "metadata": {},
   "outputs": [
    {
     "data": {
      "text/plain": [
       "1626716892.1503263"
      ]
     },
     "execution_count": 5,
     "metadata": {},
     "output_type": "execute_result"
    }
   ],
   "source": [
    "import time\n",
    "time.time()"
   ]
  },
  {
   "cell_type": "code",
   "execution_count": 6,
   "id": "1c0a831a-56b0-4fde-87ed-5174090a2207",
   "metadata": {},
   "outputs": [],
   "source": [
    "from utility import date_to_timestamp"
   ]
  },
  {
   "cell_type": "markdown",
   "id": "a16e4972-ec1f-4e0d-9338-f957f2597acb",
   "metadata": {},
   "source": [
    "### TODO:\n",
    "- starts_from parameter for events creators so it would be possible to bind events to the time slots"
   ]
  },
  {
   "cell_type": "code",
   "execution_count": 8,
   "id": "e60a0e3e-eac2-401b-bdd9-fa1fde267316",
   "metadata": {},
   "outputs": [],
   "source": [
    "from asyncio import Queue\n",
    "\n",
    "# TODO: what would happen if queue overflow?\n",
    "MAX_QUEUE_SIZE = 50\n",
    "\n",
    "operations_queue = Queue(MAX_QUEUE_SIZE)\n",
    "\n",
    "events_params = [\n",
    "    {\n",
    "        'currency_pair': currency_pair,\n",
    "        'first_at': int(date_to_timestamp('2021-07-19 20:45:00')),\n",
    "        'target_dynamics': 1_000_000,\n",
    "        'bets_period': period,\n",
    "        'measure_period': period,\n",
    "        'liquidity_percent': 10_000,\n",
    "        'expiration_fee': 100_000,\n",
    "        'measure_start_fee': 100_000\n",
    "    } for currency_pair in ['XTZ-USD', 'BTC-USD']\n",
    "    for period in [600, 900]\n",
    "]"
   ]
  },
  {
   "cell_type": "code",
   "execution_count": 9,
   "id": "e309e0f0-ee74-4ef1-a600-48272222a4fe",
   "metadata": {},
   "outputs": [],
   "source": [
    "# for each event_params EventCreationEmitter is created:\n",
    "emitters = [\n",
    "    EventCreationEmitter(\n",
    "        period=params['bets_period'],\n",
    "        contract=contract,\n",
    "        operations_queue=operations_queue,\n",
    "        event_params=params)\n",
    "    for params in events_params\n",
    "]\n",
    "\n",
    "emitters.append(\n",
    "    BulkSender(period=60, client=client, operations_queue=operations_queue)\n",
    ")"
   ]
  },
  {
   "cell_type": "code",
   "execution_count": 10,
   "id": "9681a283-11cc-4cc5-b092-47483426fb90",
   "metadata": {
    "tags": []
   },
   "outputs": [
    {
     "name": "stdout",
     "output_type": "stream",
     "text": [
      "created newEvent transaction with parameters: {'currencyPair': 'XTZ-USD', 'targetDynamics': 1000000, 'betsCloseTime': 1626717300, 'measurePeriod': 600, 'liquidityPercent': 10000}\n",
      "created newEvent transaction with parameters: {'currencyPair': 'XTZ-USD', 'targetDynamics': 1000000, 'betsCloseTime': 1626717600, 'measurePeriod': 900, 'liquidityPercent': 10000}\n",
      "created newEvent transaction with parameters: {'currencyPair': 'BTC-USD', 'targetDynamics': 1000000, 'betsCloseTime': 1626717300, 'measurePeriod': 600, 'liquidityPercent': 10000}\n",
      "created newEvent transaction with parameters: {'currencyPair': 'BTC-USD', 'targetDynamics': 1000000, 'betsCloseTime': 1626717600, 'measurePeriod': 900, 'liquidityPercent': 10000}\n",
      "making bulk of 4 operations\n",
      "signed, result: {'chain_id': 'NetXxkAx4woPLyu', 'hash': 'opaqJGKwV2AuudPDcBbeeghikWkjmvDKTsVhKSsFXn7avwwvwJY', 'protocol': 'PsFLorenaUUuikDWvMDr6fGBRG8kt3e3D3fHoXK1j1BFRxeSH4i', 'branch': 'BMeJBr65FDLkSGsy3CFDQhwvhmiAxjrKVBgTE3aoXqvqt6Lyg4W', 'contents': [{'kind': 'transaction', 'source': 'tz1iQE8ijR5xVPffBUPFubwB9XQJuyD9qsoJ', 'fee': '13014', 'counter': '52118', 'gas_limit': '127432', 'storage_limit': '306', 'amount': '200000', 'destination': 'KT1CepDBrMg73d7LHm773KAsunjAjgLYituP', 'parameters': {'entrypoint': 'newEvent', 'value': {'prim': 'Pair', 'args': [{'prim': 'Pair', 'args': [{'prim': 'Pair', 'args': [{'string': '2021-07-19T17:55:00Z'}, {'string': 'XTZ-USD'}]}, {'int': '10000'}, {'int': '600'}]}, {'int': '1000000'}]}}}, {'kind': 'transaction', 'source': 'tz1iQE8ijR5xVPffBUPFubwB9XQJuyD9qsoJ', 'fee': '13014', 'counter': '52119', 'gas_limit': '127432', 'storage_limit': '306', 'amount': '200000', 'destination': 'KT1CepDBrMg73d7LHm773KAsunjAjgLYituP', 'parameters': {'entrypoint': 'newEvent', 'value': {'prim': 'Pair', 'args': [{'prim': 'Pair', 'args': [{'prim': 'Pair', 'args': [{'string': '2021-07-19T18:00:00Z'}, {'string': 'XTZ-USD'}]}, {'int': '10000'}, {'int': '900'}]}, {'int': '1000000'}]}}}, {'kind': 'transaction', 'source': 'tz1iQE8ijR5xVPffBUPFubwB9XQJuyD9qsoJ', 'fee': '13014', 'counter': '52120', 'gas_limit': '127432', 'storage_limit': '306', 'amount': '200000', 'destination': 'KT1CepDBrMg73d7LHm773KAsunjAjgLYituP', 'parameters': {'entrypoint': 'newEvent', 'value': {'prim': 'Pair', 'args': [{'prim': 'Pair', 'args': [{'prim': 'Pair', 'args': [{'string': '2021-07-19T17:55:00Z'}, {'string': 'BTC-USD'}]}, {'int': '10000'}, {'int': '600'}]}, {'int': '1000000'}]}}}, {'kind': 'transaction', 'source': 'tz1iQE8ijR5xVPffBUPFubwB9XQJuyD9qsoJ', 'fee': '13014', 'counter': '52121', 'gas_limit': '127432', 'storage_limit': '306', 'amount': '200000', 'destination': 'KT1CepDBrMg73d7LHm773KAsunjAjgLYituP', 'parameters': {'entrypoint': 'newEvent', 'value': {'prim': 'Pair', 'args': [{'prim': 'Pair', 'args': [{'prim': 'Pair', 'args': [{'string': '2021-07-19T18:00:00Z'}, {'string': 'BTC-USD'}]}, {'int': '10000'}, {'int': '900'}]}, {'int': '1000000'}]}}}], 'signature': 'sigaKQH9yMXDLEcCXYWxarfJ5RzmY6RSMaD3yahM4QD9Y2VXN5hhABLSmmEfpUqy6eqTMex2tYyTFvDdXmU2B5ZDxrzqu9Fs'}\n",
      "created newEvent transaction with parameters: {'currencyPair': 'XTZ-USD', 'targetDynamics': 1000000, 'betsCloseTime': 1626717300, 'measurePeriod': 600, 'liquidityPercent': 10000}\n",
      "created newEvent transaction with parameters: {'currencyPair': 'BTC-USD', 'targetDynamics': 1000000, 'betsCloseTime': 1626717300, 'measurePeriod': 600, 'liquidityPercent': 10000}\n",
      "making bulk of 2 operations\n",
      "catched <class 'pytezos.rpc.errors.MichelsonError'> in sign: ({'id': 'proto.009-PsFLoren.michelson_v1.script_rejected',\n",
      "  'kind': 'temporary',\n",
      "  'location': 3857,\n",
      "  'with': {'string': 'betsCloseTime should be in the future'}},)\n"
     ]
    }
   ],
   "source": [
    "for emitter in emitters:\n",
    "    emitter.run()"
   ]
  },
  {
   "cell_type": "markdown",
   "id": "0b783d7d-3ec0-45ad-b974-d9527cede188",
   "metadata": {},
   "source": [
    "### TODO: maybe make next_event func/iterator that returns time and params for the next events"
   ]
  },
  {
   "cell_type": "code",
   "execution_count": null,
   "id": "bf634907-3bdf-4385-acb1-a90743f78784",
   "metadata": {},
   "outputs": [],
   "source": []
  },
  {
   "cell_type": "markdown",
   "id": "c1900145-3a29-429b-a3c4-d552d94e211b",
   "metadata": {},
   "source": [
    "### TODO: need to have some tests for LoopExecutor:\n",
    "- for example that it runned function K times in given time"
   ]
  },
  {
   "cell_type": "markdown",
   "id": "e9fdd87a-9d7e-48e7-838c-c9ff1f33453c",
   "metadata": {},
   "source": [
    "### TODO: need to test all this code before running in florencenet"
   ]
  },
  {
   "cell_type": "code",
   "execution_count": 11,
   "id": "bfce3a10-c048-4864-b49d-40aa05928012",
   "metadata": {},
   "outputs": [],
   "source": [
    "for emitter in emitters:\n",
    "    emitter.stop()"
   ]
  },
  {
   "cell_type": "code",
   "execution_count": null,
   "id": "7a6a73a5-8aa8-42fd-855e-7d9da8a69a2d",
   "metadata": {},
   "outputs": [],
   "source": []
  }
 ],
 "metadata": {
  "kernelspec": {
   "display_name": "Python 3",
   "language": "python",
   "name": "python3"
  },
  "language_info": {
   "codemirror_mode": {
    "name": "ipython",
    "version": 3
   },
   "file_extension": ".py",
   "mimetype": "text/x-python",
   "name": "python",
   "nbconvert_exporter": "python",
   "pygments_lexer": "ipython3",
   "version": "3.9.5"
  }
 },
 "nbformat": 4,
 "nbformat_minor": 5
}
