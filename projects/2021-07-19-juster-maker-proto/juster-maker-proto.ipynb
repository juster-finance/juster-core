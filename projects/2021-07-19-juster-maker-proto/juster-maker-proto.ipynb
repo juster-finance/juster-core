{
 "cells": [
  {
   "cell_type": "markdown",
   "id": "6e438f77-74d3-4620-839b-40e85b068f25",
   "metadata": {},
   "source": [
    "### Juster-Maker:\n",
    "Tool allowing to run events in cycle"
   ]
  },
  {
   "cell_type": "code",
   "execution_count": 1,
   "id": "0f940512-7dfa-4e2d-904a-b0045e3ea085",
   "metadata": {},
   "outputs": [],
   "source": [
    "from pytezos import pytezos\n",
    "import time\n",
    "from random import choice\n",
    "from pprint import pprint\n",
    "from random import randint\n",
    "\n",
    "# pytezos = pytezos.using(shell='https://florencenet-tezos.giganode.io')\n",
    "pytezos = pytezos.using(shell='https://api.tez.ie/rpc/florencenet')"
   ]
  },
  {
   "cell_type": "markdown",
   "id": "d54a89b5-a2bb-4004-9ac3-0eab73be0ce8",
   "metadata": {},
   "source": [
    "### - read is there any nice light schedulers in python?"
   ]
  },
  {
   "cell_type": "code",
   "execution_count": 2,
   "id": "ffa07cb3-cf6d-4c08-a061-884acbf599b0",
   "metadata": {},
   "outputs": [],
   "source": [
    "# CreateEventTask"
   ]
  },
  {
   "cell_type": "code",
   "execution_count": 3,
   "id": "61cbaa88-b6d8-47d6-9aa4-fe3127eadae7",
   "metadata": {},
   "outputs": [],
   "source": [
    "event_params = {\n",
    "    'freq': 1,\n",
    "    'bets_duration': 300,\n",
    "    'measurement_duration': 300,\n",
    "    'pair': 'XTZ-USD',\n",
    "    'target_dynamics': 1_000_000,\n",
    "    'liquidity_percent': 10_000\n",
    "}"
   ]
  },
  {
   "cell_type": "code",
   "execution_count": 4,
   "id": "cc81f3d0-d045-48d9-93ab-f0b4af27ed35",
   "metadata": {},
   "outputs": [
    {
     "ename": "SyntaxError",
     "evalue": "invalid syntax (<ipython-input-4-0d44fac25188>, line 15)",
     "output_type": "error",
     "traceback": [
      "\u001b[0;36m  File \u001b[0;32m\"<ipython-input-4-0d44fac25188>\"\u001b[0;36m, line \u001b[0;32m15\u001b[0m\n\u001b[0;31m    def schedule_creator(period, lambda client: create_event(client))\u001b[0m\n\u001b[0m                                 ^\u001b[0m\n\u001b[0;31mSyntaxError\u001b[0m\u001b[0;31m:\u001b[0m invalid syntax\n"
     ]
    }
   ],
   "source": [
    "def create_event():\n",
    "    pass\n",
    "\n",
    "def repeat_untill_succeed(func, allow_exceptions=None):\n",
    "    pass\n",
    "\n",
    "def make_event_creator(client):\n",
    "\n",
    "    def event_creator():\n",
    "        return repeat_untill_succeed(\n",
    "            lambda client: create_event(client))\n",
    "\n",
    "    return event_creator\n",
    "\n",
    "def schedule_creator(period, lambda client: create_event(client))"
   ]
  },
  {
   "cell_type": "code",
   "execution_count": 5,
   "id": "5245d70c-ac7c-4ebd-bf71-89a5a69001d4",
   "metadata": {},
   "outputs": [],
   "source": [
    "import sched"
   ]
  },
  {
   "cell_type": "code",
   "execution_count": 6,
   "id": "b04ae4f8-811d-45e7-8611-cae611b4de1e",
   "metadata": {},
   "outputs": [],
   "source": [
    "class EventCreator:\n",
    "    def __init__(self, contract, period, event_params):\n",
    "        \"\"\" Initializes new event creator\n",
    "            - contract: is pytezos object with Juster contract loaded and\n",
    "                some key provided\n",
    "            - period: period in seconds  \"\"\"\n",
    "\n",
    "        self.contract = contract\n",
    "        self.event_params = event_params\n",
    "        self.freq = freq\n",
    "\n",
    "    def create(self):\n",
    "        fees = (\n",
    "            keys[key].storage()['config']['expirationFee']\n",
    "            + keys[key].storage()['config']['measureStartFee'])\n",
    "\n",
    "    def create_untill_succeed(self):\n",
    "        pass\n",
    "\n",
    "\n",
    "def create_event(client, ):\n",
    "    event_params = {\n",
    "        'currencyPair': choice(CURRENCY_PAIRS),\n",
    "        'targetDynamics': choice(TARGET_DYNAMICS),\n",
    "        'betsCloseTime': choice(BETS_CLOSE_TIME),\n",
    "        'measurePeriod': choice(MEASURE_PERIOD),\n",
    "        'liquidityPercent': choice(LIQUIDITY_PERCENT),\n",
    "    }\n",
    "\n",
    "    key = pick_random_free_key(keys, last_used)\n",
    "    print(f'creating event with {key}:')\n",
    "    pprint(event_params)\n",
    "\n",
    "    fees = (\n",
    "        keys[key].storage()['config']['expirationFee']\n",
    "        + keys[key].storage()['config']['measureStartFee'])\n",
    "\n",
    "    keys[key].newEvent(event_params).with_amount(fees).as_transaction().autofill().sign().inject(_async=False)\n",
    "    return event_params\n"
   ]
  },
  {
   "cell_type": "code",
   "execution_count": 25,
   "id": "e60a0e3e-eac2-401b-bdd9-fa1fde267316",
   "metadata": {},
   "outputs": [],
   "source": [
    "import asyncio\n",
    "from abc import abstractmethod\n",
    "from asyncio import Queue\n",
    "\n",
    "\n",
    "async def repeat_until_succeed(\n",
    "        func, allowed_exceptions=None, max_attempts=10, wait_after_fail=10):\n",
    "    \"\"\" Runs func for multiple times if it was failed with any of the allowed\n",
    "        exceptions \"\"\"\n",
    "\n",
    "    allowed_exceptions = allowed_exceptions or []\n",
    "\n",
    "    for attempt in range(max_attempts):\n",
    "        try:\n",
    "            return await func()\n",
    "\n",
    "        except Exception as e:\n",
    "            if type(e) in allowed_exceptions:\n",
    "                print(f'Ignoring error {type(e)}, {str(e)}')\n",
    "                await asyncio.sleep(wait_after_fail)\n",
    "            else:\n",
    "                raise e\n",
    "\n",
    "\n",
    "class LoopExecutor:\n",
    "    \"\"\" Executes self.execute each period seconds \"\"\"\n",
    "\n",
    "    def __init__(self, period):\n",
    "        self.period = period\n",
    "        self.loop = asyncio.get_event_loop()\n",
    "\n",
    "\n",
    "    def run(self):\n",
    "        self.task = self.loop.create_task(self.loop_task())\n",
    "\n",
    "\n",
    "    @abstractmethod\n",
    "    async def execute(self):\n",
    "        raise NotImplemented('method execute should be implemented')\n",
    "\n",
    "\n",
    "    async def loop_task(self):\n",
    "        while True:\n",
    "            await self.execute()\n",
    "            await asyncio.sleep(self.period)\n",
    "\n",
    "\n",
    "    def stop(self):\n",
    "        self.task.cancel()\n",
    "\n",
    "\n",
    "class EventCreationEmitter(LoopExecutor):\n",
    "\n",
    "    def __init__(self, period, operations_queue, event_params):\n",
    "        super().__init__(period)\n",
    "\n",
    "        self.operations_queue = operations_queue\n",
    "        self.event_params = event_params\n",
    "\n",
    "\n",
    "    async def create_event(self):\n",
    "        await self.operations_queue.put(self.event_params)\n",
    "        # TODO: not implemented\n",
    "        # TODO: calculate event params\n",
    "        # event_params = None\n",
    "\n",
    "        print(f'called create_event with params: {self.event_params}')\n",
    "\n",
    "\n",
    "    async def execute(self):\n",
    "        return await repeat_until_succeed(self.create_event)\n",
    "\n",
    "\n",
    "class BulkSender(LoopExecutor):\n",
    "    \"\"\" Listens to the queue and packs all new operations to the bulk,\n",
    "        signs and sends the transaction\n",
    "    \"\"\"\n",
    "\n",
    "    def __init__(self, period, client, operations_queue):\n",
    "        super().__init__(period)\n",
    "\n",
    "        self.client = client\n",
    "        self.operations_queue = operations_queue\n",
    "\n",
    "\n",
    "    async def sign(self, max_operations=3):\n",
    "        # TODO: check if ready to sign\n",
    "        # ? await self.is_ready_to_sign()\n",
    "\n",
    "        operations = []\n",
    "        while (not self.operations_queue.empty()\n",
    "               and (len(operations) < max_operations)):\n",
    "            operations.append(await operations_queue.get())\n",
    "\n",
    "        try:\n",
    "            print('SIGNED: ', operations)\n",
    "        except Exception as e:\n",
    "            print(f'catched {type(e)} in sign: {str(e)}')\n",
    "            # TODO: here I need to classify error and if it was RPC error: return\n",
    "            # operations back to the queue, if not: raise this e\n",
    "            import pdb; pdb.set_trace()\n",
    "            raise e\n",
    "\n",
    "\n",
    "    async def is_ready_to_sign(self, sleep_time=90):\n",
    "        \"\"\" Waits while client would be possible to sign transaction\n",
    "            - simple solution is just timer, better would be to reduce \n",
    "                this sleep_time value and somehow ask RPC if key is freed\n",
    "        \"\"\"\n",
    "\n",
    "        return await asyncio.sleep(sleep_time)\n",
    "\n",
    "\n",
    "    async def execute(self):\n",
    "        return await repeat_until_succeed(self.sign)\n",
    "\n",
    "\n",
    "# make queue with transactions\n",
    "# make bulk manager that takes transactions and send them into blocks"
   ]
  },
  {
   "cell_type": "code",
   "execution_count": 31,
   "id": "e309e0f0-ee74-4ef1-a600-48272222a4fe",
   "metadata": {},
   "outputs": [],
   "source": [
    "# TODO: what would happen if queue overflow?\n",
    "MAX_QUEUE_SIZE = 10\n",
    "\n",
    "client = None\n",
    "operations_queue = Queue(MAX_QUEUE_SIZE)\n",
    "\n",
    "emitters = [\n",
    "    EventCreationEmitter(period=1, operations_queue=operations_queue, event_params='test'),\n",
    "    EventCreationEmitter(period=3, operations_queue=operations_queue, event_params='RARE'),\n",
    "    BulkSender(period=4, client=client, operations_queue=operations_queue)\n",
    "]"
   ]
  },
  {
   "cell_type": "code",
   "execution_count": 32,
   "id": "9681a283-11cc-4cc5-b092-47483426fb90",
   "metadata": {},
   "outputs": [
    {
     "name": "stdout",
     "output_type": "stream",
     "text": [
      "called create_event with params: test\n",
      "called create_event with params: RARE\n",
      "SIGNED:  ['test', 'RARE']\n",
      "called create_event with params: test\n",
      "called create_event with params: test\n",
      "called create_event with params: RARE\n",
      "called create_event with params: test\n",
      "SIGNED:  ['test', 'test', 'RARE']\n",
      "called create_event with params: test\n",
      "called create_event with params: test\n",
      "called create_event with params: RARE\n",
      "called create_event with params: test\n",
      "called create_event with params: test\n",
      "SIGNED:  ['test', 'test', 'test']\n",
      "called create_event with params: test\n",
      "called create_event with params: RARE\n",
      "called create_event with params: test\n",
      "called create_event with params: test\n",
      "called create_event with params: test\n",
      "SIGNED:  ['RARE', 'test', 'test']\n",
      "called create_event with params: RARE\n",
      "called create_event with params: test\n",
      "called create_event with params: test\n",
      "called create_event with params: test\n",
      "called create_event with params: RARE\n",
      "SIGNED:  ['test', 'RARE', 'test']\n",
      "called create_event with params: test\n",
      "called create_event with params: test\n",
      "called create_event with params: test\n",
      "SIGNED:  ['test', 'test', 'RARE']\n",
      "called create_event with params: RARE\n",
      "called create_event with params: test\n",
      "called create_event with params: test\n",
      "SIGNED:  ['test', 'test', 'test']\n",
      "called create_event with params: test\n",
      "called create_event with params: RARE\n",
      "called create_event with params: test\n",
      "SIGNED:  ['RARE', 'test', 'test']\n",
      "called create_event with params: test\n",
      "called create_event with params: RARE\n"
     ]
    }
   ],
   "source": [
    "for emitter in emitters:\n",
    "    emitter.run()"
   ]
  },
  {
   "cell_type": "code",
   "execution_count": 33,
   "id": "bfce3a10-c048-4864-b49d-40aa05928012",
   "metadata": {},
   "outputs": [],
   "source": [
    "for emitter in emitters:\n",
    "    emitter.stop()"
   ]
  },
  {
   "cell_type": "code",
   "execution_count": null,
   "id": "0a6256de-5706-4826-9095-353733134be2",
   "metadata": {},
   "outputs": [],
   "source": [
    "task = loop.create_task(emitter.run())"
   ]
  },
  {
   "cell_type": "code",
   "execution_count": 3,
   "id": "91763db1-9a03-40cf-8116-c12adb10240d",
   "metadata": {},
   "outputs": [],
   "source": [
    "\n",
    "\n",
    "CONFIG = {\n",
    "    'events': [],\n",
    "    'juster_address': 'KT1CepDBrMg73d7LHm773KAsunjAjgLYituP'\n",
    "}"
   ]
  },
  {
   "cell_type": "code",
   "execution_count": 4,
   "id": "7684b315-3d2d-4675-8876-95720138eea8",
   "metadata": {},
   "outputs": [
    {
     "data": {
      "text/plain": [
       "<pytezos.client.PyTezosClient object at 0x7ff32f8817f0>\n",
       "\n",
       "Properties\n",
       ".key\t\ttz1grSQDByRpnVs7sPtaprNZRp531ZKz6Jmm\n",
       ".shell\t\t['https://api.tez.ie/rpc/florencenet']\n",
       ".block_id\thead\n",
       "\n",
       "Helpers\n",
       ".account()\n",
       ".activate_account()\n",
       ".activate_protocol()\n",
       ".bake_block()\n",
       ".balance()\n",
       ".ballot()\n",
       ".bulk()\n",
       ".check_message()\n",
       ".contract()\n",
       ".delegation()\n",
       ".double_baking_evidence()\n",
       ".double_endorsement_evidence()\n",
       ".endorsement()\n",
       ".endorsement_with_slot()\n",
       ".failing_noop()\n",
       ".now()\n",
       ".operation()\n",
       ".operation_group()\n",
       ".origination()\n",
       ".proposals()\n",
       ".reveal()\n",
       ".seed_nonce_revelation()\n",
       ".sign_message()\n",
       ".transaction()\n",
       ".using()\n",
       ".wait()"
      ]
     },
     "execution_count": 4,
     "metadata": {},
     "output_type": "execute_result"
    }
   ],
   "source": [
    "pytezos"
   ]
  },
  {
   "cell_type": "code",
   "execution_count": null,
   "id": "c277f8b3-3221-4056-83cd-5b2c4ed1398c",
   "metadata": {},
   "outputs": [],
   "source": [
    "# using pytezos mock:\n",
    "\n",
    "# Test event is created:\n",
    "\n",
    "# Test "
   ]
  }
 ],
 "metadata": {
  "kernelspec": {
   "display_name": "Python 3",
   "language": "python",
   "name": "python3"
  },
  "language_info": {
   "codemirror_mode": {
    "name": "ipython",
    "version": 3
   },
   "file_extension": ".py",
   "mimetype": "text/x-python",
   "name": "python",
   "nbconvert_exporter": "python",
   "pygments_lexer": "ipython3",
   "version": "3.9.5"
  }
 },
 "nbformat": 4,
 "nbformat_minor": 5
}
