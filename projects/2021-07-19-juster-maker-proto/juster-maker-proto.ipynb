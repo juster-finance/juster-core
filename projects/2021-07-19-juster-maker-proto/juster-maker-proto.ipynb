{
 "cells": [
  {
   "cell_type": "code",
   "execution_count": 8,
   "id": "a284436c-78fa-417a-b98d-1d094e32f810",
   "metadata": {},
   "outputs": [],
   "source": [
    "from pytezos import pytezos\n",
    "\n",
    "from config import KEY, SHELL_URI, JUSTER_ADDRESS\n",
    "client = pytezos.using(key=KEY, shell=SHELL_URI)\n",
    "contract = client.contract(JUSTER_ADDRESS)"
   ]
  },
  {
   "cell_type": "code",
   "execution_count": null,
   "id": "6c0917b1-4f96-4a62-880f-21746e0859f6",
   "metadata": {},
   "outputs": [],
   "source": [
    "from run_maker import generate_event_lines\n",
    "generate_event_lines()"
   ]
  },
  {
   "cell_type": "code",
   "execution_count": 9,
   "id": "9326fac5-a6f5-451c-baaa-92d7b813049b",
   "metadata": {},
   "outputs": [],
   "source": [
    "from dipdup import JusterDipDupClient\n",
    "from executors import WithdrawCaller\n",
    "import time\n",
    "from utility import timestamp_to_date\n",
    "\n",
    "dd_client = JusterDipDupClient()\n",
    "REWARD_SPLIT_FEE_AFTER = 24*60*60\n",
    "closed_before = timestamp_to_date(time.time() - REWARD_SPLIT_FEE_AFTER)\n",
    "withdrawable_events = dd_client.query_withdrawable_events(closed_before)"
   ]
  },
  {
   "cell_type": "code",
   "execution_count": 11,
   "id": "6ffa114f-369c-413a-8a8e-03e6f84cf64a",
   "metadata": {},
   "outputs": [],
   "source": [
    "# withdrawable_events"
   ]
  },
  {
   "cell_type": "code",
   "execution_count": 18,
   "id": "99ece1cc-ece2-40c6-a38b-0067528dabe5",
   "metadata": {},
   "outputs": [
    {
     "ename": "KeyError",
     "evalue": "7",
     "output_type": "error",
     "traceback": [
      "\u001b[0;31m---------------------------------------------------------------------------\u001b[0m",
      "\u001b[0;31mKeyError\u001b[0m                                  Traceback (most recent call last)",
      "\u001b[0;32m<ipython-input-18-c5de92d0cdc9>\u001b[0m in \u001b[0;36m<module>\u001b[0;34m\u001b[0m\n\u001b[0;32m----> 1\u001b[0;31m \u001b[0mcontract\u001b[0m\u001b[0;34m.\u001b[0m\u001b[0mstorage\u001b[0m\u001b[0;34m[\u001b[0m\u001b[0;34m'events'\u001b[0m\u001b[0;34m]\u001b[0m\u001b[0;34m[\u001b[0m\u001b[0;36m7\u001b[0m\u001b[0;34m]\u001b[0m\u001b[0;34m(\u001b[0m\u001b[0;34m)\u001b[0m\u001b[0;34m\u001b[0m\u001b[0;34m\u001b[0m\u001b[0m\n\u001b[0m",
      "\u001b[0;32m~/.local/lib/python3.9/site-packages/pytezos/contract/data.py\u001b[0m in \u001b[0;36m__getitem__\u001b[0;34m(self, item)\u001b[0m\n\u001b[1;32m     38\u001b[0m         \u001b[0mres\u001b[0m \u001b[0;34m=\u001b[0m \u001b[0mself\u001b[0m\u001b[0;34m.\u001b[0m\u001b[0mdata\u001b[0m\u001b[0;34m[\u001b[0m\u001b[0mitem\u001b[0m\u001b[0;34m]\u001b[0m\u001b[0;34m\u001b[0m\u001b[0;34m\u001b[0m\u001b[0m\n\u001b[1;32m     39\u001b[0m         \u001b[0;32mif\u001b[0m \u001b[0mres\u001b[0m \u001b[0;32mis\u001b[0m \u001b[0;32mNone\u001b[0m\u001b[0;34m:\u001b[0m\u001b[0;34m\u001b[0m\u001b[0;34m\u001b[0m\u001b[0m\n\u001b[0;32m---> 40\u001b[0;31m             \u001b[0;32mraise\u001b[0m \u001b[0mKeyError\u001b[0m\u001b[0;34m(\u001b[0m\u001b[0mitem\u001b[0m\u001b[0;34m)\u001b[0m\u001b[0;34m\u001b[0m\u001b[0;34m\u001b[0m\u001b[0m\n\u001b[0m\u001b[1;32m     41\u001b[0m         \u001b[0;32mreturn\u001b[0m \u001b[0mContractData\u001b[0m\u001b[0;34m(\u001b[0m\u001b[0mself\u001b[0m\u001b[0;34m.\u001b[0m\u001b[0mcontext\u001b[0m\u001b[0;34m,\u001b[0m \u001b[0mres\u001b[0m\u001b[0;34m,\u001b[0m \u001b[0mpath\u001b[0m\u001b[0;34m=\u001b[0m\u001b[0;34mf'{self.path}/{item}'\u001b[0m\u001b[0;34m)\u001b[0m\u001b[0;34m\u001b[0m\u001b[0;34m\u001b[0m\u001b[0m\n\u001b[1;32m     42\u001b[0m \u001b[0;34m\u001b[0m\u001b[0m\n",
      "\u001b[0;31mKeyError\u001b[0m: 7"
     ]
    }
   ],
   "source": [
    "contract.storage['events'][7]()"
   ]
  },
  {
   "cell_type": "markdown",
   "id": "58ffbef0-995f-4589-94c5-599086725235",
   "metadata": {},
   "source": [
    "### Why 7 and 12 events have unwithdrawn positions?"
   ]
  },
  {
   "cell_type": "code",
   "execution_count": 133,
   "id": "8e0c451f-7b3a-4158-a219-4c892076f952",
   "metadata": {},
   "outputs": [
    {
     "data": {
      "text/plain": [
       "8"
      ]
     },
     "execution_count": 133,
     "metadata": {},
     "output_type": "execute_result"
    }
   ],
   "source": [
    "import requests\n",
    "import json\n",
    "import pandas as pd\n",
    "from urllib.parse import urlencode\n",
    "\n",
    "method = f'https://api.florencenet.tzkt.io/v1/accounts/{JUSTER_ADDRESS}/operations?'\n",
    "params = urlencode({\n",
    "    'limit': 1000,\n",
    "    'parameter.eventId.eq': 3,\n",
    "    # 'parameters': 'withdraw'\n",
    "})\n",
    "response = requests.get(method + params)\n",
    "\n",
    "data = json.loads(response.text)\n",
    "df = pd.json_normalize(data)\n",
    "len(df)"
   ]
  },
  {
   "cell_type": "code",
   "execution_count": 134,
   "id": "9d1a8680-fa06-47cd-b03d-80fc8e7e51a3",
   "metadata": {},
   "outputs": [
    {
     "data": {
      "text/html": [
       "<div>\n",
       "<style scoped>\n",
       "    .dataframe tbody tr th:only-of-type {\n",
       "        vertical-align: middle;\n",
       "    }\n",
       "\n",
       "    .dataframe tbody tr th {\n",
       "        vertical-align: top;\n",
       "    }\n",
       "\n",
       "    .dataframe thead th {\n",
       "        text-align: right;\n",
       "    }\n",
       "</style>\n",
       "<table border=\"1\" class=\"dataframe\">\n",
       "  <thead>\n",
       "    <tr style=\"text-align: right;\">\n",
       "      <th></th>\n",
       "      <th>parameter.entrypoint</th>\n",
       "    </tr>\n",
       "  </thead>\n",
       "  <tbody>\n",
       "    <tr>\n",
       "      <th>0</th>\n",
       "      <td>NaN</td>\n",
       "    </tr>\n",
       "    <tr>\n",
       "      <th>1</th>\n",
       "      <td>withdraw</td>\n",
       "    </tr>\n",
       "    <tr>\n",
       "      <th>2</th>\n",
       "      <td>withdraw</td>\n",
       "    </tr>\n",
       "    <tr>\n",
       "      <th>3</th>\n",
       "      <td>withdraw</td>\n",
       "    </tr>\n",
       "    <tr>\n",
       "      <th>4</th>\n",
       "      <td>withdraw</td>\n",
       "    </tr>\n",
       "    <tr>\n",
       "      <th>5</th>\n",
       "      <td>withdraw</td>\n",
       "    </tr>\n",
       "    <tr>\n",
       "      <th>6</th>\n",
       "      <td>provideLiquidity</td>\n",
       "    </tr>\n",
       "    <tr>\n",
       "      <th>7</th>\n",
       "      <td>NaN</td>\n",
       "    </tr>\n",
       "  </tbody>\n",
       "</table>\n",
       "</div>"
      ],
      "text/plain": [
       "  parameter.entrypoint\n",
       "0                  NaN\n",
       "1             withdraw\n",
       "2             withdraw\n",
       "3             withdraw\n",
       "4             withdraw\n",
       "5             withdraw\n",
       "6     provideLiquidity\n",
       "7                  NaN"
      ]
     },
     "execution_count": 134,
     "metadata": {},
     "output_type": "execute_result"
    }
   ],
   "source": [
    "df[['parameter.entrypoint']]"
   ]
  },
  {
   "cell_type": "code",
   "execution_count": 135,
   "id": "cd73b2d4-9900-4cb2-af7e-1b7e6f301504",
   "metadata": {},
   "outputs": [
    {
     "data": {
      "text/html": [
       "<div>\n",
       "<style scoped>\n",
       "    .dataframe tbody tr th:only-of-type {\n",
       "        vertical-align: middle;\n",
       "    }\n",
       "\n",
       "    .dataframe tbody tr th {\n",
       "        vertical-align: top;\n",
       "    }\n",
       "\n",
       "    .dataframe thead th {\n",
       "        text-align: right;\n",
       "    }\n",
       "</style>\n",
       "<table border=\"1\" class=\"dataframe\">\n",
       "  <thead>\n",
       "    <tr style=\"text-align: right;\">\n",
       "      <th></th>\n",
       "      <th>type</th>\n",
       "      <th>id</th>\n",
       "      <th>level</th>\n",
       "      <th>timestamp</th>\n",
       "      <th>block</th>\n",
       "      <th>hash</th>\n",
       "      <th>counter</th>\n",
       "      <th>nonce</th>\n",
       "      <th>gasLimit</th>\n",
       "      <th>gasUsed</th>\n",
       "      <th>...</th>\n",
       "      <th>parameter.value.eventId</th>\n",
       "      <th>parameter.value.participantAddress</th>\n",
       "      <th>parameter.value.maxSlippage</th>\n",
       "      <th>parameter.value.expectedRatioBelow</th>\n",
       "      <th>parameter.value.expectedRatioAboveEq</th>\n",
       "      <th>contractBalance</th>\n",
       "      <th>originatedContract.kind</th>\n",
       "      <th>originatedContract.address</th>\n",
       "      <th>originatedContract.typeHash</th>\n",
       "      <th>originatedContract.codeHash</th>\n",
       "    </tr>\n",
       "  </thead>\n",
       "  <tbody>\n",
       "    <tr>\n",
       "      <th>1</th>\n",
       "      <td>transaction</td>\n",
       "      <td>3132285</td>\n",
       "      <td>284963</td>\n",
       "      <td>2021-06-22T11:28:30Z</td>\n",
       "      <td>BLMwhz7Hi2Tg4wyWXVYP3xjGSB9aeV26RCS5zTm6AmY5gp...</td>\n",
       "      <td>opNJ7tLmtAAJQSyJNa2XrSmp6u9GFrRC5KthvCmgdvjCqn...</td>\n",
       "      <td>52012</td>\n",
       "      <td>NaN</td>\n",
       "      <td>135035</td>\n",
       "      <td>133508</td>\n",
       "      <td>...</td>\n",
       "      <td>3</td>\n",
       "      <td>tz1TdKuFwYgbPHHb7y1VvLH4xiwtAzcjwDjM</td>\n",
       "      <td>NaN</td>\n",
       "      <td>NaN</td>\n",
       "      <td>NaN</td>\n",
       "      <td>NaN</td>\n",
       "      <td>NaN</td>\n",
       "      <td>NaN</td>\n",
       "      <td>NaN</td>\n",
       "      <td>NaN</td>\n",
       "    </tr>\n",
       "    <tr>\n",
       "      <th>2</th>\n",
       "      <td>transaction</td>\n",
       "      <td>3132284</td>\n",
       "      <td>284963</td>\n",
       "      <td>2021-06-22T11:28:30Z</td>\n",
       "      <td>BLMwhz7Hi2Tg4wyWXVYP3xjGSB9aeV26RCS5zTm6AmY5gp...</td>\n",
       "      <td>opQ5hV9c4bbQrzCotAAGrx7GscvJSe4TarNZVAp4QsPtc1...</td>\n",
       "      <td>52029</td>\n",
       "      <td>NaN</td>\n",
       "      <td>132482</td>\n",
       "      <td>132382</td>\n",
       "      <td>...</td>\n",
       "      <td>3</td>\n",
       "      <td>tz1RS9GoEXakf9iyBmSaheLMcakFRtzBXpWE</td>\n",
       "      <td>NaN</td>\n",
       "      <td>NaN</td>\n",
       "      <td>NaN</td>\n",
       "      <td>NaN</td>\n",
       "      <td>NaN</td>\n",
       "      <td>NaN</td>\n",
       "      <td>NaN</td>\n",
       "      <td>NaN</td>\n",
       "    </tr>\n",
       "    <tr>\n",
       "      <th>3</th>\n",
       "      <td>transaction</td>\n",
       "      <td>3132056</td>\n",
       "      <td>284950</td>\n",
       "      <td>2021-06-22T11:21:40Z</td>\n",
       "      <td>BLaG3qFCcuv3LUgbCnHErrqc8TwSqd4LxkFHcVBEPFAYwo...</td>\n",
       "      <td>opHhUbwQELo9kjbi3E9JA2uWACX8kUFTRB3Kiu2F7wwyn5...</td>\n",
       "      <td>52013</td>\n",
       "      <td>NaN</td>\n",
       "      <td>132482</td>\n",
       "      <td>132382</td>\n",
       "      <td>...</td>\n",
       "      <td>3</td>\n",
       "      <td>tz1ZAzDvkZCT2LAyPN8Kdxw3kes7xfWerZhZ</td>\n",
       "      <td>NaN</td>\n",
       "      <td>NaN</td>\n",
       "      <td>NaN</td>\n",
       "      <td>NaN</td>\n",
       "      <td>NaN</td>\n",
       "      <td>NaN</td>\n",
       "      <td>NaN</td>\n",
       "      <td>NaN</td>\n",
       "    </tr>\n",
       "    <tr>\n",
       "      <th>4</th>\n",
       "      <td>transaction</td>\n",
       "      <td>3131994</td>\n",
       "      <td>284946</td>\n",
       "      <td>2021-06-22T11:19:40Z</td>\n",
       "      <td>BKzpq4jz6DvU4d91CchU32f2cXM3ob5g4GEPpKfgZxRpW9...</td>\n",
       "      <td>oordx4N4zVkNqeZDCJk2D1Zcyr4jjGtwbc6PKiKiG85csb...</td>\n",
       "      <td>52019</td>\n",
       "      <td>NaN</td>\n",
       "      <td>132482</td>\n",
       "      <td>132382</td>\n",
       "      <td>...</td>\n",
       "      <td>3</td>\n",
       "      <td>tz1MdaJfWzP5pPx3gwPxfdLZTHW6js9havos</td>\n",
       "      <td>NaN</td>\n",
       "      <td>NaN</td>\n",
       "      <td>NaN</td>\n",
       "      <td>NaN</td>\n",
       "      <td>NaN</td>\n",
       "      <td>NaN</td>\n",
       "      <td>NaN</td>\n",
       "      <td>NaN</td>\n",
       "    </tr>\n",
       "    <tr>\n",
       "      <th>5</th>\n",
       "      <td>transaction</td>\n",
       "      <td>3131930</td>\n",
       "      <td>284942</td>\n",
       "      <td>2021-06-22T11:17:40Z</td>\n",
       "      <td>BLWBVexAw1YFmaBbUoxFPdwzEAwSHacVJE4ztRP4oRsoNF...</td>\n",
       "      <td>ooE2PBZQ9y9H2E2Zs8C6s1C6DNENiKhXj8D7eZJJgGCu2b...</td>\n",
       "      <td>52021</td>\n",
       "      <td>NaN</td>\n",
       "      <td>132482</td>\n",
       "      <td>132382</td>\n",
       "      <td>...</td>\n",
       "      <td>3</td>\n",
       "      <td>tz1iQE8ijR5xVPffBUPFubwB9XQJuyD9qsoJ</td>\n",
       "      <td>NaN</td>\n",
       "      <td>NaN</td>\n",
       "      <td>NaN</td>\n",
       "      <td>NaN</td>\n",
       "      <td>NaN</td>\n",
       "      <td>NaN</td>\n",
       "      <td>NaN</td>\n",
       "      <td>NaN</td>\n",
       "    </tr>\n",
       "  </tbody>\n",
       "</table>\n",
       "<p>5 rows × 34 columns</p>\n",
       "</div>"
      ],
      "text/plain": [
       "          type       id   level             timestamp  \\\n",
       "1  transaction  3132285  284963  2021-06-22T11:28:30Z   \n",
       "2  transaction  3132284  284963  2021-06-22T11:28:30Z   \n",
       "3  transaction  3132056  284950  2021-06-22T11:21:40Z   \n",
       "4  transaction  3131994  284946  2021-06-22T11:19:40Z   \n",
       "5  transaction  3131930  284942  2021-06-22T11:17:40Z   \n",
       "\n",
       "                                               block  \\\n",
       "1  BLMwhz7Hi2Tg4wyWXVYP3xjGSB9aeV26RCS5zTm6AmY5gp...   \n",
       "2  BLMwhz7Hi2Tg4wyWXVYP3xjGSB9aeV26RCS5zTm6AmY5gp...   \n",
       "3  BLaG3qFCcuv3LUgbCnHErrqc8TwSqd4LxkFHcVBEPFAYwo...   \n",
       "4  BKzpq4jz6DvU4d91CchU32f2cXM3ob5g4GEPpKfgZxRpW9...   \n",
       "5  BLWBVexAw1YFmaBbUoxFPdwzEAwSHacVJE4ztRP4oRsoNF...   \n",
       "\n",
       "                                                hash  counter  nonce  \\\n",
       "1  opNJ7tLmtAAJQSyJNa2XrSmp6u9GFrRC5KthvCmgdvjCqn...    52012    NaN   \n",
       "2  opQ5hV9c4bbQrzCotAAGrx7GscvJSe4TarNZVAp4QsPtc1...    52029    NaN   \n",
       "3  opHhUbwQELo9kjbi3E9JA2uWACX8kUFTRB3Kiu2F7wwyn5...    52013    NaN   \n",
       "4  oordx4N4zVkNqeZDCJk2D1Zcyr4jjGtwbc6PKiKiG85csb...    52019    NaN   \n",
       "5  ooE2PBZQ9y9H2E2Zs8C6s1C6DNENiKhXj8D7eZJJgGCu2b...    52021    NaN   \n",
       "\n",
       "   gasLimit  gasUsed  ...  parameter.value.eventId  \\\n",
       "1    135035   133508  ...                        3   \n",
       "2    132482   132382  ...                        3   \n",
       "3    132482   132382  ...                        3   \n",
       "4    132482   132382  ...                        3   \n",
       "5    132482   132382  ...                        3   \n",
       "\n",
       "     parameter.value.participantAddress parameter.value.maxSlippage  \\\n",
       "1  tz1TdKuFwYgbPHHb7y1VvLH4xiwtAzcjwDjM                         NaN   \n",
       "2  tz1RS9GoEXakf9iyBmSaheLMcakFRtzBXpWE                         NaN   \n",
       "3  tz1ZAzDvkZCT2LAyPN8Kdxw3kes7xfWerZhZ                         NaN   \n",
       "4  tz1MdaJfWzP5pPx3gwPxfdLZTHW6js9havos                         NaN   \n",
       "5  tz1iQE8ijR5xVPffBUPFubwB9XQJuyD9qsoJ                         NaN   \n",
       "\n",
       "  parameter.value.expectedRatioBelow parameter.value.expectedRatioAboveEq  \\\n",
       "1                                NaN                                  NaN   \n",
       "2                                NaN                                  NaN   \n",
       "3                                NaN                                  NaN   \n",
       "4                                NaN                                  NaN   \n",
       "5                                NaN                                  NaN   \n",
       "\n",
       "  contractBalance  originatedContract.kind  originatedContract.address  \\\n",
       "1             NaN                      NaN                         NaN   \n",
       "2             NaN                      NaN                         NaN   \n",
       "3             NaN                      NaN                         NaN   \n",
       "4             NaN                      NaN                         NaN   \n",
       "5             NaN                      NaN                         NaN   \n",
       "\n",
       "   originatedContract.typeHash  originatedContract.codeHash  \n",
       "1                          NaN                          NaN  \n",
       "2                          NaN                          NaN  \n",
       "3                          NaN                          NaN  \n",
       "4                          NaN                          NaN  \n",
       "5                          NaN                          NaN  \n",
       "\n",
       "[5 rows x 34 columns]"
      ]
     },
     "execution_count": 135,
     "metadata": {},
     "output_type": "execute_result"
    }
   ],
   "source": [
    "withdrawals = df[ df['parameter.entrypoint'] == 'withdraw' ]\n",
    "withdrawals"
   ]
  },
  {
   "cell_type": "code",
   "execution_count": 132,
   "id": "b4247966-b2e1-4c45-ac7b-fa771423955d",
   "metadata": {},
   "outputs": [
    {
     "data": {
      "text/plain": [
       "{1: 'oo5gGoR3NnnnZBgt4FJw6EFz3bN1QqdRTFnvCQgGhnfdFnPZdCe',\n",
       " 2: 'opF9uh7hbgd7wzmp7HYQ6vwVvrYaQwFhB9syyeCgnkeU15B8jiG'}"
      ]
     },
     "execution_count": 132,
     "metadata": {},
     "output_type": "execute_result"
    }
   ],
   "source": [
    "withdrawals.hash.to_dict()"
   ]
  },
  {
   "cell_type": "code",
   "execution_count": 107,
   "id": "b11bc7f3-55ad-424d-8745-6960c238cb11",
   "metadata": {},
   "outputs": [
    {
     "data": {
      "text/plain": [
       "type                                                                          transaction\n",
       "id                                                                                3436267\n",
       "level                                                                              307831\n",
       "timestamp                                                            2021-06-30T15:39:34Z\n",
       "block                                   BMQSErNSwsXvZrecCmAKBSgP62vZDtqvUY5f9Rqgyp15j7...\n",
       "hash                                    oo5gGoR3NnnnZBgt4FJw6EFz3bN1QqdRTFnvCQgGhnfdFn...\n",
       "counter                                                                             52058\n",
       "nonce                                                                                 NaN\n",
       "gasLimit                                                                           137452\n",
       "gasUsed                                                                            134498\n",
       "bakerFee                                                                            14093\n",
       "amount                                                                                0.0\n",
       "status                                                                            applied\n",
       "initiator.address                                                                     NaN\n",
       "sender.address                                       tz1RS9GoEXakf9iyBmSaheLMcakFRtzBXpWE\n",
       "newDelegate.address                                                                   NaN\n",
       "storageLimit                                                                          0.0\n",
       "storageUsed                                                                           0.0\n",
       "storageFee                                                                            0.0\n",
       "allocationFee                                                                         0.0\n",
       "hasInternals                                                                         True\n",
       "parameters                              {\"entrypoint\":\"withdraw\",\"value\":{\"prim\":\"Pair...\n",
       "target.address                                       KT1CepDBrMg73d7LHm773KAsunjAjgLYituP\n",
       "parameter.entrypoint                                                             withdraw\n",
       "parameter.value.eventId                                                                12\n",
       "parameter.value.participantAddress                   tz1RTsbRUep7bXHTjPGapUtChqRXwccYMtNa\n",
       "parameter.value.minimalWinAmount                                                      NaN\n",
       "parameter.value.maxSlippage                                                           NaN\n",
       "parameter.value.expectedRatioBelow                                                    NaN\n",
       "parameter.value.expectedRatioAboveEq                                                  NaN\n",
       "contractBalance                                                                       NaN\n",
       "originatedContract.kind                                                               NaN\n",
       "originatedContract.address                                                            NaN\n",
       "originatedContract.typeHash                                                           NaN\n",
       "originatedContract.codeHash                                                           NaN\n",
       "Name: 1, dtype: object"
      ]
     },
     "execution_count": 107,
     "metadata": {},
     "output_type": "execute_result"
    }
   ],
   "source": [
    "withdrawals.iloc[0]['hash'].to_dict()"
   ]
  },
  {
   "cell_type": "code",
   "execution_count": 68,
   "id": "b8db6245-687b-4699-bbf9-51d2d0acb3a3",
   "metadata": {},
   "outputs": [
    {
     "data": {
      "text/plain": [
       "'opF9uh7hbgd7wzmp7HYQ6vwVvrYaQwFhB9syyeCgnkeU15B8jiG'"
      ]
     },
     "execution_count": 68,
     "metadata": {},
     "output_type": "execute_result"
    }
   ],
   "source": [
    "# https://better-call.dev/florencenet/opg/opF9uh7hbgd7wzmp7HYQ6vwVvrYaQwFhB9syyeCgnkeU15B8jiG/contents\n",
    "# participants 2 -> 1\n",
    "\n",
    "w12.iloc[0].hash"
   ]
  },
  {
   "cell_type": "markdown",
   "id": "6e438f77-74d3-4620-839b-40e85b068f25",
   "metadata": {},
   "source": [
    "### Juster-Maker:\n",
    "Tool allowing to run events in cycle"
   ]
  },
  {
   "cell_type": "markdown",
   "id": "d49b745e-8cf7-4cdc-abf5-de3444895ae2",
   "metadata": {},
   "source": [
    "### Создание линеек ивентов:\n",
    "- Линейка ивентов - это набор из однотипных ивентов которые создаются друг за другом с наложением периода принятия ставок и периода измерения.\n",
    "- Тип ивента может быть определён по 3 параметрам:\n",
    "    - валютная пара\n",
    "    - target dynamics\n",
    "    - period\n",
    "- Также ивенты могут отличаются liquidity_percent но сейчас я считаю что liquidity percent привязыватеся к period + target_dynamics\n",
    "\n",
    "- TODO: вынести в отдельный ipynb или отдельный скрипт (если отдельный скрипт - хорошо было бы описать этот процесс в readme.MD, либо может нужно вообще CLI утилиту сделать в которой одна из точек входа это генерация линеек)"
   ]
  },
  {
   "cell_type": "markdown",
   "id": "ff37eee1-5d6b-4dca-b937-31bf8fec20cf",
   "metadata": {},
   "source": [
    "### TODO: remake all using apscheduler\n",
    "    https://apscheduler.readthedocs.io/en/stable/"
   ]
  },
  {
   "cell_type": "markdown",
   "id": "ee382d19-c81a-48ea-8ea7-f28aa2e484d1",
   "metadata": {},
   "source": [
    "### TODO: Autowithdrawal after 24 hours\n",
    "    - for all events check if it is closed for more than 24 hours, if it is, make withdrawal transactions for all participants\n",
    "\n",
    "### TODO: add here pusher & startMeasurement/close?\n",
    "### TODO: in event creation somehow check that event successfully created and if it is not: make another in 5 minutes?"
   ]
  },
  {
   "cell_type": "markdown",
   "id": "ff4229f6-91bb-45cc-a7b8-14b7033411c3",
   "metadata": {},
   "source": [
    "### TODO: it is better not to return transactions in pool by BulkSigner, but reemmit all transactions by EventEmmitter / LiquidityProvider instead\n",
    "- so EventEmmitter can just check either transaction was successfull or not (after some pause for 10 mins for example) and only add period to timer if it was succeed\n",
    "- the same with LiquidityProvider who just checks only for the last possible events in line, so if it is new event: he would use it"
   ]
  },
  {
   "cell_type": "markdown",
   "id": "41c58bc6-342f-424c-9237-66a85e98a269",
   "metadata": {},
   "source": [
    "### ++ TODO: PROVIDE LIQUIDITY for this events"
   ]
  },
  {
   "cell_type": "markdown",
   "id": "2d315b4f-3262-4774-96f8-1c3609ba6f41",
   "metadata": {},
   "source": [
    "### ++ TODO: OK, в общем проще всего мне кажется вот так:\n",
    "    - для каждой линейки ивентов создаётся свой event_emitter, он проверяет что пришло время запустить ивет сравнивая текущее значение таймера с таргетом. И после запуска ивента он переставляет таймер дальше.\n",
    "    - с определённой частотой (например раз в 20 секунд) таймер проверяется и если время больше чем в таймере - транза с новым ивентом закидывается в очередь и подхватывается BulkSender"
   ]
  },
  {
   "cell_type": "markdown",
   "id": "0b783d7d-3ec0-45ad-b974-d9527cede188",
   "metadata": {},
   "source": [
    "### TODO: maybe make next_event func/iterator that returns time and params for the next events"
   ]
  },
  {
   "cell_type": "code",
   "execution_count": null,
   "id": "bf634907-3bdf-4385-acb1-a90743f78784",
   "metadata": {},
   "outputs": [],
   "source": []
  },
  {
   "cell_type": "markdown",
   "id": "c1900145-3a29-429b-a3c4-d552d94e211b",
   "metadata": {},
   "source": [
    "### TODO: need to have some tests for LoopExecutor:\n",
    "- for example that it runned function K times in given time"
   ]
  },
  {
   "cell_type": "markdown",
   "id": "e9fdd87a-9d7e-48e7-838c-c9ff1f33453c",
   "metadata": {},
   "source": [
    "### TODO: need to test all this code before running in florencenet"
   ]
  },
  {
   "cell_type": "markdown",
   "id": "a22bb2a9-a65b-44fe-9136-2c41e80f2d09",
   "metadata": {},
   "source": [
    "### TODO: provide liquidity\n",
    "### TODO: pushing prices"
   ]
  },
  {
   "cell_type": "code",
   "execution_count": null,
   "id": "7a6a73a5-8aa8-42fd-855e-7d9da8a69a2d",
   "metadata": {},
   "outputs": [],
   "source": []
  }
 ],
 "metadata": {
  "kernelspec": {
   "display_name": "Python 3",
   "language": "python",
   "name": "python3"
  },
  "language_info": {
   "codemirror_mode": {
    "name": "ipython",
    "version": 3
   },
   "file_extension": ".py",
   "mimetype": "text/x-python",
   "name": "python",
   "nbconvert_exporter": "python",
   "pygments_lexer": "ipython3",
   "version": "3.9.6"
  }
 },
 "nbformat": 4,
 "nbformat_minor": 5
}
