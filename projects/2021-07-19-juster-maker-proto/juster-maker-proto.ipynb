{
 "cells": [
  {
   "cell_type": "code",
   "execution_count": 1,
   "id": "09d7b88e-0b3b-4d86-ad40-f005f01360f1",
   "metadata": {},
   "outputs": [],
   "source": [
    "_ = '''\n",
    "transaction = contract.newEvent({\n",
    "    'currencyPair': 'XTZ-USD',\n",
    "    'targetDynamics': 1000000,\n",
    "    'betsCloseTime': int(time.time()) + 3600,\n",
    "    'measurePeriod': 3600,\n",
    "    'liquidityPercent': 10000,\n",
    "}).as_transaction()\n",
    "\n",
    "transaction.json_payload()#.hash()\n",
    "'''"
   ]
  },
  {
   "cell_type": "markdown",
   "id": "6e438f77-74d3-4620-839b-40e85b068f25",
   "metadata": {},
   "source": [
    "### Juster-Maker:\n",
    "Tool allowing to run events in cycle"
   ]
  },
  {
   "cell_type": "code",
   "execution_count": 2,
   "id": "0f940512-7dfa-4e2d-904a-b0045e3ea085",
   "metadata": {},
   "outputs": [],
   "source": [
    "from pytezos import pytezos\n",
    "import time\n",
    "from pprint import pprint\n",
    "from utility import repeat_until_succeed\n",
    "from bulk_sender import BulkSender\n",
    "from event_emitter import EventCreationEmitter\n",
    "\n",
    "\n",
    "# pytezos = pytezos.using(shell='https://florencenet-tezos.giganode.io')\n",
    "pytezos = pytezos.using(shell='https://api.tez.ie/rpc/florencenet')"
   ]
  },
  {
   "cell_type": "code",
   "execution_count": 3,
   "id": "9b6d4034-da48-4b6d-83e2-149a05628c78",
   "metadata": {},
   "outputs": [],
   "source": [
    "_ = '''\n",
    "CONFIG = {\n",
    "    'events': [],\n",
    "    'juster_address': 'KT1CepDBrMg73d7LHm773KAsunjAjgLYituP'\n",
    "}\n",
    "'''"
   ]
  },
  {
   "cell_type": "code",
   "execution_count": 4,
   "id": "82ac27e8-f321-41d0-a3a9-a9c16dc0cc29",
   "metadata": {},
   "outputs": [],
   "source": [
    "address = 'KT1CepDBrMg73d7LHm773KAsunjAjgLYituP'\n",
    "client = pytezos.using(\n",
    "    key='../2021-05-27-tests-modelling/test-keys/tz1iQE8ijR5xVPffBUPFubwB9XQJuyD9qsoJ.json'\n",
    ")\n",
    "contract = client.contract(address)"
   ]
  },
  {
   "cell_type": "code",
   "execution_count": 5,
   "id": "4730f292-1c56-4a90-952a-645a00e646d6",
   "metadata": {},
   "outputs": [
    {
     "data": {
      "text/plain": [
       "1626715973.9891067"
      ]
     },
     "execution_count": 5,
     "metadata": {},
     "output_type": "execute_result"
    }
   ],
   "source": [
    "import time\n",
    "time.time()"
   ]
  },
  {
   "cell_type": "code",
   "execution_count": 6,
   "id": "1c0a831a-56b0-4fde-87ed-5174090a2207",
   "metadata": {},
   "outputs": [
    {
     "data": {
      "text/plain": [
       "1626714000.0"
      ]
     },
     "execution_count": 6,
     "metadata": {},
     "output_type": "execute_result"
    }
   ],
   "source": [
    "from datetime import datetime\n",
    "\n",
    "def date_to_timestamp(date, time_format='%Y-%m-%d %H:%M:%S'):\n",
    "    \"\"\" Converts date to timestamp using by default\n",
    "        '%Y-%m-%d %H:%M:%S' format \"\"\"\n",
    "\n",
    "    return datetime.strptime(date, time_format).timestamp()\n",
    "\n",
    "date_to_timestamp('2021-07-19 20:00:00')"
   ]
  },
  {
   "cell_type": "markdown",
   "id": "a16e4972-ec1f-4e0d-9338-f957f2597acb",
   "metadata": {},
   "source": [
    "### TODO:\n",
    "- starts_from parameter for events creators so it would be possible to bind events to the time slots"
   ]
  },
  {
   "cell_type": "code",
   "execution_count": 7,
   "id": "e60a0e3e-eac2-401b-bdd9-fa1fde267316",
   "metadata": {},
   "outputs": [],
   "source": [
    "from asyncio import Queue\n",
    "\n",
    "# TODO: what would happen if queue overflow?\n",
    "MAX_QUEUE_SIZE = 50\n",
    "\n",
    "operations_queue = Queue(MAX_QUEUE_SIZE)\n",
    "\n",
    "events_params = [\n",
    "    {\n",
    "        'currency_pair': currency_pair,\n",
    "        # 'first_at': \n",
    "        'target_dynamics': 1_000_000,\n",
    "        'bets_period': period,\n",
    "        'measure_period': period,\n",
    "        'liquidity_percent': 10_000,\n",
    "        'expiration_fee': 100_000,\n",
    "        'measure_start_fee': 100_000\n",
    "    } for currency_pair in ['XTZ-USD', 'BTC-USD']\n",
    "    for period in [600, 900]\n",
    "]"
   ]
  },
  {
   "cell_type": "code",
   "execution_count": 8,
   "id": "e309e0f0-ee74-4ef1-a600-48272222a4fe",
   "metadata": {},
   "outputs": [],
   "source": [
    "# for each event_params EventCreationEmitter is created:\n",
    "emitters = [\n",
    "    EventCreationEmitter(\n",
    "        period=params['bets_period'],\n",
    "        contract=contract,\n",
    "        operations_queue=operations_queue,\n",
    "        event_params=params)\n",
    "    for params in events_params\n",
    "]\n",
    "\n",
    "emitters.append(\n",
    "    BulkSender(period=60, client=client, operations_queue=operations_queue)\n",
    ")"
   ]
  },
  {
   "cell_type": "code",
   "execution_count": 9,
   "id": "9681a283-11cc-4cc5-b092-47483426fb90",
   "metadata": {
    "tags": []
   },
   "outputs": [
    {
     "name": "stdout",
     "output_type": "stream",
     "text": [
      "created newEvent transaction with parameters: {'currencyPair': 'XTZ-USD', 'targetDynamics': 1000000, 'betsCloseTime': 1626716477, 'measurePeriod': 600, 'liquidityPercent': 10000}\n",
      "created newEvent transaction with parameters: {'currencyPair': 'XTZ-USD', 'targetDynamics': 1000000, 'betsCloseTime': 1626716777, 'measurePeriod': 900, 'liquidityPercent': 10000}\n",
      "created newEvent transaction with parameters: {'currencyPair': 'BTC-USD', 'targetDynamics': 1000000, 'betsCloseTime': 1626716477, 'measurePeriod': 600, 'liquidityPercent': 10000}\n",
      "created newEvent transaction with parameters: {'currencyPair': 'BTC-USD', 'targetDynamics': 1000000, 'betsCloseTime': 1626716777, 'measurePeriod': 900, 'liquidityPercent': 10000}\n",
      "making bulk of 4 operations\n",
      "catched <class 'AttributeError'> in sign: 'dict' object has no attribute 'hash'\n"
     ]
    }
   ],
   "source": [
    "for emitter in emitters:\n",
    "    emitter.run()"
   ]
  },
  {
   "cell_type": "markdown",
   "id": "e9fdd87a-9d7e-48e7-838c-c9ff1f33453c",
   "metadata": {},
   "source": [
    "### TODO: need to test all this code before running in florencenet"
   ]
  },
  {
   "cell_type": "code",
   "execution_count": 1,
   "id": "bfce3a10-c048-4864-b49d-40aa05928012",
   "metadata": {},
   "outputs": [
    {
     "ename": "NameError",
     "evalue": "name 'emitters' is not defined",
     "output_type": "error",
     "traceback": [
      "\u001b[0;31m---------------------------------------------------------------------------\u001b[0m",
      "\u001b[0;31mNameError\u001b[0m                                 Traceback (most recent call last)",
      "\u001b[0;32m<ipython-input-1-cab38f9162a6>\u001b[0m in \u001b[0;36m<module>\u001b[0;34m\u001b[0m\n\u001b[0;32m----> 1\u001b[0;31m \u001b[0;32mfor\u001b[0m \u001b[0memitter\u001b[0m \u001b[0;32min\u001b[0m \u001b[0memitters\u001b[0m\u001b[0;34m:\u001b[0m\u001b[0;34m\u001b[0m\u001b[0;34m\u001b[0m\u001b[0m\n\u001b[0m\u001b[1;32m      2\u001b[0m     \u001b[0memitter\u001b[0m\u001b[0;34m.\u001b[0m\u001b[0mstop\u001b[0m\u001b[0;34m(\u001b[0m\u001b[0;34m)\u001b[0m\u001b[0;34m\u001b[0m\u001b[0;34m\u001b[0m\u001b[0m\n",
      "\u001b[0;31mNameError\u001b[0m: name 'emitters' is not defined"
     ]
    }
   ],
   "source": [
    "for emitter in emitters:\n",
    "    emitter.stop()"
   ]
  },
  {
   "cell_type": "code",
   "execution_count": null,
   "id": "7a6a73a5-8aa8-42fd-855e-7d9da8a69a2d",
   "metadata": {},
   "outputs": [],
   "source": []
  }
 ],
 "metadata": {
  "kernelspec": {
   "display_name": "Python 3",
   "language": "python",
   "name": "python3"
  },
  "language_info": {
   "codemirror_mode": {
    "name": "ipython",
    "version": 3
   },
   "file_extension": ".py",
   "mimetype": "text/x-python",
   "name": "python",
   "nbconvert_exporter": "python",
   "pygments_lexer": "ipython3",
   "version": "3.9.5"
  }
 },
 "nbformat": 4,
 "nbformat_minor": 5
}
