{
 "cells": [
  {
   "cell_type": "code",
   "execution_count": 1,
   "id": "a284436c-78fa-417a-b98d-1d094e32f810",
   "metadata": {},
   "outputs": [],
   "source": [
    "from pytezos import pytezos\n",
    "\n",
    "from config import KEY, SHELL_URI, JUSTER_ADDRESS\n",
    "client = pytezos.using(key=KEY, shell=SHELL_URI)\n",
    "contract = client.contract(JUSTER_ADDRESS)"
   ]
  },
  {
   "cell_type": "code",
   "execution_count": 2,
   "id": "6c0917b1-4f96-4a62-880f-21746e0859f6",
   "metadata": {},
   "outputs": [
    {
     "name": "stdout",
     "output_type": "stream",
     "text": [
      "generated 27 event lines\n"
     ]
    }
   ],
   "source": [
    "from run_maker import generate_event_lines\n",
    "generate_event_lines()"
   ]
  },
  {
   "cell_type": "code",
   "execution_count": 3,
   "id": "9326fac5-a6f5-451c-baaa-92d7b813049b",
   "metadata": {},
   "outputs": [],
   "source": [
    "from dipdup import JusterDipDupClient\n",
    "from executors import WithdrawCaller\n",
    "import time\n",
    "from utility import timestamp_to_date\n",
    "\n",
    "dd_client = JusterDipDupClient()\n",
    "REWARD_SPLIT_FEE_AFTER = 24*60*60\n",
    "closed_before = timestamp_to_date(time.time() - REWARD_SPLIT_FEE_AFTER)\n",
    "withdrawable_events = dd_client.query_withdrawable_events(closed_before)"
   ]
  },
  {
   "cell_type": "code",
   "execution_count": 4,
   "id": "6ffa114f-369c-413a-8a8e-03e6f84cf64a",
   "metadata": {},
   "outputs": [],
   "source": [
    "# withdrawable_events"
   ]
  },
  {
   "cell_type": "code",
   "execution_count": 5,
   "id": "99ece1cc-ece2-40c6-a38b-0067528dabe5",
   "metadata": {},
   "outputs": [
    {
     "ename": "KeyError",
     "evalue": "7",
     "output_type": "error",
     "traceback": [
      "\u001b[0;31m---------------------------------------------------------------------------\u001b[0m",
      "\u001b[0;31mKeyError\u001b[0m                                  Traceback (most recent call last)",
      "\u001b[0;32m<ipython-input-5-c5de92d0cdc9>\u001b[0m in \u001b[0;36m<module>\u001b[0;34m\u001b[0m\n\u001b[0;32m----> 1\u001b[0;31m \u001b[0mcontract\u001b[0m\u001b[0;34m.\u001b[0m\u001b[0mstorage\u001b[0m\u001b[0;34m[\u001b[0m\u001b[0;34m'events'\u001b[0m\u001b[0;34m]\u001b[0m\u001b[0;34m[\u001b[0m\u001b[0;36m7\u001b[0m\u001b[0;34m]\u001b[0m\u001b[0;34m(\u001b[0m\u001b[0;34m)\u001b[0m\u001b[0;34m\u001b[0m\u001b[0;34m\u001b[0m\u001b[0m\n\u001b[0m",
      "\u001b[0;32m~/Projects/tezos-defi/juster/juster-env/lib/python3.9/site-packages/pytezos/contract/data.py\u001b[0m in \u001b[0;36m__getitem__\u001b[0;34m(self, item)\u001b[0m\n\u001b[1;32m     38\u001b[0m         \u001b[0mres\u001b[0m \u001b[0;34m=\u001b[0m \u001b[0mself\u001b[0m\u001b[0;34m.\u001b[0m\u001b[0mdata\u001b[0m\u001b[0;34m[\u001b[0m\u001b[0mitem\u001b[0m\u001b[0;34m]\u001b[0m\u001b[0;34m\u001b[0m\u001b[0;34m\u001b[0m\u001b[0m\n\u001b[1;32m     39\u001b[0m         \u001b[0;32mif\u001b[0m \u001b[0mres\u001b[0m \u001b[0;32mis\u001b[0m \u001b[0;32mNone\u001b[0m\u001b[0;34m:\u001b[0m\u001b[0;34m\u001b[0m\u001b[0;34m\u001b[0m\u001b[0m\n\u001b[0;32m---> 40\u001b[0;31m             \u001b[0;32mraise\u001b[0m \u001b[0mKeyError\u001b[0m\u001b[0;34m(\u001b[0m\u001b[0mitem\u001b[0m\u001b[0;34m)\u001b[0m\u001b[0;34m\u001b[0m\u001b[0;34m\u001b[0m\u001b[0m\n\u001b[0m\u001b[1;32m     41\u001b[0m         \u001b[0;32mreturn\u001b[0m \u001b[0mContractData\u001b[0m\u001b[0;34m(\u001b[0m\u001b[0mself\u001b[0m\u001b[0;34m.\u001b[0m\u001b[0mcontext\u001b[0m\u001b[0;34m,\u001b[0m \u001b[0mres\u001b[0m\u001b[0;34m,\u001b[0m \u001b[0mpath\u001b[0m\u001b[0;34m=\u001b[0m\u001b[0;34mf'{self.path}/{item}'\u001b[0m\u001b[0;34m)\u001b[0m\u001b[0;34m\u001b[0m\u001b[0;34m\u001b[0m\u001b[0m\n\u001b[1;32m     42\u001b[0m \u001b[0;34m\u001b[0m\u001b[0m\n",
      "\u001b[0;31mKeyError\u001b[0m: 7"
     ]
    }
   ],
   "source": [
    "contract.storage['events'][7]()"
   ]
  },
  {
   "cell_type": "markdown",
   "id": "58ffbef0-995f-4589-94c5-599086725235",
   "metadata": {},
   "source": [
    "### Why 7 and 12 events have unwithdrawn positions?"
   ]
  },
  {
   "cell_type": "code",
   "execution_count": 12,
   "id": "8e0c451f-7b3a-4158-a219-4c892076f952",
   "metadata": {},
   "outputs": [
    {
     "data": {
      "text/plain": [
       "3"
      ]
     },
     "execution_count": 12,
     "metadata": {},
     "output_type": "execute_result"
    }
   ],
   "source": [
    "import requests\n",
    "import json\n",
    "import pandas as pd\n",
    "from urllib.parse import urlencode\n",
    "\n",
    "method = f'https://api.florencenet.tzkt.io/v1/accounts/{JUSTER_ADDRESS}/operations?'\n",
    "params = urlencode({\n",
    "    'limit': 1000,\n",
    "    'parameter.eventId.eq': 2428,\n",
    "    # 'parameters': 'withdraw'\n",
    "})\n",
    "response = requests.get(method + params)\n",
    "\n",
    "data = json.loads(response.text)\n",
    "df = pd.json_normalize(data)\n",
    "len(df)"
   ]
  },
  {
   "cell_type": "code",
   "execution_count": 15,
   "id": "dde437e8-411d-4cbb-ae8f-b9ef9c23d6b5",
   "metadata": {},
   "outputs": [
    {
     "data": {
      "text/plain": [
       "[{'entrypoint': 'provideLiquidity',\n",
       "  'value': {'eventId': '2428',\n",
       "   'maxSlippage': '1000000',\n",
       "   'expectedRatioBelow': '1',\n",
       "   'expectedRatioAboveEq': '1'}}]"
      ]
     },
     "execution_count": 15,
     "metadata": {},
     "output_type": "execute_result"
    }
   ],
   "source": [
    "[d['parameter'] for d in data if 'parameter' in d]"
   ]
  },
  {
   "cell_type": "code",
   "execution_count": 8,
   "id": "cd73b2d4-9900-4cb2-af7e-1b7e6f301504",
   "metadata": {},
   "outputs": [
    {
     "ename": "KeyError",
     "evalue": "'parameter.entrypoint'",
     "output_type": "error",
     "traceback": [
      "\u001b[0;31m---------------------------------------------------------------------------\u001b[0m",
      "\u001b[0;31mKeyError\u001b[0m                                  Traceback (most recent call last)",
      "\u001b[0;32m~/Projects/tezos-defi/juster/juster-env/lib/python3.9/site-packages/pandas/core/indexes/base.py\u001b[0m in \u001b[0;36mget_loc\u001b[0;34m(self, key, method, tolerance)\u001b[0m\n\u001b[1;32m   3360\u001b[0m             \u001b[0;32mtry\u001b[0m\u001b[0;34m:\u001b[0m\u001b[0;34m\u001b[0m\u001b[0;34m\u001b[0m\u001b[0m\n\u001b[0;32m-> 3361\u001b[0;31m                 \u001b[0;32mreturn\u001b[0m \u001b[0mself\u001b[0m\u001b[0;34m.\u001b[0m\u001b[0m_engine\u001b[0m\u001b[0;34m.\u001b[0m\u001b[0mget_loc\u001b[0m\u001b[0;34m(\u001b[0m\u001b[0mcasted_key\u001b[0m\u001b[0;34m)\u001b[0m\u001b[0;34m\u001b[0m\u001b[0;34m\u001b[0m\u001b[0m\n\u001b[0m\u001b[1;32m   3362\u001b[0m             \u001b[0;32mexcept\u001b[0m \u001b[0mKeyError\u001b[0m \u001b[0;32mas\u001b[0m \u001b[0merr\u001b[0m\u001b[0;34m:\u001b[0m\u001b[0;34m\u001b[0m\u001b[0;34m\u001b[0m\u001b[0m\n",
      "\u001b[0;32m~/Projects/tezos-defi/juster/juster-env/lib/python3.9/site-packages/pandas/_libs/index.pyx\u001b[0m in \u001b[0;36mpandas._libs.index.IndexEngine.get_loc\u001b[0;34m()\u001b[0m\n",
      "\u001b[0;32m~/Projects/tezos-defi/juster/juster-env/lib/python3.9/site-packages/pandas/_libs/index.pyx\u001b[0m in \u001b[0;36mpandas._libs.index.IndexEngine.get_loc\u001b[0;34m()\u001b[0m\n",
      "\u001b[0;32mpandas/_libs/hashtable_class_helper.pxi\u001b[0m in \u001b[0;36mpandas._libs.hashtable.PyObjectHashTable.get_item\u001b[0;34m()\u001b[0m\n",
      "\u001b[0;32mpandas/_libs/hashtable_class_helper.pxi\u001b[0m in \u001b[0;36mpandas._libs.hashtable.PyObjectHashTable.get_item\u001b[0;34m()\u001b[0m\n",
      "\u001b[0;31mKeyError\u001b[0m: 'parameter.entrypoint'",
      "\nThe above exception was the direct cause of the following exception:\n",
      "\u001b[0;31mKeyError\u001b[0m                                  Traceback (most recent call last)",
      "\u001b[0;32m<ipython-input-8-ee7e9949d85a>\u001b[0m in \u001b[0;36m<module>\u001b[0;34m\u001b[0m\n\u001b[0;32m----> 1\u001b[0;31m \u001b[0mwithdrawals\u001b[0m \u001b[0;34m=\u001b[0m \u001b[0mdf\u001b[0m\u001b[0;34m[\u001b[0m \u001b[0mdf\u001b[0m\u001b[0;34m[\u001b[0m\u001b[0;34m'parameter.entrypoint'\u001b[0m\u001b[0;34m]\u001b[0m \u001b[0;34m==\u001b[0m \u001b[0;34m'withdraw'\u001b[0m \u001b[0;34m]\u001b[0m\u001b[0;34m\u001b[0m\u001b[0;34m\u001b[0m\u001b[0m\n\u001b[0m\u001b[1;32m      2\u001b[0m \u001b[0mwithdrawals\u001b[0m\u001b[0;34m\u001b[0m\u001b[0;34m\u001b[0m\u001b[0m\n",
      "\u001b[0;32m~/Projects/tezos-defi/juster/juster-env/lib/python3.9/site-packages/pandas/core/frame.py\u001b[0m in \u001b[0;36m__getitem__\u001b[0;34m(self, key)\u001b[0m\n\u001b[1;32m   3453\u001b[0m             \u001b[0;32mif\u001b[0m \u001b[0mself\u001b[0m\u001b[0;34m.\u001b[0m\u001b[0mcolumns\u001b[0m\u001b[0;34m.\u001b[0m\u001b[0mnlevels\u001b[0m \u001b[0;34m>\u001b[0m \u001b[0;36m1\u001b[0m\u001b[0;34m:\u001b[0m\u001b[0;34m\u001b[0m\u001b[0;34m\u001b[0m\u001b[0m\n\u001b[1;32m   3454\u001b[0m                 \u001b[0;32mreturn\u001b[0m \u001b[0mself\u001b[0m\u001b[0;34m.\u001b[0m\u001b[0m_getitem_multilevel\u001b[0m\u001b[0;34m(\u001b[0m\u001b[0mkey\u001b[0m\u001b[0;34m)\u001b[0m\u001b[0;34m\u001b[0m\u001b[0;34m\u001b[0m\u001b[0m\n\u001b[0;32m-> 3455\u001b[0;31m             \u001b[0mindexer\u001b[0m \u001b[0;34m=\u001b[0m \u001b[0mself\u001b[0m\u001b[0;34m.\u001b[0m\u001b[0mcolumns\u001b[0m\u001b[0;34m.\u001b[0m\u001b[0mget_loc\u001b[0m\u001b[0;34m(\u001b[0m\u001b[0mkey\u001b[0m\u001b[0;34m)\u001b[0m\u001b[0;34m\u001b[0m\u001b[0;34m\u001b[0m\u001b[0m\n\u001b[0m\u001b[1;32m   3456\u001b[0m             \u001b[0;32mif\u001b[0m \u001b[0mis_integer\u001b[0m\u001b[0;34m(\u001b[0m\u001b[0mindexer\u001b[0m\u001b[0;34m)\u001b[0m\u001b[0;34m:\u001b[0m\u001b[0;34m\u001b[0m\u001b[0;34m\u001b[0m\u001b[0m\n\u001b[1;32m   3457\u001b[0m                 \u001b[0mindexer\u001b[0m \u001b[0;34m=\u001b[0m \u001b[0;34m[\u001b[0m\u001b[0mindexer\u001b[0m\u001b[0;34m]\u001b[0m\u001b[0;34m\u001b[0m\u001b[0;34m\u001b[0m\u001b[0m\n",
      "\u001b[0;32m~/Projects/tezos-defi/juster/juster-env/lib/python3.9/site-packages/pandas/core/indexes/base.py\u001b[0m in \u001b[0;36mget_loc\u001b[0;34m(self, key, method, tolerance)\u001b[0m\n\u001b[1;32m   3361\u001b[0m                 \u001b[0;32mreturn\u001b[0m \u001b[0mself\u001b[0m\u001b[0;34m.\u001b[0m\u001b[0m_engine\u001b[0m\u001b[0;34m.\u001b[0m\u001b[0mget_loc\u001b[0m\u001b[0;34m(\u001b[0m\u001b[0mcasted_key\u001b[0m\u001b[0;34m)\u001b[0m\u001b[0;34m\u001b[0m\u001b[0;34m\u001b[0m\u001b[0m\n\u001b[1;32m   3362\u001b[0m             \u001b[0;32mexcept\u001b[0m \u001b[0mKeyError\u001b[0m \u001b[0;32mas\u001b[0m \u001b[0merr\u001b[0m\u001b[0;34m:\u001b[0m\u001b[0;34m\u001b[0m\u001b[0;34m\u001b[0m\u001b[0m\n\u001b[0;32m-> 3363\u001b[0;31m                 \u001b[0;32mraise\u001b[0m \u001b[0mKeyError\u001b[0m\u001b[0;34m(\u001b[0m\u001b[0mkey\u001b[0m\u001b[0;34m)\u001b[0m \u001b[0;32mfrom\u001b[0m \u001b[0merr\u001b[0m\u001b[0;34m\u001b[0m\u001b[0;34m\u001b[0m\u001b[0m\n\u001b[0m\u001b[1;32m   3364\u001b[0m \u001b[0;34m\u001b[0m\u001b[0m\n\u001b[1;32m   3365\u001b[0m         \u001b[0;32mif\u001b[0m \u001b[0mis_scalar\u001b[0m\u001b[0;34m(\u001b[0m\u001b[0mkey\u001b[0m\u001b[0;34m)\u001b[0m \u001b[0;32mand\u001b[0m \u001b[0misna\u001b[0m\u001b[0;34m(\u001b[0m\u001b[0mkey\u001b[0m\u001b[0;34m)\u001b[0m \u001b[0;32mand\u001b[0m \u001b[0;32mnot\u001b[0m \u001b[0mself\u001b[0m\u001b[0;34m.\u001b[0m\u001b[0mhasnans\u001b[0m\u001b[0;34m:\u001b[0m\u001b[0;34m\u001b[0m\u001b[0;34m\u001b[0m\u001b[0m\n",
      "\u001b[0;31mKeyError\u001b[0m: 'parameter.entrypoint'"
     ]
    }
   ],
   "source": [
    "withdrawals = df[ df['parameter.entrypoint'] == 'withdraw' ]\n",
    "withdrawals"
   ]
  },
  {
   "cell_type": "code",
   "execution_count": 9,
   "id": "b4247966-b2e1-4c45-ac7b-fa771423955d",
   "metadata": {},
   "outputs": [
    {
     "ename": "NameError",
     "evalue": "name 'withdrawals' is not defined",
     "output_type": "error",
     "traceback": [
      "\u001b[0;31m---------------------------------------------------------------------------\u001b[0m",
      "\u001b[0;31mNameError\u001b[0m                                 Traceback (most recent call last)",
      "\u001b[0;32m<ipython-input-9-013548889b3c>\u001b[0m in \u001b[0;36m<module>\u001b[0;34m\u001b[0m\n\u001b[0;32m----> 1\u001b[0;31m \u001b[0mwithdrawals\u001b[0m\u001b[0;34m.\u001b[0m\u001b[0mhash\u001b[0m\u001b[0;34m.\u001b[0m\u001b[0mto_dict\u001b[0m\u001b[0;34m(\u001b[0m\u001b[0;34m)\u001b[0m\u001b[0;34m\u001b[0m\u001b[0;34m\u001b[0m\u001b[0m\n\u001b[0m",
      "\u001b[0;31mNameError\u001b[0m: name 'withdrawals' is not defined"
     ]
    }
   ],
   "source": [
    "withdrawals.hash.to_dict()"
   ]
  },
  {
   "cell_type": "code",
   "execution_count": 10,
   "id": "b11bc7f3-55ad-424d-8745-6960c238cb11",
   "metadata": {},
   "outputs": [
    {
     "ename": "NameError",
     "evalue": "name 'withdrawals' is not defined",
     "output_type": "error",
     "traceback": [
      "\u001b[0;31m---------------------------------------------------------------------------\u001b[0m",
      "\u001b[0;31mNameError\u001b[0m                                 Traceback (most recent call last)",
      "\u001b[0;32m<ipython-input-10-569ec9790629>\u001b[0m in \u001b[0;36m<module>\u001b[0;34m\u001b[0m\n\u001b[0;32m----> 1\u001b[0;31m \u001b[0mwithdrawals\u001b[0m\u001b[0;34m.\u001b[0m\u001b[0miloc\u001b[0m\u001b[0;34m[\u001b[0m\u001b[0;36m0\u001b[0m\u001b[0;34m]\u001b[0m\u001b[0;34m[\u001b[0m\u001b[0;34m'hash'\u001b[0m\u001b[0;34m]\u001b[0m\u001b[0;34m.\u001b[0m\u001b[0mto_dict\u001b[0m\u001b[0;34m(\u001b[0m\u001b[0;34m)\u001b[0m\u001b[0;34m\u001b[0m\u001b[0;34m\u001b[0m\u001b[0m\n\u001b[0m",
      "\u001b[0;31mNameError\u001b[0m: name 'withdrawals' is not defined"
     ]
    }
   ],
   "source": [
    "withdrawals.iloc[0]['hash'].to_dict()"
   ]
  },
  {
   "cell_type": "code",
   "execution_count": 11,
   "id": "b8db6245-687b-4699-bbf9-51d2d0acb3a3",
   "metadata": {},
   "outputs": [
    {
     "ename": "NameError",
     "evalue": "name 'w12' is not defined",
     "output_type": "error",
     "traceback": [
      "\u001b[0;31m---------------------------------------------------------------------------\u001b[0m",
      "\u001b[0;31mNameError\u001b[0m                                 Traceback (most recent call last)",
      "\u001b[0;32m<ipython-input-11-4c3578e6201b>\u001b[0m in \u001b[0;36m<module>\u001b[0;34m\u001b[0m\n\u001b[1;32m      2\u001b[0m \u001b[0;31m# participants 2 -> 1\u001b[0m\u001b[0;34m\u001b[0m\u001b[0;34m\u001b[0m\u001b[0;34m\u001b[0m\u001b[0m\n\u001b[1;32m      3\u001b[0m \u001b[0;34m\u001b[0m\u001b[0m\n\u001b[0;32m----> 4\u001b[0;31m \u001b[0mw12\u001b[0m\u001b[0;34m.\u001b[0m\u001b[0miloc\u001b[0m\u001b[0;34m[\u001b[0m\u001b[0;36m0\u001b[0m\u001b[0;34m]\u001b[0m\u001b[0;34m.\u001b[0m\u001b[0mhash\u001b[0m\u001b[0;34m\u001b[0m\u001b[0;34m\u001b[0m\u001b[0m\n\u001b[0m",
      "\u001b[0;31mNameError\u001b[0m: name 'w12' is not defined"
     ]
    }
   ],
   "source": [
    "# https://better-call.dev/florencenet/opg/opF9uh7hbgd7wzmp7HYQ6vwVvrYaQwFhB9syyeCgnkeU15B8jiG/contents\n",
    "# participants 2 -> 1\n",
    "\n",
    "w12.iloc[0].hash"
   ]
  },
  {
   "cell_type": "markdown",
   "id": "6e438f77-74d3-4620-839b-40e85b068f25",
   "metadata": {},
   "source": [
    "### Juster-Maker:\n",
    "Tool allowing to run events in cycle"
   ]
  },
  {
   "cell_type": "markdown",
   "id": "d49b745e-8cf7-4cdc-abf5-de3444895ae2",
   "metadata": {},
   "source": [
    "### Создание линеек ивентов:\n",
    "- Линейка ивентов - это набор из однотипных ивентов которые создаются друг за другом с наложением периода принятия ставок и периода измерения.\n",
    "- Тип ивента может быть определён по 3 параметрам:\n",
    "    - валютная пара\n",
    "    - target dynamics\n",
    "    - period\n",
    "- Также ивенты могут отличаются liquidity_percent но сейчас я считаю что liquidity percent привязыватеся к period + target_dynamics\n",
    "\n",
    "- TODO: вынести в отдельный ipynb или отдельный скрипт (если отдельный скрипт - хорошо было бы описать этот процесс в readme.MD, либо может нужно вообще CLI утилиту сделать в которой одна из точек входа это генерация линеек)"
   ]
  },
  {
   "cell_type": "markdown",
   "id": "ff37eee1-5d6b-4dca-b937-31bf8fec20cf",
   "metadata": {},
   "source": [
    "### TODO: remake all using apscheduler\n",
    "    https://apscheduler.readthedocs.io/en/stable/"
   ]
  },
  {
   "cell_type": "markdown",
   "id": "ee382d19-c81a-48ea-8ea7-f28aa2e484d1",
   "metadata": {},
   "source": [
    "### TODO: Autowithdrawal after 24 hours\n",
    "    - for all events check if it is closed for more than 24 hours, if it is, make withdrawal transactions for all participants\n",
    "\n",
    "### TODO: add here pusher & startMeasurement/close?\n",
    "### TODO: in event creation somehow check that event successfully created and if it is not: make another in 5 minutes?"
   ]
  },
  {
   "cell_type": "markdown",
   "id": "ff4229f6-91bb-45cc-a7b8-14b7033411c3",
   "metadata": {},
   "source": [
    "### TODO: it is better not to return transactions in pool by BulkSigner, but reemmit all transactions by EventEmmitter / LiquidityProvider instead\n",
    "- so EventEmmitter can just check either transaction was successfull or not (after some pause for 10 mins for example) and only add period to timer if it was succeed\n",
    "- the same with LiquidityProvider who just checks only for the last possible events in line, so if it is new event: he would use it"
   ]
  },
  {
   "cell_type": "markdown",
   "id": "41c58bc6-342f-424c-9237-66a85e98a269",
   "metadata": {},
   "source": [
    "### ++ TODO: PROVIDE LIQUIDITY for this events"
   ]
  },
  {
   "cell_type": "markdown",
   "id": "2d315b4f-3262-4774-96f8-1c3609ba6f41",
   "metadata": {},
   "source": [
    "### ++ TODO: OK, в общем проще всего мне кажется вот так:\n",
    "    - для каждой линейки ивентов создаётся свой event_emitter, он проверяет что пришло время запустить ивет сравнивая текущее значение таймера с таргетом. И после запуска ивента он переставляет таймер дальше.\n",
    "    - с определённой частотой (например раз в 20 секунд) таймер проверяется и если время больше чем в таймере - транза с новым ивентом закидывается в очередь и подхватывается BulkSender"
   ]
  },
  {
   "cell_type": "markdown",
   "id": "0b783d7d-3ec0-45ad-b974-d9527cede188",
   "metadata": {},
   "source": [
    "### TODO: maybe make next_event func/iterator that returns time and params for the next events"
   ]
  },
  {
   "cell_type": "code",
   "execution_count": null,
   "id": "bf634907-3bdf-4385-acb1-a90743f78784",
   "metadata": {},
   "outputs": [],
   "source": []
  },
  {
   "cell_type": "markdown",
   "id": "c1900145-3a29-429b-a3c4-d552d94e211b",
   "metadata": {},
   "source": [
    "### TODO: need to have some tests for LoopExecutor:\n",
    "- for example that it runned function K times in given time"
   ]
  },
  {
   "cell_type": "markdown",
   "id": "e9fdd87a-9d7e-48e7-838c-c9ff1f33453c",
   "metadata": {},
   "source": [
    "### TODO: need to test all this code before running in florencenet"
   ]
  },
  {
   "cell_type": "markdown",
   "id": "a22bb2a9-a65b-44fe-9136-2c41e80f2d09",
   "metadata": {},
   "source": [
    "### TODO: provide liquidity\n",
    "### TODO: pushing prices"
   ]
  },
  {
   "cell_type": "code",
   "execution_count": null,
   "id": "7a6a73a5-8aa8-42fd-855e-7d9da8a69a2d",
   "metadata": {},
   "outputs": [],
   "source": []
  },
  {
   "cell_type": "code",
   "execution_count": null,
   "id": "9578907c-abb8-4f68-9a53-f7e87b58ce92",
   "metadata": {},
   "outputs": [],
   "source": []
  }
 ],
 "metadata": {
  "kernelspec": {
   "display_name": "Python 3",
   "language": "python",
   "name": "python3"
  },
  "language_info": {
   "codemirror_mode": {
    "name": "ipython",
    "version": 3
   },
   "file_extension": ".py",
   "mimetype": "text/x-python",
   "name": "python",
   "nbconvert_exporter": "python",
   "pygments_lexer": "ipython3",
   "version": "3.9.6"
  }
 },
 "nbformat": 4,
 "nbformat_minor": 5
}
