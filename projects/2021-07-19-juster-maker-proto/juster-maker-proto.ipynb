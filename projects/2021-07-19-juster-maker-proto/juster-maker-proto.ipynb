{
 "cells": [
  {
   "cell_type": "markdown",
   "id": "6e438f77-74d3-4620-839b-40e85b068f25",
   "metadata": {},
   "source": [
    "### Juster-Maker:\n",
    "Tool allowing to run events in cycle"
   ]
  },
  {
   "cell_type": "code",
   "execution_count": 80,
   "id": "0f940512-7dfa-4e2d-904a-b0045e3ea085",
   "metadata": {},
   "outputs": [],
   "source": [
    "from pytezos import pytezos\n",
    "import time\n",
    "from random import choice\n",
    "from pprint import pprint\n",
    "from random import randint\n",
    "\n",
    "# pytezos = pytezos.using(shell='https://florencenet-tezos.giganode.io')\n",
    "pytezos = pytezos.using(shell='https://api.tez.ie/rpc/florencenet')"
   ]
  },
  {
   "cell_type": "code",
   "execution_count": 81,
   "id": "82ac27e8-f321-41d0-a3a9-a9c16dc0cc29",
   "metadata": {},
   "outputs": [],
   "source": [
    "address = 'KT1CepDBrMg73d7LHm773KAsunjAjgLYituP'\n",
    "client = pytezos.using(\n",
    "    key='../2021-05-27-tests-modelling/test-keys/tz1iQE8ijR5xVPffBUPFubwB9XQJuyD9qsoJ.json'\n",
    ")\n",
    "contract = client.contract(address)"
   ]
  },
  {
   "cell_type": "code",
   "execution_count": 82,
   "id": "4cb49fe8-2724-4d33-9f01-ebd401de7198",
   "metadata": {
    "tags": []
   },
   "outputs": [
    {
     "data": {
      "text/plain": [
       "{'protocol': None,\n",
       " 'branch': None,\n",
       " 'contents': [{'kind': 'transaction',\n",
       "   'source': '',\n",
       "   'fee': '0',\n",
       "   'counter': '0',\n",
       "   'gas_limit': '0',\n",
       "   'storage_limit': '0',\n",
       "   'amount': '0',\n",
       "   'destination': 'KT1CepDBrMg73d7LHm773KAsunjAjgLYituP',\n",
       "   'parameters': {'entrypoint': 'newEvent',\n",
       "    'value': {'prim': 'Pair',\n",
       "     'args': [{'prim': 'Pair',\n",
       "       'args': [{'prim': 'Pair',\n",
       "         'args': [{'string': '2021-07-19T16:32:56Z'}, {'string': 'XTZ-USD'}]},\n",
       "        {'int': '10000'},\n",
       "        {'int': '3600'}]},\n",
       "      {'int': '1000000'}]}}}],\n",
       " 'signature': None}"
      ]
     },
     "execution_count": 82,
     "metadata": {},
     "output_type": "execute_result"
    }
   ],
   "source": [
    "transaction = contract.newEvent({\n",
    "    'currencyPair': 'XTZ-USD',\n",
    "    'targetDynamics': 1000000,\n",
    "    'betsCloseTime': int(time.time()) + 3600,\n",
    "    'measurePeriod': 3600,\n",
    "    'liquidityPercent': 10000,\n",
    "}).as_transaction()\n",
    "\n",
    "transaction.json_payload()#.hash()"
   ]
  },
  {
   "cell_type": "code",
   "execution_count": 131,
   "id": "e60a0e3e-eac2-401b-bdd9-fa1fde267316",
   "metadata": {},
   "outputs": [],
   "source": [
    "import asyncio\n",
    "from abc import abstractmethod\n",
    "from asyncio import Queue\n",
    "import time\n",
    "\n",
    "\n",
    "async def repeat_until_succeed(\n",
    "        func, allowed_exceptions=None, max_attempts=10, wait_after_fail=10):\n",
    "    \"\"\" Runs func for multiple times if it was failed with any of the allowed\n",
    "        exceptions \"\"\"\n",
    "\n",
    "    allowed_exceptions = allowed_exceptions or []\n",
    "\n",
    "    for attempt in range(max_attempts):\n",
    "        try:\n",
    "            return await func()\n",
    "\n",
    "        except Exception as e:\n",
    "            if type(e) in allowed_exceptions:\n",
    "                print(f'Ignoring error {type(e)}, {str(e)}')\n",
    "                await asyncio.sleep(wait_after_fail)\n",
    "            else:\n",
    "                raise e\n",
    "\n",
    "\n",
    "class LoopExecutor:\n",
    "    \"\"\" Executes self.execute each period seconds \"\"\"\n",
    "\n",
    "    def __init__(self, period):\n",
    "        self.period = period\n",
    "        self.loop = asyncio.get_event_loop()\n",
    "\n",
    "\n",
    "    def run(self):\n",
    "        self.task = self.loop.create_task(self.loop_task())\n",
    "\n",
    "\n",
    "    @abstractmethod\n",
    "    async def execute(self):\n",
    "        raise NotImplemented('method execute should be implemented')\n",
    "\n",
    "\n",
    "    async def loop_task(self):\n",
    "        while True:\n",
    "            await self.execute()\n",
    "            await asyncio.sleep(self.period)\n",
    "\n",
    "\n",
    "    def stop(self):\n",
    "        self.task.cancel()\n",
    "\n",
    "\n",
    "class EventCreationEmitter(LoopExecutor):\n",
    "\n",
    "    def __init__(self, period, contract, operations_queue, event_params):\n",
    "        \"\"\" ...\n",
    "            - contract: is pytezos object with Juster contract loaded and\n",
    "                some key provided\n",
    "        \"\"\"\n",
    "\n",
    "        # TODO: starts_from = 'datetime unixtime', every=seconds instead of period\n",
    "        super().__init__(period)\n",
    "\n",
    "        self.contract = contract\n",
    "        self.operations_queue = operations_queue\n",
    "        self.event_params = event_params\n",
    "\n",
    "        self.currency_pair = event_params['currency_pair']\n",
    "\n",
    "\n",
    "    async def create_event(self):\n",
    "        event_params = {\n",
    "            'currencyPair': self.event_params['currency_pair'],\n",
    "            'targetDynamics': self.event_params['target_dynamics'],\n",
    "            # TODO: using self.starts_from time in betsCloseTime so this time would\n",
    "            # be more precise?\n",
    "            'betsCloseTime': int(time.time()) + self.event_params['bets_period'],\n",
    "            'measurePeriod': self.event_params['measure_period'],\n",
    "            'liquidityPercent': self.event_params['liquidity_percent'],\n",
    "        }\n",
    "\n",
    "        fees = self.event_params['expiration_fee'] + self.event_params['measure_start_fee']\n",
    "        transaction = self.contract.newEvent(event_params).with_amount(fees).as_transaction()\n",
    "        await self.operations_queue.put(transaction)\n",
    "\n",
    "        # TODO: make logging instead of prints:\n",
    "        print(f'created newEvent transaction with parameters: {event_params}')\n",
    "\n",
    "\n",
    "    async def execute(self):\n",
    "        # TODO: do I need here repeat_until_succeed?\n",
    "        return await repeat_until_succeed(self.create_event)\n",
    "\n",
    "\n",
    "class BulkSender(LoopExecutor):\n",
    "    \"\"\" Listens to the queue and packs all new operations to the bulk,\n",
    "        signs and sends the transaction\n",
    "    \"\"\"\n",
    "\n",
    "    def __init__(self, period, client, operations_queue):\n",
    "        super().__init__(period)\n",
    "\n",
    "        self.client = client\n",
    "        self.operations_queue = operations_queue\n",
    "\n",
    "\n",
    "    async def sign(self, max_operations=10):\n",
    "        # TODO: check if ready to sign\n",
    "        # ? await self.is_ready_to_sign()\n",
    "\n",
    "        operations = []\n",
    "        while (not self.operations_queue.empty()\n",
    "               and (len(operations) < max_operations)):\n",
    "            operations.append(await self.operations_queue.get())\n",
    "\n",
    "        try:\n",
    "            # TODO: logging instead of printing, add .json_payload() info and hahses\n",
    "            print(f'making bulk of {len(operations)} operations')\n",
    "            result = self.client.bulk(*operations).autofill().sign()\n",
    "            print(f'signed, result hash: {result.hash()}')\n",
    "            # TODO: add inject()\n",
    "            return result\n",
    "\n",
    "        except Exception as e:\n",
    "            print(f'catched {type(e)} in sign: {str(e)}')\n",
    "            # TODO: here I need to classify error and if it was RPC error: return\n",
    "            # operations back to the queue, if not: raise this e\n",
    "            import pdb; pdb.set_trace()\n",
    "            raise e\n",
    "\n",
    "\n",
    "    async def is_ready_to_sign(self, sleep_time=90):\n",
    "        \"\"\" Waits while client would be possible to sign transaction\n",
    "            - simple solution is just timer, better would be to reduce \n",
    "                this sleep_time value and somehow ask RPC if key is freed\n",
    "        \"\"\"\n",
    "\n",
    "        return await asyncio.sleep(sleep_time)\n",
    "\n",
    "\n",
    "    async def execute(self):\n",
    "        return await repeat_until_succeed(self.sign)\n",
    "\n",
    "\n",
    "# make queue with transactions\n",
    "# make bulk manager that takes transactions and send them into blocks"
   ]
  },
  {
   "cell_type": "code",
   "execution_count": 133,
   "id": "22a7c2de-1271-4fed-869c-510fc9513343",
   "metadata": {},
   "outputs": [],
   "source": [
    "events_params = [\n",
    "    {\n",
    "        'currency_pair': currency_pair,\n",
    "        'target_dynamics': 1_000_000,\n",
    "        'bets_period': 3600,\n",
    "        'measure_period': 3600,\n",
    "        'liquidity_percent': 10_000,\n",
    "        'expiration_fee': 100_000,\n",
    "        'measure_start_fee': 100_000\n",
    "    } for currency_pair in ['XTZ-USD', 'BTC-USD']\n",
    "]"
   ]
  },
  {
   "cell_type": "code",
   "execution_count": 134,
   "id": "e309e0f0-ee74-4ef1-a600-48272222a4fe",
   "metadata": {},
   "outputs": [],
   "source": [
    "# TODO: what would happen if queue overflow?\n",
    "MAX_QUEUE_SIZE = 10\n",
    "\n",
    "operations_queue = Queue(MAX_QUEUE_SIZE)\n",
    "\n",
    "# for each event_params EventCreationEmitter is created:\n",
    "emitters = [\n",
    "    EventCreationEmitter(\n",
    "        period=params['bets_period'],\n",
    "        contract=contract,\n",
    "        operations_queue=operations_queue,\n",
    "        event_params=params)\n",
    "    for params in events_params\n",
    "]\n",
    "\n",
    "emitters.append(\n",
    "    BulkSender(period=60, client=client, operations_queue=operations_queue)\n",
    ")"
   ]
  },
  {
   "cell_type": "code",
   "execution_count": 135,
   "id": "9681a283-11cc-4cc5-b092-47483426fb90",
   "metadata": {},
   "outputs": [
    {
     "name": "stdout",
     "output_type": "stream",
     "text": [
      "created newEvent transaction with parameters: {'currencyPair': 'XTZ-USD', 'targetDynamics': 1000000, 'betsCloseTime': 1626712959, 'measurePeriod': 3600, 'liquidityPercent': 10000}\n",
      "created newEvent transaction with parameters: {'currencyPair': 'BTC-USD', 'targetDynamics': 1000000, 'betsCloseTime': 1626712959, 'measurePeriod': 3600, 'liquidityPercent': 10000}\n",
      "making bulk of 2 operations\n",
      "signed, result hash: op3k5NdZvBfGGqug94RMV8jTbpdgmKihMJRuxQ7zNKzbSLd2vj9\n"
     ]
    }
   ],
   "source": [
    "for emitter in emitters:\n",
    "    emitter.run()"
   ]
  },
  {
   "cell_type": "code",
   "execution_count": 136,
   "id": "bfce3a10-c048-4864-b49d-40aa05928012",
   "metadata": {},
   "outputs": [],
   "source": [
    "for emitter in emitters:\n",
    "    emitter.stop()"
   ]
  },
  {
   "cell_type": "code",
   "execution_count": null,
   "id": "0a6256de-5706-4826-9095-353733134be2",
   "metadata": {},
   "outputs": [],
   "source": [
    "task = loop.create_task(emitter.run())"
   ]
  },
  {
   "cell_type": "code",
   "execution_count": 3,
   "id": "91763db1-9a03-40cf-8116-c12adb10240d",
   "metadata": {},
   "outputs": [],
   "source": [
    "\n",
    "\n",
    "CONFIG = {\n",
    "    'events': [],\n",
    "    'juster_address': 'KT1CepDBrMg73d7LHm773KAsunjAjgLYituP'\n",
    "}"
   ]
  },
  {
   "cell_type": "code",
   "execution_count": 4,
   "id": "7684b315-3d2d-4675-8876-95720138eea8",
   "metadata": {},
   "outputs": [
    {
     "data": {
      "text/plain": [
       "<pytezos.client.PyTezosClient object at 0x7ff32f8817f0>\n",
       "\n",
       "Properties\n",
       ".key\t\ttz1grSQDByRpnVs7sPtaprNZRp531ZKz6Jmm\n",
       ".shell\t\t['https://api.tez.ie/rpc/florencenet']\n",
       ".block_id\thead\n",
       "\n",
       "Helpers\n",
       ".account()\n",
       ".activate_account()\n",
       ".activate_protocol()\n",
       ".bake_block()\n",
       ".balance()\n",
       ".ballot()\n",
       ".bulk()\n",
       ".check_message()\n",
       ".contract()\n",
       ".delegation()\n",
       ".double_baking_evidence()\n",
       ".double_endorsement_evidence()\n",
       ".endorsement()\n",
       ".endorsement_with_slot()\n",
       ".failing_noop()\n",
       ".now()\n",
       ".operation()\n",
       ".operation_group()\n",
       ".origination()\n",
       ".proposals()\n",
       ".reveal()\n",
       ".seed_nonce_revelation()\n",
       ".sign_message()\n",
       ".transaction()\n",
       ".using()\n",
       ".wait()"
      ]
     },
     "execution_count": 4,
     "metadata": {},
     "output_type": "execute_result"
    }
   ],
   "source": [
    "pytezos"
   ]
  },
  {
   "cell_type": "code",
   "execution_count": null,
   "id": "c277f8b3-3221-4056-83cd-5b2c4ed1398c",
   "metadata": {},
   "outputs": [],
   "source": [
    "# using pytezos mock:\n",
    "\n",
    "# Test event is created:\n",
    "\n",
    "# Test "
   ]
  }
 ],
 "metadata": {
  "kernelspec": {
   "display_name": "Python 3",
   "language": "python",
   "name": "python3"
  },
  "language_info": {
   "codemirror_mode": {
    "name": "ipython",
    "version": 3
   },
   "file_extension": ".py",
   "mimetype": "text/x-python",
   "name": "python",
   "nbconvert_exporter": "python",
   "pygments_lexer": "ipython3",
   "version": "3.9.5"
  }
 },
 "nbformat": 4,
 "nbformat_minor": 5
}
